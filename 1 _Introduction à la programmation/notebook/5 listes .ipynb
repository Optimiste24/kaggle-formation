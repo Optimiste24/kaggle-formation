{
 "cells": [
  {
   "cell_type": "markdown",
   "id": "d316c7d9-c136-417c-a543-0a99dcb12351",
   "metadata": {},
   "source": [
    "# Introduction de listes "
   ]
  },
  {
   "cell_type": "markdown",
   "id": "d55c7d48-0062-4381-ae09-afe8a23916cd",
   "metadata": {},
   "source": [
    "### 1. Définition des Listes\n",
    "\n",
    "Une liste est une structure de données en Python qui permet de regrouper des éléments de tout type :\n",
    "\n",
    "Création : Les listes sont définies avec des crochets [ ]."
   ]
  },
  {
   "cell_type": "code",
   "execution_count": 5,
   "id": "ebdf9c58-05e3-4aa0-b633-f2926af65583",
   "metadata": {},
   "outputs": [],
   "source": [
    "flowers_list = [\"pink primrose\", \"tiger lily\", \"moon orchid\"]\n"
   ]
  },
  {
   "cell_type": "markdown",
   "id": "0d36af6f-0e6c-4aec-b063-5106a9b26e5b",
   "metadata": {},
   "source": [
    "### 2. Pourquoi Utiliser une Liste ?\n",
    "\n",
    "Contrairement à une simple chaîne de caractères, les listes permettent de :\n",
    "\n",
    "Accéder directement à un élément via son indice.\n",
    "    \n",
    "Connaître leur taille avec len().\n",
    "\n",
    "Ajouter ou retirer facilement des éléments."
   ]
  },
  {
   "cell_type": "markdown",
   "id": "121ff77e-be61-49ca-9741-792ae5b48da0",
   "metadata": {},
   "source": [
    "### 3. Manipulation des Listes"
   ]
  },
  {
   "cell_type": "code",
   "execution_count": 9,
   "id": "47c2dbc0-0140-4824-aca6-fc33a87c9ead",
   "metadata": {},
   "outputs": [
    {
     "name": "stdout",
     "output_type": "stream",
     "text": [
      "3\n"
     ]
    }
   ],
   "source": [
    "# Longueur d'une liste\n",
    "\n",
    "print(len(flowers_list))  # Renvoie 3\n"
   ]
  },
  {
   "cell_type": "markdown",
   "id": "7db9ee2f-5521-4298-ba6b-7743bd979805",
   "metadata": {},
   "source": [
    "Accédez à un élément spécifique en utilisant son indice :\n",
    "\n",
    "Premier élément : flowers_list[0]\n",
    "\n",
    "Dernier élément : flowers_list[-1]"
   ]
  },
  {
   "cell_type": "code",
   "execution_count": 12,
   "id": "a540b143-2a4c-4b9a-8a25-35eef40248d8",
   "metadata": {},
   "outputs": [
    {
     "name": "stdout",
     "output_type": "stream",
     "text": [
      "pink primrose\n",
      "moon orchid\n"
     ]
    }
   ],
   "source": [
    "print(flowers_list[0])  # \"pink primrose\"\n",
    "print(flowers_list[-1])  # \"moon orchid\"\n"
   ]
  },
  {
   "cell_type": "markdown",
   "id": "c5415261-5b20-4033-b674-92b80d5b6150",
   "metadata": {},
   "source": [
    "Extraire des sous-parties d'une liste avec : :\n",
    "\n",
    "Les trois premiers éléments : flowers_list[:3]\n",
    "\n",
    "Les deux derniers éléments : flowers_list[-2:]"
   ]
  },
  {
   "cell_type": "markdown",
   "id": "58253ede-c3b3-41ef-a649-0a39fed20c19",
   "metadata": {},
   "source": [
    "Modification d'une Liste\n",
    "\n",
    "Ajout : list.append(item)\n",
    "\n",
    "Suppression : list.remove(item)"
   ]
  },
  {
   "cell_type": "code",
   "execution_count": 16,
   "id": "34a085f6-2cec-41aa-9e7c-414ed841c97a",
   "metadata": {},
   "outputs": [],
   "source": [
    "flowers_list.append(\"snapdragon\")\n",
    "flowers_list.remove(\"moon orchid\")\n"
   ]
  },
  {
   "cell_type": "markdown",
   "id": "334bc072-2bd6-4339-8209-a3e396b62fb4",
   "metadata": {},
   "source": [
    "### 4. Listes de Données Numériques\n",
    "\n",
    "Outre les chaînes, les listes peuvent contenir :\n",
    "\n",
    "Entiers, flottants, ou booléens."
   ]
  },
  {
   "cell_type": "code",
   "execution_count": 22,
   "id": "e69af15f-13f9-41ab-95cc-c9003aee53e7",
   "metadata": {},
   "outputs": [],
   "source": [
    "hardcover_sales = [139, 128, 172, 139, 191]\n"
   ]
  },
  {
   "cell_type": "markdown",
   "id": "93d95d93-78df-469b-87a3-43fa8c2342d8",
   "metadata": {},
   "source": [
    "### Opérations Mathématiques\n",
    "\n",
    "Minimum et Maximum : min(list), max(list)\n",
    "\n",
    "Somme des Éléments : sum(list)"
   ]
  },
  {
   "cell_type": "code",
   "execution_count": 27,
   "id": "58819349-05bf-495d-a98e-28d7dc142a1a",
   "metadata": {},
   "outputs": [
    {
     "name": "stdout",
     "output_type": "stream",
     "text": [
      "146.33333333333334\n"
     ]
    }
   ],
   "source": [
    "# Calcul sur des segments:\n",
    "\n",
    "average = sum(hardcover_sales[:3]) / 3\n",
    "print (average)"
   ]
  },
  {
   "cell_type": "code",
   "execution_count": 29,
   "id": "84361578-fc17-40c0-b7ad-52da6b290d17",
   "metadata": {},
   "outputs": [
    {
     "name": "stdout",
     "output_type": "stream",
     "text": [
      "769 191 128\n"
     ]
    }
   ],
   "source": [
    "Somme = sum(hardcover_sales)\n",
    "Maximum = max(hardcover_sales)\n",
    "Minimum = min(hardcover_sales)\n",
    "print (Somme, Maximum, Minimum)"
   ]
  },
  {
   "cell_type": "markdown",
   "id": "438f7362-e2db-4372-a30c-90d925c25f05",
   "metadata": {},
   "source": [
    "# Exercice Pratique\n",
    "\n",
    "Créez une liste des ventes quotidiennes dans une boutique, trouvez la somme totale, et calculez la moyenne pour les trois premiers jours. Vous pouvez également ajouter et supprimer des données pour tester."
   ]
  },
  {
   "cell_type": "markdown",
   "id": "4dcc5b54-f943-4553-83a4-fbbc2c510f25",
   "metadata": {},
   "source": [
    "Imaginons une simulation des ventes quotidiennes au KFC sur une semaine. Voici comment vous pouvez utiliser une liste pour organiser et analyser ces données."
   ]
  },
  {
   "cell_type": "code",
   "execution_count": 35,
   "id": "f825e7d6-d593-4581-8291-fb681d3dd915",
   "metadata": {},
   "outputs": [
    {
     "name": "stdout",
     "output_type": "stream",
     "text": [
      "Total des ventes de la semaine : 10910\n",
      "Moyenne des ventes journalières : 1558.5714285714287\n",
      "Meilleure journée : 1890\n",
      "Pire journée : 1250\n",
      "Ventes des trois premiers jours : 4260\n",
      "Moyenne des trois premiers jours : 1420.0\n",
      "Nouvelles ventes après ajout du dimanche : [1250, 1430, 1580, 1490, 1720, 1890, 1550, 1620]\n",
      "Ventes après suppression de la pire journée : [1430, 1580, 1490, 1720, 1890, 1550, 1620]\n"
     ]
    }
   ],
   "source": [
    "# Données simulées sont en €\n",
    "\n",
    "kfc_sales = [1250, 1430, 1580, 1490, 1720, 1890, 1550]\n",
    "\n",
    "# Total des ventes\n",
    "total_sales = sum(kfc_sales)\n",
    "print(\"Total des ventes de la semaine :\", total_sales)\n",
    "\n",
    "# Moyenne des ventes journalières\n",
    "average_sales = total_sales / len(kfc_sales)\n",
    "print(\"Moyenne des ventes journalières :\", average_sales)\n",
    "\n",
    "# Meilleure et pire journée\n",
    "best_day = max(kfc_sales)\n",
    "worst_day = min(kfc_sales)\n",
    "print(\"Meilleure journée :\", best_day)\n",
    "print(\"Pire journée :\", worst_day)\n",
    "\n",
    "# Ventes des trois premiers jours\n",
    "first_three_days = kfc_sales[:3]\n",
    "average_first_three = sum(first_three_days) / len(first_three_days)\n",
    "print(\"Ventes des trois premiers jours :\", sum(first_three_days))\n",
    "print(\"Moyenne des trois premiers jours :\", average_first_three)\n",
    "\n",
    "# Ajout d'une nouvelle journée\n",
    "kfc_sales.append(1620)\n",
    "print(\"Nouvelles ventes après ajout du dimanche :\", kfc_sales)\n",
    "\n",
    "# Suppression de la pire journée\n",
    "kfc_sales.remove(1250)\n",
    "print(\"Ventes après suppression de la pire journée :\", kfc_sales)\n"
   ]
  },
  {
   "cell_type": "code",
   "execution_count": null,
   "id": "27337290-5fa2-409d-a393-8bc66cdd67ae",
   "metadata": {},
   "outputs": [],
   "source": []
  }
 ],
 "metadata": {
  "kernelspec": {
   "display_name": "Python [conda env:base] *",
   "language": "python",
   "name": "conda-base-py"
  },
  "language_info": {
   "codemirror_mode": {
    "name": "ipython",
    "version": 3
   },
   "file_extension": ".py",
   "mimetype": "text/x-python",
   "name": "python",
   "nbconvert_exporter": "python",
   "pygments_lexer": "ipython3",
   "version": "3.12.7"
  }
 },
 "nbformat": 4,
 "nbformat_minor": 5
}
