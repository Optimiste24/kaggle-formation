{
 "cells": [
  {
   "cell_type": "markdown",
   "id": "ca3fc4f0-c904-45c0-b1fd-b1e5e7b8eed6",
   "metadata": {},
   "source": [
    "# Explication des Instructions sur les Conditions et Instructions Conditionnelles"
   ]
  },
  {
   "cell_type": "markdown",
   "id": "125a1dc2-6699-4e32-a233-2b732e28f0a8",
   "metadata": {},
   "source": [
    "Les conditions et instructions conditionnelles permettent de moduler le comportement d'une fonction en fonction des valeurs d'entrée."
   ]
  },
  {
   "cell_type": "markdown",
   "id": "a60ac0c4-e279-4929-a650-ea2ed0746729",
   "metadata": {},
   "source": [
    "### 1. Conditions :\n",
    "\n",
    "Une condition est une expression qui évalue à True ou False.\n",
    "Opérateurs de comparaison fréquemment utilisés :\n",
    "\n",
    "== : égal à\n",
    "\n",
    "!= : différent de\n",
    "\n",
    "< : inférieur à\n",
    "\n",
    "<= : inférieur ou égal à\n",
    "\n",
    "> : supérieur à\n",
    "\n",
    ">= : supérieur ou égal à"
   ]
  },
  {
   "cell_type": "code",
   "execution_count": 4,
   "id": "08a789fe-b777-42e6-871d-45bc17716f82",
   "metadata": {},
   "outputs": [
    {
     "name": "stdout",
     "output_type": "stream",
     "text": [
      "True\n",
      "True\n",
      "True\n"
     ]
    }
   ],
   "source": [
    "x = 5\n",
    "print(x > 3)  # True\n",
    "print(x == 5)  # True\n",
    "print(x != 4)  # True\n"
   ]
  },
  {
   "cell_type": "markdown",
   "id": "9ae9b27b-1852-413d-a46a-7969e851e2df",
   "metadata": {},
   "source": [
    "### 2. Instructions Conditionnelles :\n",
    "\n",
    "if : Exécute un bloc de code si une condition est vraie.\n",
    "\n",
    "if...else : Fournit une alternative si la condition est fausse.\n",
    "\n",
    "if...elif...else : Permet d'évaluer plusieurs conditions de manière séquentielle."
   ]
  },
  {
   "cell_type": "code",
   "execution_count": 9,
   "id": "cda1151f-0839-4a3f-8e4a-1ba4499aee0b",
   "metadata": {},
   "outputs": [
    {
     "name": "stdout",
     "output_type": "stream",
     "text": [
      "Greater than 10\n",
      "Exactly 10\n",
      "Less than 10\n"
     ]
    }
   ],
   "source": [
    "def check_number(num):\n",
    "    if num > 10:\n",
    "        return \"Greater than 10\"\n",
    "    elif num == 10:\n",
    "        return \"Exactly 10\"\n",
    "    else:\n",
    "        return \"Less than 10\"\n",
    "print(check_number(12))  # Greater than 10\n",
    "print(check_number(10))  # Exactly 10\n",
    "print(check_number(8))   # Less than 10\n"
   ]
  },
  {
   "cell_type": "code",
   "execution_count": 11,
   "id": "d5392c43-01f9-41f7-ba6c-848791ffe4c5",
   "metadata": {},
   "outputs": [
    {
     "name": "stdout",
     "output_type": "stream",
     "text": [
      "2250.0\n",
      "4500.0\n"
     ]
    }
   ],
   "source": [
    "# Voici un exemple classique pour calculer des taxes basées sur des seuils :\n",
    "\n",
    "def calculate_tax(income):\n",
    "    if income < 12000:\n",
    "        return income * 0.25  # Taux de 25%\n",
    "    else:\n",
    "        return income * 0.30  # Taux de 30%\n",
    "print(calculate_tax(9000))   # 2250.0\n",
    "print(calculate_tax(15000))  # 4500.0\n"
   ]
  },
  {
   "cell_type": "code",
   "execution_count": 13,
   "id": "fce95b06-6ea7-4530-ad95-a989027afa69",
   "metadata": {},
   "outputs": [
    {
     "name": "stdout",
     "output_type": "stream",
     "text": [
      "5\n"
     ]
    }
   ],
   "source": [
    "# Cet exemple montre comment une fonction décide de la dose de médicament en fonction du poids d'un enfant :\n",
    "\n",
    "def get_medication_dose(weight):\n",
    "    if weight < 5.2:\n",
    "        return 1.25\n",
    "    elif weight < 7.9:\n",
    "        return 2.5\n",
    "    elif weight < 10.4:\n",
    "        return 3.75\n",
    "    elif weight < 15.9:\n",
    "        return 5\n",
    "    elif weight < 21.2:\n",
    "        return 7.5\n",
    "    else:\n",
    "        return 10  # Poids égal ou supérieur à 21.2 kg\n",
    "print(get_medication_dose(12))  # 5\n"
   ]
  },
  {
   "cell_type": "markdown",
   "id": "629053fa-1678-4107-939a-b3bbdd1ae59e",
   "metadata": {},
   "source": [
    "# Exercices Pratiques"
   ]
  },
  {
   "cell_type": "markdown",
   "id": "ae595a39-93fe-4d3d-aecc-1377249b5705",
   "metadata": {},
   "source": [
    "### Addition conditionnelle : \n",
    "\n",
    "Écrivez une fonction qui ajoute 3 si le nombre est inférieur à 10, et ajoute 8 sinon."
   ]
  },
  {
   "cell_type": "code",
   "execution_count": 21,
   "id": "61d76840-4ca2-4b89-89ed-0d9a6baf7c36",
   "metadata": {},
   "outputs": [
    {
     "name": "stdout",
     "output_type": "stream",
     "text": [
      "10\n"
     ]
    }
   ],
   "source": [
    "def add_three_or_eight(num):\n",
    "    if num < 10:\n",
    "        return num + 3\n",
    "    else:\n",
    "        return num + 8\n",
    "print (add_three_or_eight(7))"
   ]
  },
  {
   "cell_type": "markdown",
   "id": "4a2596de-90ab-4d1a-a1f1-48a9eef77954",
   "metadata": {},
   "source": [
    "### Catégorisation d'âge : \n",
    "\n",
    "Créez une fonction qui retourne une catégorie d'âge en fonction d'un nombre donné :\n",
    "\n",
    "Moins de 13 : \"Enfant\"\n",
    "\n",
    "13 à 19 : \"Adolescent\"\n",
    "\n",
    "20 à 64 : \"Adulte\"\n",
    "\n",
    "65 et plus : \"Senior\""
   ]
  },
  {
   "cell_type": "code",
   "execution_count": 24,
   "id": "3eef072f-9fd7-4497-9ed5-348e2d3e641a",
   "metadata": {},
   "outputs": [
    {
     "name": "stdout",
     "output_type": "stream",
     "text": [
      "Adulte\n"
     ]
    }
   ],
   "source": [
    "def categorize_age(age):\n",
    "    if age < 13:\n",
    "        return \"Enfant\"\n",
    "    elif age < 20:\n",
    "        return \"Adolescent\"\n",
    "    elif age < 65:\n",
    "        return \"Adulte\"\n",
    "    else:\n",
    "        return \"Senior\"\n",
    "print(categorize_age(28))"
   ]
  },
  {
   "cell_type": "code",
   "execution_count": null,
   "id": "51cdcac0-4407-486e-9ade-73bf31679f89",
   "metadata": {},
   "outputs": [],
   "source": []
  }
 ],
 "metadata": {
  "kernelspec": {
   "display_name": "Python [conda env:base] *",
   "language": "python",
   "name": "conda-base-py"
  },
  "language_info": {
   "codemirror_mode": {
    "name": "ipython",
    "version": 3
   },
   "file_extension": ".py",
   "mimetype": "text/x-python",
   "name": "python",
   "nbconvert_exporter": "python",
   "pygments_lexer": "ipython3",
   "version": "3.12.7"
  }
 },
 "nbformat": 4,
 "nbformat_minor": 5
}
