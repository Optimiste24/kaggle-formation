{
 "cells": [
  {
   "cell_type": "markdown",
   "id": "4914b1ca-4a78-4f2a-b840-a3d3f7701c72",
   "metadata": {},
   "source": [
    "# Utilisation de bibliothèques externes"
   ]
  },
  {
   "cell_type": "markdown",
   "id": "a3231369-e4eb-45c3-b691-e7482df3ab10",
   "metadata": {},
   "source": [
    "### Imports en Python\n",
    "Dans ce tutoriel, vous apprendrez à utiliser les imports en Python, recevrez des conseils pour travailler avec des bibliothèques inconnues (et les objets qu'elles retournent), et explorerez la surcharge des opérateurs.\n",
    "\n",
    "### Les imports\n",
    "Jusqu'à présent, nous avons parlé de types et de fonctions intégrés dans le langage.\n",
    "Mais l'une des forces de Python, particulièrement pour les data scientists, est la vaste collection de bibliothèques personnalisées de haute qualité.\n",
    "\n",
    "Certaines de ces bibliothèques font partie de la bibliothèque standard, ce qui signifie qu'elles sont disponibles partout où vous exécutez Python. D'autres bibliothèques doivent être installées séparément.\n",
    "\n",
    "Dans tous les cas, vous accéderez à ces bibliothèques grâce à des imports.\n",
    "\n",
    "Exemple : importons le module math de la bibliothèque standard."
   ]
  },
  {
   "cell_type": "code",
   "execution_count": 5,
   "id": "4468fe4a-e298-404f-bd79-96f5add51d93",
   "metadata": {},
   "outputs": [
    {
     "name": "stdout",
     "output_type": "stream",
     "text": [
      "C'est le module math ! Il a le type <class 'module'>\n"
     ]
    }
   ],
   "source": [
    "import math\n",
    "\n",
    "print(\"C'est le module math ! Il a le type {}\".format(type(math)))"
   ]
  },
  {
   "cell_type": "markdown",
   "id": "0a33e321-dac3-4b3f-8699-db82c589774a",
   "metadata": {},
   "source": [
    "Le module math est un module. Un module est une collection de variables (ou un espace de noms) définies par quelqu'un d'autre. Nous pouvons voir toutes les variables du module avec la fonction intégrée dir()."
   ]
  },
  {
   "cell_type": "code",
   "execution_count": 9,
   "id": "e632d44c-11de-4146-b6b3-c639b936624e",
   "metadata": {},
   "outputs": [
    {
     "name": "stdout",
     "output_type": "stream",
     "text": [
      "['__doc__', '__loader__', '__name__', '__package__', '__spec__', 'acos', 'acosh', 'asin', 'asinh', 'atan', 'atan2', 'atanh', 'cbrt', 'ceil', 'comb', 'copysign', 'cos', 'cosh', 'degrees', 'dist', 'e', 'erf', 'erfc', 'exp', 'exp2', 'expm1', 'fabs', 'factorial', 'floor', 'fmod', 'frexp', 'fsum', 'gamma', 'gcd', 'hypot', 'inf', 'isclose', 'isfinite', 'isinf', 'isnan', 'isqrt', 'lcm', 'ldexp', 'lgamma', 'log', 'log10', 'log1p', 'log2', 'modf', 'nan', 'nextafter', 'perm', 'pi', 'pow', 'prod', 'radians', 'remainder', 'sin', 'sinh', 'sqrt', 'sumprod', 'tan', 'tanh', 'tau', 'trunc', 'ulp']\n"
     ]
    }
   ],
   "source": [
    "print(dir(math))"
   ]
  },
  {
   "cell_type": "markdown",
   "id": "14b1f9d3-7daf-4101-b6b9-242a20235ad4",
   "metadata": {},
   "source": [
    "Ces variables sont accessibles avec la notation par point. Certaines d'entre elles, comme math.pi, sont des constantes."
   ]
  },
  {
   "cell_type": "code",
   "execution_count": 12,
   "id": "5d17c8ff-0cf1-4579-a177-51c395659a9b",
   "metadata": {},
   "outputs": [
    {
     "name": "stdout",
     "output_type": "stream",
     "text": [
      "Valeur de pi avec 4 chiffres significatifs = 3.142\n"
     ]
    }
   ],
   "source": [
    "print(\"Valeur de pi avec 4 chiffres significatifs = {:.4}\".format(math.pi))"
   ]
  },
  {
   "cell_type": "markdown",
   "id": "57bb6fe0-6b9f-46a1-8e61-9557b654f880",
   "metadata": {},
   "source": [
    "D'autres variables, comme math.log, sont des fonctions."
   ]
  },
  {
   "cell_type": "code",
   "execution_count": 15,
   "id": "0cb042ca-6cf6-4ae2-bd2c-9f2471094ea7",
   "metadata": {},
   "outputs": [
    {
     "name": "stdout",
     "output_type": "stream",
     "text": [
      "5.0\n"
     ]
    }
   ],
   "source": [
    "print(math.log(32, 2))  # Logarithme base 2 de 32"
   ]
  },
  {
   "cell_type": "code",
   "execution_count": 17,
   "id": "02ccec2f-361f-40ca-8ed8-67dd5a26878a",
   "metadata": {},
   "outputs": [
    {
     "name": "stdout",
     "output_type": "stream",
     "text": [
      "Help on built-in function log in module math:\n",
      "\n",
      "log(...)\n",
      "    log(x, [base=math.e])\n",
      "    Return the logarithm of x to the given base.\n",
      "\n",
      "    If the base is not specified, returns the natural logarithm (base e) of x.\n",
      "\n"
     ]
    }
   ],
   "source": [
    "help(math.log)"
   ]
  },
  {
   "cell_type": "code",
   "execution_count": 19,
   "id": "8291e041-6c20-43f8-bba5-f858a7dd7e5d",
   "metadata": {},
   "outputs": [
    {
     "name": "stdout",
     "output_type": "stream",
     "text": [
      "Help on built-in module math:\n",
      "\n",
      "NAME\n",
      "    math\n",
      "\n",
      "DESCRIPTION\n",
      "    This module provides access to the mathematical functions\n",
      "    defined by the C standard.\n",
      "\n",
      "FUNCTIONS\n",
      "    acos(x, /)\n",
      "        Return the arc cosine (measured in radians) of x.\n",
      "\n",
      "        The result is between 0 and pi.\n",
      "\n",
      "    acosh(x, /)\n",
      "        Return the inverse hyperbolic cosine of x.\n",
      "\n",
      "    asin(x, /)\n",
      "        Return the arc sine (measured in radians) of x.\n",
      "\n",
      "        The result is between -pi/2 and pi/2.\n",
      "\n",
      "    asinh(x, /)\n",
      "        Return the inverse hyperbolic sine of x.\n",
      "\n",
      "    atan(x, /)\n",
      "        Return the arc tangent (measured in radians) of x.\n",
      "\n",
      "        The result is between -pi/2 and pi/2.\n",
      "\n",
      "    atan2(y, x, /)\n",
      "        Return the arc tangent (measured in radians) of y/x.\n",
      "\n",
      "        Unlike atan(y/x), the signs of both x and y are considered.\n",
      "\n",
      "    atanh(x, /)\n",
      "        Return the inverse hyperbolic tangent of x.\n",
      "\n",
      "    cbrt(x, /)\n",
      "        Return the cube root of x.\n",
      "\n",
      "    ceil(x, /)\n",
      "        Return the ceiling of x as an Integral.\n",
      "\n",
      "        This is the smallest integer >= x.\n",
      "\n",
      "    comb(n, k, /)\n",
      "        Number of ways to choose k items from n items without repetition and without order.\n",
      "\n",
      "        Evaluates to n! / (k! * (n - k)!) when k <= n and evaluates\n",
      "        to zero when k > n.\n",
      "\n",
      "        Also called the binomial coefficient because it is equivalent\n",
      "        to the coefficient of k-th term in polynomial expansion of the\n",
      "        expression (1 + x)**n.\n",
      "\n",
      "        Raises TypeError if either of the arguments are not integers.\n",
      "        Raises ValueError if either of the arguments are negative.\n",
      "\n",
      "    copysign(x, y, /)\n",
      "        Return a float with the magnitude (absolute value) of x but the sign of y.\n",
      "\n",
      "        On platforms that support signed zeros, copysign(1.0, -0.0)\n",
      "        returns -1.0.\n",
      "\n",
      "    cos(x, /)\n",
      "        Return the cosine of x (measured in radians).\n",
      "\n",
      "    cosh(x, /)\n",
      "        Return the hyperbolic cosine of x.\n",
      "\n",
      "    degrees(x, /)\n",
      "        Convert angle x from radians to degrees.\n",
      "\n",
      "    dist(p, q, /)\n",
      "        Return the Euclidean distance between two points p and q.\n",
      "\n",
      "        The points should be specified as sequences (or iterables) of\n",
      "        coordinates.  Both inputs must have the same dimension.\n",
      "\n",
      "        Roughly equivalent to:\n",
      "            sqrt(sum((px - qx) ** 2.0 for px, qx in zip(p, q)))\n",
      "\n",
      "    erf(x, /)\n",
      "        Error function at x.\n",
      "\n",
      "    erfc(x, /)\n",
      "        Complementary error function at x.\n",
      "\n",
      "    exp(x, /)\n",
      "        Return e raised to the power of x.\n",
      "\n",
      "    exp2(x, /)\n",
      "        Return 2 raised to the power of x.\n",
      "\n",
      "    expm1(x, /)\n",
      "        Return exp(x)-1.\n",
      "\n",
      "        This function avoids the loss of precision involved in the direct evaluation of exp(x)-1 for small x.\n",
      "\n",
      "    fabs(x, /)\n",
      "        Return the absolute value of the float x.\n",
      "\n",
      "    factorial(n, /)\n",
      "        Find n!.\n",
      "\n",
      "        Raise a ValueError if x is negative or non-integral.\n",
      "\n",
      "    floor(x, /)\n",
      "        Return the floor of x as an Integral.\n",
      "\n",
      "        This is the largest integer <= x.\n",
      "\n",
      "    fmod(x, y, /)\n",
      "        Return fmod(x, y), according to platform C.\n",
      "\n",
      "        x % y may differ.\n",
      "\n",
      "    frexp(x, /)\n",
      "        Return the mantissa and exponent of x, as pair (m, e).\n",
      "\n",
      "        m is a float and e is an int, such that x = m * 2.**e.\n",
      "        If x is 0, m and e are both 0.  Else 0.5 <= abs(m) < 1.0.\n",
      "\n",
      "    fsum(seq, /)\n",
      "        Return an accurate floating-point sum of values in the iterable seq.\n",
      "\n",
      "        Assumes IEEE-754 floating-point arithmetic.\n",
      "\n",
      "    gamma(x, /)\n",
      "        Gamma function at x.\n",
      "\n",
      "    gcd(*integers)\n",
      "        Greatest Common Divisor.\n",
      "\n",
      "    hypot(...)\n",
      "        hypot(*coordinates) -> value\n",
      "\n",
      "        Multidimensional Euclidean distance from the origin to a point.\n",
      "\n",
      "        Roughly equivalent to:\n",
      "            sqrt(sum(x**2 for x in coordinates))\n",
      "\n",
      "        For a two dimensional point (x, y), gives the hypotenuse\n",
      "        using the Pythagorean theorem:  sqrt(x*x + y*y).\n",
      "\n",
      "        For example, the hypotenuse of a 3/4/5 right triangle is:\n",
      "\n",
      "            >>> hypot(3.0, 4.0)\n",
      "            5.0\n",
      "\n",
      "    isclose(a, b, *, rel_tol=1e-09, abs_tol=0.0)\n",
      "        Determine whether two floating-point numbers are close in value.\n",
      "\n",
      "          rel_tol\n",
      "            maximum difference for being considered \"close\", relative to the\n",
      "            magnitude of the input values\n",
      "          abs_tol\n",
      "            maximum difference for being considered \"close\", regardless of the\n",
      "            magnitude of the input values\n",
      "\n",
      "        Return True if a is close in value to b, and False otherwise.\n",
      "\n",
      "        For the values to be considered close, the difference between them\n",
      "        must be smaller than at least one of the tolerances.\n",
      "\n",
      "        -inf, inf and NaN behave similarly to the IEEE 754 Standard.  That\n",
      "        is, NaN is not close to anything, even itself.  inf and -inf are\n",
      "        only close to themselves.\n",
      "\n",
      "    isfinite(x, /)\n",
      "        Return True if x is neither an infinity nor a NaN, and False otherwise.\n",
      "\n",
      "    isinf(x, /)\n",
      "        Return True if x is a positive or negative infinity, and False otherwise.\n",
      "\n",
      "    isnan(x, /)\n",
      "        Return True if x is a NaN (not a number), and False otherwise.\n",
      "\n",
      "    isqrt(n, /)\n",
      "        Return the integer part of the square root of the input.\n",
      "\n",
      "    lcm(*integers)\n",
      "        Least Common Multiple.\n",
      "\n",
      "    ldexp(x, i, /)\n",
      "        Return x * (2**i).\n",
      "\n",
      "        This is essentially the inverse of frexp().\n",
      "\n",
      "    lgamma(x, /)\n",
      "        Natural logarithm of absolute value of Gamma function at x.\n",
      "\n",
      "    log(...)\n",
      "        log(x, [base=math.e])\n",
      "        Return the logarithm of x to the given base.\n",
      "\n",
      "        If the base is not specified, returns the natural logarithm (base e) of x.\n",
      "\n",
      "    log10(x, /)\n",
      "        Return the base 10 logarithm of x.\n",
      "\n",
      "    log1p(x, /)\n",
      "        Return the natural logarithm of 1+x (base e).\n",
      "\n",
      "        The result is computed in a way which is accurate for x near zero.\n",
      "\n",
      "    log2(x, /)\n",
      "        Return the base 2 logarithm of x.\n",
      "\n",
      "    modf(x, /)\n",
      "        Return the fractional and integer parts of x.\n",
      "\n",
      "        Both results carry the sign of x and are floats.\n",
      "\n",
      "    nextafter(x, y, /, *, steps=None)\n",
      "        Return the floating-point value the given number of steps after x towards y.\n",
      "\n",
      "        If steps is not specified or is None, it defaults to 1.\n",
      "\n",
      "        Raises a TypeError, if x or y is not a double, or if steps is not an integer.\n",
      "        Raises ValueError if steps is negative.\n",
      "\n",
      "    perm(n, k=None, /)\n",
      "        Number of ways to choose k items from n items without repetition and with order.\n",
      "\n",
      "        Evaluates to n! / (n - k)! when k <= n and evaluates\n",
      "        to zero when k > n.\n",
      "\n",
      "        If k is not specified or is None, then k defaults to n\n",
      "        and the function returns n!.\n",
      "\n",
      "        Raises TypeError if either of the arguments are not integers.\n",
      "        Raises ValueError if either of the arguments are negative.\n",
      "\n",
      "    pow(x, y, /)\n",
      "        Return x**y (x to the power of y).\n",
      "\n",
      "    prod(iterable, /, *, start=1)\n",
      "        Calculate the product of all the elements in the input iterable.\n",
      "\n",
      "        The default start value for the product is 1.\n",
      "\n",
      "        When the iterable is empty, return the start value.  This function is\n",
      "        intended specifically for use with numeric values and may reject\n",
      "        non-numeric types.\n",
      "\n",
      "    radians(x, /)\n",
      "        Convert angle x from degrees to radians.\n",
      "\n",
      "    remainder(x, y, /)\n",
      "        Difference between x and the closest integer multiple of y.\n",
      "\n",
      "        Return x - n*y where n*y is the closest integer multiple of y.\n",
      "        In the case where x is exactly halfway between two multiples of\n",
      "        y, the nearest even value of n is used. The result is always exact.\n",
      "\n",
      "    sin(x, /)\n",
      "        Return the sine of x (measured in radians).\n",
      "\n",
      "    sinh(x, /)\n",
      "        Return the hyperbolic sine of x.\n",
      "\n",
      "    sqrt(x, /)\n",
      "        Return the square root of x.\n",
      "\n",
      "    sumprod(p, q, /)\n",
      "        Return the sum of products of values from two iterables p and q.\n",
      "\n",
      "        Roughly equivalent to:\n",
      "\n",
      "            sum(itertools.starmap(operator.mul, zip(p, q, strict=True)))\n",
      "\n",
      "        For float and mixed int/float inputs, the intermediate products\n",
      "        and sums are computed with extended precision.\n",
      "\n",
      "    tan(x, /)\n",
      "        Return the tangent of x (measured in radians).\n",
      "\n",
      "    tanh(x, /)\n",
      "        Return the hyperbolic tangent of x.\n",
      "\n",
      "    trunc(x, /)\n",
      "        Truncates the Real x to the nearest Integral toward 0.\n",
      "\n",
      "        Uses the __trunc__ magic method.\n",
      "\n",
      "    ulp(x, /)\n",
      "        Return the value of the least significant bit of the float x.\n",
      "\n",
      "DATA\n",
      "    e = 2.718281828459045\n",
      "    inf = inf\n",
      "    nan = nan\n",
      "    pi = 3.141592653589793\n",
      "    tau = 6.283185307179586\n",
      "\n",
      "FILE\n",
      "    (built-in)\n",
      "\n",
      "\n"
     ]
    }
   ],
   "source": [
    "help(math)"
   ]
  },
  {
   "cell_type": "markdown",
   "id": "a17b828b-bf7b-4fa0-8afb-f07c7f3fee6b",
   "metadata": {},
   "source": [
    "### Autres syntaxes d'importation\n",
    "Si vous utilisez fréquemment un module, vous pouvez l'importer avec un alias pour réduire la saisie. Par exemple :"
   ]
  },
  {
   "cell_type": "code",
   "execution_count": 26,
   "id": "cb4801a3-e334-443b-84a4-eb226a66c0a8",
   "metadata": {},
   "outputs": [
    {
     "name": "stdout",
     "output_type": "stream",
     "text": [
      "3.141592653589793\n"
     ]
    }
   ],
   "source": [
    "import math as mt\n",
    "print(mt.pi)"
   ]
  },
  {
   "cell_type": "markdown",
   "id": "0329563d-8a21-4180-a1c3-8f401af9563e",
   "metadata": {},
   "source": [
    "Vous pouvez aussi importer uniquement les fonctions spécifiques dont vous avez besoin :"
   ]
  },
  {
   "cell_type": "code",
   "execution_count": 29,
   "id": "a439db93-bb13-465a-931a-203c5a62f5f7",
   "metadata": {},
   "outputs": [
    {
     "name": "stdout",
     "output_type": "stream",
     "text": [
      "3.141592653589793 5.0\n"
     ]
    }
   ],
   "source": [
    "from math import pi, log\n",
    "print(pi, log(32, 2))"
   ]
  },
  {
   "cell_type": "code",
   "execution_count": 33,
   "id": "63657bf3-25d7-490f-a482-8d8a6028d963",
   "metadata": {},
   "outputs": [
    {
     "name": "stdout",
     "output_type": "stream",
     "text": [
      "3.141592653589793 5.0\n"
     ]
    }
   ],
   "source": [
    "print(mt.pi, mt.log(32, 2))"
   ]
  },
  {
   "cell_type": "markdown",
   "id": "90928a8c-0f88-4555-adfe-998b3305ed30",
   "metadata": {},
   "source": [
    "#### Attention : \n",
    "Évitez d'utiliser from module import *, qui importe toutes les variables d'un module dans votre espace de noms, car cela peut entraîner des conflits.\n",
    "\n",
    "Exemple problématique :"
   ]
  },
  {
   "cell_type": "code",
   "execution_count": 36,
   "id": "80c379a5-13e1-41e4-8a35-858bfd42807c",
   "metadata": {},
   "outputs": [
    {
     "ename": "TypeError",
     "evalue": "return arrays must be of ArrayType",
     "output_type": "error",
     "traceback": [
      "\u001b[1;31m---------------------------------------------------------------------------\u001b[0m",
      "\u001b[1;31mTypeError\u001b[0m                                 Traceback (most recent call last)",
      "Cell \u001b[1;32mIn[36], line 3\u001b[0m\n\u001b[0;32m      1\u001b[0m \u001b[38;5;28;01mfrom\u001b[39;00m \u001b[38;5;21;01mmath\u001b[39;00m \u001b[38;5;28;01mimport\u001b[39;00m \u001b[38;5;241m*\u001b[39m\n\u001b[0;32m      2\u001b[0m \u001b[38;5;28;01mfrom\u001b[39;00m \u001b[38;5;21;01mnumpy\u001b[39;00m \u001b[38;5;28;01mimport\u001b[39;00m \u001b[38;5;241m*\u001b[39m\n\u001b[1;32m----> 3\u001b[0m \u001b[38;5;28mprint\u001b[39m(log(\u001b[38;5;241m32\u001b[39m, \u001b[38;5;241m2\u001b[39m))\n",
      "\u001b[1;31mTypeError\u001b[0m: return arrays must be of ArrayType"
     ]
    }
   ],
   "source": [
    "from math import *\n",
    "from numpy import *\n",
    "print(log(32, 2))"
   ]
  },
  {
   "cell_type": "markdown",
   "id": "0be68db2-6f7e-44a1-860b-c2049204e414",
   "metadata": {},
   "source": [
    "Cela lève une erreur car math et numpy ont tous deux une fonction log, mais elles ne se comportent pas de la même manière."
   ]
  },
  {
   "cell_type": "markdown",
   "id": "80295444-7b7d-40a8-9168-aac483d3853d",
   "metadata": {},
   "source": [
    "#### Sous-modules\n",
    "Un module peut aussi contenir d'autres modules, appelés sous-modules. Par exemple, numpy.random est un sous-module de numpy."
   ]
  },
  {
   "cell_type": "code",
   "execution_count": 41,
   "id": "faa60f97-c46b-4d56-90f2-60d017c52b3c",
   "metadata": {},
   "outputs": [
    {
     "name": "stdout",
     "output_type": "stream",
     "text": [
      "<class 'module'>\n"
     ]
    }
   ],
   "source": [
    "import numpy\n",
    "print(type(numpy.random))  # Type du sous-module"
   ]
  },
  {
   "cell_type": "markdown",
   "id": "a39ac8c4-af27-44f7-baf9-b4955b591987",
   "metadata": {},
   "source": [
    "Pour appeler une fonction dans un sous-module, utilisez deux points :"
   ]
  },
  {
   "cell_type": "code",
   "execution_count": 44,
   "id": "d4a43545-9083-4fb1-aee7-c6ec630909b7",
   "metadata": {},
   "outputs": [
    {
     "name": "stdout",
     "output_type": "stream",
     "text": [
      "[4 4 1 1 2 2 1 5 4 4]\n"
     ]
    }
   ],
   "source": [
    "rolls = numpy.random.randint(low=1, high=6, size=10)\n",
    "print(rolls)  # 10 jets de dés aléatoires"
   ]
  },
  {
   "cell_type": "markdown",
   "id": "f0c35d06-bb37-4ab2-9697-aa5b8ce0611b",
   "metadata": {},
   "source": [
    "##### Guide rapide pour comprendre des objets inconnus\n",
    "Lorsque vous travaillez avec des bibliothèques, vous rencontrerez de nouveaux types d'objets. Voici trois outils pour les comprendre :\n",
    "\n",
    "###### 1. type() : Pour identifier le type d'un objet.\n",
    "Exemple :"
   ]
  },
  {
   "cell_type": "code",
   "execution_count": 47,
   "id": "d0830977-9bb4-4135-87b6-fedd2210fbe9",
   "metadata": {},
   "outputs": [
    {
     "name": "stdout",
     "output_type": "stream",
     "text": [
      "<class 'numpy.ndarray'>\n"
     ]
    }
   ],
   "source": [
    "print(type(rolls))  # <class 'numpy.ndarray'>"
   ]
  },
  {
   "cell_type": "markdown",
   "id": "0d56e775-3391-4b35-8530-91ddd0bd74fb",
   "metadata": {},
   "source": [
    "###### 2. dir() : Pour voir les attributs et méthodes disponibles.\n",
    "Exemple :"
   ]
  },
  {
   "cell_type": "code",
   "execution_count": 50,
   "id": "76b43808-2da5-43f2-a74a-f17c060e214a",
   "metadata": {},
   "outputs": [
    {
     "name": "stdout",
     "output_type": "stream",
     "text": [
      "['T', '__abs__', '__add__', '__and__', '__array__', '__array_finalize__', '__array_function__', '__array_interface__', '__array_prepare__', '__array_priority__', '__array_struct__', '__array_ufunc__', '__array_wrap__', '__bool__', '__buffer__', '__class__', '__class_getitem__', '__complex__', '__contains__', '__copy__', '__deepcopy__', '__delattr__', '__delitem__', '__dir__', '__divmod__', '__dlpack__', '__dlpack_device__', '__doc__', '__eq__', '__float__', '__floordiv__', '__format__', '__ge__', '__getattribute__', '__getitem__', '__getstate__', '__gt__', '__hash__', '__iadd__', '__iand__', '__ifloordiv__', '__ilshift__', '__imatmul__', '__imod__', '__imul__', '__index__', '__init__', '__init_subclass__', '__int__', '__invert__', '__ior__', '__ipow__', '__irshift__', '__isub__', '__iter__', '__itruediv__', '__ixor__', '__le__', '__len__', '__lshift__', '__lt__', '__matmul__', '__mod__', '__mul__', '__ne__', '__neg__', '__new__', '__or__', '__pos__', '__pow__', '__radd__', '__rand__', '__rdivmod__', '__reduce__', '__reduce_ex__', '__repr__', '__rfloordiv__', '__rlshift__', '__rmatmul__', '__rmod__', '__rmul__', '__ror__', '__rpow__', '__rrshift__', '__rshift__', '__rsub__', '__rtruediv__', '__rxor__', '__setattr__', '__setitem__', '__setstate__', '__sizeof__', '__str__', '__sub__', '__subclasshook__', '__truediv__', '__xor__', 'all', 'any', 'argmax', 'argmin', 'argpartition', 'argsort', 'astype', 'base', 'byteswap', 'choose', 'clip', 'compress', 'conj', 'conjugate', 'copy', 'ctypes', 'cumprod', 'cumsum', 'data', 'diagonal', 'dot', 'dtype', 'dump', 'dumps', 'fill', 'flags', 'flat', 'flatten', 'getfield', 'imag', 'item', 'itemset', 'itemsize', 'max', 'mean', 'min', 'nbytes', 'ndim', 'newbyteorder', 'nonzero', 'partition', 'prod', 'ptp', 'put', 'ravel', 'real', 'repeat', 'reshape', 'resize', 'round', 'searchsorted', 'setfield', 'setflags', 'shape', 'size', 'sort', 'squeeze', 'std', 'strides', 'sum', 'swapaxes', 'take', 'tobytes', 'tofile', 'tolist', 'tostring', 'trace', 'transpose', 'var', 'view']\n"
     ]
    }
   ],
   "source": [
    "print(dir(rolls))  # Liste des méthodes et propriétés"
   ]
  },
  {
   "cell_type": "markdown",
   "id": "6445f2ef-cb3f-46fb-9e25-18738371c518",
   "metadata": {},
   "source": [
    "###### 3. help() : Pour obtenir des détails sur une méthode ou un objet.\n",
    "Exemple :"
   ]
  },
  {
   "cell_type": "code",
   "execution_count": 55,
   "id": "76158a82-c2e2-405b-9fbb-7f8bc044c3ba",
   "metadata": {},
   "outputs": [
    {
     "name": "stdout",
     "output_type": "stream",
     "text": [
      "Help on built-in function ravel:\n",
      "\n",
      "ravel(...) method of numpy.ndarray instance\n",
      "    a.ravel([order])\n",
      "\n",
      "    Return a flattened array.\n",
      "\n",
      "    Refer to `numpy.ravel` for full documentation.\n",
      "\n",
      "    See Also\n",
      "    --------\n",
      "    numpy.ravel : equivalent function\n",
      "\n",
      "    ndarray.flat : a flat iterator on the array.\n",
      "\n"
     ]
    }
   ],
   "source": [
    "help(rolls.ravel)  # Documentation sur une méthode spécifique"
   ]
  },
  {
   "cell_type": "markdown",
   "id": "62e4ba20-960a-4de5-88b5-1d8ec68ac9b5",
   "metadata": {},
   "source": [
    "#### Surcharge des opérateurs\n",
    "Avec certains types comme numpy.ndarray, des opérateurs comme + ou <= peuvent avoir des comportements spécifiques. Par exemple :"
   ]
  },
  {
   "cell_type": "code",
   "execution_count": 59,
   "id": "66c19633-1f2f-49f2-a10f-b5a5c93eaa93",
   "metadata": {},
   "outputs": [
    {
     "data": {
      "text/plain": [
       "array([14, 14, 11, 11, 12, 12, 11, 15, 14, 14])"
      ]
     },
     "execution_count": 59,
     "metadata": {},
     "output_type": "execute_result"
    }
   ],
   "source": [
    "rolls + 10  # Ajoute 10 à chaque élément de l'array"
   ]
  },
  {
   "cell_type": "markdown",
   "id": "5427951b-fd19-46b5-8f6d-8f229c1e195f",
   "metadata": {},
   "source": [
    "Cela est possible car les bibliothèques comme numpy redéfinissent les opérateurs pour leurs types."
   ]
  },
  {
   "cell_type": "code",
   "execution_count": null,
   "id": "4ac1427d-fa20-4622-8513-d7d950523ecb",
   "metadata": {},
   "outputs": [],
   "source": []
  }
 ],
 "metadata": {
  "kernelspec": {
   "display_name": "Python [conda env:base] *",
   "language": "python",
   "name": "conda-base-py"
  },
  "language_info": {
   "codemirror_mode": {
    "name": "ipython",
    "version": 3
   },
   "file_extension": ".py",
   "mimetype": "text/x-python",
   "name": "python",
   "nbconvert_exporter": "python",
   "pygments_lexer": "ipython3",
   "version": "3.12.7"
  }
 },
 "nbformat": 4,
 "nbformat_minor": 5
}
