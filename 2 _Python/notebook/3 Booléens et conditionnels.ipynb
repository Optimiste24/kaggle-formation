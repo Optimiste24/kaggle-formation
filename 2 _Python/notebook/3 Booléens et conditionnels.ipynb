{
 "cells": [
  {
   "cell_type": "markdown",
   "id": "4a45b483-e20c-476e-a0b8-cf6c6647cc9c",
   "metadata": {},
   "source": [
    "# Booléens et conditionnels"
   ]
  },
  {
   "cell_type": "markdown",
   "id": "7f1dfa12-2d55-4108-96ff-b3f48bef873c",
   "metadata": {},
   "source": [
    "### 1. Booléens\n",
    "Les booléens (bool) sont des variables qui ont deux valeurs possibles : True ou False. Ces valeurs servent à prendre des décisions dans le code.\n",
    "\n",
    "Les valeurs booléennes sont généralement produites par des opérateurs de comparaison."
   ]
  },
  {
   "cell_type": "code",
   "execution_count": 6,
   "id": "5c7c20b5-8bde-4aaa-9155-8049310c6e67",
   "metadata": {},
   "outputs": [
    {
     "name": "stdout",
     "output_type": "stream",
     "text": [
      "True\n",
      "<class 'bool'>\n"
     ]
    }
   ],
   "source": [
    "x = True\n",
    "print(x)           # Affiche: True\n",
    "print(type(x))     # Affiche: <class 'bool'>"
   ]
  },
  {
   "cell_type": "markdown",
   "id": "bd3e13c0-ce92-4d57-8bdf-d34a46e6eaeb",
   "metadata": {},
   "source": [
    "### 2. Opérateurs de comparaison\n",
    "Ces opérateurs comparent deux valeurs et retournent un booléen.\n",
    "\n",
    "Opération\tDescription\tExemple\n",
    "\n",
    "==\tÉgal à\t3 == 3 → True\n",
    "\n",
    "!=\tDifférent de\t3 != 4 → True\n",
    "\n",
    "<\tMoins que\t2 < 3 → True\n",
    "\n",
    ">\tPlus que\t5 > 4 → True\n",
    "\n",
    "<=\tInférieur ou égal à\t3 <= 3 → True\n",
    "\n",
    ">=\tSupérieur ou égal à\t4 >= 2 → True\n"
   ]
  },
  {
   "cell_type": "code",
   "execution_count": 10,
   "id": "024907d2-533e-48be-8178-2b7f8cb94b3a",
   "metadata": {},
   "outputs": [
    {
     "name": "stdout",
     "output_type": "stream",
     "text": [
      "False\n",
      "True\n"
     ]
    }
   ],
   "source": [
    "def can_run_for_president(age):\n",
    "    return age >= 35\n",
    "\n",
    "print(can_run_for_president(19))  # False\n",
    "print(can_run_for_president(45))  # True"
   ]
  },
  {
   "cell_type": "markdown",
   "id": "5de50017-e530-4375-a359-12f7d8b8f05f",
   "metadata": {},
   "source": [
    "### 3. Combinaison de booléens\n",
    "Les opérateurs logiques permettent de combiner plusieurs conditions :\n",
    "\n",
    "and : Toutes les conditions doivent être vraies.\n",
    "    \n",
    "or : Au moins une condition doit être vraie.\n",
    "    \n",
    "not : Inverse la valeur."
   ]
  },
  {
   "cell_type": "code",
   "execution_count": 13,
   "id": "6f14ef77-8e29-4f49-b655-2e6a5bb14b72",
   "metadata": {},
   "outputs": [
    {
     "name": "stdout",
     "output_type": "stream",
     "text": [
      "True\n",
      "False\n"
     ]
    }
   ],
   "source": [
    "def can_run_for_president(age, is_natural_born_citizen):\n",
    "    return is_natural_born_citizen and (age >= 35)\n",
    "\n",
    "print(can_run_for_president(55, True))   # True\n",
    "print(can_run_for_president(19, False)) # False"
   ]
  },
  {
   "cell_type": "markdown",
   "id": "d3cef9ad-00a5-40e6-9fbe-9e3af29d6d17",
   "metadata": {},
   "source": [
    "### 4. Priorité des opérations\n",
    "\"and\" est évalué avant \"or\".\n",
    "\n",
    "Utilisez des parenthèses pour clarifier les expressions complexes."
   ]
  },
  {
   "cell_type": "code",
   "execution_count": 17,
   "id": "671d3ebb-5052-4462-93dd-e6f7e5f7b08f",
   "metadata": {},
   "outputs": [],
   "source": [
    "result = True or False and False\n",
    "# Équivalent à : True or (False and False) → True"
   ]
  },
  {
   "cell_type": "markdown",
   "id": "b3277947-966e-45fc-bd79-00581b54c60c",
   "metadata": {},
   "source": [
    "### 5. Conditionnels\n",
    "Les instructions conditionnelles (if, elif, else) permettent de contrôler l'exécution du code en fonction des booléens.\n",
    "\n",
    "Les blocs de code sont définis par l'indentation (4 espaces)."
   ]
  },
  {
   "cell_type": "code",
   "execution_count": 20,
   "id": "e182a439-49a5-4847-a37b-2e6d2badc67d",
   "metadata": {},
   "outputs": [
    {
     "name": "stdout",
     "output_type": "stream",
     "text": [
      "x est zéro\n",
      "x est négatif\n"
     ]
    }
   ],
   "source": [
    "def inspect(x):\n",
    "    if x == 0:\n",
    "        print(\"x est zéro\")\n",
    "    elif x > 0:\n",
    "        print(\"x est positif\")\n",
    "    else:\n",
    "        print(\"x est négatif\")\n",
    "\n",
    "inspect(0)   # Affiche : x est zéro\n",
    "inspect(-15) # Affiche : x est négatif\n"
   ]
  },
  {
   "cell_type": "markdown",
   "id": "7350b26a-29d0-48a9-8790-f3a4b6c844e9",
   "metadata": {},
   "source": [
    "### 6. Conversion en booléens\n",
    "Vous pouvez convertir n'importe quelle valeur en booléen avec la fonction bool().\n",
    "\n",
    "Règles générales :\n",
    "\n",
    "0 et les séquences vides (\"\", [], etc.) → False\n",
    "\n",
    "Toutes les autres valeurs → True"
   ]
  },
  {
   "cell_type": "code",
   "execution_count": 24,
   "id": "45b8f89a-3f5e-478e-b60d-7fc46f727c70",
   "metadata": {},
   "outputs": [
    {
     "name": "stdout",
     "output_type": "stream",
     "text": [
      "False\n",
      "True\n"
     ]
    }
   ],
   "source": [
    "print(bool(0))       # False\n",
    "print(bool(\"spam\"))  # True"
   ]
  },
  {
   "cell_type": "code",
   "execution_count": 26,
   "id": "16aefe83-b1b4-4f2d-821c-0f8fdd7851eb",
   "metadata": {},
   "outputs": [
    {
     "name": "stdout",
     "output_type": "stream",
     "text": [
      "spam\n"
     ]
    }
   ],
   "source": [
    "# Les objets non booléens peuvent être utilisés directement dans des conditions.\n",
    "\n",
    "if 0:\n",
    "    print(\"Jamais affiché\")\n",
    "elif \"spam\":\n",
    "    print(\"spam\")\n",
    "# Affiche : spam"
   ]
  },
  {
   "cell_type": "markdown",
   "id": "286170be-7d42-46e4-8855-006a8a2ef8d3",
   "metadata": {},
   "source": [
    "### 7. Pratique recommandée\n",
    "Utilisez des parenthèses pour éviter les ambiguïtés.\n",
    "\n",
    "Rédigez des conditions simples et compréhensibles.\n",
    "\n",
    "Testez vos compétences en résolvant des problèmes pratiques."
   ]
  },
  {
   "cell_type": "markdown",
   "id": "0ace8e95-d775-49bb-976f-ae6d96380cdd",
   "metadata": {},
   "source": [
    "# Exercice : \n",
    "Écrivez une fonction qui vérifie si une année donnée est bissextile :\n",
    "\n",
    "Une année est bissextile si elle est divisible par 4 mais pas par 100, sauf si elle est divisible par 400."
   ]
  },
  {
   "cell_type": "code",
   "execution_count": 30,
   "id": "fe930c6d-d87e-4574-b532-eec92a68f521",
   "metadata": {},
   "outputs": [
    {
     "name": "stdout",
     "output_type": "stream",
     "text": [
      "True\n",
      "False\n"
     ]
    }
   ],
   "source": [
    "def is_leap_year(year):\n",
    "    return (year % 4 == 0) and (year % 100 != 0 or year % 400 == 0)\n",
    "\n",
    "print(is_leap_year(2024))  # True\n",
    "print(is_leap_year(1900))  # False"
   ]
  },
  {
   "cell_type": "code",
   "execution_count": null,
   "id": "2816d5d0-ebc4-4b1b-b2fc-f48d3c9f2b64",
   "metadata": {},
   "outputs": [],
   "source": []
  }
 ],
 "metadata": {
  "kernelspec": {
   "display_name": "Python [conda env:base] *",
   "language": "python",
   "name": "conda-base-py"
  },
  "language_info": {
   "codemirror_mode": {
    "name": "ipython",
    "version": 3
   },
   "file_extension": ".py",
   "mimetype": "text/x-python",
   "name": "python",
   "nbconvert_exporter": "python",
   "pygments_lexer": "ipython3",
   "version": "3.12.7"
  }
 },
 "nbformat": 4,
 "nbformat_minor": 5
}
