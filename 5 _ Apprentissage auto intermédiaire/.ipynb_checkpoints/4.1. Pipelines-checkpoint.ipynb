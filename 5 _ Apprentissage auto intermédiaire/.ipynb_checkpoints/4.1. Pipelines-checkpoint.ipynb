{
 "cells": [
  {
   "cell_type": "markdown",
   "id": "9790d282-9140-4dde-9f32-0e8c937e13d5",
   "metadata": {},
   "source": [
    "# Concours sur les prix de vente immobiliers"
   ]
  },
  {
   "cell_type": "code",
   "execution_count": 5,
   "id": "79aeb94f-a373-4c6f-9a88-22e948be30ed",
   "metadata": {},
   "outputs": [
    {
     "name": "stdout",
     "output_type": "stream",
     "text": [
      "MAE sur les données de validation : 17514.986232876712\n",
      "Fichier de soumission créé : submission4.csv\n"
     ]
    }
   ],
   "source": [
    "# Importer les bibliothèques nécessaires\n",
    "import pandas as pd\n",
    "from sklearn.model_selection import train_test_split\n",
    "from sklearn.compose import ColumnTransformer\n",
    "from sklearn.pipeline import Pipeline\n",
    "from sklearn.impute import SimpleImputer\n",
    "from sklearn.preprocessing import OneHotEncoder\n",
    "from sklearn.ensemble import RandomForestRegressor\n",
    "from sklearn.metrics import mean_absolute_error\n",
    "\n",
    "# Charger les données\n",
    "train_path = 'train.csv'  # Remplacez par le chemin correct\n",
    "X_full = pd.read_csv(train_path, index_col='Id')\n",
    "\n",
    "test_path = 'test.csv'  # Remplacez par le chemin correct\n",
    "X_test_full = pd.read_csv(test_path, index_col='Id')\n",
    "\n",
    "# Prétraitement initial\n",
    "X_full.dropna(axis=0, subset=['SalePrice'], inplace=True)\n",
    "y = X_full['SalePrice']\n",
    "X_full.drop(['SalePrice'], axis=1, inplace=True)\n",
    "\n",
    "# Séparer les données d'entraînement et de validation\n",
    "X_train_full, X_valid_full, y_train, y_valid = train_test_split(\n",
    "    X_full, y, train_size=0.8, test_size=0.2, random_state=0\n",
    ")\n",
    "\n",
    "# Identifier les colonnes numériques et catégoriques\n",
    "categorical_cols = [\n",
    "    cname for cname in X_train_full.columns\n",
    "    if X_train_full[cname].dtype == \"object\" and X_train_full[cname].nunique() < 10\n",
    "]\n",
    "numerical_cols = [\n",
    "    cname for cname in X_train_full.columns\n",
    "    if X_train_full[cname].dtype in ['int64', 'float64']\n",
    "]\n",
    "\n",
    "# Garder les colonnes sélectionnées\n",
    "my_cols = categorical_cols + numerical_cols\n",
    "X_train = X_train_full[my_cols].copy()\n",
    "X_valid = X_valid_full[my_cols].copy()\n",
    "X_test = X_test_full[my_cols].copy()\n",
    "\n",
    "# Définir les transformations pour les colonnes numériques et catégoriques\n",
    "numerical_transformer = SimpleImputer(strategy='median')\n",
    "categorical_transformer = Pipeline(steps=[\n",
    "    ('imputer', SimpleImputer(strategy='most_frequent')),\n",
    "    ('onehot', OneHotEncoder(handle_unknown='ignore'))\n",
    "])\n",
    "\n",
    "# Combiner les transformations dans un ColumnTransformer\n",
    "preprocessor = ColumnTransformer(\n",
    "    transformers=[\n",
    "        ('num', numerical_transformer, numerical_cols),\n",
    "        ('cat', categorical_transformer, categorical_cols)\n",
    "    ]\n",
    ")\n",
    "\n",
    "# Définir le modèle\n",
    "model = RandomForestRegressor(n_estimators=100, random_state=0)\n",
    "\n",
    "# Créer le pipeline\n",
    "my_pipeline = Pipeline(steps=[\n",
    "    ('preprocessor', preprocessor),\n",
    "    ('model', model)\n",
    "])\n",
    "\n",
    "# Entraîner le pipeline\n",
    "my_pipeline.fit(X_train, y_train)\n",
    "\n",
    "# Faire des prédictions sur les données de validation\n",
    "preds_valid = my_pipeline.predict(X_valid)\n",
    "mae = mean_absolute_error(y_valid, preds_valid)\n",
    "print(f'MAE sur les données de validation : {mae}')\n",
    "\n",
    "# Faire des prédictions sur les données de test\n",
    "preds_test = my_pipeline.predict(X_test)\n",
    "\n",
    "# Préparer le fichier de soumission\n",
    "output = pd.DataFrame({'Id': X_test.index, 'SalePrice': preds_test})\n",
    "output.to_csv('submission4.csv', index=False)\n",
    "print(\"Fichier de soumission créé : submission4.csv\")\n"
   ]
  },
  {
   "cell_type": "code",
   "execution_count": null,
   "id": "f8da1f3f-e7b1-4910-ada7-dcd06d85a0ba",
   "metadata": {},
   "outputs": [],
   "source": []
  }
 ],
 "metadata": {
  "kernelspec": {
   "display_name": "Python [conda env:base] *",
   "language": "python",
   "name": "conda-base-py"
  },
  "language_info": {
   "codemirror_mode": {
    "name": "ipython",
    "version": 3
   },
   "file_extension": ".py",
   "mimetype": "text/x-python",
   "name": "python",
   "nbconvert_exporter": "python",
   "pygments_lexer": "ipython3",
   "version": "3.12.7"
  }
 },
 "nbformat": 4,
 "nbformat_minor": 5
}
