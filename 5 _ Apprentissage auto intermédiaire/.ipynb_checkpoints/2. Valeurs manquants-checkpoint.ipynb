{
 "cells": [
  {
   "cell_type": "markdown",
   "id": "af1e7138-c8f7-416a-94e4-29b9ed1451a1",
   "metadata": {},
   "source": [
    "# Valeurs manquantes\n",
    "Des valeurs manquantes se produisent. Préparez-vous à ce défi courant dans des ensembles de données réels."
   ]
  },
  {
   "cell_type": "markdown",
   "id": "a99b5467-16b8-4129-a85a-43887304df99",
   "metadata": {},
   "source": [
    "## Introduction\n",
    "Dans ce tutoriel, vous allez apprendre *trois approches* pour gérer les valeurs manquantes dans un ensemble de données. Ensuite, vous comparerez leur efficacité sur un jeu de données réel.\n",
    "\n",
    "**Pourquoi les valeurs manquantes ?**\n",
    "Il existe de nombreuses raisons pour lesquelles des données peuvent contenir des valeurs manquantes :\n",
    "\n",
    "- Une maison avec deux chambres n'aura pas de valeur pour la taille d'une troisième chambre.\n",
    "- Un répondant à une enquête peut choisir de ne pas révéler son revenu.\n",
    "\n",
    "La plupart des bibliothèques d'apprentissage automatique (comme ***Scikit-learn***) renvoient une erreur si vous tentez d'entraîner un modèle sur des données contenant des valeurs manquantes. Il est donc essentiel de choisir une stratégie pour les gérer."
   ]
  },
  {
   "cell_type": "markdown",
   "id": "96784d28-bf34-48cb-9ddb-13cf87b3ad10",
   "metadata": {},
   "source": [
    "## Trois Approches pour Gérer les Valeurs Manquantes\n",
    "### 1. Une Option Simple : Supprimer les Colonnes avec des Valeurs Manquantes\n",
    "- Cette méthode consiste à supprimer complètement les colonnes contenant des valeurs manquantes.\n",
    "- Inconvénient : Si une colonne importante contient seulement quelques valeurs manquantes, vous perdez beaucoup d'informations utiles.\n"
   ]
  },
  {
   "cell_type": "markdown",
   "id": "fa9c56b9-0242-40d2-bb23-fc1cbbc32a70",
   "metadata": {},
   "source": [
    "### 2. Une Meilleure Option : L'Imputation\n",
    "- L'imputation consiste à remplacer les valeurs manquantes par une valeur calculée, comme ***la moyenne*** des autres valeurs de la colonne.\n",
    "- Bien que les valeurs imputées ne soient pas toujours exactes, cette méthode permet souvent d'améliorer la précision du modèle par rapport à la suppression des colonnes."
   ]
  },
  {
   "cell_type": "markdown",
   "id": "e5a2b467-6cf0-49c2-98e5-590033b48ca5",
   "metadata": {},
   "source": [
    "### 3. Une Extension de l’Imputation\n",
    "- Cette méthode combine l’imputation avec une information supplémentaire :\n",
    " Après avoir imputé les valeurs manquantes, on ajoute une colonne qui indique quelles entrées ont été imputées.\n",
    "- Dans certains cas, cela améliore les résultats, mais pas toujours.\n"
   ]
  },
  {
   "cell_type": "markdown",
   "id": "c49928e5-1928-4fb8-b653-c68c813b07da",
   "metadata": {},
   "source": [
    "## Exemple Pratique avec le Jeu de Données Melbourne Housing\n",
    "L'exemple utilise des données de prédiction de prix de maisons en fonction d'attributs comme le nombre de pièces ou la taille du terrain.\n",
    "\n",
    "### Définir une Fonction pour Évaluer les Approches\n",
    "On utilise une fonction appelée ***score_dataset()*** pour mesurer la qualité de chaque approche. Cette fonction retourne **l’erreur absolue moyenne (MAE)** d’un modèle basé sur une forêt aléatoire."
   ]
  },
  {
   "cell_type": "code",
   "execution_count": 155,
   "id": "8347ad13-97b0-4b6d-a474-a43ac6a34d6c",
   "metadata": {},
   "outputs": [
    {
     "name": "stdout",
     "output_type": "stream",
     "text": [
      "Index(['Rooms', 'Price', 'Distance', 'Postcode', 'Bedroom2', 'Bathroom', 'Car',\n",
      "       'Landsize', 'BuildingArea', 'YearBuilt', 'Lattitude', 'Longtitude',\n",
      "       'Propertycount'],\n",
      "      dtype='object')\n"
     ]
    }
   ],
   "source": [
    "import pandas as pd\n",
    "from sklearn.ensemble import RandomForestRegressor\n",
    "from sklearn.model_selection import train_test_split\n",
    "from sklearn.metrics import mean_absolute_error\n",
    "\n",
    "# Charger les données\n",
    "melbourne_file_path = 'melb_data.csv'\n",
    "melbourne_data = pd.read_csv(melbourne_file_path)\n",
    "\n",
    "# Sélection des colonnes numériques pour simplifier\n",
    "numerical_features = melbourne_data.select_dtypes(include=['int64', 'float64'])\n",
    "\n",
    "# Vérifiez que 'SalePrice' est bien une colonne\n",
    "print(numerical_features.columns)"
   ]
  },
  {
   "cell_type": "code",
   "execution_count": 157,
   "id": "89fd6169-4173-4c34-8c9b-e6e6a656ec90",
   "metadata": {},
   "outputs": [],
   "source": [
    "# Diviser en X (prédicteurs) et y (cible)\n",
    "X = numerical_features.drop(columns=['Price'])\n",
    "y = numerical_features['Price']"
   ]
  },
  {
   "cell_type": "code",
   "execution_count": 159,
   "id": "9a923675-b83f-4dbf-8a31-1408bcb29845",
   "metadata": {},
   "outputs": [],
   "source": [
    "# Diviser en données d'entraînement et de validation\n",
    "from sklearn.model_selection import train_test_split\n",
    "X_train, X_valid, y_train, y_valid = train_test_split(X, y, train_size=0.8, test_size=0.2, random_state=0)"
   ]
  },
  {
   "cell_type": "code",
   "execution_count": 161,
   "id": "bd52f435-573e-4b72-adf9-9b343962ffab",
   "metadata": {},
   "outputs": [
    {
     "data": {
      "text/html": [
       "<div>\n",
       "<style scoped>\n",
       "    .dataframe tbody tr th:only-of-type {\n",
       "        vertical-align: middle;\n",
       "    }\n",
       "\n",
       "    .dataframe tbody tr th {\n",
       "        vertical-align: top;\n",
       "    }\n",
       "\n",
       "    .dataframe thead th {\n",
       "        text-align: right;\n",
       "    }\n",
       "</style>\n",
       "<table border=\"1\" class=\"dataframe\">\n",
       "  <thead>\n",
       "    <tr style=\"text-align: right;\">\n",
       "      <th></th>\n",
       "      <th>Id</th>\n",
       "      <th>MSSubClass</th>\n",
       "      <th>LotFrontage</th>\n",
       "      <th>LotArea</th>\n",
       "      <th>OverallQual</th>\n",
       "      <th>OverallCond</th>\n",
       "      <th>YearBuilt</th>\n",
       "      <th>YearRemodAdd</th>\n",
       "      <th>MasVnrArea</th>\n",
       "      <th>BsmtFinSF1</th>\n",
       "      <th>...</th>\n",
       "      <th>GarageArea</th>\n",
       "      <th>WoodDeckSF</th>\n",
       "      <th>OpenPorchSF</th>\n",
       "      <th>EnclosedPorch</th>\n",
       "      <th>3SsnPorch</th>\n",
       "      <th>ScreenPorch</th>\n",
       "      <th>PoolArea</th>\n",
       "      <th>MiscVal</th>\n",
       "      <th>MoSold</th>\n",
       "      <th>YrSold</th>\n",
       "    </tr>\n",
       "  </thead>\n",
       "  <tbody>\n",
       "    <tr>\n",
       "      <th>618</th>\n",
       "      <td>619</td>\n",
       "      <td>20</td>\n",
       "      <td>90.0</td>\n",
       "      <td>11694</td>\n",
       "      <td>9</td>\n",
       "      <td>5</td>\n",
       "      <td>2007</td>\n",
       "      <td>2007</td>\n",
       "      <td>452.0</td>\n",
       "      <td>48</td>\n",
       "      <td>...</td>\n",
       "      <td>774</td>\n",
       "      <td>0</td>\n",
       "      <td>108</td>\n",
       "      <td>0</td>\n",
       "      <td>0</td>\n",
       "      <td>260</td>\n",
       "      <td>0</td>\n",
       "      <td>0</td>\n",
       "      <td>7</td>\n",
       "      <td>2007</td>\n",
       "    </tr>\n",
       "    <tr>\n",
       "      <th>870</th>\n",
       "      <td>871</td>\n",
       "      <td>20</td>\n",
       "      <td>60.0</td>\n",
       "      <td>6600</td>\n",
       "      <td>5</td>\n",
       "      <td>5</td>\n",
       "      <td>1962</td>\n",
       "      <td>1962</td>\n",
       "      <td>0.0</td>\n",
       "      <td>0</td>\n",
       "      <td>...</td>\n",
       "      <td>308</td>\n",
       "      <td>0</td>\n",
       "      <td>0</td>\n",
       "      <td>0</td>\n",
       "      <td>0</td>\n",
       "      <td>0</td>\n",
       "      <td>0</td>\n",
       "      <td>0</td>\n",
       "      <td>8</td>\n",
       "      <td>2009</td>\n",
       "    </tr>\n",
       "    <tr>\n",
       "      <th>92</th>\n",
       "      <td>93</td>\n",
       "      <td>30</td>\n",
       "      <td>80.0</td>\n",
       "      <td>13360</td>\n",
       "      <td>5</td>\n",
       "      <td>7</td>\n",
       "      <td>1921</td>\n",
       "      <td>2006</td>\n",
       "      <td>0.0</td>\n",
       "      <td>713</td>\n",
       "      <td>...</td>\n",
       "      <td>432</td>\n",
       "      <td>0</td>\n",
       "      <td>0</td>\n",
       "      <td>44</td>\n",
       "      <td>0</td>\n",
       "      <td>0</td>\n",
       "      <td>0</td>\n",
       "      <td>0</td>\n",
       "      <td>8</td>\n",
       "      <td>2009</td>\n",
       "    </tr>\n",
       "    <tr>\n",
       "      <th>817</th>\n",
       "      <td>818</td>\n",
       "      <td>20</td>\n",
       "      <td>NaN</td>\n",
       "      <td>13265</td>\n",
       "      <td>8</td>\n",
       "      <td>5</td>\n",
       "      <td>2002</td>\n",
       "      <td>2002</td>\n",
       "      <td>148.0</td>\n",
       "      <td>1218</td>\n",
       "      <td>...</td>\n",
       "      <td>857</td>\n",
       "      <td>150</td>\n",
       "      <td>59</td>\n",
       "      <td>0</td>\n",
       "      <td>0</td>\n",
       "      <td>0</td>\n",
       "      <td>0</td>\n",
       "      <td>0</td>\n",
       "      <td>7</td>\n",
       "      <td>2008</td>\n",
       "    </tr>\n",
       "    <tr>\n",
       "      <th>302</th>\n",
       "      <td>303</td>\n",
       "      <td>20</td>\n",
       "      <td>118.0</td>\n",
       "      <td>13704</td>\n",
       "      <td>7</td>\n",
       "      <td>5</td>\n",
       "      <td>2001</td>\n",
       "      <td>2002</td>\n",
       "      <td>150.0</td>\n",
       "      <td>0</td>\n",
       "      <td>...</td>\n",
       "      <td>843</td>\n",
       "      <td>468</td>\n",
       "      <td>81</td>\n",
       "      <td>0</td>\n",
       "      <td>0</td>\n",
       "      <td>0</td>\n",
       "      <td>0</td>\n",
       "      <td>0</td>\n",
       "      <td>1</td>\n",
       "      <td>2006</td>\n",
       "    </tr>\n",
       "  </tbody>\n",
       "</table>\n",
       "<p>5 rows × 37 columns</p>\n",
       "</div>"
      ],
      "text/plain": [
       "      Id  MSSubClass  LotFrontage  LotArea  OverallQual  OverallCond  \\\n",
       "618  619          20         90.0    11694            9            5   \n",
       "870  871          20         60.0     6600            5            5   \n",
       "92    93          30         80.0    13360            5            7   \n",
       "817  818          20          NaN    13265            8            5   \n",
       "302  303          20        118.0    13704            7            5   \n",
       "\n",
       "     YearBuilt  YearRemodAdd  MasVnrArea  BsmtFinSF1  ...  GarageArea  \\\n",
       "618       2007          2007       452.0          48  ...         774   \n",
       "870       1962          1962         0.0           0  ...         308   \n",
       "92        1921          2006         0.0         713  ...         432   \n",
       "817       2002          2002       148.0        1218  ...         857   \n",
       "302       2001          2002       150.0           0  ...         843   \n",
       "\n",
       "     WoodDeckSF  OpenPorchSF  EnclosedPorch  3SsnPorch  ScreenPorch  PoolArea  \\\n",
       "618           0          108              0          0          260         0   \n",
       "870           0            0              0          0            0         0   \n",
       "92            0            0             44          0            0         0   \n",
       "817         150           59              0          0            0         0   \n",
       "302         468           81              0          0            0         0   \n",
       "\n",
       "     MiscVal  MoSold  YrSold  \n",
       "618        0       7    2007  \n",
       "870        0       8    2009  \n",
       "92         0       8    2009  \n",
       "817        0       7    2008  \n",
       "302        0       1    2006  \n",
       "\n",
       "[5 rows x 37 columns]"
      ]
     },
     "execution_count": 161,
     "metadata": {},
     "output_type": "execute_result"
    }
   ],
   "source": [
    "train_X.head()"
   ]
  },
  {
   "cell_type": "markdown",
   "id": "894791ce-6c1d-440c-bb35-81963c238ebe",
   "metadata": {},
   "source": [
    "Les données sont divisées en un ensemble d'entraînement (80%) et un ensemble de validation (20%).\n",
    "random_state=0 garantit que la division est reproductible."
   ]
  },
  {
   "cell_type": "markdown",
   "id": "477fe33d-4f43-440b-97a4-70f601ce9a1a",
   "metadata": {},
   "source": [
    "### La fonction score_dataset"
   ]
  },
  {
   "cell_type": "code",
   "execution_count": 165,
   "id": "86e2da48-6919-45df-84ae-6dd94c12a667",
   "metadata": {},
   "outputs": [],
   "source": [
    "# Définir la fonction score_dataset\n",
    "from sklearn.ensemble import RandomForestRegressor\n",
    "from sklearn.metrics import mean_absolute_error\n",
    "\n",
    "def score_dataset(X_train, X_valid, y_train, y_valid):\n",
    "    model = forest_model\n",
    "    model.fit(X_train, y_train)\n",
    "    preds = model.predict(X_valid)\n",
    "    return mean_absolute_error(y_valid, preds)"
   ]
  },
  {
   "cell_type": "markdown",
   "id": "78ae7309-04b5-4d86-bf54-bf8419caeb1e",
   "metadata": {},
   "source": [
    "### Approche 1 : Suppression des Colonnes avec des Valeurs Manquantes\n",
    "On identifie les colonnes contenant des valeurs manquantes, puis on les supprime à la fois des ensembles d’entraînement et de validation."
   ]
  },
  {
   "cell_type": "code",
   "execution_count": 168,
   "id": "c8d7867f-3fa4-4089-ae12-5b1fca376a30",
   "metadata": {},
   "outputs": [
    {
     "data": {
      "text/plain": [
       "['LotFrontage', 'MasVnrArea', 'GarageYrBlt']"
      ]
     },
     "execution_count": 168,
     "metadata": {},
     "output_type": "execute_result"
    }
   ],
   "source": [
    "# Identifier les colonnes avec des valeurs manquantes\n",
    "cols_with_missing = [col for col in train_X.columns if train_X[col].isnull().any()]\n",
    "cols_with_missing"
   ]
  },
  {
   "cell_type": "code",
   "execution_count": 170,
   "id": "bb85b45a-a3fe-41eb-95bf-4fb9323ed0af",
   "metadata": {},
   "outputs": [
    {
     "name": "stdout",
     "output_type": "stream",
     "text": [
      "17660.74037671233\n"
     ]
    }
   ],
   "source": [
    "# Supprimer ces colonnes\n",
    "reduced_X_train = train_X.drop(cols_with_missing, axis=1)\n",
    "reduced_X_valid = val_X.drop(cols_with_missing, axis=1)\n",
    "\n",
    "print(score_dataset(reduced_X_train, reduced_X_valid, train_y, val_y))"
   ]
  },
  {
   "cell_type": "markdown",
   "id": "185a70cb-98b3-4a88-8895-2f6a97400232",
   "metadata": {},
   "source": [
    "## Approche 2 : Imputation des Valeurs Manquantes\n",
    "On remplace les valeurs manquantes par la moyenne de chaque colonne à l'aide de ***SimpleImputer***."
   ]
  },
  {
   "cell_type": "code",
   "execution_count": 173,
   "id": "7a536bc3-f73b-4dbf-b738-4692221d0f45",
   "metadata": {},
   "outputs": [
    {
     "name": "stdout",
     "output_type": "stream",
     "text": [
      "168341.16436233255\n"
     ]
    }
   ],
   "source": [
    "from sklearn.impute import SimpleImputer\n",
    "\n",
    "# Appliquer l'imputation\n",
    "my_imputer = SimpleImputer()\n",
    "imputed_X_train = pd.DataFrame(my_imputer.fit_transform(X_train))\n",
    "imputed_X_valid = pd.DataFrame(my_imputer.transform(X_valid))\n",
    "\n",
    "print(score_dataset(imputed_X_train, imputed_X_valid, y_train, y_valid))"
   ]
  },
  {
   "cell_type": "markdown",
   "id": "394287ce-6aea-4b78-b899-9ae4806a97f3",
   "metadata": {},
   "source": [
    "## Approche 3 : Extension de l’Imputation\n",
    "En plus d’imputer les valeurs manquantes, on crée une colonne supplémentaire pour indiquer où ces valeurs ont été imputées."
   ]
  },
  {
   "cell_type": "code",
   "execution_count": 178,
   "id": "f1252880-2541-4721-8dd0-4e57552f6c9d",
   "metadata": {},
   "outputs": [
    {
     "name": "stdout",
     "output_type": "stream",
     "text": [
      "168341.16436233255\n"
     ]
    }
   ],
   "source": [
    "# Ajuste le code pour gérer les colonnes manquantes\n",
    "cols_with_missing = [col for col in cols_with_missing if col in X_train.columns]\n",
    "\n",
    "\n",
    "# Ajouter des colonnes indiquant les valeurs imputées\n",
    "for col in cols_with_missing:\n",
    "    X_train[col + '_was_missing'] = X_train[col].isnull()\n",
    "    X_valid[col + '_was_missing'] = X_valid[col].isnull()\n",
    "\n",
    "# Imputation des données\n",
    "imputed_X_train_plus = pd.DataFrame(my_imputer.fit_transform(X_train))\n",
    "imputed_X_valid_plus = pd.DataFrame(my_imputer.transform(X_valid))\n",
    "\n",
    "print(score_dataset(imputed_X_train_plus, imputed_X_valid_plus, y_train, y_valid))"
   ]
  },
  {
   "cell_type": "code",
   "execution_count": null,
   "id": "767cc730-7b69-475d-b3da-79f2859675e8",
   "metadata": {},
   "outputs": [],
   "source": []
  },
  {
   "cell_type": "code",
   "execution_count": null,
   "id": "bb0370cd-0cda-414b-b511-5f7637d00980",
   "metadata": {},
   "outputs": [],
   "source": []
  },
  {
   "cell_type": "code",
   "execution_count": null,
   "id": "2a167a92-c85e-45b1-9dbd-c1958eb683f6",
   "metadata": {},
   "outputs": [],
   "source": []
  }
 ],
 "metadata": {
  "kernelspec": {
   "display_name": "Python [conda env:base] *",
   "language": "python",
   "name": "conda-base-py"
  },
  "language_info": {
   "codemirror_mode": {
    "name": "ipython",
    "version": 3
   },
   "file_extension": ".py",
   "mimetype": "text/x-python",
   "name": "python",
   "nbconvert_exporter": "python",
   "pygments_lexer": "ipython3",
   "version": "3.12.7"
  }
 },
 "nbformat": 4,
 "nbformat_minor": 5
}
