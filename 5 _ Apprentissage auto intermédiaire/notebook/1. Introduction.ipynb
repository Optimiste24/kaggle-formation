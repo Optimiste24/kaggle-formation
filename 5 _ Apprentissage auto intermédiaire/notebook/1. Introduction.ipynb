{
 "cells": [
  {
   "cell_type": "markdown",
   "id": "d7879d20-30eb-4b2c-9b6d-323cfdc38859",
   "metadata": {},
   "source": [
    "# Introduction \n",
    "Bienvenue dans le cours **\"Apprentissage Automatique Intermédiaire\"** de Kaggle !\n",
    "\n",
    "Si vous avez déjà des bases en apprentissage automatique et que vous souhaitez améliorer rapidement la qualité de vos modèles, ce cours est fait pour vous ! Voici un résumé de ce que vous apprendrez :"
   ]
  },
  {
   "cell_type": "markdown",
   "id": "b3f0e5fe-6632-4953-bddc-fb1cbe78f447",
   "metadata": {},
   "source": [
    "# Objectifs du cours :\n",
    "## 1. Gérer des types de données complexes :\n",
    "- Traiter des valeurs manquantes.\n",
    "- Manipuler des variables catégorielles, courantes dans les ensembles de données réels.\n",
    "\n",
    "## 2. Concevoir des pipelines :\n",
    "- Mettre en place des chaînes automatisées pour améliorer la qualité et la reproductibilité de votre code en apprentissage automatique.\n",
    "\n",
    "## 3. Techniques avancées de validation de modèle :\n",
    "- Apprendre la validation croisée (*cross-validation*), une méthode robuste pour évaluer vos modèles.\n",
    "\n",
    "## 4. Construire des modèles de pointe :\n",
    "- Utiliser XGBoost, un algorithme puissant souvent utilisé dans les compétitions Kaggle pour sa rapidité et son efficacité.\n",
    "\n",
    "## 5. Éviter les erreurs courantes en science des données :\n",
    "- Apprendre à identifier et éviter des problèmes comme la fuite de données (*data leakage*), qui peut biaiser vos modèles."
   ]
  },
  {
   "cell_type": "markdown",
   "id": "8a804883-d56e-40b7-8657-b81e0f41fe48",
   "metadata": {},
   "source": [
    "# Approche pratique :\n",
    "Chaque concept est accompagné d’un exercice pratique avec des données réelles.\n",
    "Vous travaillerez sur des données provenant de la *compétition Housing Prices* sur Kaggle.\n",
    "L’objectif ? Utiliser 79 variables explicatives (comme le type de toiture, le nombre de chambres ou de salles de bain) pour prédire le prix des maisons.\n",
    "Vous soumettrez vos prédictions à la compétition et verrez votre position évoluer dans le classement !"
   ]
  },
  {
   "cell_type": "code",
   "execution_count": null,
   "id": "2e4b5853-3661-4ccc-a463-7e23e42e5919",
   "metadata": {},
   "outputs": [],
   "source": []
  }
 ],
 "metadata": {
  "kernelspec": {
   "display_name": "Python [conda env:.conda-mooc-rr-jupyter]",
   "language": "python",
   "name": "conda-env-.conda-mooc-rr-jupyter-py"
  },
  "language_info": {
   "codemirror_mode": {
    "name": "ipython",
    "version": 3
   },
   "file_extension": ".py",
   "mimetype": "text/x-python",
   "name": "python",
   "nbconvert_exporter": "python",
   "pygments_lexer": "ipython3",
   "version": "3.7.12"
  }
 },
 "nbformat": 4,
 "nbformat_minor": 5
}
