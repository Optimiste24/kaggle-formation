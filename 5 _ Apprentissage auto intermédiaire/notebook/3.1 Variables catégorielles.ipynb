{
 "cells": [
  {
   "cell_type": "markdown",
   "id": "4c0b8ba9-4336-4816-b3b4-cf03f335c355",
   "metadata": {},
   "source": [
    "# Concours sur les prix de vente immobiliers"
   ]
  },
  {
   "cell_type": "code",
   "execution_count": 14,
   "id": "a15d63d4-4707-45fc-b773-113529a58e78",
   "metadata": {},
   "outputs": [],
   "source": [
    "import pandas as pd\n",
    "from sklearn.model_selection import train_test_split\n",
    "\n",
    "# Lire les données\n",
    "X = pd.read_csv('train.csv', index_col='Id') \n",
    "X_test = pd.read_csv('test.csv', index_col='Id')\n",
    "\n",
    "# Supprimer les lignes avec des valeurs manquantes dans la cible, séparer la cible des prédicteurs\n",
    "X.dropna(axis=0, subset=['SalePrice'], inplace=True)\n",
    "y = X.SalePrice\n",
    "X.drop(['SalePrice'], axis=1, inplace=True)\n",
    "\n",
    "# Pour simplifier, nous allons supprimer les colonnes avec des valeurs manquantes\n",
    "cols_with_missing = [col for col in X.columns if X[col].isnull().any()] \n",
    "X.drop(cols_with_missing, axis=1, inplace=True)\n",
    "X_test.drop(cols_with_missing, axis=1, inplace=True)\n",
    "\n",
    "# Séparer l'ensemble de validation de l'ensemble d'entraînement\n",
    "X_train, X_valid, y_train, y_valid = train_test_split(X, y,\n",
    "                                                      train_size=0.8, test_size=0.2,\n",
    "                                                      random_state=0)\n"
   ]
  },
  {
   "cell_type": "markdown",
   "id": "c73c14ea-e016-45bb-a77a-6497856cae5d",
   "metadata": {},
   "source": [
    "## Enquête préleminaire\n",
    "\n",
    "---\n",
    "\n",
    "### 1. Etudes des valeurs manquantes sur les données numériques\n",
    "\n",
    "Nous allons appliquer **l'imputation avec la médiane** pour gérer les valeurs manquantes dans un jeu de données. On utilise la fonction ***SimpleImputer de sklearn*** pour effectuer cette opération. Voici un exemple de code :"
   ]
  },
  {
   "cell_type": "code",
   "execution_count": 19,
   "id": "ec59f07b-24df-4615-8a53-d983f7300c34",
   "metadata": {},
   "outputs": [
    {
     "name": "stdout",
     "output_type": "stream",
     "text": [
      "(1168, 60)\n"
     ]
    }
   ],
   "source": [
    "# Shape of training data (num_rows, num_columns)\n",
    "print(X_train.shape)"
   ]
  },
  {
   "cell_type": "code",
   "execution_count": 29,
   "id": "b3fba0e9-c423-457a-9070-de90918583d6",
   "metadata": {},
   "outputs": [
    {
     "name": "stdout",
     "output_type": "stream",
     "text": [
      "Nombre de valeurs manquantes dans X_train après imputation:\n",
      "MSSubClass       0\n",
      "MSZoning         0\n",
      "LotArea          0\n",
      "Street           0\n",
      "LotShape         0\n",
      "LandContour      0\n",
      "Utilities        0\n",
      "LotConfig        0\n",
      "LandSlope        0\n",
      "Neighborhood     0\n",
      "Condition1       0\n",
      "Condition2       0\n",
      "BldgType         0\n",
      "HouseStyle       0\n",
      "OverallQual      0\n",
      "OverallCond      0\n",
      "YearBuilt        0\n",
      "YearRemodAdd     0\n",
      "RoofStyle        0\n",
      "RoofMatl         0\n",
      "Exterior1st      0\n",
      "Exterior2nd      0\n",
      "ExterQual        0\n",
      "ExterCond        0\n",
      "Foundation       0\n",
      "BsmtFinSF1       0\n",
      "BsmtFinSF2       0\n",
      "BsmtUnfSF        0\n",
      "TotalBsmtSF      0\n",
      "Heating          0\n",
      "HeatingQC        0\n",
      "CentralAir       0\n",
      "1stFlrSF         0\n",
      "2ndFlrSF         0\n",
      "LowQualFinSF     0\n",
      "GrLivArea        0\n",
      "BsmtFullBath     0\n",
      "BsmtHalfBath     0\n",
      "FullBath         0\n",
      "HalfBath         0\n",
      "BedroomAbvGr     0\n",
      "KitchenAbvGr     0\n",
      "KitchenQual      0\n",
      "TotRmsAbvGrd     0\n",
      "Functional       0\n",
      "Fireplaces       0\n",
      "GarageCars       0\n",
      "GarageArea       0\n",
      "PavedDrive       0\n",
      "WoodDeckSF       0\n",
      "OpenPorchSF      0\n",
      "EnclosedPorch    0\n",
      "3SsnPorch        0\n",
      "ScreenPorch      0\n",
      "PoolArea         0\n",
      "MiscVal          0\n",
      "MoSold           0\n",
      "YrSold           0\n",
      "SaleType         0\n",
      "SaleCondition    0\n",
      "dtype: int64\n",
      "\n",
      "Nombre de valeurs manquantes dans X_valid après imputation:\n",
      "MSSubClass       0\n",
      "MSZoning         0\n",
      "LotArea          0\n",
      "Street           0\n",
      "LotShape         0\n",
      "LandContour      0\n",
      "Utilities        0\n",
      "LotConfig        0\n",
      "LandSlope        0\n",
      "Neighborhood     0\n",
      "Condition1       0\n",
      "Condition2       0\n",
      "BldgType         0\n",
      "HouseStyle       0\n",
      "OverallQual      0\n",
      "OverallCond      0\n",
      "YearBuilt        0\n",
      "YearRemodAdd     0\n",
      "RoofStyle        0\n",
      "RoofMatl         0\n",
      "Exterior1st      0\n",
      "Exterior2nd      0\n",
      "ExterQual        0\n",
      "ExterCond        0\n",
      "Foundation       0\n",
      "BsmtFinSF1       0\n",
      "BsmtFinSF2       0\n",
      "BsmtUnfSF        0\n",
      "TotalBsmtSF      0\n",
      "Heating          0\n",
      "HeatingQC        0\n",
      "CentralAir       0\n",
      "1stFlrSF         0\n",
      "2ndFlrSF         0\n",
      "LowQualFinSF     0\n",
      "GrLivArea        0\n",
      "BsmtFullBath     0\n",
      "BsmtHalfBath     0\n",
      "FullBath         0\n",
      "HalfBath         0\n",
      "BedroomAbvGr     0\n",
      "KitchenAbvGr     0\n",
      "KitchenQual      0\n",
      "TotRmsAbvGrd     0\n",
      "Functional       0\n",
      "Fireplaces       0\n",
      "GarageCars       0\n",
      "GarageArea       0\n",
      "PavedDrive       0\n",
      "WoodDeckSF       0\n",
      "OpenPorchSF      0\n",
      "EnclosedPorch    0\n",
      "3SsnPorch        0\n",
      "ScreenPorch      0\n",
      "PoolArea         0\n",
      "MiscVal          0\n",
      "MoSold           0\n",
      "YrSold           0\n",
      "SaleType         0\n",
      "SaleCondition    0\n",
      "dtype: int64\n"
     ]
    }
   ],
   "source": [
    "from sklearn.impute import SimpleImputer\n",
    "\n",
    "# Sélectionner uniquement les colonnes numériques\n",
    "numeric_cols = X_train.select_dtypes(include=['float64', 'int64']).columns\n",
    "\n",
    "# Créer l'objet SimpleImputer avec la stratégie de la médiane\n",
    "imputer = SimpleImputer(strategy='median')\n",
    "\n",
    "# Appliquer l'imputation sur les colonnes numériques du jeu de données d'entraînement\n",
    "X_train[numeric_cols] = imputer.fit_transform(X_train[numeric_cols])\n",
    "\n",
    "# Appliquer l'imputation sur les colonnes numériques du jeu de données de validation\n",
    "X_valid[numeric_cols] = imputer.transform(X_valid[numeric_cols])\n",
    "\n",
    "# Vérification des valeurs manquantes après imputation\n",
    "print(\"Nombre de valeurs manquantes dans X_train après imputation:\")\n",
    "print(X_train.isnull().sum())\n",
    "\n",
    "print(\"\\nNombre de valeurs manquantes dans X_valid après imputation:\")\n",
    "print(X_valid.isnull().sum())\n"
   ]
  },
  {
   "cell_type": "markdown",
   "id": "3dc3334e-7b1d-4474-9a7f-2ef8e8a35edf",
   "metadata": {},
   "source": [
    "### 2. Etudes des variables catégorielles\n",
    "L'étude des variables catégorielles est une étape cruciale avant de les utiliser pour construire un modèle prédictif. \n",
    "\n",
    "---\n",
    "\n",
    "#### 2.1. Identifier les variables catégorielles\n",
    "Les variables catégorielles sont celles qui prennent des valeurs discrètes et peuvent être de type texte ou numérotées. Vous pouvez les identifier dans votre jeu de données en utilisant ***select_dtypes*** pour extraire les colonnes de type ***object ou category***."
   ]
  },
  {
   "cell_type": "code",
   "execution_count": 36,
   "id": "3ba8e063-b706-4f19-b68c-259db0cb4e06",
   "metadata": {},
   "outputs": [
    {
     "name": "stdout",
     "output_type": "stream",
     "text": [
      "Index(['MSZoning', 'Street', 'LotShape', 'LandContour', 'Utilities',\n",
      "       'LotConfig', 'LandSlope', 'Neighborhood', 'Condition1', 'Condition2',\n",
      "       'BldgType', 'HouseStyle', 'RoofStyle', 'RoofMatl', 'Exterior1st',\n",
      "       'Exterior2nd', 'ExterQual', 'ExterCond', 'Foundation', 'Heating',\n",
      "       'HeatingQC', 'CentralAir', 'KitchenQual', 'Functional', 'PavedDrive',\n",
      "       'SaleType', 'SaleCondition'],\n",
      "      dtype='object')\n"
     ]
    }
   ],
   "source": [
    "# Identifier les variables catégorielles\n",
    "categorical_cols = X_train.select_dtypes(include=['object']).columns\n",
    "print(categorical_cols)"
   ]
  },
  {
   "cell_type": "markdown",
   "id": "a1febbba-2b46-4c63-ac79-d8aaec52ae3e",
   "metadata": {},
   "source": [
    "---\n",
    "#### 2.2. Analyser la cardinalité\n",
    "La cardinalité d'une variable catégorielle fait référence au nombre de valeurs uniques qu'elle peut prendre. Si une colonne a une grande cardinalité, l'encodage de cette variable (par exemple, via **l'encodage one-hot**) peut entraîner une explosion du nombre de caractéristiques, ce qui peut rendre la modélisation plus complexe.\n",
    "\n",
    "On utilise ***nunique()*** pour obtenir la cardinalité des variables :"
   ]
  },
  {
   "cell_type": "code",
   "execution_count": 40,
   "id": "46b1e24b-3545-48c6-8a8d-82de4e3cc62a",
   "metadata": {},
   "outputs": [
    {
     "name": "stdout",
     "output_type": "stream",
     "text": [
      "MSZoning          5\n",
      "Street            2\n",
      "LotShape          4\n",
      "LandContour       4\n",
      "Utilities         2\n",
      "LotConfig         5\n",
      "LandSlope         3\n",
      "Neighborhood     25\n",
      "Condition1        9\n",
      "Condition2        6\n",
      "BldgType          5\n",
      "HouseStyle        8\n",
      "RoofStyle         6\n",
      "RoofMatl          7\n",
      "Exterior1st      15\n",
      "Exterior2nd      16\n",
      "ExterQual         4\n",
      "ExterCond         5\n",
      "Foundation        6\n",
      "Heating           6\n",
      "HeatingQC         5\n",
      "CentralAir        2\n",
      "KitchenQual       4\n",
      "Functional        6\n",
      "PavedDrive        3\n",
      "SaleType          9\n",
      "SaleCondition     6\n",
      "dtype: int64\n"
     ]
    }
   ],
   "source": [
    "# Afficher la cardinalité des variables catégorielles\n",
    "cardinality = X_train[categorical_cols].nunique()\n",
    "print(cardinality)"
   ]
  },
  {
   "cell_type": "markdown",
   "id": "ba966f67-290f-442c-a719-bafa4ec4e685",
   "metadata": {},
   "source": [
    "---\n",
    "#### 2.2.1. Comparer les valeurs uniques dans les colonnes catégorielles\n",
    "Pour chaque colonne catégorielle, nous allons comparer les valeurs uniques dans l'ensemble d'entraînement (X_train) et l'ensemble de validation (X_valid).\n",
    "\n",
    "Voici le code pour le faire :"
   ]
  },
  {
   "cell_type": "code",
   "execution_count": 46,
   "id": "df9bc36b-665a-4f3e-aec3-04388cf637cd",
   "metadata": {},
   "outputs": [
    {
     "name": "stdout",
     "output_type": "stream",
     "text": [
      "Colonne: Utilities\n",
      "Valeurs uniques uniquement dans l'entraînement: {'NoSeWa'}\n",
      "Valeurs uniques uniquement dans la validation: set()\n",
      "--------------------------------------------------\n",
      "Colonne: LandSlope\n",
      "Valeurs uniques uniquement dans l'entraînement: {'Sev'}\n",
      "Valeurs uniques uniquement dans la validation: set()\n",
      "--------------------------------------------------\n",
      "Colonne: Neighborhood\n",
      "Valeurs uniques uniquement dans l'entraînement: {'Blueste'}\n",
      "Valeurs uniques uniquement dans la validation: set()\n",
      "--------------------------------------------------\n",
      "Colonne: Condition1\n",
      "Valeurs uniques uniquement dans l'entraînement: {'RRNe'}\n",
      "Valeurs uniques uniquement dans la validation: set()\n",
      "--------------------------------------------------\n",
      "Colonne: Condition2\n",
      "Valeurs uniques uniquement dans l'entraînement: {'RRAe', 'PosA'}\n",
      "Valeurs uniques uniquement dans la validation: {'RRNn', 'RRAn'}\n",
      "--------------------------------------------------\n",
      "Colonne: RoofStyle\n",
      "Valeurs uniques uniquement dans l'entraînement: {'Shed'}\n",
      "Valeurs uniques uniquement dans la validation: set()\n",
      "--------------------------------------------------\n",
      "Colonne: RoofMatl\n",
      "Valeurs uniques uniquement dans l'entraînement: {'Roll', 'Metal', 'Membran', 'WdShake'}\n",
      "Valeurs uniques uniquement dans la validation: {'ClyTile'}\n",
      "--------------------------------------------------\n",
      "Colonne: Exterior1st\n",
      "Valeurs uniques uniquement dans l'entraînement: {'ImStucc', 'Stone', 'CBlock', 'AsphShn'}\n",
      "Valeurs uniques uniquement dans la validation: set()\n",
      "--------------------------------------------------\n",
      "Colonne: Exterior2nd\n",
      "Valeurs uniques uniquement dans l'entraînement: {'CBlock', 'Other'}\n",
      "Valeurs uniques uniquement dans la validation: set()\n",
      "--------------------------------------------------\n",
      "Colonne: ExterCond\n",
      "Valeurs uniques uniquement dans l'entraînement: {'Ex', 'Po'}\n",
      "Valeurs uniques uniquement dans la validation: set()\n",
      "--------------------------------------------------\n",
      "Colonne: Foundation\n",
      "Valeurs uniques uniquement dans l'entraînement: {'Stone'}\n",
      "Valeurs uniques uniquement dans la validation: set()\n",
      "--------------------------------------------------\n",
      "Colonne: Heating\n",
      "Valeurs uniques uniquement dans l'entraînement: {'Grav', 'Floor', 'OthW'}\n",
      "Valeurs uniques uniquement dans la validation: set()\n",
      "--------------------------------------------------\n",
      "Colonne: HeatingQC\n",
      "Valeurs uniques uniquement dans l'entraînement: {'Po'}\n",
      "Valeurs uniques uniquement dans la validation: set()\n",
      "--------------------------------------------------\n",
      "Colonne: Functional\n",
      "Valeurs uniques uniquement dans l'entraînement: set()\n",
      "Valeurs uniques uniquement dans la validation: {'Sev'}\n",
      "--------------------------------------------------\n",
      "Colonne: SaleType\n",
      "Valeurs uniques uniquement dans l'entraînement: {'ConLw'}\n",
      "Valeurs uniques uniquement dans la validation: set()\n",
      "--------------------------------------------------\n"
     ]
    }
   ],
   "source": [
    "# Comparer les valeurs uniques des variables catégorielles entre l'ensemble d'entraînement et l'ensemble de validation\n",
    "for col in categorical_cols:\n",
    "    train_unique = set(X_train[col].unique())\n",
    "    valid_unique = set(X_valid[col].unique())\n",
    "    \n",
    "    # Trouver les différences\n",
    "    train_only = train_unique - valid_unique\n",
    "    valid_only = valid_unique - train_unique\n",
    "    \n",
    "    if train_only or valid_only:\n",
    "        print(f\"Colonne: {col}\")\n",
    "        print(f\"Valeurs uniques uniquement dans l'entraînement: {train_only}\")\n",
    "        print(f\"Valeurs uniques uniquement dans la validation: {valid_only}\")\n",
    "        print(\"-\" * 50)"
   ]
  },
  {
   "cell_type": "markdown",
   "id": "07039dd8-8d86-4022-8664-451161dd7c43",
   "metadata": {},
   "source": [
    "**Problèmes potentiels** : Certaines colonnes de l'ensemble d'entraînement contiennent des valeurs uniques absentes dans l'ensemble de validation. Par exemple, les colonnes Utilities, LandSlope, Neighborhood, etc., contiennent des valeurs uniques qui n'apparaissent pas dans l'ensemble de validation.\n",
    "\n",
    "---\n",
    "\n",
    "#### 2.2.2. Ajout de la catégorie \"UNKNOWN\""
   ]
  },
  {
   "cell_type": "code",
   "execution_count": 51,
   "id": "61005fe1-8045-4dbd-9aaa-c10c179ae041",
   "metadata": {},
   "outputs": [
    {
     "name": "stdout",
     "output_type": "stream",
     "text": [
      "Colonne: MSZoning\n",
      "Valeurs uniques dans l'entraînement: {'RL', 'C (all)', 'RM', 'FV', 'RH'}\n",
      "Valeurs uniques dans la validation: {'RL', 'C (all)', 'RM', 'FV', 'RH'}\n",
      "--------------------------------------------------\n",
      "Colonne: Street\n",
      "Valeurs uniques dans l'entraînement: {'Pave', 'Grvl'}\n",
      "Valeurs uniques dans la validation: {'Pave', 'Grvl'}\n",
      "--------------------------------------------------\n",
      "Colonne: LotShape\n",
      "Valeurs uniques dans l'entraînement: {'Reg', 'IR1', 'IR2', 'IR3'}\n",
      "Valeurs uniques dans la validation: {'Reg', 'IR1', 'IR2', 'IR3'}\n",
      "--------------------------------------------------\n",
      "Colonne: LandContour\n",
      "Valeurs uniques dans l'entraînement: {'Lvl', 'Low', 'Bnk', 'HLS'}\n",
      "Valeurs uniques dans la validation: {'Lvl', 'Low', 'Bnk', 'HLS'}\n",
      "--------------------------------------------------\n",
      "Colonne: Utilities\n",
      "Valeurs uniques dans l'entraînement: {'UNKNOWN', 'AllPub'}\n",
      "Valeurs uniques dans la validation: {'AllPub'}\n",
      "--------------------------------------------------\n",
      "Colonne: LotConfig\n",
      "Valeurs uniques dans l'entraînement: {'Inside', 'Corner', 'FR2', 'FR3', 'CulDSac'}\n",
      "Valeurs uniques dans la validation: {'Inside', 'Corner', 'FR2', 'FR3', 'CulDSac'}\n",
      "--------------------------------------------------\n",
      "Colonne: LandSlope\n",
      "Valeurs uniques dans l'entraînement: {'UNKNOWN', 'Gtl', 'Mod'}\n",
      "Valeurs uniques dans la validation: {'Gtl', 'Mod'}\n",
      "--------------------------------------------------\n",
      "Colonne: Neighborhood\n",
      "Valeurs uniques dans l'entraînement: {'UNKNOWN', 'OldTown', 'Gilbert', 'SWISU', 'Edwards', 'Crawfor', 'Mitchel', 'NPkVill', 'IDOTRR', 'StoneBr', 'NWAmes', 'NridgHt', 'ClearCr', 'BrDale', 'NoRidge', 'Somerst', 'BrkSide', 'Blmngtn', 'Sawyer', 'CollgCr', 'SawyerW', 'MeadowV', 'NAmes', 'Timber', 'Veenker'}\n",
      "Valeurs uniques dans la validation: {'OldTown', 'Gilbert', 'SWISU', 'Edwards', 'Crawfor', 'Mitchel', 'NPkVill', 'IDOTRR', 'StoneBr', 'NWAmes', 'NridgHt', 'ClearCr', 'BrDale', 'NoRidge', 'Somerst', 'BrkSide', 'Blmngtn', 'Sawyer', 'CollgCr', 'SawyerW', 'MeadowV', 'NAmes', 'Timber', 'Veenker'}\n",
      "--------------------------------------------------\n",
      "Colonne: Condition1\n",
      "Valeurs uniques dans l'entraînement: {'UNKNOWN', 'Feedr', 'RRAe', 'RRNn', 'Norm', 'PosN', 'Artery', 'PosA', 'RRAn'}\n",
      "Valeurs uniques dans la validation: {'Feedr', 'RRAe', 'Norm', 'PosN', 'Artery', 'PosA', 'RRNn', 'RRAn'}\n",
      "--------------------------------------------------\n",
      "Colonne: Condition2\n",
      "Valeurs uniques dans l'entraînement: {'UNKNOWN', 'Feedr', 'Norm', 'PosN', 'Artery'}\n",
      "Valeurs uniques dans la validation: {'UNKNOWN', 'Feedr', 'Norm', 'PosN', 'Artery'}\n",
      "--------------------------------------------------\n",
      "Colonne: BldgType\n",
      "Valeurs uniques dans l'entraînement: {'Twnhs', '2fmCon', 'TwnhsE', '1Fam', 'Duplex'}\n",
      "Valeurs uniques dans la validation: {'Twnhs', '2fmCon', 'TwnhsE', '1Fam', 'Duplex'}\n",
      "--------------------------------------------------\n",
      "Colonne: HouseStyle\n",
      "Valeurs uniques dans l'entraînement: {'1.5Fin', '1Story', 'SFoyer', '2.5Unf', '1.5Unf', '2.5Fin', 'SLvl', '2Story'}\n",
      "Valeurs uniques dans la validation: {'1.5Fin', '1Story', 'SFoyer', '2.5Unf', '1.5Unf', '2.5Fin', 'SLvl', '2Story'}\n",
      "--------------------------------------------------\n",
      "Colonne: RoofStyle\n",
      "Valeurs uniques dans l'entraînement: {'UNKNOWN', 'Hip', 'Mansard', 'Gambrel', 'Gable', 'Flat'}\n",
      "Valeurs uniques dans la validation: {'Hip', 'Gambrel', 'Mansard', 'Gable', 'Flat'}\n",
      "--------------------------------------------------\n",
      "Colonne: RoofMatl\n",
      "Valeurs uniques dans l'entraînement: {'UNKNOWN', 'Tar&Grv', 'WdShngl', 'CompShg'}\n",
      "Valeurs uniques dans la validation: {'UNKNOWN', 'Tar&Grv', 'WdShngl', 'CompShg'}\n",
      "--------------------------------------------------\n",
      "Colonne: Exterior1st\n",
      "Valeurs uniques dans l'entraînement: {'Plywood', 'UNKNOWN', 'Wd Sdng', 'Stucco', 'VinylSd', 'BrkFace', 'AsbShng', 'CemntBd', 'MetalSd', 'WdShing', 'HdBoard', 'BrkComm'}\n",
      "Valeurs uniques dans la validation: {'Plywood', 'Wd Sdng', 'Stucco', 'VinylSd', 'BrkFace', 'AsbShng', 'CemntBd', 'MetalSd', 'WdShing', 'HdBoard', 'BrkComm'}\n",
      "--------------------------------------------------\n",
      "Colonne: Exterior2nd\n",
      "Valeurs uniques dans l'entraînement: {'Plywood', 'Wd Shng', 'Wd Sdng', 'Stucco', 'UNKNOWN', 'VinylSd', 'BrkFace', 'AsbShng', 'AsphShn', 'ImStucc', 'MetalSd', 'CmentBd', 'Brk Cmn', 'HdBoard', 'Stone'}\n",
      "Valeurs uniques dans la validation: {'Plywood', 'Wd Shng', 'Wd Sdng', 'Stucco', 'VinylSd', 'BrkFace', 'AsbShng', 'ImStucc', 'AsphShn', 'MetalSd', 'CmentBd', 'Brk Cmn', 'Stone', 'HdBoard'}\n",
      "--------------------------------------------------\n",
      "Colonne: ExterQual\n",
      "Valeurs uniques dans l'entraînement: {'Ex', 'Fa', 'Gd', 'TA'}\n",
      "Valeurs uniques dans la validation: {'Ex', 'Fa', 'Gd', 'TA'}\n",
      "--------------------------------------------------\n",
      "Colonne: ExterCond\n",
      "Valeurs uniques dans l'entraînement: {'UNKNOWN', 'Fa', 'Gd', 'TA'}\n",
      "Valeurs uniques dans la validation: {'Fa', 'Gd', 'TA'}\n",
      "--------------------------------------------------\n",
      "Colonne: Foundation\n",
      "Valeurs uniques dans l'entraînement: {'PConc', 'UNKNOWN', 'Slab', 'CBlock', 'Wood', 'BrkTil'}\n",
      "Valeurs uniques dans la validation: {'PConc', 'Slab', 'CBlock', 'Wood', 'BrkTil'}\n",
      "--------------------------------------------------\n",
      "Colonne: Heating\n",
      "Valeurs uniques dans l'entraînement: {'UNKNOWN', 'GasW', 'Wall', 'GasA'}\n",
      "Valeurs uniques dans la validation: {'GasW', 'Wall', 'GasA'}\n",
      "--------------------------------------------------\n",
      "Colonne: HeatingQC\n",
      "Valeurs uniques dans l'entraînement: {'UNKNOWN', 'Fa', 'TA', 'Gd', 'Ex'}\n",
      "Valeurs uniques dans la validation: {'Ex', 'Fa', 'Gd', 'TA'}\n",
      "--------------------------------------------------\n",
      "Colonne: CentralAir\n",
      "Valeurs uniques dans l'entraînement: {'N', 'Y'}\n",
      "Valeurs uniques dans la validation: {'N', 'Y'}\n",
      "--------------------------------------------------\n",
      "Colonne: KitchenQual\n",
      "Valeurs uniques dans l'entraînement: {'Ex', 'Fa', 'Gd', 'TA'}\n",
      "Valeurs uniques dans la validation: {'Ex', 'Fa', 'Gd', 'TA'}\n",
      "--------------------------------------------------\n",
      "Colonne: Functional\n",
      "Valeurs uniques dans l'entraînement: {'Min1', 'Mod', 'Maj1', 'Min2', 'Maj2', 'Typ'}\n",
      "Valeurs uniques dans la validation: {'UNKNOWN', 'Min1', 'Maj1', 'Mod', 'Min2', 'Maj2', 'Typ'}\n",
      "--------------------------------------------------\n",
      "Colonne: PavedDrive\n",
      "Valeurs uniques dans l'entraînement: {'N', 'P', 'Y'}\n",
      "Valeurs uniques dans la validation: {'N', 'P', 'Y'}\n",
      "--------------------------------------------------\n",
      "Colonne: SaleType\n",
      "Valeurs uniques dans l'entraînement: {'UNKNOWN', 'COD', 'WD', 'New', 'CWD', 'ConLI', 'ConLD', 'Oth', 'Con'}\n",
      "Valeurs uniques dans la validation: {'COD', 'WD', 'New', 'CWD', 'ConLI', 'ConLD', 'Oth', 'Con'}\n",
      "--------------------------------------------------\n",
      "Colonne: SaleCondition\n",
      "Valeurs uniques dans l'entraînement: {'Alloca', 'Family', 'Abnorml', 'Normal', 'AdjLand', 'Partial'}\n",
      "Valeurs uniques dans la validation: {'Alloca', 'Family', 'Abnorml', 'Normal', 'AdjLand', 'Partial'}\n",
      "--------------------------------------------------\n"
     ]
    }
   ],
   "source": [
    "import pandas as pd\n",
    "\n",
    "# Remplacer les valeurs uniques présentes dans l'entraînement mais pas dans la validation par \"UNKNOWN\"\n",
    "for col in X_train.select_dtypes(include=['object']).columns:\n",
    "    train_unique = set(X_train[col].unique())\n",
    "    valid_unique = set(X_valid[col].unique())\n",
    "    \n",
    "    # Valeurs uniquement présentes dans l'entraînement\n",
    "    unique_in_train = train_unique - valid_unique\n",
    "    \n",
    "    # Remplacer les valeurs uniques dans l'entraînement par \"UNKNOWN\"\n",
    "    if unique_in_train:\n",
    "        X_train[col] = X_train[col].replace(unique_in_train, 'UNKNOWN')\n",
    "    \n",
    "    # Valeurs uniquement présentes dans la validation\n",
    "    unique_in_valid = valid_unique - train_unique\n",
    "    \n",
    "    # Remplacer les valeurs uniques dans la validation par \"UNKNOWN\"\n",
    "    if unique_in_valid:\n",
    "        X_valid[col] = X_valid[col].replace(unique_in_valid, 'UNKNOWN')\n",
    "\n",
    "# Vérifier les valeurs uniques après modification\n",
    "for col in X_train.select_dtypes(include=['object']).columns:\n",
    "    print(f\"Colonne: {col}\")\n",
    "    print(\"Valeurs uniques dans l'entraînement:\", set(X_train[col].unique()))\n",
    "    print(\"Valeurs uniques dans la validation:\", set(X_valid[col].unique()))\n",
    "    print(\"-\" * 50)\n"
   ]
  },
  {
   "cell_type": "markdown",
   "id": "26b4f4d2-d469-40c7-86ce-7237d78815f4",
   "metadata": {},
   "source": [
    "---\n",
    "\n",
    "## 3. Encodage One Hot\n",
    "Nous utiliserons l'encodage One-Hot pour transformer ces variables en variables binaires."
   ]
  },
  {
   "cell_type": "code",
   "execution_count": 58,
   "id": "bd8d3261-d865-4554-8302-bb04d411957e",
   "metadata": {},
   "outputs": [
    {
     "name": "stdout",
     "output_type": "stream",
     "text": [
      "     MSSubClass  LotArea  OverallQual  OverallCond  YearBuilt  YearRemodAdd  \\\n",
      "Id                                                                            \n",
      "619        20.0  11694.0          9.0          5.0     2007.0        2007.0   \n",
      "871        20.0   6600.0          5.0          5.0     1962.0        1962.0   \n",
      "93         30.0  13360.0          5.0          7.0     1921.0        2006.0   \n",
      "818        20.0  13265.0          8.0          5.0     2002.0        2002.0   \n",
      "303        20.0  13704.0          7.0          5.0     2001.0        2002.0   \n",
      "\n",
      "     BsmtFinSF1  BsmtFinSF2  BsmtUnfSF  TotalBsmtSF  ...  SaleType_New  \\\n",
      "Id                                                   ...                 \n",
      "619        48.0         0.0     1774.0       1822.0  ...           1.0   \n",
      "871         0.0         0.0      894.0        894.0  ...           0.0   \n",
      "93        713.0         0.0      163.0        876.0  ...           0.0   \n",
      "818      1218.0         0.0      350.0       1568.0  ...           0.0   \n",
      "303         0.0         0.0     1541.0       1541.0  ...           0.0   \n",
      "\n",
      "     SaleType_Oth  SaleType_UNKNOWN  SaleType_WD  SaleCondition_Abnorml  \\\n",
      "Id                                                                        \n",
      "619           0.0               0.0          0.0                    0.0   \n",
      "871           0.0               0.0          1.0                    0.0   \n",
      "93            0.0               0.0          1.0                    0.0   \n",
      "818           0.0               0.0          1.0                    0.0   \n",
      "303           0.0               0.0          1.0                    0.0   \n",
      "\n",
      "     SaleCondition_AdjLand  SaleCondition_Alloca  SaleCondition_Family  \\\n",
      "Id                                                                       \n",
      "619                    0.0                   0.0                   0.0   \n",
      "871                    0.0                   0.0                   0.0   \n",
      "93                     0.0                   0.0                   0.0   \n",
      "818                    0.0                   0.0                   0.0   \n",
      "303                    0.0                   0.0                   0.0   \n",
      "\n",
      "     SaleCondition_Normal  SaleCondition_Partial  \n",
      "Id                                                \n",
      "619                   0.0                    1.0  \n",
      "871                   1.0                    0.0  \n",
      "93                    1.0                    0.0  \n",
      "818                   1.0                    0.0  \n",
      "303                   1.0                    0.0  \n",
      "\n",
      "[5 rows x 200 columns]\n",
      "     MSSubClass  LotArea  OverallQual  OverallCond  YearBuilt  YearRemodAdd  \\\n",
      "Id                                                                            \n",
      "530        20.0  32668.0          6.0          3.0     1957.0        1975.0   \n",
      "492        50.0   9490.0          6.0          7.0     1941.0        1950.0   \n",
      "460        50.0   7015.0          5.0          4.0     1950.0        1950.0   \n",
      "280        60.0  10005.0          7.0          5.0     1977.0        1977.0   \n",
      "656       160.0   1680.0          6.0          5.0     1971.0        1971.0   \n",
      "\n",
      "     BsmtFinSF1  BsmtFinSF2  BsmtUnfSF  TotalBsmtSF  ...  SaleType_New  \\\n",
      "Id                                                   ...                 \n",
      "530      1219.0         0.0      816.0       2035.0  ...           0.0   \n",
      "492       403.0       165.0      238.0        806.0  ...           0.0   \n",
      "460       185.0         0.0      524.0        709.0  ...           0.0   \n",
      "280       392.0         0.0      768.0       1160.0  ...           0.0   \n",
      "656         0.0         0.0      525.0        525.0  ...           0.0   \n",
      "\n",
      "     SaleType_Oth  SaleType_UNKNOWN  SaleType_WD  SaleCondition_Abnorml  \\\n",
      "Id                                                                        \n",
      "530           0.0               0.0          1.0                    0.0   \n",
      "492           0.0               0.0          1.0                    0.0   \n",
      "460           0.0               0.0          1.0                    0.0   \n",
      "280           0.0               0.0          1.0                    0.0   \n",
      "656           0.0               0.0          1.0                    0.0   \n",
      "\n",
      "     SaleCondition_AdjLand  SaleCondition_Alloca  SaleCondition_Family  \\\n",
      "Id                                                                       \n",
      "530                    0.0                   1.0                   0.0   \n",
      "492                    0.0                   0.0                   0.0   \n",
      "460                    0.0                   0.0                   0.0   \n",
      "280                    0.0                   0.0                   0.0   \n",
      "656                    0.0                   0.0                   1.0   \n",
      "\n",
      "     SaleCondition_Normal  SaleCondition_Partial  \n",
      "Id                                                \n",
      "530                   0.0                    0.0  \n",
      "492                   1.0                    0.0  \n",
      "460                   1.0                    0.0  \n",
      "280                   1.0                    0.0  \n",
      "656                   0.0                    0.0  \n",
      "\n",
      "[5 rows x 200 columns]\n"
     ]
    }
   ],
   "source": [
    "from sklearn.preprocessing import OneHotEncoder\n",
    "\n",
    "# Sélectionner les colonnes catégorielles\n",
    "categorical_cols = X_train.select_dtypes(include=['object']).columns\n",
    "\n",
    "# Initialiser l'encodeur OneHot\n",
    "encoder = OneHotEncoder(handle_unknown='ignore', sparse_output=False)\n",
    "\n",
    "# Appliquer l'encodage sur les colonnes catégorielles de l'entraînement et de la validation\n",
    "X_train_encoded = encoder.fit_transform(X_train[categorical_cols])\n",
    "X_valid_encoded = encoder.transform(X_valid[categorical_cols])\n",
    "\n",
    "# Convertir les résultats encodés en DataFrame avec les noms des colonnes appropriés\n",
    "encoded_columns = encoder.get_feature_names_out(categorical_cols)\n",
    "X_train_encoded_df = pd.DataFrame(X_train_encoded, columns=encoded_columns, index=X_train.index)\n",
    "X_valid_encoded_df = pd.DataFrame(X_valid_encoded, columns=encoded_columns, index=X_valid.index)\n",
    "\n",
    "# Ajouter les colonnes encodées aux autres variables non catégorielles\n",
    "X_train_final = pd.concat([X_train.drop(categorical_cols, axis=1), X_train_encoded_df], axis=1)\n",
    "X_valid_final = pd.concat([X_valid.drop(categorical_cols, axis=1), X_valid_encoded_df], axis=1)\n",
    "\n",
    "# Vérifier les premières lignes du jeu de données final\n",
    "print(X_train_final.head())\n",
    "print(X_valid_final.head())"
   ]
  },
  {
   "cell_type": "markdown",
   "id": "9392aba5-cba2-410f-9518-1edd816dbdd4",
   "metadata": {},
   "source": [
    "**Vérifier les colonnes non numériques** : Identifiez les colonnes qui ne sont pas numériques dans vos ensembles de données."
   ]
  },
  {
   "cell_type": "code",
   "execution_count": 71,
   "id": "55aabd58-3684-417e-a5bd-bb44abe79cfc",
   "metadata": {},
   "outputs": [
    {
     "name": "stdout",
     "output_type": "stream",
     "text": [
      "Colonnes non numériques dans X_train: Index(['MSZoning', 'Street', 'LotShape', 'LandContour', 'Utilities',\n",
      "       'LotConfig', 'LandSlope', 'Neighborhood', 'Condition1', 'Condition2',\n",
      "       'BldgType', 'HouseStyle', 'RoofStyle', 'RoofMatl', 'Exterior1st',\n",
      "       'Exterior2nd', 'ExterQual', 'ExterCond', 'Foundation', 'Heating',\n",
      "       'HeatingQC', 'CentralAir', 'KitchenQual', 'Functional', 'PavedDrive',\n",
      "       'SaleType', 'SaleCondition'],\n",
      "      dtype='object')\n",
      "Colonnes non numériques dans X_valid: Index(['MSZoning', 'Street', 'LotShape', 'LandContour', 'Utilities',\n",
      "       'LotConfig', 'LandSlope', 'Neighborhood', 'Condition1', 'Condition2',\n",
      "       'BldgType', 'HouseStyle', 'RoofStyle', 'RoofMatl', 'Exterior1st',\n",
      "       'Exterior2nd', 'ExterQual', 'ExterCond', 'Foundation', 'Heating',\n",
      "       'HeatingQC', 'CentralAir', 'KitchenQual', 'Functional', 'PavedDrive',\n",
      "       'SaleType', 'SaleCondition'],\n",
      "      dtype='object')\n"
     ]
    }
   ],
   "source": [
    "non_numeric_columns_train = X_train.select_dtypes(include=['object']).columns\n",
    "non_numeric_columns_valid = X_valid.select_dtypes(include=['object']).columns\n",
    "\n",
    "print(\"Colonnes non numériques dans X_train:\", non_numeric_columns_train)\n",
    "print(\"Colonnes non numériques dans X_valid:\", non_numeric_columns_valid)\n"
   ]
  },
  {
   "cell_type": "code",
   "execution_count": 73,
   "id": "0711042a-1216-44d9-9b21-2a65e93b630e",
   "metadata": {},
   "outputs": [],
   "source": [
    "# Refaire un encodage one-hot cohérent\n",
    "full_data = pd.concat([X_train, X_valid], keys=['train', 'valid'])\n",
    "full_data_encoded = pd.get_dummies(full_data)\n",
    "\n",
    "# Séparer les ensembles après encodage\n",
    "X_train = full_data_encoded.loc['train']\n",
    "X_valid = full_data_encoded.loc['valid']\n"
   ]
  },
  {
   "cell_type": "code",
   "execution_count": 75,
   "id": "34664b8c-07f3-4202-a12b-891348b481ea",
   "metadata": {},
   "outputs": [
    {
     "name": "stdout",
     "output_type": "stream",
     "text": [
      "Colonnes manquantes dans X_train: set()\n",
      "Colonnes manquantes dans X_valid: set()\n"
     ]
    }
   ],
   "source": [
    "train_columns = set(X_train.columns)\n",
    "valid_columns = set(X_valid.columns)\n",
    "missing_in_train = valid_columns - train_columns\n",
    "missing_in_valid = train_columns - valid_columns\n",
    "\n",
    "print(\"Colonnes manquantes dans X_train:\", missing_in_train)\n",
    "print(\"Colonnes manquantes dans X_valid:\", missing_in_valid)\n"
   ]
  },
  {
   "cell_type": "markdown",
   "id": "5fad4dfb-733a-4716-9395-54b219cb76f5",
   "metadata": {},
   "source": [
    "**Ajoutez les colonnes manquantes avec des valeurs par défaut (0)** :"
   ]
  },
  {
   "cell_type": "code",
   "execution_count": 80,
   "id": "41e6388b-03cb-4eef-bdf1-e993946f727e",
   "metadata": {},
   "outputs": [],
   "source": [
    "for col in missing_in_train:\n",
    "    X_train[col] = 0\n",
    "for col in missing_in_valid:\n",
    "    X_valid[col] = 0\n",
    "\n",
    "# Réaligner les colonnes\n",
    "X_train = X_train[X_valid.columns]\n"
   ]
  },
  {
   "cell_type": "code",
   "execution_count": null,
   "id": "ccf2760c-1841-4e1d-873e-b0e23c76cf66",
   "metadata": {},
   "outputs": [],
   "source": []
  },
  {
   "cell_type": "code",
   "execution_count": null,
   "id": "0820a35d-c60d-410c-8d71-0c8ca55c4865",
   "metadata": {},
   "outputs": [],
   "source": []
  },
  {
   "cell_type": "markdown",
   "id": "ec974f7b-79d7-4e7a-88cb-7b375b764e54",
   "metadata": {},
   "source": [
    "---\n",
    "\n",
    "## 4. Evaluation du modèle\n",
    "\n",
    "Voici comment procéder avec Random Forest et en utilisant MAE (Mean Absolute Error) comme métrique d'évaluation. Nous allons suivre un processus étape par étape :"
   ]
  },
  {
   "cell_type": "code",
   "execution_count": 82,
   "id": "de660b92-b15b-4343-b2b1-0bcdfa7e3e49",
   "metadata": {},
   "outputs": [],
   "source": [
    "from sklearn.ensemble import RandomForestRegressor\n",
    "from sklearn.metrics import mean_absolute_error\n",
    "\n",
    "def score_dataset(X_train, X_valid, y_train, y_valid, n_estimators=100, max_depth=None, random_state=42):\n",
    "    \"\"\"\n",
    "    Évalue un modèle Random Forest avec les données fournies et retourne le MAE.\n",
    "\n",
    "    Parameters:\n",
    "    - X_train, X_valid: features d'entraînement et de validation\n",
    "    - y_train, y_valid: cibles d'entraînement et de validation\n",
    "    - n_estimators: nombre d'arbres dans la forêt\n",
    "    - max_depth: profondeur maximale des arbres\n",
    "    - random_state: graine aléatoire pour la reproductibilité\n",
    "\n",
    "    Returns:\n",
    "    - Mean Absolute Error (MAE)\n",
    "    \"\"\"\n",
    "    # Initialiser le modèle\n",
    "    model = RandomForestRegressor(n_estimators=n_estimators, max_depth=max_depth, random_state=random_state)\n",
    "    \n",
    "    # Entraîner le modèle\n",
    "    model.fit(X_train, y_train)\n",
    "    \n",
    "    # Faire des prédictions\n",
    "    predictions = model.predict(X_valid)\n",
    "    \n",
    "    # Calculer et retourner le MAE\n",
    "    return mean_absolute_error(y_valid, predictions)\n"
   ]
  },
  {
   "cell_type": "code",
   "execution_count": 84,
   "id": "1ad85ecb-38f4-49a7-bd63-fb9cc3b86e3c",
   "metadata": {},
   "outputs": [
    {
     "name": "stdout",
     "output_type": "stream",
     "text": [
      "MAE for Random Forest: 17586.36378995434\n"
     ]
    }
   ],
   "source": [
    "mae = score_dataset(X_train, X_valid, y_train, y_valid, n_estimators=100)\n",
    "print(f\"MAE for Random Forest: {mae}\")"
   ]
  },
  {
   "cell_type": "markdown",
   "id": "d38cacc5-a5eb-4266-b283-785324db87f9",
   "metadata": {},
   "source": [
    "Le Mean Absolute Error (MAE) obtenu pour le modèle Random Forest est de 17,586.36. Cela signifie que, en moyenne, le modèle fait une erreur de **17,586.36 unités monétaires** (peut-être dollars ou une autre devise) pour prédire les prix de vente."
   ]
  },
  {
   "cell_type": "markdown",
   "id": "f50fe406-d0ca-4184-9393-4d78bc5ed303",
   "metadata": {},
   "source": [
    "----\n",
    "\n",
    "## 4. Faire des prédictions sur les données de test\n",
    "Utilisez le modèle pour prédire les prix des maisons sur le fichier de test.\n",
    "\n",
    "\n",
    "**Identification des colonnes catégorielles à faible cardinalité**"
   ]
  },
  {
   "cell_type": "code",
   "execution_count": 105,
   "id": "a2dbd903-e6f0-4db6-9837-5498e93ec080",
   "metadata": {},
   "outputs": [
    {
     "name": "stdout",
     "output_type": "stream",
     "text": [
      "Colonnes catégorielles à faible cardinalité : []\n"
     ]
    }
   ],
   "source": [
    "# Identifier les colonnes catégorielles (type object ou catégorie)\n",
    "categorical_cols = [col for col in X_train.columns if X_train[col].dtype == 'object']\n",
    "\n",
    "# Sélectionner les colonnes à faible cardinalité (moins de 10 catégories uniques, par exemple)\n",
    "low_cardinality_cols = [col for col in categorical_cols if X_train[col].nunique() < 10]\n",
    "\n",
    "# Vérifier la liste des colonnes identifiées\n",
    "print(\"Colonnes catégorielles à faible cardinalité :\", low_cardinality_cols)\n"
   ]
  },
  {
   "cell_type": "code",
   "execution_count": 107,
   "id": "ebb8b8d1-6899-4c69-8858-a132fe764c5a",
   "metadata": {},
   "outputs": [],
   "source": [
    "from sklearn.preprocessing import OneHotEncoder\n",
    "import pandas as pd\n",
    "\n",
    "# Initialiser l'encodeur\n",
    "encoder = OneHotEncoder(handle_unknown='ignore', sparse_output=False)\n",
    "\n",
    "# Entraîner l'encodeur sur X_train\n",
    "encoder.fit(X_train[low_cardinality_cols])\n",
    "\n",
    "# Transformer X_train et X_test\n",
    "X_train_encoded = encoder.transform(X_train[low_cardinality_cols])\n",
    "X_test_encoded = encoder.transform(X_test[low_cardinality_cols])\n",
    "\n",
    "# Obtenir les noms des colonnes encodées\n",
    "encoded_columns = encoder.get_feature_names_out(low_cardinality_cols)\n",
    "\n",
    "# Convertir en DataFrame\n",
    "X_train_encoded_df = pd.DataFrame(X_train_encoded, columns=encoded_columns, index=X_train.index)\n",
    "X_test_encoded_df = pd.DataFrame(X_test_encoded, columns=encoded_columns, index=X_test.index)\n"
   ]
  },
  {
   "cell_type": "markdown",
   "id": "aa0a1af5-c62f-4d90-8dba-9f4fc1c5e68f",
   "metadata": {},
   "source": [
    "**Alignement des colonnes entre les jeux de données d'entraînement et de test**"
   ]
  },
  {
   "cell_type": "code",
   "execution_count": 115,
   "id": "765b1682-dbb8-42ab-b1bd-1f36b05ee460",
   "metadata": {},
   "outputs": [],
   "source": [
    "# Convertir X_train_encoded en DataFrame\n",
    "X_train_encoded_df = pd.DataFrame(X_train_encoded, columns=encoder.get_feature_names_out(low_cardinality_cols), index=X_train.index)\n",
    "\n",
    "# Convertir X_test_encoded en DataFrame\n",
    "X_test_encoded_df = pd.DataFrame(X_test_encoded, columns=encoder.get_feature_names_out(low_cardinality_cols), index=X_test.index)\n"
   ]
  },
  {
   "cell_type": "code",
   "execution_count": 117,
   "id": "cec94253-45bf-4179-84da-46e19d743100",
   "metadata": {},
   "outputs": [],
   "source": [
    "# Réaligner les colonnes de X_test_encoded_df sur celles de X_train_encoded_df\n",
    "X_test_encoded_df = X_test_encoded_df.reindex(columns=X_train_encoded_df.columns, fill_value=0)\n"
   ]
  },
  {
   "cell_type": "code",
   "execution_count": 119,
   "id": "1feaf212-82c8-4dbb-95a2-b7426b011b74",
   "metadata": {},
   "outputs": [
    {
     "name": "stdout",
     "output_type": "stream",
     "text": [
      "Dimensions de X_train_final : (1168, 33)\n",
      "Dimensions de X_test_final : (1459, 33)\n"
     ]
    }
   ],
   "source": [
    "# Sélectionner les colonnes numériques\n",
    "numerical_cols = [col for col in X_train.columns if X_train[col].dtype in ['int64', 'float64']]\n",
    "\n",
    "# Combiner les colonnes numériques et encodées\n",
    "X_train_final = pd.concat([X_train[numerical_cols], X_train_encoded_df], axis=1)\n",
    "X_test_final = pd.concat([X_test[numerical_cols], X_test_encoded_df], axis=1)\n",
    "\n",
    "# Vérifier les dimensions finales\n",
    "print(\"Dimensions de X_train_final :\", X_train_final.shape)\n",
    "print(\"Dimensions de X_test_final :\", X_test_final.shape)\n"
   ]
  },
  {
   "cell_type": "markdown",
   "id": "c28d250c-ecb7-426f-b64d-f81b2dc87a6e",
   "metadata": {},
   "source": [
    "**Prédictions sur le jeu de test**"
   ]
  },
  {
   "cell_type": "code",
   "execution_count": 167,
   "id": "bd0aad89-9ae7-45e6-b068-408917369303",
   "metadata": {},
   "outputs": [],
   "source": [
    "from sklearn.ensemble import RandomForestRegressor\n",
    "\n",
    "# Créer et entraîner le modèle\n",
    "model = RandomForestRegressor(n_estimators=100, random_state=42)\n",
    "model.fit(X_train_final, y_train)  # X_train_final et y_train doivent être correctement définis\n",
    "\n",
    "# Faire des prédictions sur le jeu de test\n",
    "predictions = model.predict(X_test_final)\n",
    "\n",
    "# Convertir les prédictions en DataFrame\n",
    "predictions_df = pd.DataFrame(predictions, columns=['SalePrice'])\n",
    "\n",
    "# Afficher les premières lignes\n",
    "predictions_df.head()\n",
    "\n",
    "# Récupérer les IDs de l'index\n",
    "X_test_ids = X_test.index\n",
    "\n",
    "# Créer un DataFrame pour soumettre les prédictions\n",
    "output = pd.DataFrame({'Id': X_test_ids, 'SalePrice': predictions})\n",
    "output.to_csv('submission3.csv', index=False)\n"
   ]
  },
  {
   "cell_type": "code",
   "execution_count": null,
   "id": "b21c3796-256c-4713-916b-048305d4f292",
   "metadata": {},
   "outputs": [],
   "source": []
  }
 ],
 "metadata": {
  "kernelspec": {
   "display_name": "Python [conda env:.conda-mooc-rr-jupyter]",
   "language": "python",
   "name": "conda-env-.conda-mooc-rr-jupyter-py"
  },
  "language_info": {
   "codemirror_mode": {
    "name": "ipython",
    "version": 3
   },
   "file_extension": ".py",
   "mimetype": "text/x-python",
   "name": "python",
   "nbconvert_exporter": "python",
   "pygments_lexer": "ipython3",
   "version": "3.7.12"
  }
 },
 "nbformat": 4,
 "nbformat_minor": 5
}
