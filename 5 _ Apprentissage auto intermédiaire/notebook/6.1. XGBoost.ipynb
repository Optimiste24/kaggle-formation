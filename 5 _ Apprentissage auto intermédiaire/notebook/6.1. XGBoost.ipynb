{
 "cells": [
  {
   "cell_type": "markdown",
   "id": "f2afc3c3-05e5-4dc6-8aaf-d35b16018213",
   "metadata": {},
   "source": [
    "# Concours sur les prix de vente immobiliers\n",
    "\n",
    "Avec la médianne"
   ]
  },
  {
   "cell_type": "code",
   "execution_count": 13,
   "id": "d7b11257-8c16-4fdb-8682-f1d1f5726644",
   "metadata": {},
   "outputs": [
    {
     "name": "stdout",
     "output_type": "stream",
     "text": [
      "Meilleur modèle XGBoost : Pipeline(steps=[('preprocessor',\n",
      "                 ColumnTransformer(transformers=[('num',\n",
      "                                                  SimpleImputer(strategy='median'),\n",
      "                                                  ['MSSubClass', 'LotFrontage',\n",
      "                                                   'LotArea', 'OverallQual',\n",
      "                                                   'OverallCond', 'YearBuilt',\n",
      "                                                   'YearRemodAdd', 'MasVnrArea',\n",
      "                                                   'BsmtFinSF1', 'BsmtFinSF2',\n",
      "                                                   'BsmtUnfSF', 'TotalBsmtSF',\n",
      "                                                   '1stFlrSF', '2ndFlrSF',\n",
      "                                                   'LowQualFinSF', 'GrLivArea',\n",
      "                                                   'BsmtFullBath',\n",
      "                                                   'BsmtHalfBath', 'FullBath...\n",
      "                              feature_types=None, gamma=None, grow_policy=None,\n",
      "                              importance_type=None,\n",
      "                              interaction_constraints=None, learning_rate=0.1,\n",
      "                              max_bin=None, max_cat_threshold=None,\n",
      "                              max_cat_to_onehot=None, max_delta_step=None,\n",
      "                              max_depth=3, max_leaves=None,\n",
      "                              min_child_weight=None, missing=nan,\n",
      "                              monotone_constraints=None, multi_strategy=None,\n",
      "                              n_estimators=150, n_jobs=None,\n",
      "                              num_parallel_tree=None, random_state=0, ...))])\n",
      "Meilleurs paramètres XGBoost : {'model__learning_rate': 0.1, 'model__max_depth': 3, 'model__n_estimators': 150, 'model__subsample': 0.8}\n",
      "Meilleur score MAE XGBoost : 15909.224441710458\n"
     ]
    }
   ],
   "source": [
    "from sklearn.model_selection import GridSearchCV\n",
    "from sklearn.pipeline import Pipeline\n",
    "from sklearn.compose import ColumnTransformer\n",
    "from sklearn.impute import SimpleImputer\n",
    "from sklearn.preprocessing import OneHotEncoder\n",
    "from xgboost import XGBRegressor\n",
    "import pandas as pd\n",
    "\n",
    "# Fonction pour effectuer la validation croisée avec GridSearchCV\n",
    "def cross_validate_model(pipeline, X_train, y_train, param_grid):\n",
    "    grid_search = GridSearchCV(pipeline, param_grid, cv=5, scoring='neg_mean_absolute_error')\n",
    "    grid_search.fit(X_train, y_train)\n",
    "    return grid_search.best_estimator_, grid_search.best_params_, grid_search.best_score_\n",
    "\n",
    "# Charger les données\n",
    "train_path = 'train.csv'  # Remplacez par le chemin correct\n",
    "X_full = pd.read_csv(train_path, index_col='Id')\n",
    "\n",
    "test_path = 'test.csv'  # Remplacez par le chemin correct\n",
    "X_test_full = pd.read_csv(test_path, index_col='Id')\n",
    "\n",
    "# Prétraitement initial\n",
    "X_full.dropna(axis=0, subset=['SalePrice'], inplace=True)\n",
    "y = X_full['SalePrice']\n",
    "X_full.drop(['SalePrice'], axis=1, inplace=True)\n",
    "\n",
    "# Séparer les données d'entraînement et de validation\n",
    "X_train_full, X_valid_full, y_train, y_valid = train_test_split(\n",
    "    X_full, y, train_size=0.8, test_size=0.2, random_state=0\n",
    ")\n",
    "\n",
    "# Identifier les colonnes numériques et catégoriques\n",
    "categorical_cols = [\n",
    "    cname for cname in X_train_full.columns\n",
    "    if X_train_full[cname].dtype == \"object\" and X_train_full[cname].nunique() < 10\n",
    "]\n",
    "numerical_cols = [\n",
    "    cname for cname in X_train_full.columns\n",
    "    if X_train_full[cname].dtype in ['int64', 'float64']\n",
    "]\n",
    "\n",
    "# Garder les colonnes sélectionnées\n",
    "my_cols = categorical_cols + numerical_cols\n",
    "X_train = X_train_full[my_cols].copy()\n",
    "X_valid = X_valid_full[my_cols].copy()\n",
    "X_test = X_test_full[my_cols].copy()\n",
    "\n",
    "# Définir les transformations pour les colonnes numériques et catégoriques\n",
    "numerical_transformer = SimpleImputer(strategy='median')\n",
    "categorical_transformer = Pipeline(steps=[\n",
    "    ('imputer', SimpleImputer(strategy='most_frequent')),\n",
    "    ('onehot', OneHotEncoder(handle_unknown='ignore'))\n",
    "])\n",
    "\n",
    "# Combiner les transformations dans un ColumnTransformer\n",
    "preprocessor = ColumnTransformer(\n",
    "    transformers=[\n",
    "        ('num', numerical_transformer, numerical_cols),\n",
    "        ('cat', categorical_transformer, categorical_cols)\n",
    "    ]\n",
    ")\n",
    "\n",
    "# Définir le modèle XGBoost\n",
    "model_xgb = XGBRegressor(random_state=0)\n",
    "\n",
    "# Créer le pipeline avec XGBoost\n",
    "my_pipeline_xgb = Pipeline(steps=[\n",
    "    ('preprocessor', preprocessor),\n",
    "    ('model', model_xgb)\n",
    "])\n",
    "\n",
    "# Définir la grille des hyperparamètres pour XGBoost\n",
    "param_grid_xgb = {\n",
    "    'model__n_estimators': [50, 100, 150],\n",
    "    'model__max_depth': [3, 5, 7],\n",
    "    'model__learning_rate': [0.01, 0.1, 0.2],\n",
    "    'model__subsample': [0.8, 1.0]\n",
    "}\n",
    "\n",
    "# Appliquer la validation croisée pour trouver le meilleur modèle XGBoost\n",
    "best_model_xgb, best_params_xgb, best_score_xgb = cross_validate_model(my_pipeline_xgb, X_train, y_train, param_grid_xgb)\n",
    "\n",
    "# Afficher les résultats\n",
    "print(\"Meilleur modèle XGBoost :\", best_model_xgb)\n",
    "print(\"Meilleurs paramètres XGBoost :\", best_params_xgb)\n",
    "print(\"Meilleur score MAE XGBoost :\", -best_score_xgb)\n"
   ]
  },
  {
   "cell_type": "code",
   "execution_count": 17,
   "id": "6c70af05-62bc-47dd-aa80-923964eb8096",
   "metadata": {},
   "outputs": [
    {
     "name": "stdout",
     "output_type": "stream",
     "text": [
      "Fichier de soumission créé : submission_xgb.csv\n"
     ]
    }
   ],
   "source": [
    "# Faire des prédictions sur les données de test avec le meilleur modèle\n",
    "preds_test_xgb = best_model_xgb.predict(X_test)\n",
    "\n",
    "# Préparer le fichier de soumission\n",
    "output = pd.DataFrame({'Id': X_test.index, 'SalePrice': preds_test_xgb})\n",
    "output.to_csv('submission_xgb.csv', index=False)\n",
    "\n",
    "# Afficher un message de confirmation\n",
    "print(\"Fichier de soumission créé : submission_xgb.csv\")\n"
   ]
  },
  {
   "cell_type": "code",
   "execution_count": null,
   "id": "24af7af8-8517-4feb-9a6d-a676517271d6",
   "metadata": {},
   "outputs": [],
   "source": []
  }
 ],
 "metadata": {
  "kernelspec": {
   "display_name": "Python [conda env:base] *",
   "language": "python",
   "name": "conda-base-py"
  },
  "language_info": {
   "codemirror_mode": {
    "name": "ipython",
    "version": 3
   },
   "file_extension": ".py",
   "mimetype": "text/x-python",
   "name": "python",
   "nbconvert_exporter": "python",
   "pygments_lexer": "ipython3",
   "version": "3.12.7"
  }
 },
 "nbformat": 4,
 "nbformat_minor": 5
}
