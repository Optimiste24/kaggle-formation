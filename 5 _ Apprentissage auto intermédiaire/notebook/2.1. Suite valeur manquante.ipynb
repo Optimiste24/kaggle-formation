{
 "cells": [
  {
   "cell_type": "code",
   "execution_count": null,
   "id": "8b6e1fe1-24c4-4ddd-9f4f-0521eff7474a",
   "metadata": {},
   "outputs": [],
   "source": []
  },
  {
   "cell_type": "code",
   "execution_count": null,
   "id": "5738dddd-d8f7-413e-85b4-78972e919e0e",
   "metadata": {},
   "outputs": [],
   "source": []
  },
  {
   "cell_type": "code",
   "execution_count": null,
   "id": "151f45dd-bf5b-4005-93ac-2552409c7dff",
   "metadata": {},
   "outputs": [],
   "source": []
  },
  {
   "cell_type": "code",
   "execution_count": 8,
   "id": "8c8c2bbe-6e58-4e56-81bf-442eec2c617f",
   "metadata": {},
   "outputs": [],
   "source": [
    "import pandas as pd\n",
    "from sklearn.model_selection import train_test_split\n",
    "\n",
    "# Lire les données\n",
    "X_full = pd.read_csv('train.csv', index_col='Id')\n",
    "X_test_full = pd.read_csv('test.csv', index_col='Id')\n",
    "\n",
    "# Supprimer les lignes avec une cible manquante, séparer la cible des prédicteurs\n",
    "X_full.dropna(axis=0, subset=['SalePrice'], inplace=True)\n",
    "y = X_full.SalePrice\n",
    "X_full.drop(['SalePrice'], axis=1, inplace=True)\n",
    "\n",
    "# Pour simplifier, on utilise uniquement les prédicteurs numériques\n",
    "X = X_full.select_dtypes(exclude=['object'])\n",
    "X_test = X_test_full.select_dtypes(exclude=['object'])\n",
    "\n",
    "# Séparer les données en ensemble d'entraînement et de validation\n",
    "X_train, X_valid, y_train, y_valid = train_test_split(X, y, train_size=0.8, test_size=0.2,\n",
    "                                                      random_state=0)"
   ]
  },
  {
   "cell_type": "code",
   "execution_count": 10,
   "id": "5a29b25d-1b64-4fd2-873d-286ebcf34863",
   "metadata": {},
   "outputs": [
    {
     "data": {
      "text/html": [
       "<div>\n",
       "<style scoped>\n",
       "    .dataframe tbody tr th:only-of-type {\n",
       "        vertical-align: middle;\n",
       "    }\n",
       "\n",
       "    .dataframe tbody tr th {\n",
       "        vertical-align: top;\n",
       "    }\n",
       "\n",
       "    .dataframe thead th {\n",
       "        text-align: right;\n",
       "    }\n",
       "</style>\n",
       "<table border=\"1\" class=\"dataframe\">\n",
       "  <thead>\n",
       "    <tr style=\"text-align: right;\">\n",
       "      <th></th>\n",
       "      <th>MSSubClass</th>\n",
       "      <th>LotFrontage</th>\n",
       "      <th>LotArea</th>\n",
       "      <th>OverallQual</th>\n",
       "      <th>OverallCond</th>\n",
       "      <th>YearBuilt</th>\n",
       "      <th>YearRemodAdd</th>\n",
       "      <th>MasVnrArea</th>\n",
       "      <th>BsmtFinSF1</th>\n",
       "      <th>BsmtFinSF2</th>\n",
       "      <th>...</th>\n",
       "      <th>GarageArea</th>\n",
       "      <th>WoodDeckSF</th>\n",
       "      <th>OpenPorchSF</th>\n",
       "      <th>EnclosedPorch</th>\n",
       "      <th>3SsnPorch</th>\n",
       "      <th>ScreenPorch</th>\n",
       "      <th>PoolArea</th>\n",
       "      <th>MiscVal</th>\n",
       "      <th>MoSold</th>\n",
       "      <th>YrSold</th>\n",
       "    </tr>\n",
       "    <tr>\n",
       "      <th>Id</th>\n",
       "      <th></th>\n",
       "      <th></th>\n",
       "      <th></th>\n",
       "      <th></th>\n",
       "      <th></th>\n",
       "      <th></th>\n",
       "      <th></th>\n",
       "      <th></th>\n",
       "      <th></th>\n",
       "      <th></th>\n",
       "      <th></th>\n",
       "      <th></th>\n",
       "      <th></th>\n",
       "      <th></th>\n",
       "      <th></th>\n",
       "      <th></th>\n",
       "      <th></th>\n",
       "      <th></th>\n",
       "      <th></th>\n",
       "      <th></th>\n",
       "      <th></th>\n",
       "    </tr>\n",
       "  </thead>\n",
       "  <tbody>\n",
       "    <tr>\n",
       "      <th>619</th>\n",
       "      <td>20</td>\n",
       "      <td>90.0</td>\n",
       "      <td>11694</td>\n",
       "      <td>9</td>\n",
       "      <td>5</td>\n",
       "      <td>2007</td>\n",
       "      <td>2007</td>\n",
       "      <td>452.0</td>\n",
       "      <td>48</td>\n",
       "      <td>0</td>\n",
       "      <td>...</td>\n",
       "      <td>774</td>\n",
       "      <td>0</td>\n",
       "      <td>108</td>\n",
       "      <td>0</td>\n",
       "      <td>0</td>\n",
       "      <td>260</td>\n",
       "      <td>0</td>\n",
       "      <td>0</td>\n",
       "      <td>7</td>\n",
       "      <td>2007</td>\n",
       "    </tr>\n",
       "    <tr>\n",
       "      <th>871</th>\n",
       "      <td>20</td>\n",
       "      <td>60.0</td>\n",
       "      <td>6600</td>\n",
       "      <td>5</td>\n",
       "      <td>5</td>\n",
       "      <td>1962</td>\n",
       "      <td>1962</td>\n",
       "      <td>0.0</td>\n",
       "      <td>0</td>\n",
       "      <td>0</td>\n",
       "      <td>...</td>\n",
       "      <td>308</td>\n",
       "      <td>0</td>\n",
       "      <td>0</td>\n",
       "      <td>0</td>\n",
       "      <td>0</td>\n",
       "      <td>0</td>\n",
       "      <td>0</td>\n",
       "      <td>0</td>\n",
       "      <td>8</td>\n",
       "      <td>2009</td>\n",
       "    </tr>\n",
       "    <tr>\n",
       "      <th>93</th>\n",
       "      <td>30</td>\n",
       "      <td>80.0</td>\n",
       "      <td>13360</td>\n",
       "      <td>5</td>\n",
       "      <td>7</td>\n",
       "      <td>1921</td>\n",
       "      <td>2006</td>\n",
       "      <td>0.0</td>\n",
       "      <td>713</td>\n",
       "      <td>0</td>\n",
       "      <td>...</td>\n",
       "      <td>432</td>\n",
       "      <td>0</td>\n",
       "      <td>0</td>\n",
       "      <td>44</td>\n",
       "      <td>0</td>\n",
       "      <td>0</td>\n",
       "      <td>0</td>\n",
       "      <td>0</td>\n",
       "      <td>8</td>\n",
       "      <td>2009</td>\n",
       "    </tr>\n",
       "    <tr>\n",
       "      <th>818</th>\n",
       "      <td>20</td>\n",
       "      <td>NaN</td>\n",
       "      <td>13265</td>\n",
       "      <td>8</td>\n",
       "      <td>5</td>\n",
       "      <td>2002</td>\n",
       "      <td>2002</td>\n",
       "      <td>148.0</td>\n",
       "      <td>1218</td>\n",
       "      <td>0</td>\n",
       "      <td>...</td>\n",
       "      <td>857</td>\n",
       "      <td>150</td>\n",
       "      <td>59</td>\n",
       "      <td>0</td>\n",
       "      <td>0</td>\n",
       "      <td>0</td>\n",
       "      <td>0</td>\n",
       "      <td>0</td>\n",
       "      <td>7</td>\n",
       "      <td>2008</td>\n",
       "    </tr>\n",
       "    <tr>\n",
       "      <th>303</th>\n",
       "      <td>20</td>\n",
       "      <td>118.0</td>\n",
       "      <td>13704</td>\n",
       "      <td>7</td>\n",
       "      <td>5</td>\n",
       "      <td>2001</td>\n",
       "      <td>2002</td>\n",
       "      <td>150.0</td>\n",
       "      <td>0</td>\n",
       "      <td>0</td>\n",
       "      <td>...</td>\n",
       "      <td>843</td>\n",
       "      <td>468</td>\n",
       "      <td>81</td>\n",
       "      <td>0</td>\n",
       "      <td>0</td>\n",
       "      <td>0</td>\n",
       "      <td>0</td>\n",
       "      <td>0</td>\n",
       "      <td>1</td>\n",
       "      <td>2006</td>\n",
       "    </tr>\n",
       "  </tbody>\n",
       "</table>\n",
       "<p>5 rows × 36 columns</p>\n",
       "</div>"
      ],
      "text/plain": [
       "     MSSubClass  LotFrontage  LotArea  OverallQual  OverallCond  YearBuilt  \\\n",
       "Id                                                                           \n",
       "619          20         90.0    11694            9            5       2007   \n",
       "871          20         60.0     6600            5            5       1962   \n",
       "93           30         80.0    13360            5            7       1921   \n",
       "818          20          NaN    13265            8            5       2002   \n",
       "303          20        118.0    13704            7            5       2001   \n",
       "\n",
       "     YearRemodAdd  MasVnrArea  BsmtFinSF1  BsmtFinSF2  ...  GarageArea  \\\n",
       "Id                                                     ...               \n",
       "619          2007       452.0          48           0  ...         774   \n",
       "871          1962         0.0           0           0  ...         308   \n",
       "93           2006         0.0         713           0  ...         432   \n",
       "818          2002       148.0        1218           0  ...         857   \n",
       "303          2002       150.0           0           0  ...         843   \n",
       "\n",
       "     WoodDeckSF  OpenPorchSF  EnclosedPorch  3SsnPorch  ScreenPorch  PoolArea  \\\n",
       "Id                                                                              \n",
       "619           0          108              0          0          260         0   \n",
       "871           0            0              0          0            0         0   \n",
       "93            0            0             44          0            0         0   \n",
       "818         150           59              0          0            0         0   \n",
       "303         468           81              0          0            0         0   \n",
       "\n",
       "     MiscVal  MoSold  YrSold  \n",
       "Id                            \n",
       "619        0       7    2007  \n",
       "871        0       8    2009  \n",
       "93         0       8    2009  \n",
       "818        0       7    2008  \n",
       "303        0       1    2006  \n",
       "\n",
       "[5 rows x 36 columns]"
      ]
     },
     "execution_count": 10,
     "metadata": {},
     "output_type": "execute_result"
    }
   ],
   "source": [
    "X_train.head()"
   ]
  },
  {
   "cell_type": "markdown",
   "id": "e1c64e80-5495-43b7-a6bc-627e306eee35",
   "metadata": {},
   "source": [
    "## Étape 1 : Enquête préliminaire\n",
    "Le code que vous devez exécuter permet d'obtenir un aperçu de la forme des données d'entraînement et du nombre de valeurs manquantes dans chaque colonne. Examinons ce que fait chaque partie du code et comment en tirer les bonnes réponses :\n",
    "\n",
    "#### 1. Affichage de la forme des données d'entraînement"
   ]
  },
  {
   "cell_type": "code",
   "execution_count": 14,
   "id": "2ecb579b-08ad-4865-ad73-4fc3723e7a2a",
   "metadata": {},
   "outputs": [
    {
     "name": "stdout",
     "output_type": "stream",
     "text": [
      "(1168, 36)\n"
     ]
    }
   ],
   "source": [
    "# Shape of training data (num_rows, num_columns)\n",
    "print(X_train.shape)"
   ]
  },
  {
   "cell_type": "markdown",
   "id": "bc0f7c3d-4084-49cb-8aa6-fede48aef8f0",
   "metadata": {},
   "source": [
    "#### 2. Calcul des valeurs manquantes par colonne"
   ]
  },
  {
   "cell_type": "code",
   "execution_count": 17,
   "id": "0aacbc01-4cc7-4266-a874-3c6fdd601e55",
   "metadata": {},
   "outputs": [
    {
     "name": "stdout",
     "output_type": "stream",
     "text": [
      "LotFrontage    212\n",
      "MasVnrArea       6\n",
      "GarageYrBlt     58\n",
      "dtype: int64\n"
     ]
    }
   ],
   "source": [
    "# Nombre de valeurs manquantes par colonne des données d'entraînement\n",
    "missing_val_count_by_column = (X_train.isnull().sum())\n",
    "print(missing_val_count_by_column[missing_val_count_by_column > 0])"
   ]
  },
  {
   "cell_type": "code",
   "execution_count": 21,
   "id": "bf5791ba-9101-46ee-b303-3b6dc56e50bc",
   "metadata": {},
   "outputs": [
    {
     "data": {
      "text/plain": [
       "1168"
      ]
     },
     "execution_count": 21,
     "metadata": {},
     "output_type": "execute_result"
    }
   ],
   "source": [
    "num_rows = X_train.shape[0]  # Nombre de lignes\n",
    "num_rows"
   ]
  },
  {
   "cell_type": "code",
   "execution_count": 25,
   "id": "11f9c926-29ca-4c8e-8b67-d0e9d4406bf9",
   "metadata": {},
   "outputs": [
    {
     "data": {
      "text/plain": [
       "3"
      ]
     },
     "execution_count": 25,
     "metadata": {},
     "output_type": "execute_result"
    }
   ],
   "source": [
    "# Nombre de colonnes avec des valeurs manquantes\n",
    "num_cols_with_missing = missing_val_count_by_column[missing_val_count_by_column > 0].shape[0]  \n",
    "num_cols_with_missing"
   ]
  },
  {
   "cell_type": "code",
   "execution_count": 27,
   "id": "bfdba515-7dac-4c04-a7aa-512af94ad656",
   "metadata": {},
   "outputs": [
    {
     "data": {
      "text/plain": [
       "276"
      ]
     },
     "execution_count": 27,
     "metadata": {},
     "output_type": "execute_result"
    }
   ],
   "source": [
    "# Nombre total de valeurs manquantes\n",
    "tot_missing = missing_val_count_by_column.sum()  \n",
    "tot_missing"
   ]
  },
  {
   "cell_type": "markdown",
   "id": "efd7617f-c7f8-4fbf-bac2-aa53d79380f3",
   "metadata": {},
   "source": [
    "### Analyse\n",
    "Dans ce cas, les données présentent relativement peu de valeurs manquantes (moins de 20 % des entrées dans la colonne ayant le plus de valeurs manquantes). Cela signifie que :\n",
    "\n",
    "#### 1. Supprimer les colonnes entraînerait une perte importante d'informations :\n",
    "- Même si certaines colonnes contiennent des valeurs manquantes, la plupart de leurs entrées sont valides.\n",
    "- Supprimer ces colonnes revient à négliger des données qui pourraient être cruciales pour améliorer les prédictions.\n",
    "\n",
    "#### 2. Imputer les valeurs manquantes permet de conserver les données existantes :\n",
    "- En remplaçant les valeurs manquantes par des estimations (par exemple, la médiane), nous préservons les informations des colonnes sans introduire de biais significatif.\n",
    "- Cela est particulièrement utile lorsque les données manquantes sont relativement peu nombreuses.\n"
   ]
  },
  {
   "cell_type": "markdown",
   "id": "6bf10730-c522-4656-beee-8ee44a5c2796",
   "metadata": {},
   "source": [
    "### Fonction score_dataset"
   ]
  },
  {
   "cell_type": "code",
   "execution_count": 32,
   "id": "c6df3adb-552a-45b7-80ca-aaebd2e6c5fb",
   "metadata": {},
   "outputs": [],
   "source": [
    "from sklearn.ensemble import RandomForestRegressor\n",
    "from sklearn.metrics import mean_absolute_error\n",
    "\n",
    "# Fonction pour évaluer différentes approches\n",
    "def score_dataset(X_train, X_valid, y_train, y_valid):\n",
    "    model = RandomForestRegressor(n_estimators=100, random_state=0)\n",
    "    model.fit(X_train, y_train)\n",
    "    preds = model.predict(X_valid)\n",
    "    return mean_absolute_error(y_valid, preds)\n"
   ]
  },
  {
   "cell_type": "markdown",
   "id": "0f0b02ea-8df6-4efe-a719-c6ace2872a1d",
   "metadata": {},
   "source": [
    "## Etape 2 : Suppression des colonnes avec des valeurs manquantes"
   ]
  },
  {
   "cell_type": "code",
   "execution_count": 35,
   "id": "afd38041-0108-4e0f-abcb-c6e2fec7412b",
   "metadata": {},
   "outputs": [
    {
     "name": "stdout",
     "output_type": "stream",
     "text": [
      "MAE (Suppression des colonnes):\n",
      "17837.82570776256\n"
     ]
    }
   ],
   "source": [
    "# Supprimez les colonnes avec des valeurs manquantes\n",
    "cols_with_missing = [col for col in X_train.columns if X_train[col].isnull().any()]\n",
    "reduced_X_train = X_train.drop(cols_with_missing, axis=1)\n",
    "reduced_X_valid = X_valid.drop(cols_with_missing, axis=1)\n",
    "\n",
    "# Évaluer la performance\n",
    "print(\"MAE (Suppression des colonnes):\")\n",
    "print(score_dataset(reduced_X_train, reduced_X_valid, y_train, y_valid))"
   ]
  },
  {
   "cell_type": "markdown",
   "id": "fe4147c2-5338-47bd-aec3-ca38b6e27ec1",
   "metadata": {},
   "source": [
    "### Etape 3. Imputation \n",
    "\n",
    "#### Imputation avec la moyenne"
   ]
  },
  {
   "cell_type": "code",
   "execution_count": 44,
   "id": "8881c239-f83a-444e-ba68-48f94dfb0798",
   "metadata": {},
   "outputs": [
    {
     "name": "stdout",
     "output_type": "stream",
     "text": [
      "MAE (Imputation):\n",
      "18062.894611872147\n"
     ]
    }
   ],
   "source": [
    "from sklearn.impute import SimpleImputer\n",
    "\n",
    "# Initialisation de l'imputer avec la stratégie \"mean\"\n",
    "imputer = SimpleImputer(strategy='mean')\n",
    "\n",
    "# Appliquer l'imputation sur les données d'entraînement et de validation\n",
    "imputed_X_train = pd.DataFrame(imputer.fit_transform(X_train))\n",
    "imputed_X_valid = pd.DataFrame(imputer.transform(X_valid))\n",
    "\n",
    "# Restaurer les noms de colonnes après l'imputation\n",
    "imputed_X_train.columns = X_train.columns\n",
    "imputed_X_valid.columns = X_valid.columns\n",
    "\n",
    "# Calculer et afficher le MAE\n",
    "print(\"MAE (Imputation):\")\n",
    "print(score_dataset(imputed_X_train, imputed_X_valid, y_train, y_valid))"
   ]
  },
  {
   "cell_type": "markdown",
   "id": "f5740a85-5a09-4bea-833a-5d819df03265",
   "metadata": {},
   "source": [
    "### Analyse des résultats (Part B)\n",
    "\n",
    "Les résultats montrent que, contrairement aux attentes, **l'approche consistant à supprimer les colonnes a légèrement mieux fonctionné que l'imputation avec la moyenne**. Cela peut être surprenant, mais voici quelques explications potentielles :\n",
    "\n",
    "---\n",
    "\n",
    "### Raisons possibles pour lesquelles la suppression des colonnes a mieux fonctionné :\n",
    "1. **Quantité limitée de données manquantes :** \n",
    "   - Lorsque seules quelques valeurs sont manquantes, leur suppression peut ne pas affecter significativement les performances du modèle.\n",
    "   - Les colonnes avec des valeurs manquantes peuvent contenir moins d'informations utiles pour le modèle.\n",
    "\n",
    "2. **Imputation inadéquate avec la moyenne :**\n",
    "   - Dans certains cas, remplacer les valeurs manquantes par la moyenne peut introduire un bruit artificiel dans les données.\n",
    "   - Par exemple, pour la colonne `GarageYrBlt` (année de construction du garage), une valeur manquante pourrait indiquer qu’il n’y a pas de garage. Remplacer cela par la moyenne (une année construite) ne reflète pas la réalité.\n",
    "\n",
    "3. **Distribution des données :**\n",
    "   - Si les valeurs manquantes sont corrélées à certaines propriétés importantes du dataset, remplacer par la moyenne peut perturber les relations entre les colonnes.\n",
    "\n",
    "4. **Influence du bruit dans les données :**\n",
    "   - Le bruit statistique peut parfois jouer un rôle dans les résultats, surtout sur des datasets avec des variations imprévues.\n",
    "\n",
    "---\n",
    "\n",
    "### Pourquoi envisager d'autres méthodes d'imputation ?\n",
    "- **Imputation par la médiane** :\n",
    "  - Pour des colonnes comme `GarageYrBlt`, où les valeurs suivent une distribution non uniforme, la médiane peut mieux capturer les tendances.\n",
    "- **Imputation par une valeur spécifique** :\n",
    "  - Par exemple, pour indiquer qu’il n’y a pas de garage, une valeur spécifique (comme -1 ou \"NA\") pourrait être plus pertinente que 0 ou la moyenne.\n",
    "- **Imputation par la modalité (valeur la plus fréquente)** :\n",
    "  - Pour des colonnes catégoriques ou avec des valeurs récurrentes, la modalité est souvent plus appropriée que la moyenne.\n",
    "\n",
    "---\n",
    "\n",
    "### Recommandations :\n",
    "- Explorez différentes stratégies d'imputation pour chaque colonne (par exemple, médiane pour `GarageYrBlt`, 0 pour des valeurs numériques simples, etc.).\n",
    "- Comparez les performances avec la fonction `score_dataset()` pour identifier l'approche qui donne les meilleurs résultats.\n",
    "\n",
    "Cela met en lumière l’importance de bien comprendre la nature des données avant d’appliquer des techniques de manipulation des valeurs manquantes."
   ]
  },
  {
   "cell_type": "markdown",
   "id": "3d4af4a0-dff8-44cc-b48a-2fae2729e322",
   "metadata": {},
   "source": [
    "## Étape 4A : Prétraitement des données en supprimant les colonnes avec des valeurs manquantes\n",
    "Dans cette méthode, nous supprimons toutes les colonnes qui contiennent des valeurs manquantes dans les données d'entraînement et appliquons la même modification aux données de validation et de test pour garantir la cohérence."
   ]
  },
  {
   "cell_type": "code",
   "execution_count": 49,
   "id": "cbb88e3e-76cb-4f52-84ec-e0083c467a3d",
   "metadata": {},
   "outputs": [
    {
     "name": "stdout",
     "output_type": "stream",
     "text": [
      "Dimensions des données d'entraînement : (1168, 33)\n",
      "Dimensions des données de validation : (292, 33)\n",
      "Dimensions des données de test : (1459, 33)\n"
     ]
    }
   ],
   "source": [
    "# Appliquer la suppression des colonnes sur les données d'entraînement, de validation et de test\n",
    "final_X_train = X_train.drop(cols_with_missing, axis=1)\n",
    "final_X_valid = X_valid.drop(cols_with_missing, axis=1)\n",
    "final_X_test = X_test.drop(cols_with_missing, axis=1)\n",
    "\n",
    "# Vérifier les dimensions\n",
    "print(f\"Dimensions des données d'entraînement : {final_X_train.shape}\")\n",
    "print(f\"Dimensions des données de validation : {final_X_valid.shape}\")\n",
    "print(f\"Dimensions des données de test : {final_X_test.shape}\")\n"
   ]
  },
  {
   "cell_type": "markdown",
   "id": "18925ee6-a84d-4d35-b556-5a2378e5bdca",
   "metadata": {},
   "source": [
    "**Entraînez un modèle Random Forest sur les données nettoyées**"
   ]
  },
  {
   "cell_type": "code",
   "execution_count": 52,
   "id": "a7e47455-2e0a-441d-87e9-826e2b41df11",
   "metadata": {},
   "outputs": [
    {
     "name": "stdout",
     "output_type": "stream",
     "text": [
      "MAE (Suppression des colonnes avec des valeurs manquantes) :\n",
      "17837.82570776256\n"
     ]
    }
   ],
   "source": [
    "# Définir et entraîner le modèle Random Forest\n",
    "model = RandomForestRegressor(n_estimators=100, random_state=0)\n",
    "model.fit(final_X_train, y_train)\n",
    "\n",
    "# Prédictions sur les données de validation\n",
    "preds_valid = model.predict(final_X_valid)\n",
    "\n",
    "# Calcul de la MAE\n",
    "print(\"MAE (Suppression des colonnes avec des valeurs manquantes) :\")\n",
    "print(mean_absolute_error(y_valid, preds_valid))\n"
   ]
  },
  {
   "cell_type": "markdown",
   "id": "6d007183-dc64-48c9-aa9c-78db6c3fc10d",
   "metadata": {},
   "source": [
    "**Utilisez le modèle entraîné pour générer les prédictions sur les données de test :**"
   ]
  },
  {
   "cell_type": "code",
   "execution_count": 55,
   "id": "2bf4f45b-821b-4ca8-b1d2-986990f3b6d4",
   "metadata": {},
   "outputs": [],
   "source": [
    "# Générer les prédictions sur les données de test\n",
    "preds_test = model.predict(final_X_test)\n",
    "\n",
    "# Sauvegarder les prédictions dans un fichier CSV\n",
    "output = pd.DataFrame({'Id': X_test.index, 'SalePrice': preds_test})\n",
    "output.to_csv('submission2.csv', index=False)"
   ]
  },
  {
   "cell_type": "markdown",
   "id": "9ce7f17f-94d3-44ca-bbf5-2da2796c4a3c",
   "metadata": {},
   "source": [
    "## Étape 4B : Prétraitement des données \"Imputation avec la médiane\""
   ]
  },
  {
   "cell_type": "code",
   "execution_count": 60,
   "id": "aca3008f-161b-4788-80a0-716b85d3287d",
   "metadata": {},
   "outputs": [
    {
     "name": "stdout",
     "output_type": "stream",
     "text": [
      "final_X_train dimensions: (1168, 36)\n",
      "final_X_valid dimensions: (292, 36)\n"
     ]
    }
   ],
   "source": [
    "# Nous utiliserons SimpleImputer avec la stratégie \"median\".\n",
    "\n",
    "from sklearn.impute import SimpleImputer\n",
    "\n",
    "# Imputation avec la médiane\n",
    "imputer = SimpleImputer(strategy='median')\n",
    "\n",
    "# Appliquer l'imputation sur les ensembles d'entraînement et de validation\n",
    "final_X_train = pd.DataFrame(imputer.fit_transform(X_train), columns=X_train.columns, index=X_train.index)\n",
    "final_X_valid = pd.DataFrame(imputer.transform(X_valid), columns=X_valid.columns, index=X_valid.index)\n",
    "\n",
    "# Vérification des dimensions\n",
    "print(f\"final_X_train dimensions: {final_X_train.shape}\")\n",
    "print(f\"final_X_valid dimensions: {final_X_valid.shape}\")\n"
   ]
  },
  {
   "cell_type": "code",
   "execution_count": 62,
   "id": "53c6fff1-8723-4b7b-9623-0826da1f9410",
   "metadata": {},
   "outputs": [
    {
     "name": "stdout",
     "output_type": "stream",
     "text": [
      "Valeurs manquantes dans final_X_test :\n",
      "0\n"
     ]
    }
   ],
   "source": [
    "# Appliquer l'imputation sur les données de test\n",
    "final_X_test = pd.DataFrame(imputer.transform(X_test), columns=X_test.columns, index=X_test.index)\n",
    "\n",
    "# Vérification des valeurs manquantes\n",
    "print(f\"Valeurs manquantes dans final_X_test :\\n{final_X_test.isnull().sum().sum()}\")\n"
   ]
  },
  {
   "cell_type": "code",
   "execution_count": 66,
   "id": "297a8246-130f-4040-8bc1-f13c2688572b",
   "metadata": {},
   "outputs": [
    {
     "name": "stdout",
     "output_type": "stream",
     "text": [
      "MAE (Imputation avec médiane):\n",
      "17791.59899543379\n",
      "Les prédictions ont été enregistrées dans le fichier 'submission.csv'.\n"
     ]
    }
   ],
   "source": [
    "from sklearn.ensemble import RandomForestRegressor\n",
    "from sklearn.metrics import mean_absolute_error\n",
    "\n",
    "# Entraînement du modèle\n",
    "model = RandomForestRegressor(n_estimators=100, random_state=0)\n",
    "model.fit(final_X_train, y_train)\n",
    "\n",
    "# Évaluation sur les données de validation\n",
    "preds_valid = model.predict(final_X_valid)\n",
    "print(\"MAE (Imputation avec médiane):\")\n",
    "print(mean_absolute_error(y_valid, preds_valid))\n",
    "\n",
    "# Prédictions sur l'ensemble de test\n",
    "preds_test = model.predict(final_X_test)\n",
    "\n",
    "# Sauvegarde des résultats\n",
    "output = pd.DataFrame({'Id': X_test.index, 'SalePrice': preds_test})\n",
    "output.to_csv('submission2b.csv', index=False)\n",
    "\n",
    "print(\"Les prédictions ont été enregistrées dans le fichier 'submission.csv'.\")\n"
   ]
  },
  {
   "cell_type": "code",
   "execution_count": null,
   "id": "c720c07f-bab0-4512-9169-c8688606b442",
   "metadata": {},
   "outputs": [],
   "source": []
  }
 ],
 "metadata": {
  "kernelspec": {
   "display_name": "Python [conda env:.conda-mooc-rr-jupyter]",
   "language": "python",
   "name": "conda-env-.conda-mooc-rr-jupyter-py"
  },
  "language_info": {
   "codemirror_mode": {
    "name": "ipython",
    "version": 3
   },
   "file_extension": ".py",
   "mimetype": "text/x-python",
   "name": "python",
   "nbconvert_exporter": "python",
   "pygments_lexer": "ipython3",
   "version": "3.7.12"
  }
 },
 "nbformat": 4,
 "nbformat_minor": 5
}
