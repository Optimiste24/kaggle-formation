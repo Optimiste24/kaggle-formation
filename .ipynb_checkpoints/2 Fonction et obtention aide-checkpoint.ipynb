{
 "cells": [
  {
   "cell_type": "markdown",
   "id": "1d040a52-b086-45b2-aab7-eb66813354d9",
   "metadata": {},
   "source": [
    "# Fondamentaux des fonctions en Python "
   ]
  },
  {
   "cell_type": "markdown",
   "id": "ee285bc7-46ad-4280-bdb8-9f68c27bf43d",
   "metadata": {},
   "source": [
    "Ce cours aborde les bases et les concepts fondamentaux des fonctions en Python, y compris leur définition, leur utilisation et les outils disponibles pour mieux comprendre et exploiter ces fonctions. Voici un résumé structuré des points clés :"
   ]
  },
  {
   "cell_type": "markdown",
   "id": "84f5ecd2-ad2c-4440-be05-901b36ddda3b",
   "metadata": {},
   "source": [
    "### 1. Obtenir de l'aide sur les fonctions\n",
    "\n",
    "La fonction help() est essentielle pour comprendre une fonction Python.\n",
    "\n",
    "Exemple : help(round) montre :\n",
    "\n",
    "La signature : round(number, ndigits=None)\n",
    "\n",
    "Une description de la fonction.\n",
    "\n",
    "Attention : Appliquez help à la fonction elle-même, pas à son résultat. Par exemple, help(round(-2.01)) analysera l'objet retourné par round."
   ]
  },
  {
   "cell_type": "markdown",
   "id": "102ff49e-9128-4e14-a8e6-002a62715f14",
   "metadata": {},
   "source": [
    "### 2. Définir nos propres fonctions\n",
    "\n",
    "Utilisez le mot-clé def suivi d'un nom, d'une liste d'arguments, et d'un bloc indenté."
   ]
  },
  {
   "cell_type": "code",
   "execution_count": 5,
   "id": "49ae198f-7922-4dd2-8c56-e6b801d6e32a",
   "metadata": {},
   "outputs": [],
   "source": [
    "def least_difference(a, b, c):\n",
    "    diff1 = abs(a - b)\n",
    "    diff2 = abs(b - c)\n",
    "    diff3 = abs(a - c)\n",
    "    return min(diff1, diff2, diff3)\n"
   ]
  },
  {
   "cell_type": "code",
   "execution_count": 7,
   "id": "3cc9691c-99cc-4056-81a7-d5cbf4b137aa",
   "metadata": {},
   "outputs": [
    {
     "name": "stdout",
     "output_type": "stream",
     "text": [
      "9\n"
     ]
    }
   ],
   "source": [
    "print(least_difference(1, 10, 100))"
   ]
  },
  {
   "cell_type": "markdown",
   "id": "61220753-5085-4a2b-8a4b-475b4a24a53c",
   "metadata": {},
   "source": [
    "### 3. Ajouter une docstring\n",
    "Une docstring est une chaîne de caractères décrivant une fonction, directement sous sa définition."
   ]
  },
  {
   "cell_type": "code",
   "execution_count": 10,
   "id": "b28ff7f1-3ebe-4a8f-99d5-c2d8401148ac",
   "metadata": {},
   "outputs": [],
   "source": [
    "def least_difference(a, b, c):\n",
    "    \"\"\"Retourne la plus petite différence entre deux nombres parmi a, b et c.\"\"\"\n",
    "    return min(abs(a - b), abs(b - c), abs(a - c))\n"
   ]
  },
  {
   "cell_type": "markdown",
   "id": "33630215-2dd4-4f04-b20c-eacb58feb8c2",
   "metadata": {},
   "source": [
    "### 4. Fonctions sans return\n",
    "Si une fonction ne contient pas de return, elle retourne implicitement None."
   ]
  },
  {
   "cell_type": "code",
   "execution_count": 13,
   "id": "4113f939-7305-467a-aa39-6844bf32a87c",
   "metadata": {},
   "outputs": [],
   "source": [
    "def no_return_example():\n",
    "    print(\"This function has no return.\")"
   ]
  },
  {
   "cell_type": "markdown",
   "id": "1b6faf00-3e13-4a5b-b30d-ee3a8821ab85",
   "metadata": {},
   "source": [
    "### 5. Arguments optionnels avec des valeurs par défaut"
   ]
  },
  {
   "cell_type": "code",
   "execution_count": 18,
   "id": "32dcbcaf-8f4f-412d-be2c-30e324f28937",
   "metadata": {},
   "outputs": [],
   "source": [
    "def greet(who=\"World\"):\n",
    "    print(f\"Hello, {who}!\")"
   ]
  },
  {
   "cell_type": "code",
   "execution_count": 20,
   "id": "806c7189-33a5-4cf2-90f1-16c902b0db22",
   "metadata": {},
   "outputs": [
    {
     "name": "stdout",
     "output_type": "stream",
     "text": [
      "Hello, World!\n",
      "Hello, Python!\n"
     ]
    }
   ],
   "source": [
    "greet()              # Hello, World!\n",
    "greet(\"Python\")      # Hello, Python!"
   ]
  },
  {
   "cell_type": "markdown",
   "id": "1f8914ad-965f-4f2b-80e4-e56b08370103",
   "metadata": {},
   "source": [
    "### 6. Fonctions appliquées à d'autres fonctions"
   ]
  },
  {
   "cell_type": "code",
   "execution_count": 23,
   "id": "18dfcb16-d692-4979-9627-6df23c5f7d92",
   "metadata": {},
   "outputs": [
    {
     "name": "stdout",
     "output_type": "stream",
     "text": [
      "15\n"
     ]
    }
   ],
   "source": [
    "def mult_by_five(x):\n",
    "    return 5 * x\n",
    "\n",
    "def call(fn, arg):\n",
    "    return fn(arg)\n",
    "\n",
    "print(call(mult_by_five, 3))  # Résultat : 15"
   ]
  },
  {
   "cell_type": "code",
   "execution_count": null,
   "id": "01b19f2f-1ff8-4749-9559-290314f2b469",
   "metadata": {},
   "outputs": [],
   "source": []
  }
 ],
 "metadata": {
  "kernelspec": {
   "display_name": "Python [conda env:base] *",
   "language": "python",
   "name": "conda-base-py"
  },
  "language_info": {
   "codemirror_mode": {
    "name": "ipython",
    "version": 3
   },
   "file_extension": ".py",
   "mimetype": "text/x-python",
   "name": "python",
   "nbconvert_exporter": "python",
   "pygments_lexer": "ipython3",
   "version": "3.12.7"
  }
 },
 "nbformat": 4,
 "nbformat_minor": 5
}
