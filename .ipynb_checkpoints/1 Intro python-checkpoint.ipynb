{
 "cells": [
  {
   "cell_type": "markdown",
   "id": "c992d58f-670d-4ac9-aa6f-fae3d399d360",
   "metadata": {},
   "source": [
    "# Introduction pratique à Python"
   ]
  },
  {
   "cell_type": "markdown",
   "id": "1702f023-410f-4017-9c2d-0c4bc90c0cfa",
   "metadata": {},
   "source": [
    "Ce cours donne une introduction pratique à Python en explorant les bases essentielles, notamment la syntaxe, l’affectation de variables, les opérateurs arithmétiques, et les fonctions intégrées. Voici un résumé des points clés et une approche pour votre exercice pratique :"
   ]
  },
  {
   "cell_type": "markdown",
   "id": "d5c14f49-2e63-413a-be8e-03c74b7039c0",
   "metadata": {},
   "source": [
    "### 1. Affectation de variables :\n",
    "\n",
    "Utilisation de = pour affecter une valeur à une variable.\n",
    "Pas besoin de déclarer ou définir un type explicitement en Python.\n"
   ]
  },
  {
   "cell_type": "code",
   "execution_count": 9,
   "id": "4ed79cf0-5e27-4c53-a7b8-c85815994570",
   "metadata": {},
   "outputs": [],
   "source": [
    "spam_amount = 0"
   ]
  },
  {
   "cell_type": "markdown",
   "id": "a6ee8be6-27c7-4f79-ae9c-33f04c9460ca",
   "metadata": {},
   "source": [
    "### 2. Fonctions intégrées :\n",
    "\n",
    "print(): affiche une valeur.\n",
    "\n",
    "type(): détermine le type d'une variable."
   ]
  },
  {
   "cell_type": "code",
   "execution_count": 13,
   "id": "7e788a79-10d2-4a46-8be7-3c7c19cc4596",
   "metadata": {},
   "outputs": [
    {
     "name": "stdout",
     "output_type": "stream",
     "text": [
      "<class 'float'>\n",
      "<class 'int'>\n",
      "<class 'str'>\n"
     ]
    }
   ],
   "source": [
    "print(type(3.14))  # float\n",
    "print(type(3))  \n",
    "print(type(\"Yassh\"))"
   ]
  },
  {
   "cell_type": "markdown",
   "id": "4d72ffef-0b64-4b5e-81c8-8e25a04057e0",
   "metadata": {},
   "source": [
    "### 3. Opérateurs arithmétiques :\n",
    "\n",
    "Addition (+), soustraction (-), multiplication (*), division (/), etc."
   ]
  },
  {
   "cell_type": "code",
   "execution_count": 18,
   "id": "ea17c069-095e-46cf-9cf0-16bea2ce6775",
   "metadata": {},
   "outputs": [
    {
     "data": {
      "text/plain": [
       "7"
      ]
     },
     "execution_count": 18,
     "metadata": {},
     "output_type": "execute_result"
    }
   ],
   "source": [
    "result = (8 - 3) + 2 \n",
    "result"
   ]
  },
  {
   "cell_type": "markdown",
   "id": "4c8d437d-109d-4a9b-9f73-a7074b39185e",
   "metadata": {},
   "source": [
    "### 4. Chaînes de caractères :\n",
    "\n",
    "Définies avec des guillemets simples ' ou doubles \".\n",
    "\n",
    "Multiplication de chaînes pour les répéter."
   ]
  },
  {
   "cell_type": "code",
   "execution_count": 21,
   "id": "22bf32d5-3437-4813-8e95-b7616b69658e",
   "metadata": {},
   "outputs": [
    {
     "name": "stdout",
     "output_type": "stream",
     "text": [
      "Spam Spam Spam Spam \n"
     ]
    }
   ],
   "source": [
    "viking_song = \"Spam \" * 4\n",
    "print(viking_song)  # Spam Spam Spam Spam"
   ]
  },
  {
   "cell_type": "markdown",
   "id": "4811f809-b60a-4fcc-8245-88c5e971611a",
   "metadata": {},
   "source": [
    "### 5. Blocs conditionnels :\n",
    "\n",
    "Utilisation de if avec une indentation pour structurer le code."
   ]
  },
  {
   "cell_type": "code",
   "execution_count": 26,
   "id": "902fe07e-8b59-4d23-b378-d6199b80adb1",
   "metadata": {},
   "outputs": [
    {
     "name": "stdout",
     "output_type": "stream",
     "text": [
      "But I don't want ANY spam!\n"
     ]
    }
   ],
   "source": [
    "if spam_amount > -1:\n",
    "    print(\"But I don't want ANY spam!\")"
   ]
  },
  {
   "cell_type": "markdown",
   "id": "89cceada-b2a8-4513-aa7f-2fff624bfa74",
   "metadata": {},
   "source": [
    "# Exercice pratique proposé :\n",
    "\n",
    "Créez un programme Python qui :\n",
    "\n",
    "Calcule le prix total d’une commande de nourriture avec taxes.\n",
    "    \n",
    "Affiche les éléments du menu et leur quantité.\n",
    "    \n",
    "Multiplie une chaîne pour simuler un slogan promotionnel."
   ]
  },
  {
   "cell_type": "code",
   "execution_count": 29,
   "id": "b6f72f17-5e3e-4fc4-b06b-0a9b57c13f0f",
   "metadata": {},
   "outputs": [
    {
     "name": "stdout",
     "output_type": "stream",
     "text": [
      "Burgers : 2 x $4.50\n",
      "Fries   : 1 x $2.50\n",
      "Drinks  : 2 x $1.75\n",
      "Subtotal: $15.00\n",
      "Total (with tax): $16.20\n",
      "Tasty Food! Tasty Food! Tasty Food! \n"
     ]
    }
   ],
   "source": [
    "# Étape 1 : Déclaration des variables\n",
    "tax_rate = 0.08  # Taux de taxes (8%)\n",
    "burger_price = 4.50\n",
    "fries_price = 2.50\n",
    "drink_price = 1.75\n",
    "\n",
    "# Étape 2 : Quantités commandées\n",
    "burgers = 2\n",
    "fries = 1\n",
    "drinks = 2\n",
    "\n",
    "# Étape 3 : Calcul du coût\n",
    "subtotal = (burger_price * burgers) + (fries_price * fries) + (drink_price * drinks)\n",
    "total = subtotal * (1 + tax_rate)\n",
    "\n",
    "# Étape 4 : Affichage des résultats\n",
    "print(f\"Burgers : {burgers} x ${burger_price:.2f}\")\n",
    "print(f\"Fries   : {fries} x ${fries_price:.2f}\")\n",
    "print(f\"Drinks  : {drinks} x ${drink_price:.2f}\")\n",
    "print(f\"Subtotal: ${subtotal:.2f}\")\n",
    "print(f\"Total (with tax): ${total:.2f}\")\n",
    "\n",
    "# Étape 5 : Slogan promotionnel\n",
    "slogan = \"Tasty Food! \" * 3\n",
    "print(slogan)\n"
   ]
  },
  {
   "cell_type": "code",
   "execution_count": null,
   "id": "18df2fd9-90d9-4867-9f28-790936f960f0",
   "metadata": {},
   "outputs": [],
   "source": []
  }
 ],
 "metadata": {
  "kernelspec": {
   "display_name": "Python [conda env:base] *",
   "language": "python",
   "name": "conda-base-py"
  },
  "language_info": {
   "codemirror_mode": {
    "name": "ipython",
    "version": 3
   },
   "file_extension": ".py",
   "mimetype": "text/x-python",
   "name": "python",
   "nbconvert_exporter": "python",
   "pygments_lexer": "ipython3",
   "version": "3.12.7"
  }
 },
 "nbformat": 4,
 "nbformat_minor": 5
}
