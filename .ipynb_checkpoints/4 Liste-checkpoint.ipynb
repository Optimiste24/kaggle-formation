{
 "cells": [
  {
   "cell_type": "markdown",
   "id": "5c1ec657-8877-47b9-9e3e-09a067062d68",
   "metadata": {},
   "source": [
    "# Liste "
   ]
  },
  {
   "cell_type": "markdown",
   "id": "b9841543-c9e2-4ac8-9d31-35a4b521a0c4",
   "metadata": {},
   "source": [
    "Une liste est une collection ordonnée et modifiable d'éléments."
   ]
  },
  {
   "cell_type": "code",
   "execution_count": 3,
   "id": "ba6cfc38-5a3c-4182-8bdf-56367bea9e23",
   "metadata": {},
   "outputs": [],
   "source": [
    "nombres_premiers = [2, 3, 5, 7]\n",
    "planètes = ['Mercure', 'Vénus', 'Terre', 'Mars', 'Jupiter', 'Saturne', 'Uranus', 'Neptune']\n",
    "mains = [['J', 'Q', 'K'], ['2', '2', '2'], ['6', 'A', 'K']]"
   ]
  },
  {
   "cell_type": "code",
   "execution_count": 5,
   "id": "0360c1d4-0a55-466d-b8f0-9ba4aaacaf41",
   "metadata": {},
   "outputs": [],
   "source": [
    "# Types mixtes :\n",
    "mes_choses_préférées = [32, 'gouttes de pluie sur les roses', help]"
   ]
  },
  {
   "cell_type": "code",
   "execution_count": 9,
   "id": "285d06f9-7a5a-4032-ad45-620ea8a14b1f",
   "metadata": {},
   "outputs": [
    {
     "name": "stdout",
     "output_type": "stream",
     "text": [
      "Mercure Neptune\n"
     ]
    }
   ],
   "source": [
    "# Accéder aux éléments par leur index (les indices commencent à 0) :\n",
    "a=planètes[0]  # 'Mercure'\n",
    "b=planètes[-1]  # 'Neptune'\n",
    "print (a,b)"
   ]
  },
  {
   "cell_type": "code",
   "execution_count": 11,
   "id": "4ed57407-6465-4c69-86ee-94402521bb24",
   "metadata": {},
   "outputs": [
    {
     "data": {
      "text/plain": [
       "['Vénus', 'Terre', 'Mars', 'Jupiter', 'Saturne', 'Uranus']"
      ]
     },
     "execution_count": 11,
     "metadata": {},
     "output_type": "execute_result"
    }
   ],
   "source": [
    "planètes[:3]  # ['Mercure', 'Vénus', 'Terre']\n",
    "planètes[3:]  # ['Mars', 'Jupiter', 'Saturne', 'Uranus', 'Neptune']\n",
    "planètes[1:-1]  # ['Vénus', 'Terre', 'Mars', 'Jupiter', 'Saturne', 'Uranus']"
   ]
  },
  {
   "cell_type": "code",
   "execution_count": 15,
   "id": "90dc4a1f-60a8-42c0-bebf-dade162b5efe",
   "metadata": {},
   "outputs": [],
   "source": [
    "planètes[3] = 'Malacandra'\n",
    "planètes[:3] = ['Mur', 'Vee', 'Ur']"
   ]
  },
  {
   "cell_type": "markdown",
   "id": "f3306302-b8e4-4aad-8e14-a71cfa80297c",
   "metadata": {},
   "source": [
    "### Fonctions Utiles pour les Listes"
   ]
  },
  {
   "cell_type": "code",
   "execution_count": 18,
   "id": "659f47b6-5d3a-4ae7-a3df-2a952da73574",
   "metadata": {},
   "outputs": [
    {
     "data": {
      "text/plain": [
       "8"
      ]
     },
     "execution_count": 18,
     "metadata": {},
     "output_type": "execute_result"
    }
   ],
   "source": [
    "len(planètes)  # 8"
   ]
  },
  {
   "cell_type": "code",
   "execution_count": 22,
   "id": "7c5c017b-db81-4dd5-b26c-4060c9f97e54",
   "metadata": {},
   "outputs": [
    {
     "data": {
      "text/plain": [
       "['Jupiter', 'Malacandra', 'Mur', 'Neptune', 'Saturne', 'Ur', 'Uranus', 'Vee']"
      ]
     },
     "execution_count": 22,
     "metadata": {},
     "output_type": "execute_result"
    }
   ],
   "source": [
    "# Trier les éléments \n",
    "sorted(planètes)  # Tri par ordre alphabétique"
   ]
  },
  {
   "cell_type": "code",
   "execution_count": 24,
   "id": "c1859e43-2fd4-4d8d-a76a-67c3de97913b",
   "metadata": {},
   "outputs": [
    {
     "data": {
      "text/plain": [
       "7"
      ]
     },
     "execution_count": 24,
     "metadata": {},
     "output_type": "execute_result"
    }
   ],
   "source": [
    "sum([2, 3, 5, 7])  # 17\n",
    "max([2, 3, 5, 7])  # 7"
   ]
  },
  {
   "cell_type": "markdown",
   "id": "8d3ed3c2-5d43-4554-af0a-08943f627b43",
   "metadata": {},
   "source": [
    "### Méthodes des listes"
   ]
  },
  {
   "cell_type": "code",
   "execution_count": 30,
   "id": "c316f0b3-2dd0-4072-a0e9-d0a92a0114fe",
   "metadata": {},
   "outputs": [
    {
     "name": "stdout",
     "output_type": "stream",
     "text": [
      "['Mur', 'Vee', 'Ur', 'Malacandra', 'Jupiter', 'Saturne', 'Uranus', 'Neptune', 'Pluton', 'Pluton']\n"
     ]
    }
   ],
   "source": [
    "# Ajouter un élément à la fin\n",
    "planètes.append('Pluton')\n",
    "print (planètes)"
   ]
  },
  {
   "cell_type": "code",
   "execution_count": 32,
   "id": "91f86093-3402-47b1-8f13-cdefb8cece20",
   "metadata": {},
   "outputs": [
    {
     "data": {
      "text/plain": [
       "'Pluton'"
      ]
     },
     "execution_count": 32,
     "metadata": {},
     "output_type": "execute_result"
    }
   ],
   "source": [
    "# Retirer et renvoyer le dernier élément\n",
    "planètes.pop()  # 'Pluton'"
   ]
  },
  {
   "cell_type": "code",
   "execution_count": 34,
   "id": "5bacc9fe-4965-4212-a000-e0538988536f",
   "metadata": {},
   "outputs": [
    {
     "ename": "ValueError",
     "evalue": "'Terre' is not in list",
     "output_type": "error",
     "traceback": [
      "\u001b[1;31m---------------------------------------------------------------------------\u001b[0m",
      "\u001b[1;31mValueError\u001b[0m                                Traceback (most recent call last)",
      "Cell \u001b[1;32mIn[34], line 2\u001b[0m\n\u001b[0;32m      1\u001b[0m \u001b[38;5;66;03m# Obtenir l'index d'un élément\u001b[39;00m\n\u001b[1;32m----> 2\u001b[0m planètes\u001b[38;5;241m.\u001b[39mindex(\u001b[38;5;124m'\u001b[39m\u001b[38;5;124mTerre\u001b[39m\u001b[38;5;124m'\u001b[39m)\n",
      "\u001b[1;31mValueError\u001b[0m: 'Terre' is not in list"
     ]
    }
   ],
   "source": [
    "# Obtenir l'index d'un élément\n",
    "planètes.index('Terre')  # 2"
   ]
  },
  {
   "cell_type": "code",
   "execution_count": 36,
   "id": "4f680f93-fdec-4e5e-b2c5-cf28d9c060f5",
   "metadata": {},
   "outputs": [
    {
     "data": {
      "text/plain": [
       "False"
      ]
     },
     "execution_count": 36,
     "metadata": {},
     "output_type": "execute_result"
    }
   ],
   "source": [
    "# Vérifier si un élément est présent\n",
    "\"Terre\" in planètes  # True"
   ]
  },
  {
   "cell_type": "markdown",
   "id": "869f0ffc-0fce-4ea7-878a-38d477bf8d85",
   "metadata": {},
   "source": [
    "### Les Tuples\n",
    "Collections ordonnées mais immuables."
   ]
  },
  {
   "cell_type": "code",
   "execution_count": 39,
   "id": "eca98517-eac7-46da-a60e-71aba494218b",
   "metadata": {},
   "outputs": [],
   "source": [
    "t = (1, 2, 3)\n",
    "t = 1, 2, 3  # Équivalent"
   ]
  },
  {
   "cell_type": "code",
   "execution_count": 41,
   "id": "b491b76d-32fc-4a2f-a5f3-46e47f96b412",
   "metadata": {},
   "outputs": [
    {
     "ename": "TypeError",
     "evalue": "'tuple' object does not support item assignment",
     "output_type": "error",
     "traceback": [
      "\u001b[1;31m---------------------------------------------------------------------------\u001b[0m",
      "\u001b[1;31mTypeError\u001b[0m                                 Traceback (most recent call last)",
      "Cell \u001b[1;32mIn[41], line 2\u001b[0m\n\u001b[0;32m      1\u001b[0m \u001b[38;5;66;03m# Immuabilité\u001b[39;00m\n\u001b[1;32m----> 2\u001b[0m t[\u001b[38;5;241m0\u001b[39m] \u001b[38;5;241m=\u001b[39m \u001b[38;5;241m100\u001b[39m\n",
      "\u001b[1;31mTypeError\u001b[0m: 'tuple' object does not support item assignment"
     ]
    }
   ],
   "source": [
    "# Immuabilité\n",
    "t[0] = 100  # TypeError"
   ]
  },
  {
   "cell_type": "markdown",
   "id": "9139d27c-f04f-40f6-b42c-d9ddd06b4894",
   "metadata": {},
   "source": [
    "### Cas d'utilisation courant : Retourner plusieurs valeurs depuis une fonction."
   ]
  },
  {
   "cell_type": "code",
   "execution_count": 44,
   "id": "5b149034-28ed-4a2f-b114-6af2a1f1912e",
   "metadata": {},
   "outputs": [
    {
     "name": "stdout",
     "output_type": "stream",
     "text": [
      "1 8\n"
     ]
    }
   ],
   "source": [
    "x = 0.125\n",
    "numérateur, dénominateur = x.as_integer_ratio()\n",
    "print(numérateur, dénominateur)  # 1, 8"
   ]
  },
  {
   "cell_type": "code",
   "execution_count": null,
   "id": "0cccf981-03f4-48a8-b139-c3458de78326",
   "metadata": {},
   "outputs": [],
   "source": []
  }
 ],
 "metadata": {
  "kernelspec": {
   "display_name": "Python [conda env:base] *",
   "language": "python",
   "name": "conda-base-py"
  },
  "language_info": {
   "codemirror_mode": {
    "name": "ipython",
    "version": 3
   },
   "file_extension": ".py",
   "mimetype": "text/x-python",
   "name": "python",
   "nbconvert_exporter": "python",
   "pygments_lexer": "ipython3",
   "version": "3.12.7"
  }
 },
 "nbformat": 4,
 "nbformat_minor": 5
}
