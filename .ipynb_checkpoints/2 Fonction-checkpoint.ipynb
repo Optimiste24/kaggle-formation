{
 "cells": [
  {
   "cell_type": "markdown",
   "id": "9bdba4f0-a48f-4ddb-be8b-a1446bd84911",
   "metadata": {},
   "source": [
    "# Introduction aux fonctions en Python"
   ]
  },
  {
   "cell_type": "code",
   "execution_count": 1,
   "id": "e55f23c6-9ade-40d1-b18a-cb0a8197e47c",
   "metadata": {},
   "outputs": [],
   "source": [
    "# 1. Définition d'une fonction simple\n",
    "def saluer():\n",
    "    \"\"\"Cette fonction affiche un simple message de salutation.\"\"\"\n",
    "    print(\"Bonjour, bienvenue au cours sur les fonctions !\")\n"
   ]
  },
  {
   "cell_type": "code",
   "execution_count": 2,
   "id": "1b1a2bf4-ca52-49b6-8775-395eaed67fac",
   "metadata": {},
   "outputs": [
    {
     "name": "stdout",
     "output_type": "stream",
     "text": [
      "Bonjour, bienvenue au cours sur les fonctions !\n"
     ]
    }
   ],
   "source": [
    "# Appel de la fonction\n",
    "saluer()"
   ]
  },
  {
   "cell_type": "code",
   "execution_count": 3,
   "id": "7b99e814-a705-421a-a86b-75042f7ff591",
   "metadata": {},
   "outputs": [],
   "source": [
    "# 2. Fonction avec paramètres\n",
    "def saluer_personne(nom):\n",
    "    \"\"\"Cette fonction salue une personne spécifique.\"\"\"\n",
    "    print(f\"Bonjour, {nom} !\")"
   ]
  },
  {
   "cell_type": "code",
   "execution_count": 4,
   "id": "3f88b885-60c2-423c-a5d5-418af7add976",
   "metadata": {},
   "outputs": [
    {
     "name": "stdout",
     "output_type": "stream",
     "text": [
      "Bonjour, Yassh !\n"
     ]
    }
   ],
   "source": [
    "# Appel de la fonction avec un argument\n",
    "saluer_personne(\"Yassh\")"
   ]
  },
  {
   "cell_type": "code",
   "execution_count": 5,
   "id": "17d49eb5-9294-43d8-9899-4171fa759bab",
   "metadata": {},
   "outputs": [],
   "source": [
    "# 3. Fonction avec valeur de retour\n",
    "def carre(nombre):\n",
    "    \"\"\"Cette fonction retourne le carré d'un nombre.\"\"\"\n",
    "    return nombre ** 2"
   ]
  },
  {
   "cell_type": "code",
   "execution_count": 6,
   "id": "2f41f965-5aa1-41c1-887d-f586023430a5",
   "metadata": {},
   "outputs": [
    {
     "name": "stdout",
     "output_type": "stream",
     "text": [
      "Le carré de 4 est : 16\n"
     ]
    }
   ],
   "source": [
    "# Utilisation de la fonction et stockage du résultat\n",
    "resultat = carre(4)\n",
    "print(f\"Le carré de 4 est : {resultat}\")"
   ]
  },
  {
   "cell_type": "code",
   "execution_count": 7,
   "id": "df52623c-e185-4247-8337-9fdbc23dfaa2",
   "metadata": {},
   "outputs": [],
   "source": [
    "# 4. Fonction avec paramètres par défaut\n",
    "def puissance(base, exposant=2):\n",
    "    \"\"\"Cette fonction calcule une puissance avec un exposant par défaut de 2.\"\"\"\n",
    "    return base ** exposant\n"
   ]
  },
  {
   "cell_type": "code",
   "execution_count": 8,
   "id": "c3afc1ea-8aa3-427b-9805-5edb0b4f0f8c",
   "metadata": {},
   "outputs": [
    {
     "data": {
      "text/plain": [
       "4"
      ]
     },
     "execution_count": 8,
     "metadata": {},
     "output_type": "execute_result"
    }
   ],
   "source": [
    "puissance(2, exposant=2)"
   ]
  },
  {
   "cell_type": "code",
   "execution_count": 9,
   "id": "107f02d7-fc5b-4228-9828-dffb35c26438",
   "metadata": {},
   "outputs": [
    {
     "name": "stdout",
     "output_type": "stream",
     "text": [
      "9\n",
      "27\n"
     ]
    }
   ],
   "source": [
    "# Utilisation de la fonction avec et sans l'argument optionnel\n",
    "print(puissance(3))    # Utilise l'exposant par défaut (2)\n",
    "print(puissance(3, 3)) # Spécifie un exposant différent"
   ]
  },
  {
   "cell_type": "code",
   "execution_count": 10,
   "id": "40f7120f-ada6-484c-8273-b7d8ca1b5011",
   "metadata": {},
   "outputs": [],
   "source": [
    "# 5. Fonction avec un nombre variable d'arguments\n",
    "def somme(*args):\n",
    "    \"\"\"Cette fonction calcule la somme d'un nombre variable d'arguments.\"\"\"\n",
    "    return sum(args)"
   ]
  },
  {
   "cell_type": "code",
   "execution_count": 11,
   "id": "2a6d5289-2b93-4acc-917c-ca25ffa661c8",
   "metadata": {},
   "outputs": [
    {
     "name": "stdout",
     "output_type": "stream",
     "text": [
      "6\n",
      "150\n"
     ]
    }
   ],
   "source": [
    "# Utilisation de la fonction avec différents nombres d'arguments\n",
    "print(somme(1, 2, 3))\n",
    "print(somme(10, 20, 30, 40, 50))"
   ]
  },
  {
   "cell_type": "code",
   "execution_count": 12,
   "id": "439adf19-d05d-4f78-b6a4-5c62d5540138",
   "metadata": {},
   "outputs": [],
   "source": [
    "# 6. Docstrings et aide\n",
    "def aire_rectangle(longueur, largeur):\n",
    "    \"\"\"\n",
    "    Calcule l'aire d'un rectangle.\n",
    "    \n",
    "    Args:\n",
    "    longueur (float): La longueur du rectangle\n",
    "    largeur (float): La largeur du rectangle\n",
    "    \n",
    "    Returns:\n",
    "    float: L'aire du rectangle\n",
    "    \"\"\"\n",
    "    return longueur * largeur"
   ]
  },
  {
   "cell_type": "code",
   "execution_count": 13,
   "id": "3e62be64-8cb9-4f3f-8f26-6dcfdebd797d",
   "metadata": {},
   "outputs": [
    {
     "name": "stdout",
     "output_type": "stream",
     "text": [
      "\n",
      "    Calcule l'aire d'un rectangle.\n",
      "    \n",
      "    Args:\n",
      "    longueur (float): La longueur du rectangle\n",
      "    largeur (float): La largeur du rectangle\n",
      "    \n",
      "    Returns:\n",
      "    float: L'aire du rectangle\n",
      "    \n"
     ]
    }
   ],
   "source": [
    "# Affichage de la docstring\n",
    "print(aire_rectangle.__doc__)"
   ]
  },
  {
   "cell_type": "code",
   "execution_count": 14,
   "id": "5fecf9ff-ea8d-4f7d-bc27-0a1a278425af",
   "metadata": {},
   "outputs": [],
   "source": [
    "# 7. Fonctions comme objets de première classe\n",
    "def operation(func, x, y):\n",
    "    \"\"\"Applique une fonction donnée à deux arguments.\"\"\"\n",
    "    return func(x, y)\n",
    "\n",
    "def addition(a, b):\n",
    "    return a + b\n",
    "\n",
    "def multiplication(a, b):\n",
    "    return a * b"
   ]
  },
  {
   "cell_type": "code",
   "execution_count": 15,
   "id": "96bf8216-4df7-4ea3-875d-e3226c1e8a0b",
   "metadata": {},
   "outputs": [
    {
     "name": "stdout",
     "output_type": "stream",
     "text": [
      "8\n",
      "15\n"
     ]
    }
   ],
   "source": [
    "# Utilisation de fonctions comme arguments\n",
    "print(operation(addition, 5, 3))\n",
    "print(operation(multiplication, 5, 3))"
   ]
  },
  {
   "cell_type": "code",
   "execution_count": 16,
   "id": "f2e4ea65-c9f3-4c77-a019-bf847516fe3e",
   "metadata": {},
   "outputs": [
    {
     "name": "stdout",
     "output_type": "stream",
     "text": [
      "16\n"
     ]
    }
   ],
   "source": [
    "# 8. Fonctions lambda (fonctions anonymes)\n",
    "carre_lambda = lambda x: x**2\n",
    "print(carre_lambda(4))"
   ]
  },
  {
   "cell_type": "code",
   "execution_count": 17,
   "id": "80ab6671-ec87-42e2-a50d-d904da12cad3",
   "metadata": {},
   "outputs": [
    {
     "name": "stdout",
     "output_type": "stream",
     "text": [
      "Avant la fonction : 10\n",
      "Après la fonction : 20\n"
     ]
    }
   ],
   "source": [
    "# 9. Portée des variables et fonctions\n",
    "x = 10  # Variable globale\n",
    "\n",
    "def modifier_x():\n",
    "    global x\n",
    "    x = 20  # Modifie la variable globale\n",
    "\n",
    "print(f\"Avant la fonction : {x}\")\n",
    "modifier_x()\n",
    "print(f\"Après la fonction : {x}\")"
   ]
  },
  {
   "cell_type": "code",
   "execution_count": 18,
   "id": "af1d20cf-5d6b-49bb-a4f1-cbe47bba0efd",
   "metadata": {},
   "outputs": [
    {
     "name": "stdout",
     "output_type": "stream",
     "text": [
      "16.2\n"
     ]
    }
   ],
   "source": [
    "# 10. Exercice pratique\n",
    "def calculer_moyenne(*notes):\n",
    "    \"\"\"Calcule la moyenne d'un ensemble de notes.\"\"\"\n",
    "    if len(notes) == 0:\n",
    "        return 0\n",
    "    return sum(notes) / len(notes)\n",
    "\n",
    "# Test de la fonction\n",
    "print(calculer_moyenne(15, 17, 19, 14, 16))"
   ]
  },
  {
   "cell_type": "markdown",
   "id": "752cface-6da1-4ffa-a70d-99a979f0a817",
   "metadata": {},
   "source": [
    "### Compétences :\n",
    "\n",
    "Ce cours structuré couvre les aspects fondamentaux des fonctions en Python, en commençant par les concepts de base et en progressant vers des utilisations plus avancées. "
   ]
  },
  {
   "cell_type": "code",
   "execution_count": null,
   "id": "64612f9f-18df-400a-9123-6bd229931c79",
   "metadata": {},
   "outputs": [],
   "source": []
  }
 ],
 "metadata": {
  "kernelspec": {
   "display_name": "Python 3 (ipykernel)",
   "language": "python",
   "name": "python3"
  },
  "language_info": {
   "codemirror_mode": {
    "name": "ipython",
    "version": 3
   },
   "file_extension": ".py",
   "mimetype": "text/x-python",
   "name": "python",
   "nbconvert_exporter": "python",
   "pygments_lexer": "ipython3",
   "version": "3.7.12"
  }
 },
 "nbformat": 4,
 "nbformat_minor": 5
}
