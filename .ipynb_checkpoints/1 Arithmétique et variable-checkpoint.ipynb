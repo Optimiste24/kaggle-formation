{
 "cells": [
  {
   "cell_type": "markdown",
   "id": "37c879e4-8201-4c31-a795-3bd6ea1050f5",
   "metadata": {},
   "source": [
    "# Bienvenue au cours d'Introduction à la Programmation !\n"
   ]
  },
  {
   "cell_type": "code",
   "execution_count": 3,
   "id": "14a609c4-d827-474a-a6c4-e67c89ed7bfb",
   "metadata": {},
   "outputs": [
    {
     "name": "stdout",
     "output_type": "stream",
     "text": [
      "Hello, world!\n"
     ]
    }
   ],
   "source": [
    "# Impression\n",
    "print(\"Hello, world!\")"
   ]
  },
  {
   "cell_type": "code",
   "execution_count": 4,
   "id": "cf2fa8e5-bd72-4140-ba32-662347251e02",
   "metadata": {},
   "outputs": [
    {
     "name": "stdout",
     "output_type": "stream",
     "text": [
      "3\n",
      "4\n"
     ]
    }
   ],
   "source": [
    "# Arithmétique\n",
    "print(1 + 2)\n",
    "print(9 - 5)"
   ]
  },
  {
   "cell_type": "code",
   "execution_count": 5,
   "id": "664c584a-8010-414f-a1cc-11e4db796734",
   "metadata": {},
   "outputs": [
    {
     "name": "stdout",
     "output_type": "stream",
     "text": [
      "196.0\n"
     ]
    }
   ],
   "source": [
    "# Calcul plus complexe\n",
    "print(((1 + 3) * (9 - 2) / 2) ** 2)"
   ]
  },
  {
   "cell_type": "code",
   "execution_count": 6,
   "id": "8c04196f-7393-49ce-b312-2b89ff8e699e",
   "metadata": {},
   "outputs": [
    {
     "name": "stdout",
     "output_type": "stream",
     "text": [
      "6\n"
     ]
    }
   ],
   "source": [
    "# Commentaires\n",
    "# Multiply 3 by 2\n",
    "print(3 * 2)"
   ]
  },
  {
   "cell_type": "code",
   "execution_count": 7,
   "id": "6cdd5849-40b5-4d2c-8f52-01add2baa726",
   "metadata": {},
   "outputs": [
    {
     "name": "stdout",
     "output_type": "stream",
     "text": [
      "9\n"
     ]
    }
   ],
   "source": [
    "# Variables\n",
    "test_var = 4 + 5\n",
    "print(test_var)"
   ]
  },
  {
   "cell_type": "code",
   "execution_count": 8,
   "id": "7dc37d7c-c527-41b3-ac4d-e1d12987ea3c",
   "metadata": {},
   "outputs": [
    {
     "name": "stdout",
     "output_type": "stream",
     "text": [
      "3\n"
     ]
    }
   ],
   "source": [
    "my_var = 3\n",
    "print(my_var)"
   ]
  },
  {
   "cell_type": "code",
   "execution_count": 9,
   "id": "4f894d91-d9e7-4fc7-8183-4f621eb80579",
   "metadata": {},
   "outputs": [
    {
     "name": "stdout",
     "output_type": "stream",
     "text": [
      "100\n"
     ]
    }
   ],
   "source": [
    "my_var = 100\n",
    "print(my_var)"
   ]
  },
  {
   "cell_type": "code",
   "execution_count": 10,
   "id": "39884ef4-5e8d-41b7-acda-b0cb0c7e5ca5",
   "metadata": {},
   "outputs": [
    {
     "name": "stdout",
     "output_type": "stream",
     "text": [
      "103\n"
     ]
    }
   ],
   "source": [
    "my_var = my_var + 3\n",
    "print(my_var)"
   ]
  },
  {
   "cell_type": "code",
   "execution_count": 11,
   "id": "314e481a-839b-4691-8e19-5dc57c5219f8",
   "metadata": {},
   "outputs": [
    {
     "name": "stdout",
     "output_type": "stream",
     "text": [
      "126144000\n"
     ]
    }
   ],
   "source": [
    "# Utilisation de plusieurs variables\n",
    "num_years = 4\n",
    "days_per_year = 365\n",
    "hours_per_day = 24\n",
    "mins_per_hour = 60\n",
    "secs_per_min = 60\n",
    "\n",
    "total_secs = secs_per_min * mins_per_hour * hours_per_day * days_per_year * num_years\n",
    "print(total_secs)\n"
   ]
  },
  {
   "cell_type": "code",
   "execution_count": 12,
   "id": "cfe61e8c-d54b-41ef-998e-c65c8c7959d0",
   "metadata": {},
   "outputs": [
    {
     "name": "stdout",
     "output_type": "stream",
     "text": [
      "126230400.0\n"
     ]
    }
   ],
   "source": [
    "# Mise à jour pour inclure les années bissextiles\n",
    "days_per_year = 365.25\n",
    "total_secs = secs_per_min * mins_per_hour * hours_per_day * days_per_year * num_years\n",
    "print(total_secs)"
   ]
  },
  {
   "cell_type": "code",
   "execution_count": 13,
   "id": "13d16632-59dc-47ac-9058-d809b009bc6d",
   "metadata": {},
   "outputs": [
    {
     "name": "stdout",
     "output_type": "stream",
     "text": [
      "24\n"
     ]
    }
   ],
   "source": [
    "# Débogage\n",
    "print(hours_per_day)"
   ]
  },
  {
   "cell_type": "markdown",
   "id": "07ee3550-ddd4-475c-a7ce-df5da710e7cb",
   "metadata": {},
   "source": [
    "### Compétences \n",
    "\n",
    "Elle couvre l'impression, l'arithmétique, les commentaires, la création et manipulation de variables, l'utilisation de plusieurs variables pour des calculs complexes, et un exemple de débogage."
   ]
  },
  {
   "cell_type": "markdown",
   "id": "075ca9ae-577e-4339-bb48-b5000df9a96b",
   "metadata": {},
   "source": [
    "# Exercice : Arithmétique et Variables"
   ]
  },
  {
   "cell_type": "code",
   "execution_count": 15,
   "id": "5c5b4f50-5731-4ca6-a602-09c3596e01ad",
   "metadata": {},
   "outputs": [],
   "source": [
    "# 1. Création de variables\n",
    "x = 1\n",
    "y = 2"
   ]
  },
  {
   "cell_type": "code",
   "execution_count": 16,
   "id": "b1f211b9-6b82-4d29-8006-476b720d6b12",
   "metadata": {},
   "outputs": [
    {
     "name": "stdout",
     "output_type": "stream",
     "text": [
      "x = 1\n",
      "y = 2\n"
     ]
    }
   ],
   "source": [
    "# Affichage des valeurs\n",
    "print(\"x =\", x)\n",
    "print(\"y =\", y)"
   ]
  },
  {
   "cell_type": "code",
   "execution_count": 17,
   "id": "8cdefafe-95a3-474f-afa1-c5faa16bda95",
   "metadata": {},
   "outputs": [
    {
     "name": "stdout",
     "output_type": "stream",
     "text": [
      "Somme : 3\n",
      "Différence : -1\n",
      "Produit : 2\n",
      "Quotient : 0.5\n"
     ]
    }
   ],
   "source": [
    "# 2. Opérations arithmétiques de base\n",
    "somme = x + y\n",
    "difference = x - y\n",
    "produit = x * y\n",
    "quotient = x / y\n",
    "\n",
    "print(\"Somme :\", somme)\n",
    "print(\"Différence :\", difference)\n",
    "print(\"Produit :\", produit)\n",
    "print(\"Quotient :\", quotient)"
   ]
  },
  {
   "cell_type": "code",
   "execution_count": 18,
   "id": "ab350a7e-a59a-4b78-b167-9b5d3dcc23d1",
   "metadata": {},
   "outputs": [
    {
     "name": "stdout",
     "output_type": "stream",
     "text": [
      "z = (x + y) * (x - y) = -3\n"
     ]
    }
   ],
   "source": [
    "# 3. Opérations plus complexes\n",
    "z = (x + y) * (x - y)\n",
    "print(\"z = (x + y) * (x - y) =\", z)"
   ]
  },
  {
   "cell_type": "code",
   "execution_count": 19,
   "id": "8214619f-2593-46ba-89d2-9ab5797afbb9",
   "metadata": {},
   "outputs": [
    {
     "name": "stdout",
     "output_type": "stream",
     "text": [
      "Nouvelle valeur de x : 2\n",
      "Nouvelle valeur de y : 4\n"
     ]
    }
   ],
   "source": [
    "# 4. Mise à jour de variables\n",
    "x = x + 1\n",
    "y *= 2\n",
    "\n",
    "print(\"Nouvelle valeur de x :\", x)\n",
    "print(\"Nouvelle valeur de y :\", y)"
   ]
  },
  {
   "cell_type": "code",
   "execution_count": 20,
   "id": "1cb31041-5db8-4f79-b55f-0bbc0b4aacc1",
   "metadata": {},
   "outputs": [
    {
     "name": "stdout",
     "output_type": "stream",
     "text": [
      "(a + b) / c = 7.5\n"
     ]
    }
   ],
   "source": [
    "# 5. Calcul avec plusieurs variables\n",
    "a = 10\n",
    "b = 5\n",
    "c = 2\n",
    "\n",
    "resultat = (a + b) / c\n",
    "print(\"(a + b) / c =\", resultat)"
   ]
  },
  {
   "cell_type": "code",
   "execution_count": 21,
   "id": "79f32081-cd6c-4940-be71-0ce01922aa18",
   "metadata": {},
   "outputs": [
    {
     "name": "stdout",
     "output_type": "stream",
     "text": [
      "7.5\n"
     ]
    }
   ],
   "source": [
    "# 6. Correction d'erreurs\n",
    "# Erreur courante : faute de frappe dans le nom de variable\n",
    "# print(resul) # Ceci provoquerait une erreur NameError\n",
    "print(resultat) # Correction : utiliser le nom correct de la variable"
   ]
  },
  {
   "cell_type": "code",
   "execution_count": 23,
   "id": "15f29c30-93fa-4433-a42d-3a4785b9664c",
   "metadata": {},
   "outputs": [
    {
     "name": "stdout",
     "output_type": "stream",
     "text": [
      "L'aire du cercle est : 78.53975 m2\n"
     ]
    }
   ],
   "source": [
    "# 7. Utilisation de commentaires pour expliquer le code\n",
    "# Calcul de l'aire d'un cercle\n",
    "rayon = 5\n",
    "pi = 3.14159\n",
    "aire = pi * rayon**2\n",
    "print(\"L'aire du cercle est :\", aire , \"m2\")"
   ]
  },
  {
   "cell_type": "code",
   "execution_count": null,
   "id": "84feea47-1d1f-4c99-87f8-2dafaab9d455",
   "metadata": {},
   "outputs": [],
   "source": []
  }
 ],
 "metadata": {
  "kernelspec": {
   "display_name": "Python 3 (ipykernel)",
   "language": "python",
   "name": "python3"
  },
  "language_info": {
   "codemirror_mode": {
    "name": "ipython",
    "version": 3
   },
   "file_extension": ".py",
   "mimetype": "text/x-python",
   "name": "python",
   "nbconvert_exporter": "python",
   "pygments_lexer": "ipython3",
   "version": "3.7.12"
  }
 },
 "nbformat": 4,
 "nbformat_minor": 5
}
