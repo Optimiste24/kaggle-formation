{
 "cells": [
  {
   "cell_type": "markdown",
   "id": "f076137a-f8df-4f7d-920c-7e6d7d164594",
   "metadata": {},
   "source": [
    "# Introduction aux Types de Données en Python"
   ]
  },
  {
   "cell_type": "markdown",
   "id": "eb418f96-ed06-4640-b884-b3b32ce6e64f",
   "metadata": {},
   "source": [
    "Lorsque vous créez une variable en Python, celle-ci possède une valeur associée à un type de données. Python propose une grande variété de types de données, mais nous nous concentrerons ici sur les entiers, flottants, booléens et chaînes de caractères."
   ]
  },
  {
   "cell_type": "markdown",
   "id": "c8369354-a8a6-477a-9605-67b95859941b",
   "metadata": {},
   "source": [
    "### Les Entiers (int)\n",
    "Un entier est un nombre sans partie fractionnaire. Il peut être :\n",
    "\n",
    "Positif : 1, 2, 3...\n",
    "Négatif : -1, -2, -3...\n",
    "Zéro : 0"
   ]
  },
  {
   "cell_type": "code",
   "execution_count": 9,
   "id": "8b4a54e5-7c38-4d2a-8e84-4972c704606f",
   "metadata": {},
   "outputs": [
    {
     "name": "stdout",
     "output_type": "stream",
     "text": [
      "14\n",
      "<class 'int'>\n"
     ]
    }
   ],
   "source": [
    "x = 14\n",
    "print(x)          # Affiche 14\n",
    "print(type(x))    # Affiche <class 'int'>\n"
   ]
  },
  {
   "cell_type": "markdown",
   "id": "63398068-13b0-4d6b-8bdb-5e8631899ee1",
   "metadata": {},
   "source": [
    "### Les Flottants (float)\n",
    "Un flottant est un nombre avec une partie décimale, comme : 3.14, 2.718, ou même 1.0."
   ]
  },
  {
   "cell_type": "code",
   "execution_count": 12,
   "id": "bf574739-a7bc-4dc4-b1e9-0faabdaa005b",
   "metadata": {},
   "outputs": [
    {
     "name": "stdout",
     "output_type": "stream",
     "text": [
      "3.141592653589793\n",
      "<class 'float'>\n"
     ]
    }
   ],
   "source": [
    "nearly_pi = 3.141592653589793\n",
    "print(nearly_pi)       # Affiche 3.141592653589793\n",
    "print(type(nearly_pi)) # Affiche <class 'float'>\n"
   ]
  },
  {
   "cell_type": "markdown",
   "id": "7cf92751-b29c-4931-970b-a127c7a335b0",
   "metadata": {},
   "source": [
    "Les flottants peuvent aussi être créés avec une fraction :"
   ]
  },
  {
   "cell_type": "code",
   "execution_count": 15,
   "id": "b6b3c2b5-e20a-4206-91c5-becef53b3345",
   "metadata": {},
   "outputs": [
    {
     "name": "stdout",
     "output_type": "stream",
     "text": [
      "3.142857142857143\n",
      "<class 'float'>\n"
     ]
    }
   ],
   "source": [
    "almost_pi = 22 / 7\n",
    "print(almost_pi)       # Affiche 3.142857142857143\n",
    "print(type(almost_pi)) # Affiche <class 'float'>\n"
   ]
  },
  {
   "cell_type": "markdown",
   "id": "9d55a8fc-1b60-4326-a219-c8b830935e71",
   "metadata": {},
   "source": [
    "Fonction utile : round()\n",
    "\n",
    "Permet d’arrondir un nombre décimal à un certain nombre de chiffres après la virgule."
   ]
  },
  {
   "cell_type": "code",
   "execution_count": 24,
   "id": "7d3e0692-ba49-4638-8540-ecbf4729bd63",
   "metadata": {},
   "outputs": [
    {
     "name": "stdout",
     "output_type": "stream",
     "text": [
      "3.14286\n",
      "<class 'float'>\n"
     ]
    }
   ],
   "source": [
    "rounded_pi = round(almost_pi, 5)\n",
    "print(rounded_pi)      # Affiche 3.14286\n",
    "print(type(rounded_pi))# Affiche <class 'float'>\n"
   ]
  },
  {
   "cell_type": "code",
   "execution_count": 27,
   "id": "d1b97482-37b3-4a36-b97c-22154f329545",
   "metadata": {},
   "outputs": [
    {
     "name": "stdout",
     "output_type": "stream",
     "text": [
      "3\n",
      "<class 'int'>\n"
     ]
    }
   ],
   "source": [
    "rounded_pi = round(almost_pi)\n",
    "print(rounded_pi)      # Affiche 3.14286\n",
    "print(type(rounded_pi))# Affiche <class 'float'>"
   ]
  },
  {
   "cell_type": "markdown",
   "id": "95601564-d1ef-4606-a598-a41f04278177",
   "metadata": {},
   "source": [
    "### Les Booléens (bool)\n",
    "\n",
    "Les booléens représentent deux valeurs possibles : True (vrai) ou False (faux)."
   ]
  },
  {
   "cell_type": "code",
   "execution_count": 30,
   "id": "93122132-dde9-4bf5-81c5-f6498a15badb",
   "metadata": {},
   "outputs": [
    {
     "name": "stdout",
     "output_type": "stream",
     "text": [
      "True\n",
      "<class 'bool'>\n",
      "True\n",
      "<class 'bool'>\n"
     ]
    }
   ],
   "source": [
    "z_one = True\n",
    "z_two = False\n",
    "print(z_one)          # Affiche True\n",
    "print(type(z_one))    # Affiche <class 'bool'>\n",
    "\n",
    "# Exemple avec une expression\n",
    "z_three = (1 < 2)     # L'expression 1 < 2 est vraie\n",
    "print(z_three)        # Affiche True\n",
    "print(type(z_three))  # Affiche <class 'bool'>\n"
   ]
  },
  {
   "cell_type": "markdown",
   "id": "e0ea9843-b7ac-4cff-bd8e-cb348af66f03",
   "metadata": {},
   "source": [
    "### Les Chaînes de caractères (str)\n",
    "\n",
    "Les chaînes de caractères sont des suites de caractères (lettres, chiffres, symboles) encadrées par des guillemets."
   ]
  },
  {
   "cell_type": "code",
   "execution_count": 35,
   "id": "7230f329-64e9-4a24-853d-51884a74a35c",
   "metadata": {},
   "outputs": [
    {
     "name": "stdout",
     "output_type": "stream",
     "text": [
      "Bonjour, Python !\n",
      "<class 'str'>\n"
     ]
    }
   ],
   "source": [
    "w = \"Bonjour, Python !\"\n",
    "print(w)              # Affiche Bonjour, Python !\n",
    "print(type(w))        # Affiche <class 'str'>\n"
   ]
  },
  {
   "cell_type": "markdown",
   "id": "e1f5db8d-7f30-45ac-ba6a-c0e3731252b3",
   "metadata": {},
   "source": [
    "#### Opérations utiles :"
   ]
  },
  {
   "cell_type": "code",
   "execution_count": 38,
   "id": "a36d78fc-7b7b-4aa8-8a39-8d92442dfa75",
   "metadata": {},
   "outputs": [
    {
     "name": "stdout",
     "output_type": "stream",
     "text": [
      "17\n"
     ]
    }
   ],
   "source": [
    "# Longueur de la chaîne avec len()\n",
    "\n",
    "print(len(w))       # Affiche 15 (compte les lettres, espaces et ponctuations)\n"
   ]
  },
  {
   "cell_type": "code",
   "execution_count": 40,
   "id": "4509502a-f87a-4c3e-9ef4-8ed4abc24e84",
   "metadata": {},
   "outputs": [
    {
     "name": "stdout",
     "output_type": "stream",
     "text": [
      "abcdef\n"
     ]
    }
   ],
   "source": [
    "# Concaténation (ajout de chaînes)\n",
    "\n",
    "new_string = \"abc\" + \"def\"\n",
    "print(new_string)  # Affiche abcdef\n"
   ]
  },
  {
   "cell_type": "code",
   "execution_count": 50,
   "id": "1573b215-011c-4bab-8144-65db4f8c80d4",
   "metadata": {},
   "outputs": [
    {
     "name": "stdout",
     "output_type": "stream",
     "text": [
      "abcabcabc\n"
     ]
    }
   ],
   "source": [
    "# Multiplication de chaînes\n",
    "\n",
    "newest_string = \"abc\" * 3\n",
    "print(newest_string)  # Affiche abcabcabc\n"
   ]
  },
  {
   "cell_type": "markdown",
   "id": "ef45efdb-473b-4001-97a3-af73bcbd4865",
   "metadata": {},
   "source": [
    "### Attention aux erreurs courantes !\n",
    "\n",
    "Multiplier une chaîne par un nombre entier fonctionne :\n",
    "\"abc\" * 3  # Résultat : abcabcabc\n",
    "\n",
    "Multiplier une chaîne par un flottant provoque une erreur :\n",
    "\"abc\" * 3.0  # Erreur : TypeError"
   ]
  },
  {
   "cell_type": "code",
   "execution_count": null,
   "id": "c0c70ba5-bfdc-4f40-a0c1-7369292ed455",
   "metadata": {},
   "outputs": [],
   "source": []
  }
 ],
 "metadata": {
  "kernelspec": {
   "display_name": "Python [conda env:base] *",
   "language": "python",
   "name": "conda-base-py"
  },
  "language_info": {
   "codemirror_mode": {
    "name": "ipython",
    "version": 3
   },
   "file_extension": ".py",
   "mimetype": "text/x-python",
   "name": "python",
   "nbconvert_exporter": "python",
   "pygments_lexer": "ipython3",
   "version": "3.12.7"
  }
 },
 "nbformat": 4,
 "nbformat_minor": 5
}
