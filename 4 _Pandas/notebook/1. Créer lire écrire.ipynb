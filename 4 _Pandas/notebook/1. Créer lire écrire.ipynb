{
 "cells": [
  {
   "cell_type": "code",
   "execution_count": null,
   "id": "7f14cb74-dba9-49b5-a34e-27efecac91a0",
   "metadata": {},
   "outputs": [],
   "source": []
  },
  {
   "cell_type": "markdown",
   "id": "014db987-28d2-4076-8fdc-1c48e1defd14",
   "metadata": {},
   "source": [
    "# Introduction à Pandas\n",
    "Pandas est une bibliothèque Python populaire pour **l’analyse de données**. Elle vous permet de manipuler, d’analyser et de visualiser efficacement des ensembles de données.\n",
    "\n",
    "Les deux objets principaux dans Pandas sont :\n",
    "\n",
    "- ***DataFrame*** : Une table avec des lignes et colonnes.\n",
    "- ***Series*** : Une liste ordonnée de données (une seule colonne d’un DataFrame)."
   ]
  },
  {
   "cell_type": "markdown",
   "id": "ac6371ed-41d9-4df9-8615-94647e005ee0",
   "metadata": {},
   "source": [
    "### 1. Importer Pandas\n",
    "Commencez par importer la bibliothèque avec :"
   ]
  },
  {
   "cell_type": "code",
   "execution_count": 6,
   "id": "5e7cf461-6811-40ce-bf01-ab66bc153f29",
   "metadata": {},
   "outputs": [],
   "source": [
    "import pandas as pd"
   ]
  },
  {
   "cell_type": "markdown",
   "id": "04aeca2c-03f8-4d02-9380-c4b3e9904da7",
   "metadata": {},
   "source": [
    "### 2. Créer des données avec Pandas\n",
    "\n",
    "#### 2.1 DataFrame\n",
    "Un DataFrame est une table avec des colonnes et des lignes.\n",
    "\n",
    "Créer un **DataFrame simple** :"
   ]
  },
  {
   "cell_type": "code",
   "execution_count": 10,
   "id": "b0377194-22fd-4061-95d7-3f1f4a31338c",
   "metadata": {},
   "outputs": [
    {
     "name": "stdout",
     "output_type": "stream",
     "text": [
      "   Yes   No\n",
      "0   50  131\n",
      "1   21    2\n"
     ]
    }
   ],
   "source": [
    "df = pd.DataFrame({'Yes': [50, 21], 'No': [131, 2]})\n",
    "print(df)"
   ]
  },
  {
   "cell_type": "markdown",
   "id": "4239e89d-f173-4886-9e5b-2ebb7206e6f5",
   "metadata": {},
   "source": [
    "Créer un **DataFrame avec des étiquettes de ligne personnalisées** :"
   ]
  },
  {
   "cell_type": "code",
   "execution_count": 13,
   "id": "caf909b0-2bc8-4153-9a97-c914a4a72cd2",
   "metadata": {},
   "outputs": [
    {
     "name": "stdout",
     "output_type": "stream",
     "text": [
      "                     Bob           Sue\n",
      "Product A    I liked it.  Pretty good.\n",
      "Product B  It was awful.        Bland.\n"
     ]
    }
   ],
   "source": [
    "df = pd.DataFrame({'Bob': ['I liked it.', 'It was awful.'], \n",
    "                   'Sue': ['Pretty good.', 'Bland.']},\n",
    "                  index=['Product A', 'Product B'])\n",
    "print(df)"
   ]
  },
  {
   "cell_type": "markdown",
   "id": "a067c7c9-6f1a-4595-8684-87a824862d46",
   "metadata": {},
   "source": [
    "**2.2 Series**\n",
    "\n",
    "Une Series est une séquence ordonnée de données.\n",
    "\n",
    "Créer une **Series simple** :"
   ]
  },
  {
   "cell_type": "code",
   "execution_count": 18,
   "id": "114b87df-a513-447a-9cea-6cea81644042",
   "metadata": {},
   "outputs": [
    {
     "name": "stdout",
     "output_type": "stream",
     "text": [
      "0    1\n",
      "1    2\n",
      "2    3\n",
      "3    4\n",
      "4    5\n",
      "dtype: int64\n"
     ]
    }
   ],
   "source": [
    "s = pd.Series([1, 2, 3, 4, 5])\n",
    "print(s)"
   ]
  },
  {
   "cell_type": "markdown",
   "id": "a908b33a-226b-48e7-bc78-5a3c9f83273d",
   "metadata": {},
   "source": [
    "Créer une **Series avec un index personnalisé** :"
   ]
  },
  {
   "cell_type": "code",
   "execution_count": 21,
   "id": "e2c85ddf-73ca-4454-9015-fb833eb3057f",
   "metadata": {},
   "outputs": [
    {
     "name": "stdout",
     "output_type": "stream",
     "text": [
      "2015 Sales    30\n",
      "2016 Sales    35\n",
      "2017 Sales    40\n",
      "Name: Product A, dtype: int64\n"
     ]
    }
   ],
   "source": [
    "s = pd.Series([30, 35, 40], index=['2015 Sales', '2016 Sales', '2017 Sales'], name='Product A')\n",
    "print(s)"
   ]
  },
  {
   "cell_type": "markdown",
   "id": "14f06019-7122-4b24-b991-8af9130b9a15",
   "metadata": {},
   "source": [
    "### 3. Lire des fichiers de données\n",
    "La méthode la plus courante consiste à lire des fichiers CSV.\n",
    "\n",
    "**Lire un fichier CSV dans un DataFrame** :"
   ]
  },
  {
   "cell_type": "code",
   "execution_count": 26,
   "id": "5f45ff72-84e4-4be0-a639-cd36b4d9fd47",
   "metadata": {},
   "outputs": [
    {
     "name": "stdout",
     "output_type": "stream",
     "text": [
      "   Unnamed: 0   country                                        description  \\\n",
      "0           0     Italy  Aromas include tropical fruit, broom, brimston...   \n",
      "1           1  Portugal  This is ripe and fruity, a wine that is smooth...   \n",
      "2           2        US  Tart and snappy, the flavors of lime flesh and...   \n",
      "3           3        US  Pineapple rind, lemon pith and orange blossom ...   \n",
      "4           4        US  Much like the regular bottling from 2012, this...   \n",
      "\n",
      "                          designation  points  price           province  \\\n",
      "0                        Vulkà Bianco      87    NaN  Sicily & Sardinia   \n",
      "1                            Avidagos      87   15.0              Douro   \n",
      "2                                 NaN      87   14.0             Oregon   \n",
      "3                Reserve Late Harvest      87   13.0           Michigan   \n",
      "4  Vintner's Reserve Wild Child Block      87   65.0             Oregon   \n",
      "\n",
      "              region_1           region_2         taster_name  \\\n",
      "0                 Etna                NaN       Kerin O’Keefe   \n",
      "1                  NaN                NaN          Roger Voss   \n",
      "2    Willamette Valley  Willamette Valley        Paul Gregutt   \n",
      "3  Lake Michigan Shore                NaN  Alexander Peartree   \n",
      "4    Willamette Valley  Willamette Valley        Paul Gregutt   \n",
      "\n",
      "  taster_twitter_handle                                              title  \\\n",
      "0          @kerinokeefe                  Nicosia 2013 Vulkà Bianco  (Etna)   \n",
      "1            @vossroger      Quinta dos Avidagos 2011 Avidagos Red (Douro)   \n",
      "2           @paulgwine       Rainstorm 2013 Pinot Gris (Willamette Valley)   \n",
      "3                   NaN  St. Julian 2013 Reserve Late Harvest Riesling ...   \n",
      "4           @paulgwine   Sweet Cheeks 2012 Vintner's Reserve Wild Child...   \n",
      "\n",
      "          variety               winery  \n",
      "0     White Blend              Nicosia  \n",
      "1  Portuguese Red  Quinta dos Avidagos  \n",
      "2      Pinot Gris            Rainstorm  \n",
      "3        Riesling           St. Julian  \n",
      "4      Pinot Noir         Sweet Cheeks  \n"
     ]
    }
   ],
   "source": [
    "wine_reviews = pd.read_csv('winemag_data_130k_v2.csv')\n",
    "print(wine_reviews.head())"
   ]
  },
  {
   "cell_type": "code",
   "execution_count": 28,
   "id": "66ee694f-8465-4a8b-bdb4-4ac4d4d373d2",
   "metadata": {},
   "outputs": [
    {
     "name": "stdout",
     "output_type": "stream",
     "text": [
      "    country                                        description  \\\n",
      "0     Italy  Aromas include tropical fruit, broom, brimston...   \n",
      "1  Portugal  This is ripe and fruity, a wine that is smooth...   \n",
      "2        US  Tart and snappy, the flavors of lime flesh and...   \n",
      "3        US  Pineapple rind, lemon pith and orange blossom ...   \n",
      "4        US  Much like the regular bottling from 2012, this...   \n",
      "\n",
      "                          designation  points  price           province  \\\n",
      "0                        Vulkà Bianco      87    NaN  Sicily & Sardinia   \n",
      "1                            Avidagos      87   15.0              Douro   \n",
      "2                                 NaN      87   14.0             Oregon   \n",
      "3                Reserve Late Harvest      87   13.0           Michigan   \n",
      "4  Vintner's Reserve Wild Child Block      87   65.0             Oregon   \n",
      "\n",
      "              region_1           region_2         taster_name  \\\n",
      "0                 Etna                NaN       Kerin O’Keefe   \n",
      "1                  NaN                NaN          Roger Voss   \n",
      "2    Willamette Valley  Willamette Valley        Paul Gregutt   \n",
      "3  Lake Michigan Shore                NaN  Alexander Peartree   \n",
      "4    Willamette Valley  Willamette Valley        Paul Gregutt   \n",
      "\n",
      "  taster_twitter_handle                                              title  \\\n",
      "0          @kerinokeefe                  Nicosia 2013 Vulkà Bianco  (Etna)   \n",
      "1            @vossroger      Quinta dos Avidagos 2011 Avidagos Red (Douro)   \n",
      "2           @paulgwine       Rainstorm 2013 Pinot Gris (Willamette Valley)   \n",
      "3                   NaN  St. Julian 2013 Reserve Late Harvest Riesling ...   \n",
      "4           @paulgwine   Sweet Cheeks 2012 Vintner's Reserve Wild Child...   \n",
      "\n",
      "          variety               winery  \n",
      "0     White Blend              Nicosia  \n",
      "1  Portuguese Red  Quinta dos Avidagos  \n",
      "2      Pinot Gris            Rainstorm  \n",
      "3        Riesling           St. Julian  \n",
      "4      Pinot Noir         Sweet Cheeks  \n"
     ]
    }
   ],
   "source": [
    "# Spécifier une colonne comme index :\n",
    "\n",
    "wine_reviews = pd.read_csv('winemag_data_130k_v2.csv', index_col=0)\n",
    "print(wine_reviews.head())"
   ]
  },
  {
   "cell_type": "code",
   "execution_count": 30,
   "id": "43e63aa2-9f9d-4f81-a9ce-714b6d137ce7",
   "metadata": {},
   "outputs": [
    {
     "name": "stdout",
     "output_type": "stream",
     "text": [
      "(129971, 13)\n"
     ]
    }
   ],
   "source": [
    "# Comprendre la taille des données :\n",
    "\n",
    "print(wine_reviews.shape)  # Renvoie (lignes, colonnes)"
   ]
  },
  {
   "cell_type": "markdown",
   "id": "d6706546-a3a0-426d-b6c5-4dc4fe385d78",
   "metadata": {},
   "source": [
    "### 4. Sauvegarder des données\n",
    "Après avoir manipulé vos données, vous pouvez les sauvegarder dans un fichier.\n",
    "\n",
    "Sauvegarder un DataFrame dans un fichier CSV :"
   ]
  },
  {
   "cell_type": "code",
   "execution_count": 33,
   "id": "aa357eb8-5808-4e19-9ea4-e08fcfc41487",
   "metadata": {},
   "outputs": [],
   "source": [
    "wine_reviews.to_csv('output.csv', index=False)"
   ]
  },
  {
   "cell_type": "code",
   "execution_count": null,
   "id": "68a8cb07-864b-4ce4-9f8a-5b3f6685c8be",
   "metadata": {},
   "outputs": [],
   "source": []
  }
 ],
 "metadata": {
  "kernelspec": {
   "display_name": "Python [conda env:base] *",
   "language": "python",
   "name": "conda-base-py"
  },
  "language_info": {
   "codemirror_mode": {
    "name": "ipython",
    "version": 3
   },
   "file_extension": ".py",
   "mimetype": "text/x-python",
   "name": "python",
   "nbconvert_exporter": "python",
   "pygments_lexer": "ipython3",
   "version": "3.12.7"
  }
 },
 "nbformat": 4,
 "nbformat_minor": 5
}
