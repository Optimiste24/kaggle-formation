{
 "cells": [
  {
   "cell_type": "markdown",
   "id": "7c98d596-c599-4f85-81db-872cb42789d7",
   "metadata": {},
   "source": [
    "# Indexation, sélection et attribution\n",
    "Les data scientists professionnels le font des dizaines de fois par jour. Vous pouvez aussi !"
   ]
  },
  {
   "cell_type": "markdown",
   "id": "7db5c0c5-818b-403e-87a9-565aeded704c",
   "metadata": {},
   "source": [
    "## Introduction\n",
    "La sélection de valeurs spécifiques d’un DataFrame ou d’une Series avec pandas pour les manipuler est une étape implicite dans presque toutes les opérations de données que vous effectuerez. C’est pourquoi l’une des premières choses à apprendre en travaillant avec les données en Python est de savoir comment sélectionner rapidement et efficacement les points de données qui vous intéressent.\n",
    "\n",
    "**Accesseurs natifs**\n",
    "\n",
    "Les objets Python natifs offrent de bonnes façons d'indexer les données, et pandas reprend toutes ces fonctionnalités, ce qui facilite les premiers pas.\n",
    "\n",
    "Prenons cet exemple de DataFrame :"
   ]
  },
  {
   "cell_type": "code",
   "execution_count": 10,
   "id": "d00f39c1-ccdd-408d-bb5d-abe07c44c555",
   "metadata": {},
   "outputs": [
    {
     "name": "stdout",
     "output_type": "stream",
     "text": [
      "   Unnamed: 0   country                                        description  \\\n",
      "0           0     Italy  Aromas include tropical fruit, broom, brimston...   \n",
      "1           1  Portugal  This is ripe and fruity, a wine that is smooth...   \n",
      "2           2        US  Tart and snappy, the flavors of lime flesh and...   \n",
      "3           3        US  Pineapple rind, lemon pith and orange blossom ...   \n",
      "4           4        US  Much like the regular bottling from 2012, this...   \n",
      "\n",
      "                          designation  points  price           province  \\\n",
      "0                        Vulkà Bianco      87    NaN  Sicily & Sardinia   \n",
      "1                            Avidagos      87   15.0              Douro   \n",
      "2                                 NaN      87   14.0             Oregon   \n",
      "3                Reserve Late Harvest      87   13.0           Michigan   \n",
      "4  Vintner's Reserve Wild Child Block      87   65.0             Oregon   \n",
      "\n",
      "              region_1           region_2         taster_name  \\\n",
      "0                 Etna                NaN       Kerin O’Keefe   \n",
      "1                  NaN                NaN          Roger Voss   \n",
      "2    Willamette Valley  Willamette Valley        Paul Gregutt   \n",
      "3  Lake Michigan Shore                NaN  Alexander Peartree   \n",
      "4    Willamette Valley  Willamette Valley        Paul Gregutt   \n",
      "\n",
      "  taster_twitter_handle                                              title  \\\n",
      "0          @kerinokeefe                  Nicosia 2013 Vulkà Bianco  (Etna)   \n",
      "1            @vossroger      Quinta dos Avidagos 2011 Avidagos Red (Douro)   \n",
      "2           @paulgwine       Rainstorm 2013 Pinot Gris (Willamette Valley)   \n",
      "3                   NaN  St. Julian 2013 Reserve Late Harvest Riesling ...   \n",
      "4           @paulgwine   Sweet Cheeks 2012 Vintner's Reserve Wild Child...   \n",
      "\n",
      "          variety               winery  \n",
      "0     White Blend              Nicosia  \n",
      "1  Portuguese Red  Quinta dos Avidagos  \n",
      "2      Pinot Gris            Rainstorm  \n",
      "3        Riesling           St. Julian  \n",
      "4      Pinot Noir         Sweet Cheeks  \n"
     ]
    }
   ],
   "source": [
    "import pandas as pd\n",
    "reviews = pd.read_csv('winemag_data_130k_v2.csv')\n",
    "print(reviews.head())"
   ]
  },
  {
   "cell_type": "markdown",
   "id": "4009a7a6-fabd-4d2c-9fbd-690609137712",
   "metadata": {},
   "source": [
    "En Python, nous pouvons accéder à une propriété d’un objet en la considérant comme un attribut. Par exemple, un objet livre peut avoir une propriété titre, que nous pouvons obtenir avec livre.titre. Les colonnes dans un DataFrame pandas fonctionnent de manière similaire.\n",
    "\n",
    "Ainsi, pour accéder à la propriété country dans reviews, nous pouvons écrire :"
   ]
  },
  {
   "cell_type": "code",
   "execution_count": 12,
   "id": "e9e1cd81-08af-4db6-90df-3d4643510baf",
   "metadata": {},
   "outputs": [
    {
     "data": {
      "text/plain": [
       "0            Italy\n",
       "1         Portugal\n",
       "2               US\n",
       "3               US\n",
       "4               US\n",
       "            ...   \n",
       "129966     Germany\n",
       "129967          US\n",
       "129968      France\n",
       "129969      France\n",
       "129970      France\n",
       "Name: country, Length: 129971, dtype: object"
      ]
     },
     "execution_count": 12,
     "metadata": {},
     "output_type": "execute_result"
    }
   ],
   "source": [
    "reviews.country"
   ]
  },
  {
   "cell_type": "markdown",
   "id": "3ba25a2f-e5d4-4de8-9d9e-d23b367c4dcc",
   "metadata": {},
   "source": [
    "Si nous avons un dictionnaire Python, nous pouvons accéder à ses valeurs en utilisant l’opérateur d’indexation []. Nous pouvons faire de même avec les colonnes d’un DataFrame :"
   ]
  },
  {
   "cell_type": "code",
   "execution_count": 15,
   "id": "733b4773-5692-4331-b131-8284efcd2d77",
   "metadata": {},
   "outputs": [
    {
     "data": {
      "text/plain": [
       "0            Italy\n",
       "1         Portugal\n",
       "2               US\n",
       "3               US\n",
       "4               US\n",
       "            ...   \n",
       "129966     Germany\n",
       "129967          US\n",
       "129968      France\n",
       "129969      France\n",
       "129970      France\n",
       "Name: country, Length: 129971, dtype: object"
      ]
     },
     "execution_count": 15,
     "metadata": {},
     "output_type": "execute_result"
    }
   ],
   "source": [
    "reviews['country']"
   ]
  },
  {
   "cell_type": "markdown",
   "id": "0424d7d6-08e7-4421-852d-b618b10ec8eb",
   "metadata": {},
   "source": [
    "Ces deux méthodes permettent de sélectionner une **Series spécifique** dans un DataFrame. Les deux sont valides syntaxiquement, mais l'opérateur [] a l'avantage de gérer les noms de colonnes contenant des caractères réservés (par exemple, reviews['country providence'] fonctionnera là où reviews.country providence échouera).\n",
    "\n",
    "Une **Series** pandas ressemble beaucoup à un dictionnaire sophistiqué. Ce n'est donc pas surprenant que, pour accéder à une valeur spécifique, il suffise d'utiliser à nouveau l’opérateur d’indexation [] :"
   ]
  },
  {
   "cell_type": "code",
   "execution_count": 23,
   "id": "d24eae7b-4668-4d5d-8712-5817356c6a18",
   "metadata": {},
   "outputs": [
    {
     "data": {
      "text/plain": [
       "'Italy'"
      ]
     },
     "execution_count": 23,
     "metadata": {},
     "output_type": "execute_result"
    }
   ],
   "source": [
    "reviews['country'][0]"
   ]
  },
  {
   "cell_type": "markdown",
   "id": "6b9f2374-de57-4c34-b622-1df0287173e3",
   "metadata": {},
   "source": [
    "### Indexation dans pandas\n",
    "L'opérateur d’indexation et la sélection d’attributs sont pratiques parce qu'ils fonctionnent comme dans le reste de l’écosystème Python. Cela les rend faciles à apprendre pour les débutants. Cependant, pandas propose ses propres opérateurs, ***loc*** et ***iloc***, qui sont à privilégier pour les opérations plus avancées."
   ]
  },
  {
   "cell_type": "markdown",
   "id": "9cc28ee5-0674-4413-9c6a-bd11a4a124d9",
   "metadata": {},
   "source": [
    "### Sélection basée sur les index\n",
    "La première méthode est la ***sélection basée sur l’index*** : sélectionner des données en fonction de leur position numérique. La méthode iloc suit ce paradigme.\n",
    "\n",
    "Pour sélectionner la première ligne d’un DataFrame, on peut utiliser :"
   ]
  },
  {
   "cell_type": "code",
   "execution_count": 39,
   "id": "2e8ac3b4-8b57-4e25-8b10-1b1aee7ae77f",
   "metadata": {},
   "outputs": [
    {
     "data": {
      "text/plain": [
       "Unnamed: 0                                                               0\n",
       "country                                                              Italy\n",
       "description              Aromas include tropical fruit, broom, brimston...\n",
       "designation                                                   Vulkà Bianco\n",
       "points                                                                  87\n",
       "price                                                                  NaN\n",
       "province                                                 Sicily & Sardinia\n",
       "region_1                                                              Etna\n",
       "region_2                                                               NaN\n",
       "taster_name                                                  Kerin O’Keefe\n",
       "taster_twitter_handle                                         @kerinokeefe\n",
       "title                                    Nicosia 2013 Vulkà Bianco  (Etna)\n",
       "variety                                                        White Blend\n",
       "winery                                                             Nicosia\n",
       "Name: 0, dtype: object"
      ]
     },
     "execution_count": 39,
     "metadata": {},
     "output_type": "execute_result"
    }
   ],
   "source": [
    "reviews.iloc[0]"
   ]
  },
  {
   "cell_type": "markdown",
   "id": "bef67f4f-987b-4a92-a761-afe45e4effbe",
   "metadata": {},
   "source": [
    "Les méthodes loc et iloc sont **ligne d’abord, colonne ensuite**, contrairement au Python natif qui est **colonne d’abord, ligne ensuite**.\n",
    "\n",
    "Pour sélectionner une colonne avec iloc, voici un exemple :"
   ]
  },
  {
   "cell_type": "code",
   "execution_count": 44,
   "id": "c79bfd29-cb6f-4fbc-a000-bd362650c838",
   "metadata": {},
   "outputs": [
    {
     "data": {
      "text/plain": [
       "0            Italy\n",
       "1         Portugal\n",
       "2               US\n",
       "3               US\n",
       "4               US\n",
       "            ...   \n",
       "129966     Germany\n",
       "129967          US\n",
       "129968      France\n",
       "129969      France\n",
       "129970      France\n",
       "Name: country, Length: 129971, dtype: object"
      ]
     },
     "execution_count": 44,
     "metadata": {},
     "output_type": "execute_result"
    }
   ],
   "source": [
    "reviews.iloc[:, 1]"
   ]
  },
  {
   "cell_type": "code",
   "execution_count": null,
   "id": "ba62437b-2d86-449b-995e-6b3324e77f82",
   "metadata": {},
   "outputs": [],
   "source": []
  }
 ],
 "metadata": {
  "kernelspec": {
   "display_name": "Python [conda env:base] *",
   "language": "python",
   "name": "conda-base-py"
  },
  "language_info": {
   "codemirror_mode": {
    "name": "ipython",
    "version": 3
   },
   "file_extension": ".py",
   "mimetype": "text/x-python",
   "name": "python",
   "nbconvert_exporter": "python",
   "pygments_lexer": "ipython3",
   "version": "3.12.7"
  }
 },
 "nbformat": 4,
 "nbformat_minor": 5
}
