{
 "cells": [
  {
   "cell_type": "markdown",
   "id": "0bdcc5ec-4fef-42b4-bf94-d9ce7b2673dd",
   "metadata": {},
   "source": [
    "# Un Neurone Unique\n",
    "Découvrez les unités linéaires, les éléments de base de l'apprentissage profond.  \n",
    "\n",
    "**Bienvenue dans le monde de l'apprentissage profond !** \n",
    "\n",
    "Bienvenue dans le cours d'introduction à l'apprentissage profond de Kaggle ! Vous êtes sur le point d'apprendre tout ce dont vous avez besoin pour commencer à construire vos propres **réseaux de neurones profonds**. En utilisant **Keras et Tensorflow**, vous apprendrez à :\n",
    "\n",
    "- créer une **architecture de réseau de neurones** entièrement connectée,\n",
    "- appliquer les réseaux de neurones à deux problèmes classiques d'apprentissage automatique : **la régression et la classification**,\n",
    "- entraîner les réseaux de neurones avec la descente de **gradient stochastique**, et\n",
    "- améliorer les performances avec des techniques comme le **dropout**, la **normalisation par lots**, et d'autres méthodes.\n",
    "\n",
    "Les tutoriels vous présenteront ces sujets avec des exemples détaillés, puis dans les exercices, vous explorerez ces sujets plus en profondeur et les appliquerez à des ensembles de données réels.\n",
    "\n",
    "Commençons !"
   ]
  },
  {
   "cell_type": "markdown",
   "id": "e17e82de-45fe-4519-950b-1544cfe180cd",
   "metadata": {},
   "source": [
    "### Qu'est-ce que l'apprentissage profond ?\n",
    "Certaines des avancées les plus impressionnantes en **intelligence artificielle** ces dernières années ont été réalisées dans le domaine de l'apprentissage profond. La **traduction automatique**, la **reconnaissance d'images** et les **jeux** sont des domaines où les modèles d'apprentissage profond ont atteint, voire dépassé, les performances humaines.\n",
    "\n",
    "Alors, qu'est-ce que l'apprentissage profond ? L'apprentissage profond est une approche de l'apprentissage automatique caractérisée par des **piles profondes de calculs**. Cette profondeur de calcul est ce qui a permis aux modèles d'apprentissage profond de démêler les motifs complexes et hiérarchiques présents dans les ensembles de données les plus difficiles du monde réel.\n",
    "\n",
    "Grâce à leur puissance et à leur évolutivité, **les réseaux de neurones** sont devenus le modèle emblématique de l'apprentissage profond. Les réseaux de neurones sont composés de neurones, où chaque neurone effectue individuellement un calcul simple. La puissance d'un réseau de neurones provient plutôt de la complexité des connexions que ces neurones peuvent former.\n",
    "\n",
    "### L'Unité Linéaire\n",
    "Commençons donc par le composant fondamental d'un réseau de neurones : le **neurone individuel**. Sous forme de diagramme, un neurone (ou unité) avec une entrée ressemble à ceci :\n",
    "\n",
    "**Diagramme d'une unité linéaire.**  \n",
    "**L'Unité Linéaire :**  \n",
    "\\[ y = w x + b \\]\n",
    "\n",
    "- L'entrée est \\( **x** \\). Sa connexion au neurone a un poids \\( **w** \\). Chaque fois qu'une valeur traverse une connexion, vous multipliez la valeur par le poids de la connexion. Pour l'entrée \\( x \\), ce qui atteint le neurone est \\( w \\times x \\). Un réseau de neurones \"apprend\" en modifiant ses poids.\n",
    "\n",
    "- Le \\( **b** \\) est un type spécial de poids que nous appelons le **biais**. Le biais n'a aucune donnée d'entrée associée ; à la place, nous mettons un 1 dans le diagramme de sorte que la valeur qui atteint le neurone est simplement \\( b \\) (puisque \\( 1 \\times b = b \\)). Le biais permet au neurone de modifier la sortie indépendamment de ses entrées.\n",
    "\n",
    "- Le \\( **y** \\) est la valeur que le neurone produit finalement. Pour obtenir la sortie, le neurone additionne toutes les valeurs qu'il reçoit à travers ses connexions. L'activation de ce neurone est \\( y = w \\times x + b \\), ou sous forme de formule :  \n",
    "\\[ y = w x + b \\]\n",
    "\n",
    "Cette formule vous semble familière ?  \n",
    "C'est l'équation d'une droite ! C'est l'équation de la pente et de l'ordonnée à l'origine, où \\( w \\) est la pente et \\( b \\) est l'ordonnée à l'origine.\n"
   ]
  },
  {
   "cell_type": "markdown",
   "id": "76f05170-0992-4bf4-a10d-fe0f5053e6a7",
   "metadata": {},
   "source": [
    "---\n",
    "## Exemple - L'Unité Linéaire comme Modèle\n",
    "Bien que les neurones individuels fonctionnent généralement uniquement dans le cadre d'un réseau plus large, il est souvent utile de commencer avec un modèle à un seul neurone comme référence. Les modèles à un seul neurone sont des modèles linéaires.\n",
    "\n",
    "Pensons à la manière dont cela pourrait fonctionner sur un ensemble de données comme celui des 80 Céréales. En entraînant un modèle avec 'sugars' (grammes de sucre par portion) comme entrée et 'calories' (calories par portion) comme sortie, nous pourrions trouver que le biais est \\( b = 90 \\) et le poids est \\( w = 2.5 \\). Nous pourrions estimer la teneur en calories d'une céréale avec 5 grammes de sucre par portion comme ceci :\n",
    "\n",
    "**Calcul avec l'unité linéaire.**  \n",
    "Et, en vérifiant avec notre formule, nous avons :  \n",
    "\\[ calories = 2.5 \\times 5 + 90 = 102.5 \\]  \n",
    "C'est exactement ce à quoi nous nous attendions.\n",
    "\n",
    "### Entrées Multiples\n",
    "L'ensemble de données des 80 Céréales a bien plus de caractéristiques que simplement 'sugars'. Et si nous voulions étendre notre modèle pour inclure des éléments comme les fibres ou les protéines ? C'est assez facile. Nous pouvons simplement ajouter plus de connexions d'entrée au neurone, une pour chaque caractéristique supplémentaire. Pour trouver la sortie, nous multiplierions chaque entrée par le poids de sa connexion, puis nous les additionnerions toutes.\n",
    "\n",
    "**Trois connexions d'entrée :** \\( x_0 \\), \\( x_1 \\), et \\( x_2 \\), ainsi que le biais.  \n",
    "**Une unité linéaire avec trois entrées.**  \n",
    "La formule pour ce neurone serait :  \n",
    "\\[ y = w_0 x_0 + w_1 x_1 + w_2 x_2 + b \\]  \n",
    "Une unité linéaire avec deux entrées ajustera un plan, et une unité avec plus d'entrées ajustera un hyperplan.\n"
   ]
  },
  {
   "cell_type": "markdown",
   "id": "987759ea-8bfb-400d-8efd-46b33ea90fb5",
   "metadata": {},
   "source": [
    "---\n",
    "# **Unités Linéaires dans Keras**\n",
    "Le moyen le plus simple de créer un modèle dans **Keras** est d'utiliser `keras.Sequential`, qui crée un réseau de neurones comme une pile de couches. Nous pouvons créer des modèles comme ceux ci-dessus en utilisant une couche dense (que nous découvrirons plus en détail dans la prochaine leçon).\n"
   ]
  },
  {
   "cell_type": "code",
   "execution_count": 1,
   "id": "6e079c32-c1b4-4c76-9a1c-a0361e466ce7",
   "metadata": {},
   "outputs": [
    {
     "name": "stdout",
     "output_type": "stream",
     "text": [
      "2.18.0\n"
     ]
    }
   ],
   "source": [
    "import tensorflow as tf\n",
    "print(tf.__version__)\n"
   ]
  },
  {
   "cell_type": "code",
   "execution_count": 3,
   "id": "bb3e3ade-dc46-4114-838c-fb68a5d917b4",
   "metadata": {},
   "outputs": [
    {
     "name": "stdout",
     "output_type": "stream",
     "text": [
      "TensorFlow version: 2.18.0\n",
      "GPU disponible: []\n"
     ]
    }
   ],
   "source": [
    "import tensorflow as tf\n",
    "\n",
    "# Vérifier la version\n",
    "print(\"TensorFlow version:\", tf.__version__)\n",
    "\n",
    "# Vérifier si un GPU est disponible\n",
    "print(\"GPU disponible:\", tf.config.list_physical_devices('GPU'))\n"
   ]
  },
  {
   "cell_type": "markdown",
   "id": "258d36b0-e586-48ba-b57d-844c672c3e1c",
   "metadata": {},
   "source": [
    "Le **GPU** (**Graphics Processing Unit**), ou **processeur graphique**, est un type de processeur conçu pour traiter rapidement de grandes quantités de calculs en parallèle. Il est principalement utilisé pour les jeux vidéo, mais aussi pour des tâches comme le **deep learning**, où il accélère l'entraînement des modèles d'intelligence artificielle."
   ]
  },
  {
   "cell_type": "markdown",
   "id": "7bf95562-3746-47dc-80b4-897961a61e02",
   "metadata": {},
   "source": [
    "**Nous pourrions définir un modèle linéaire acceptant trois caractéristiques d'entrée ('sugars', 'fiber', et 'protein') et produisant une seule sortie ('calories') comme ceci :**\n"
   ]
  },
  {
   "cell_type": "code",
   "execution_count": 14,
   "id": "bdf9ed01-3f50-433e-983f-2a9839ebb551",
   "metadata": {},
   "outputs": [],
   "source": [
    "from tensorflow import keras\n",
    "from tensorflow.keras import layers\n",
    "\n",
    "# Créer un réseau avec 1 unité linéaire\n",
    "model = keras.Sequential([\n",
    "    layers.Input(shape=(3,)),  # Entrée avec 3 caractéristiques (features)\n",
    "    layers.Dense(units=1)  # Sortie avec 1 neurone (prédiction d'une seule valeur)\n",
    "])\n"
   ]
  },
  {
   "cell_type": "markdown",
   "id": "aada041a-31c1-4745-be80-ed7261eebab1",
   "metadata": {},
   "source": [
    "\n",
    "\n",
    "🔹 **Pourquoi cette modification ?**  \n",
    "- `layers.Input(shape=(3,))` définit clairement la taille des entrées.  \n",
    "- La couche `Dense(1)` n'a plus besoin de `input_shape`, car l'entrée est déjà définie.  \n",
    "- C'est la meilleure pratique recommandée dans les nouvelles versions de Keras.  \n"
   ]
  },
  {
   "cell_type": "markdown",
   "id": "b7e6f7cf-3298-4919-b158-dc90fe753286",
   "metadata": {},
   "source": [
    "\n",
    "\n",
    "\n",
    "Avec le premier argument, `units`, nous définissons combien de sorties nous voulons. Dans ce cas, nous prédisons uniquement 'calories', donc nous utiliserons `units=1`.\n",
    "\n",
    "Avec le deuxième argument, `input_shape`, nous indiquons à Keras les dimensions des entrées. Définir `input_shape=[3]` garantit que le modèle acceptera trois caractéristiques en entrée ('sugars', 'fiber', et 'protein').\n",
    "\n",
    "Ce modèle est maintenant prêt à être ajusté aux données d'entraînement !\n",
    "\n",
    "### Pourquoi `input_shape` est-il une liste Python ?\n",
    "Les données que nous utiliserons dans ce cours seront des données tabulaires, comme dans un dataframe Pandas. Nous aurons une entrée pour chaque caractéristique de l'ensemble de données. Les caractéristiques sont organisées par colonne, donc nous aurons toujours `input_shape=[num_columns]`. La raison pour laquelle Keras utilise une liste ici est de permettre l'utilisation d'ensembles de données plus complexes. Les données d'image, par exemple, pourraient nécessiter trois dimensions : `[hauteur, largeur, canaux]`.\n",
    "\n",
    "### À Vous de Jouer\n",
    "Définissez un modèle linéaire pour l'ensemble de données Red Wine Quality.\n",
    "\n",
    "Des questions ou des commentaires ? Visitez le forum de discussion du cours pour discuter avec d'autres apprenants."
   ]
  },
  {
   "cell_type": "code",
   "execution_count": null,
   "id": "9805def7-17be-49a8-817b-8987fe916761",
   "metadata": {},
   "outputs": [],
   "source": []
  },
  {
   "cell_type": "markdown",
   "id": "6eeee052-40e4-403d-9113-de1b9fa08564",
   "metadata": {},
   "source": [
    "# **EXERCICE**\n",
    "## Introduction\n",
    "Dans le tutoriel, nous avons appris les éléments de base des réseaux de neurones : les unités linéaires. Nous avons vu qu’un modèle composé d’une seule unité linéaire ajuste une fonction linéaire à un ensemble de données (ce qui équivaut à une **régression linéaire**). Dans cet exercice, vous allez construire un modèle linéaire et vous entraîner à manipuler des modèles avec **Keras**.\n",
    "\n",
    "Avant de commencer, exécutez la cellule de code ci-dessous pour configurer l'environnement.\n"
   ]
  },
  {
   "cell_type": "code",
   "execution_count": 11,
   "id": "200b58bc-9016-4c6b-8f49-1c139a3d04b1",
   "metadata": {},
   "outputs": [],
   "source": [
    "# Configuration des graphiques\n",
    "import matplotlib.pyplot as plt\n",
    "import seaborn as sns\n",
    "\n",
    "# Changer le style de la figure\n",
    "sns.set_style(\"whitegrid\")\n",
    "\n",
    "# Définition des paramètres par défaut de Matplotlib\n",
    "plt.rc('figure', autolayout=True)\n",
    "plt.rc('axes', labelweight='bold', labelsize='large',\n",
    "       titleweight='bold', titlesize=18, titlepad=10)\n"
   ]
  },
  {
   "cell_type": "markdown",
   "id": "2a00d6e0-f387-4622-8d30-1790a7ae5f0d",
   "metadata": {},
   "source": [
    "Le **Red Wine Quality dataset** contient des mesures physico-chimiques d’environ 1600 vins rouges portugais. Il comprend également une évaluation de la qualité de chaque vin, obtenue à partir de tests de dégustation à l’aveugle.\n",
    "\n",
    "Tout d’abord, exécutez la cellule suivante pour afficher les premières lignes de cet ensemble de données."
   ]
  },
  {
   "cell_type": "code",
   "execution_count": 14,
   "id": "54285661-3033-4df9-8d20-cbc23cedffcb",
   "metadata": {},
   "outputs": [
    {
     "data": {
      "text/html": [
       "<div>\n",
       "<style scoped>\n",
       "    .dataframe tbody tr th:only-of-type {\n",
       "        vertical-align: middle;\n",
       "    }\n",
       "\n",
       "    .dataframe tbody tr th {\n",
       "        vertical-align: top;\n",
       "    }\n",
       "\n",
       "    .dataframe thead th {\n",
       "        text-align: right;\n",
       "    }\n",
       "</style>\n",
       "<table border=\"1\" class=\"dataframe\">\n",
       "  <thead>\n",
       "    <tr style=\"text-align: right;\">\n",
       "      <th></th>\n",
       "      <th>fixed acidity</th>\n",
       "      <th>volatile acidity</th>\n",
       "      <th>citric acid</th>\n",
       "      <th>residual sugar</th>\n",
       "      <th>chlorides</th>\n",
       "      <th>free sulfur dioxide</th>\n",
       "      <th>total sulfur dioxide</th>\n",
       "      <th>density</th>\n",
       "      <th>pH</th>\n",
       "      <th>sulphates</th>\n",
       "      <th>alcohol</th>\n",
       "      <th>quality</th>\n",
       "    </tr>\n",
       "  </thead>\n",
       "  <tbody>\n",
       "    <tr>\n",
       "      <th>0</th>\n",
       "      <td>7.4</td>\n",
       "      <td>0.70</td>\n",
       "      <td>0.00</td>\n",
       "      <td>1.9</td>\n",
       "      <td>0.076</td>\n",
       "      <td>11.0</td>\n",
       "      <td>34.0</td>\n",
       "      <td>0.9978</td>\n",
       "      <td>3.51</td>\n",
       "      <td>0.56</td>\n",
       "      <td>9.4</td>\n",
       "      <td>5</td>\n",
       "    </tr>\n",
       "    <tr>\n",
       "      <th>1</th>\n",
       "      <td>7.8</td>\n",
       "      <td>0.88</td>\n",
       "      <td>0.00</td>\n",
       "      <td>2.6</td>\n",
       "      <td>0.098</td>\n",
       "      <td>25.0</td>\n",
       "      <td>67.0</td>\n",
       "      <td>0.9968</td>\n",
       "      <td>3.20</td>\n",
       "      <td>0.68</td>\n",
       "      <td>9.8</td>\n",
       "      <td>5</td>\n",
       "    </tr>\n",
       "    <tr>\n",
       "      <th>2</th>\n",
       "      <td>7.8</td>\n",
       "      <td>0.76</td>\n",
       "      <td>0.04</td>\n",
       "      <td>2.3</td>\n",
       "      <td>0.092</td>\n",
       "      <td>15.0</td>\n",
       "      <td>54.0</td>\n",
       "      <td>0.9970</td>\n",
       "      <td>3.26</td>\n",
       "      <td>0.65</td>\n",
       "      <td>9.8</td>\n",
       "      <td>5</td>\n",
       "    </tr>\n",
       "    <tr>\n",
       "      <th>3</th>\n",
       "      <td>11.2</td>\n",
       "      <td>0.28</td>\n",
       "      <td>0.56</td>\n",
       "      <td>1.9</td>\n",
       "      <td>0.075</td>\n",
       "      <td>17.0</td>\n",
       "      <td>60.0</td>\n",
       "      <td>0.9980</td>\n",
       "      <td>3.16</td>\n",
       "      <td>0.58</td>\n",
       "      <td>9.8</td>\n",
       "      <td>6</td>\n",
       "    </tr>\n",
       "    <tr>\n",
       "      <th>4</th>\n",
       "      <td>7.4</td>\n",
       "      <td>0.70</td>\n",
       "      <td>0.00</td>\n",
       "      <td>1.9</td>\n",
       "      <td>0.076</td>\n",
       "      <td>11.0</td>\n",
       "      <td>34.0</td>\n",
       "      <td>0.9978</td>\n",
       "      <td>3.51</td>\n",
       "      <td>0.56</td>\n",
       "      <td>9.4</td>\n",
       "      <td>5</td>\n",
       "    </tr>\n",
       "  </tbody>\n",
       "</table>\n",
       "</div>"
      ],
      "text/plain": [
       "   fixed acidity  volatile acidity  citric acid  residual sugar  chlorides  \\\n",
       "0            7.4              0.70         0.00             1.9      0.076   \n",
       "1            7.8              0.88         0.00             2.6      0.098   \n",
       "2            7.8              0.76         0.04             2.3      0.092   \n",
       "3           11.2              0.28         0.56             1.9      0.075   \n",
       "4            7.4              0.70         0.00             1.9      0.076   \n",
       "\n",
       "   free sulfur dioxide  total sulfur dioxide  density    pH  sulphates  \\\n",
       "0                 11.0                  34.0   0.9978  3.51       0.56   \n",
       "1                 25.0                  67.0   0.9968  3.20       0.68   \n",
       "2                 15.0                  54.0   0.9970  3.26       0.65   \n",
       "3                 17.0                  60.0   0.9980  3.16       0.58   \n",
       "4                 11.0                  34.0   0.9978  3.51       0.56   \n",
       "\n",
       "   alcohol  quality  \n",
       "0      9.4        5  \n",
       "1      9.8        5  \n",
       "2      9.8        5  \n",
       "3      9.8        6  \n",
       "4      9.4        5  "
      ]
     },
     "execution_count": 14,
     "metadata": {},
     "output_type": "execute_result"
    }
   ],
   "source": [
    "import pandas as pd\n",
    "\n",
    "red_wine = pd.read_csv('red-wine.csv')\n",
    "red_wine.head()"
   ]
  },
  {
   "cell_type": "markdown",
   "id": "9836980d-3b93-4745-be85-33d1baf3f85b",
   "metadata": {},
   "source": [
    "Vous pouvez obtenir le nombre de lignes et de colonnes d’un *dataframe* (ou d’un tableau *Numpy*) avec l’attribut `shape`."
   ]
  },
  {
   "cell_type": "code",
   "execution_count": 17,
   "id": "65ffcb52-2d3d-4291-b560-27f76a0d0b86",
   "metadata": {},
   "outputs": [
    {
     "data": {
      "text/plain": [
       "(1599, 12)"
      ]
     },
     "execution_count": 17,
     "metadata": {},
     "output_type": "execute_result"
    }
   ],
   "source": [
    "red_wine.shape # (lignes, colonnes)"
   ]
  },
  {
   "cell_type": "markdown",
   "id": "7d1b9796-b9a0-49a2-af38-b854e3fbde0d",
   "metadata": {},
   "source": [
    "---\n",
    "### **Descriptif de la base de données**\n",
    "Ce tableau représente les premières lignes du *Red Wine Quality dataset*, qui contient **1599 échantillons** (*rows*) et **12 caractéristiques** (*columns*).  \n",
    "\n",
    "Chaque ligne correspond à un vin rouge portugais et ses propriétés physico-chimiques. Voici les colonnes du dataset :\n",
    "\n",
    "- **fixed acidity** (*acidité fixe*) : Niveau d'acidité non volatile (exprimé en g/dm³).\n",
    "- **volatile acidity** (*acidité volatile*) : Quantité d'acide acétique dans le vin (g/dm³), responsable d'odeurs désagréables en cas d'excès.\n",
    "- **citric acid** (*acide citrique*) : Présence d'acide citrique, qui apporte de la fraîcheur au vin (g/dm³).\n",
    "- **residual sugar** (*sucre résiduel*) : Quantité de sucre restant après la fermentation (g/dm³).\n",
    "- **chlorides** (*chlorures*) : Concentration en sel (g/dm³).\n",
    "- **free sulfur dioxide** (*dioxyde de soufre libre*) : SO₂ libre, qui protège le vin contre l'oxydation (mg/dm³).\n",
    "- **total sulfur dioxide** (*dioxyde de soufre total*) : SO₂ total dans le vin (mg/dm³).\n",
    "- **density** (*densité*) : Densité du vin par rapport à l'eau (g/cm³).\n",
    "- **pH** : Niveau d'acidité global du vin.\n",
    "- **sulphates** (*sulfates*) : Concentration en sulfates (g/dm³), qui influence l'arôme et la conservation.\n",
    "- **alcohol** (*alcool*) : Teneur en alcool (% vol).\n",
    "- **quality** (*qualité*) : Score de qualité du vin (évalué lors de tests de dégustation à l'aveugle, sur une échelle de 0 à 10).\n",
    "\n",
    "La prochaine étape consiste à explorer et analyser ces données pour comprendre les relations entre les variables et la qualité du vin.\n",
    "\n",
    "---"
   ]
  },
  {
   "cell_type": "markdown",
   "id": "24678dab-ad5d-43c9-935f-2e435ad2216c",
   "metadata": {},
   "source": [
    "### Question 1) Forme de l'entrée (Input Shape) \n",
    "Dans quelle mesure pouvons-nous prédire la qualité perçue d'un vin à partir des mesures physico-chimiques ?  \n",
    "\n",
    "La variable cible (*target*) est **\"quality\"**, et les autres colonnes constituent les **caractéristiques** (*features*).  \n",
    "\n",
    "**Comment définiriez-vous le paramètre `input_shape` pour un modèle Keras dans cette tâche ?**"
   ]
  },
  {
   "cell_type": "markdown",
   "id": "ab28e152-9cae-4034-a58c-4dfae10eefb5",
   "metadata": {},
   "source": [
    "```\n",
    "input_shape = (11,)  # 11 caractéristiques en entrée\n",
    "```"
   ]
  },
  {
   "cell_type": "markdown",
   "id": "8f737aef-7e11-48be-a74b-e8e7a2980bf2",
   "metadata": {},
   "source": [
    "### Question 2) Définir un modèle linéaire \n",
    "Définissez maintenant un modèle linéaire adapté à cette tâche. Faites attention au nombre d'entrées et de sorties que le modèle doit avoir."
   ]
  },
  {
   "cell_type": "code",
   "execution_count": 26,
   "id": "477d1d0d-cfbf-44d3-a550-cf8476979350",
   "metadata": {},
   "outputs": [],
   "source": [
    "from tensorflow import keras\n",
    "from tensorflow.keras import layers\n",
    "\n",
    "# Définition du modèle linéaire avec une couche d'entrée explicite\n",
    "model = keras.Sequential([\n",
    "    layers.Input(shape=(11,)),  # Définition de l'entrée\n",
    "    layers.Dense(units=1)  # Couche linéaire de sortie\n",
    "])"
   ]
  },
  {
   "cell_type": "markdown",
   "id": "3eb571b2-5b16-4c7b-be98-0caf4a643762",
   "metadata": {},
   "source": [
    "### Question 3) **Examiner les poids**  \n",
    "\n",
    "En interne, Keras représente les poids d’un réseau de neurones sous forme de **tenseurs**. Les tenseurs sont essentiellement l’équivalent des tableaux *NumPy* dans TensorFlow, avec quelques différences qui les rendent mieux adaptés au *deep learning*.  \n",
    "\n",
    "L’un des avantages majeurs des tenseurs est leur compatibilité avec les **accélérateurs GPU et TPU**. Les **TPU** (*Tensor Processing Units*) sont d’ailleurs spécialement conçus pour effectuer des calculs sur les tenseurs.  \n",
    "\n",
    "Les poids d’un modèle sont stockés dans son attribut `weights` sous forme d’une liste de tenseurs.  \n",
    "\n",
    "Obtenez les poids du modèle que vous avez défini ci-dessus. *(Si vous le souhaitez, vous pouvez afficher les poids avec une commande comme :)*   \n",
    "\n",
    "```python\n",
    "print(\"Weights\\n{}\\n\\nBias\\n{}\".format(w, b))\n",
    "```"
   ]
  },
  {
   "cell_type": "code",
   "execution_count": 34,
   "id": "15fb76b1-9ddd-4175-86aa-599ea8683f8c",
   "metadata": {},
   "outputs": [
    {
     "name": "stdout",
     "output_type": "stream",
     "text": [
      "Poids (W):\n",
      " [[-0.5701892 ]\n",
      " [ 0.40145177]\n",
      " [-0.5127557 ]\n",
      " [ 0.39829248]\n",
      " [-0.20406055]\n",
      " [-0.56661177]\n",
      " [ 0.27987903]\n",
      " [ 0.13291109]\n",
      " [-0.52238846]\n",
      " [-0.65916103]\n",
      " [ 0.5074895 ]]\n",
      "Biais (b):\n",
      " [0.]\n"
     ]
    }
   ],
   "source": [
    "# Récupération des poids du modèle\n",
    "w, b = model.weights\n",
    "\n",
    "print(\"Poids (W):\\n\", w.numpy())\n",
    "print(\"Biais (b):\\n\", b.numpy())\n"
   ]
  },
  {
   "cell_type": "markdown",
   "id": "2d796bc9-06f5-499a-999c-3a0d1c63b82c",
   "metadata": {},
   "source": [
    "✅ **Explication** :  \n",
    "- `model.weights` retourne une **liste de tenseurs** contenant les **poids (`w`)** et le **biais (`b`)** de la couche `Dense`.  \n",
    "- Comme notre modèle n’a qu’une seule couche avec des poids et un biais, on peut directement affecter :  \n",
    "  - `w` : les poids (matrice de taille `(11,1)`, car il y a 11 entrées et 1 sortie).  \n",
    "  - `b` : le biais (scalaire, initialisé à 0).  \n"
   ]
  },
  {
   "cell_type": "markdown",
   "id": "e1a815df-0f98-47f8-9d40-97501f68ddb2",
   "metadata": {},
   "source": [
    "### Correct :  \n",
    "Voyez-vous comment il y a un poids pour chaque entrée (et un biais) ? Cependant, notez qu'il ne semble pas y avoir de motif particulier dans les valeurs des poids. Avant que le modèle ne soit entraîné, les poids sont définis avec des nombres aléatoires (et le biais est initialisé à 0.0). Un réseau de neurones apprend en trouvant de meilleures valeurs pour ses poids.  \n",
    "\n",
    "(En passant, Keras représente les poids sous forme de tenseurs, mais utilise également des tenseurs pour représenter les données. Lorsque vous définissez l'argument `input_shape`, vous indiquez à Keras les dimensions du tableau qu'il doit attendre pour chaque exemple dans les données d'entraînement. Par exemple, `input_shape=[3]` créerait un réseau acceptant des vecteurs de longueur 3, comme `[0.2, 0.4, 0.6]`.)\n",
    "\n",
    "---\n",
    "\n",
    "### Optionnel : **Tracer la sortie d'un modèle linéaire non entraîné**  \n",
    "Les types de problèmes sur lesquels nous allons travailler à travers la Leçon 5 seront des problèmes de régression, où l'objectif est de prédire une cible numérique. Les problèmes de régression sont similaires aux problèmes d'ajustement de courbe : nous essayons de trouver une courbe qui s'ajuste le mieux aux données. Jetons un œil à la \"courbe\" produite par un modèle linéaire. (Vous avez probablement deviné qu'il s'agit d'une droite !)  \n",
    "\n",
    "Nous avons mentionné qu'avant l'entraînement, les poids du modèle sont définis de manière aléatoire. Exécutez la cellule ci-dessous plusieurs fois pour voir les différentes droites produites par une initialisation aléatoire. (Il n'y a pas de codage pour cet exercice — il s'agit simplement d'une démonstration.)"
   ]
  },
  {
   "cell_type": "code",
   "execution_count": 44,
   "id": "7dd2fc61-cdcb-4e5b-ad00-ddcc2e0cf5ef",
   "metadata": {},
   "outputs": [
    {
     "name": "stdout",
     "output_type": "stream",
     "text": [
      "\u001b[1m4/4\u001b[0m \u001b[32m━━━━━━━━━━━━━━━━━━━━\u001b[0m\u001b[37m\u001b[0m \u001b[1m0s\u001b[0m 25ms/step\n"
     ]
    },
    {
     "data": {
      "image/png": "[encoded data removed]",
      "text/plain": [
       "<Figure size 640x480 with 1 Axes>"
      ]
     },
     "metadata": {},
     "output_type": "display_data"
    }
   ],
   "source": [
    "import tensorflow as tf\n",
    "from tensorflow import keras\n",
    "from tensorflow.keras import layers\n",
    "import matplotlib.pyplot as plt\n",
    "\n",
    "# Définir le modèle linéaire avec une couche d'entrée explicite\n",
    "model = keras.Sequential([\n",
    "    layers.Input(shape=[1]),  # Définition explicite de l'entrée\n",
    "    layers.Dense(1),  # Couche Dense\n",
    "])\n",
    "\n",
    "# Générer des valeurs d'entrée\n",
    "x = tf.linspace(-1.0, 1.0, 100)\n",
    "\n",
    "# Effectuer une prédiction avec le modèle non entraîné\n",
    "y = model.predict(x)\n",
    "\n",
    "# Tracer les résultats\n",
    "plt.figure(dpi=100)\n",
    "plt.plot(x, y, 'k')\n",
    "plt.xlim(-1, 1)\n",
    "plt.ylim(-1, 1)\n",
    "plt.xlabel(\"Input: x\")\n",
    "plt.ylabel(\"Target y\")\n",
    "\n",
    "# Afficher les poids et biais du modèle\n",
    "w, b = model.weights  # Vous pouvez aussi utiliser model.get_weights()\n",
    "plt.title(\"Weight: {:0.2f}\\nBias: {:0.2f}\".format(w[0][0], b[0]))\n",
    "\n",
    "plt.show()\n"
   ]
  },
  {
   "cell_type": "code",
   "execution_count": null,
   "id": "da498173-a486-48ed-aaac-351dbad0dab2",
   "metadata": {},
   "outputs": [],
   "source": []
  }
 ],
 "metadata": {
  "kernelspec": {
   "display_name": "Python [conda env:base] *",
   "language": "python",
   "name": "conda-base-py"
  },
  "language_info": {
   "codemirror_mode": {
    "name": "ipython",
    "version": 3
   },
   "file_extension": ".py",
   "mimetype": "text/x-python",
   "name": "python",
   "nbconvert_exporter": "python",
   "pygments_lexer": "ipython3",
   "version": "3.12.3"
  }
 },
 "nbformat": 4,
 "nbformat_minor": 5
}
