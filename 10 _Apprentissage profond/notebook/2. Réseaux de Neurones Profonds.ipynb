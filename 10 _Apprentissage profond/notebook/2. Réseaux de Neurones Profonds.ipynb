{
 "cells": [
  {
   "cell_type": "markdown",
   "id": "f221aad0-592c-43bb-813b-e0fbc42a410d",
   "metadata": {},
   "source": [
    "# Réseaux de Neurones Profonds  \n",
    "Ajoutez des couches cachées à votre réseau pour découvrir des relations complexes.  \n",
    "\n",
    "## Introduction  \n",
    "Dans cette leçon, nous allons voir comment construire des réseaux de neurones capables d'apprendre les types de relations complexes pour lesquels les réseaux de neurones profonds sont réputés.  \n",
    "\n",
    "L'idée clé ici est la **modularité**, c'est-à-dire construire un réseau complexe à partir d'unités fonctionnelles plus simples. Nous avons déjà vu comment une unité linéaire calcule une fonction linéaire. Maintenant, nous allons voir comment **combiner et modifier ces unités individuelles** pour modéliser des relations plus complexes.  \n",
    "\n",
    "#### Couches  \n",
    "Les réseaux de neurones organisent généralement leurs neurones en couches. Lorsque nous regroupons des unités linéaires partageant un ensemble commun d'entrées, nous obtenons une couche dense.  \n",
    "\n",
    "- *Représentation visuelle : Une couche d'entrée de trois cercles connectée à une couche dense de deux cercles.*  \n",
    "- *Une couche dense de deux unités linéaires recevant deux entrées et un biais.*  \n",
    "\n",
    "Vous pouvez considérer chaque couche d'un réseau de neurones comme effectuant une transformation relativement simple. À travers une pile profonde de couches, un réseau de neurones peut transformer ses entrées de manière de plus en plus complexe. Dans un réseau de neurones bien entraîné, chaque couche est une transformation qui nous rapproche un peu plus de la solution.  \n",
    "\n",
    "#### Plusieurs Types de Couches  \n",
    "Une \"couche\" dans **Keras** est un concept très général. Une couche peut être, essentiellement, n'importe quel type de transformation de données. De nombreuses couches, comme les couches **convolutives et récurrentes**, transforment les données en utilisant des neurones et diffèrent principalement par le schéma de connexions qu'elles forment. D'autres sont utilisées pour l'**ingénierie des caractéristiques** ou simplement pour des **opérations arithmétiques simples**. Il existe tout un monde de couches à découvrir — explorez-les !  \n"
   ]
  },
  {
   "cell_type": "markdown",
   "id": "d49b660d-f460-49d8-9313-8855b41040e7",
   "metadata": {},
   "source": [
    "## La Fonction d'Activation  \n",
    "Cependant, il s'avère que deux couches denses sans rien entre elles ne sont pas meilleures qu'une seule couche dense par elle-même. Les couches denses seules ne peuvent jamais nous faire sortir du monde des lignes et des plans. Nous avons besoin de quelque chose de **non linéaire**. Nous avons besoin de fonctions d'activation.  \n",
    "\n",
    "Sans **fonctions d'activation**, les réseaux de neurones ne peuvent apprendre que des relations linéaires. Pour modéliser des courbes, nous devons utiliser des fonctions d'activation.  \n",
    "Une fonction d'activation est simplement une fonction que nous appliquons à chaque sortie d'une couche (ses activations). La plus courante est la **fonction rectifiée (ReLU)** :  \n",
    "**max(0, x)**  \n",
    "\n",
    "*Graphique de la fonction ReLU : une ligne y = x pour x > 0 et y = 0 pour x < 0, formant une forme de charnière comme '_/'*  \n",
    "La fonction ReLU a un graphique qui est une ligne avec la partie négative \"rectifiée\" à zéro. Appliquer cette fonction aux sorties d'un neurone introduit une courbure dans les données, nous éloignant des simples lignes.  \n",
    "\n",
    "Lorsque nous attachons **la fonction ReLU** à une unité linéaire, nous obtenons une unité linéaire rectifiée (ReLU). (Pour cette raison, il est courant d'appeler la fonction ReLU \"fonction d'activation ReLU\".) Appliquer une activation ReLU à une unité linéaire signifie que la sortie devient **max(0, w * x + b)**, que nous pourrions représenter dans un diagramme comme :  \n",
    "\n",
    "*Diagramme d'une seule ReLU : comme une unité linéaire, mais au lieu d'un symbole '+', nous avons maintenant une charnière '_/'*  \n",
    "*Une unité linéaire rectifiée.*  "
   ]
  },
  {
   "cell_type": "markdown",
   "id": "efa15026-eeba-4f95-86d2-38e3c195084a",
   "metadata": {},
   "source": [
    "#### Empiler des Couches Denses  \n",
    "Maintenant que nous avons une certaine non-linéarité, voyons comment empiler des couches pour obtenir des transformations de données complexes.  \n",
    "\n",
    "*Représentation visuelle : une couche d'entrée, deux couches cachées et une couche linéaire finale.*  \n",
    "Une pile de couches denses forme un réseau \"**entièrement connecté**\".  \n",
    "\n",
    "Les couches avant la couche de sortie sont parfois appelées \"**cachées**\" car nous ne voyons jamais directement leurs sorties.  \n",
    "\n",
    "Remarquez que la dernière couche (la couche de sortie) est une unité linéaire (c'est-à-dire sans fonction d'activation). Cela rend ce réseau approprié pour une tâche de **régression**, où nous essayons de prédire une valeur numérique arbitraire. D'autres tâches (comme la **classification**) pourraient nécessiter une fonction d'activation sur la sortie.  \n",
    "\n",
    "#### Construire des Modèles Séquentiels  \n",
    "Le modèle séquentiel que nous avons utilisé connecte une liste de couches dans l'ordre, de la première à la dernière : la première couche reçoit l'entrée, la dernière couche produit la sortie. Cela crée le modèle illustré ci-dessus :  \n"
   ]
  },
  {
   "cell_type": "code",
   "execution_count": 15,
   "id": "480dfeee-547c-4fbb-8cf4-0504462f8732",
   "metadata": {},
   "outputs": [],
   "source": [
    "from tensorflow import keras\n",
    "from tensorflow.keras import layers\n",
    "\n",
    "model = keras.Sequential([\n",
    "    # les couches cachées ReLU\n",
    "    layers.Dense(units=4, activation='relu', input_shape=[2]),\n",
    "    layers.Dense(units=3, activation='relu'),\n",
    "    # la couche de sortie linéaire\n",
    "    layers.Dense(units=1),\n",
    "])"
   ]
  },
  {
   "cell_type": "markdown",
   "id": "59f8a285-8568-4615-9369-c088bfb76310",
   "metadata": {},
   "source": [
    "Assurez-vous de passer toutes les couches ensemble dans une liste, comme `[couche, couche, couche, ...]`, au lieu de les passer comme des arguments séparés. Pour ajouter une fonction d'activation à une couche, il suffit de donner son nom dans l'argument `activation`.  \n",
    "\n",
    "#### À Vous de Jouer  \n",
    "Maintenant, créez un réseau de neurones profond pour le jeu de données Concrete.  \n",
    "\n",
    "Vous avez des questions ou des commentaires ? Visitez le forum de discussion du cours pour discuter avec d'autres apprenants."
   ]
  },
  {
   "cell_type": "code",
   "execution_count": null,
   "id": "9a6f11a1-e9c7-4948-a90a-a21ddbfaf735",
   "metadata": {},
   "outputs": [],
   "source": []
  },
  {
   "cell_type": "markdown",
   "id": "f34ea44c-55a9-4e56-bc42-aa7cf3c4fbfb",
   "metadata": {},
   "source": [
    "---\n",
    "L'introduction explique comment on construit un **réseau de neurones profond** (Deep Neural Network) en ajoutant plusieurs couches dans un modèle **Sequential** de Keras.  \n",
    "\n",
    "### 🧩 **Les points clés :**  \n",
    "1️⃣ **Un réseau de neurones profond (DNN)** est un modèle d'intelligence artificielle qui apprend à partir de données. Plus il a de **couches cachées**, plus il peut apprendre des choses **complexes**.  \n",
    "\n",
    "2️⃣ **Pourquoi ajouter une fonction d’activation ?**  \n",
    "   - Sans fonction d'activation, chaque couche ferait juste une transformation **linéaire** des données, comme une simple équation de droite.  \n",
    "   - Avec une **fonction d’activation** (comme **ReLU**), on introduit de la **non-linéarité** dans le réseau, ce qui lui permet d’apprendre des relations plus complexes dans les données.  \n",
    "\n",
    "3️⃣ **L'objectif de l'exercice**  \n",
    "   - Construire un réseau de neurones **avec plusieurs couches cachées**.  \n",
    "   - Tester **différentes fonctions d’activation** pour voir comment elles influencent l'apprentissage.  \n",
    "\n",
    "💡 **Exemple simple :**  \n",
    "Imagine qu'on essaie de **prédire le prix d’une maison** en fonction de sa superficie.  \n",
    "- Un modèle **linéaire** ferait juste une droite (exemple : \"plus c’est grand, plus c’est cher\").  \n",
    "- Un **réseau de neurones avec une activation ReLU** pourrait apprendre des **règles plus complexes**, comme :  \n",
    "  - \"Les petites maisons en centre-ville coûtent plus cher que les grandes maisons en campagne\".  \n",
    "\n",
    "Bref, **les fonctions d’activation permettent au réseau d'apprendre des relations plus réalistes et complexes dans les données.** 🚀\n",
    "\n",
    "\n",
    "\n",
    "\n",
    "\n",
    "---\n",
    "Les **couches cachées** sont les **couches intermédiaires** entre l'entrée et la sortie d'un **réseau de neurones**.  \n",
    "\n",
    "### 🔹 **Définition simple :**  \n",
    "Un **réseau de neurones** est composé de plusieurs **couches** :  \n",
    "1️⃣ **Couche d'entrée (Input Layer)** : C’est là où les données brutes arrivent (par exemple, les caractéristiques d’un vin : acidité, sucre, alcool…).  \n",
    "2️⃣ **Couches cachées (Hidden Layers)** : Ce sont les couches qui permettent au réseau d'apprendre des **relations complexes** dans les données. Elles appliquent des calculs (multiplications, additions) et des **fonctions d’activation**.  \n",
    "3️⃣ **Couche de sortie (Output Layer)** : Donne la prédiction finale (par exemple, la qualité du vin notée de 1 à 10).  \n",
    "\n",
    "### 🔹 **Pourquoi les appeler \"cachées\" ?**  \n",
    "Elles sont appelées \"cachées\" parce qu’on ne les **voit pas directement** dans les données d’entrée ou dans la sortie finale. Elles travaillent en **arrière-plan** pour extraire des **motifs et des relations** dans les données.  \n",
    "\n",
    "---\n",
    "\n",
    "### 🧠 **Exemple concret : prédire la qualité d'un vin**  \n",
    "Imaginons un **réseau de neurones avec 2 couches cachées** :\n",
    "\n",
    "**Entrée** → `Acidité`, `Sucre`, `Alcool`  \n",
    "**Couche cachée 1** → Apprend des combinaisons comme \"si un vin a **beaucoup d'alcool et peu d'acidité**, il pourrait être bon\".  \n",
    "**Couche cachée 2** → Combine encore plus d’informations, par exemple \"si un vin a **un bon équilibre entre sucre et alcool**, il a une note plus élevée\".  \n",
    "**Sortie** → Prédit la qualité (`1 à 10`).  \n",
    "\n",
    "---\n",
    "\n",
    "💡 **Plus il y a de couches cachées, plus le réseau peut apprendre des relations complexes !**  \n",
    "Mais attention, trop de couches peuvent aussi poser des problèmes comme le **sur-apprentissage** (le modèle devient trop spécifique aux données d'entraînement et ne généralise pas bien sur de nouvelles données). 🎯\n",
    "\n",
    "---"
   ]
  },
  {
   "cell_type": "code",
   "execution_count": null,
   "id": "98667eb4-804c-473e-93cc-af1d7a91d8fb",
   "metadata": {},
   "outputs": [],
   "source": []
  },
  {
   "cell_type": "markdown",
   "id": "d1d69b28-a602-4a97-981c-da903e56ee41",
   "metadata": {},
   "source": [
    "---\n",
    "# **EXERCICE**\n",
    "\n",
    "## Introduction  \n",
    "Dans le tutoriel, nous avons vu comment construire des réseaux de neurones profonds en empilant des couches dans un modèle **Sequential**. En ajoutant une **fonction d'activation** après les couches cachées, nous avons donné au réseau la capacité d'apprendre des relations plus complexes (**non linéaires**) dans les données.\n",
    "\n",
    "Dans ces exercices, vous allez :\n",
    "1. Construire un réseau de neurones avec **plusieurs couches cachées**.\n",
    "2. Explorer différentes fonctions d'activation en plus de **ReLU**.\n",
    "\n",
    "Exécutez la cellule suivante pour tout configurer !"
   ]
  },
  {
   "cell_type": "code",
   "execution_count": 26,
   "id": "5f94e921-56eb-4cb6-8542-a9364e14cfd1",
   "metadata": {},
   "outputs": [],
   "source": [
    "# Configuration des graphiques\n",
    "import matplotlib.pyplot as plt\n",
    "import seaborn as sns\n",
    "\n",
    "# Changer le style de la figure\n",
    "sns.set_style(\"whitegrid\")\n",
    "\n",
    "# Définition des paramètres par défaut de Matplotlib\n",
    "plt.rc('figure', autolayout=True)\n",
    "plt.rc('axes', labelweight='bold', labelsize='large',\n",
    "       titleweight='bold', titlesize=18, titlepad=10)\n"
   ]
  },
  {
   "cell_type": "markdown",
   "id": "f8050ff8-98a2-4bd8-a865-e1efc0240bc1",
   "metadata": {},
   "source": [
    "### **Le jeu de données sur le béton**\n",
    "Dans ce dataset, votre objectif est de **prédire la résistance à la compression du béton**, fabriqué selon différentes compositions.\n",
    "\n",
    "Exécutez la cellule suivante sans modification pour charger le dataset :"
   ]
  },
  {
   "cell_type": "code",
   "execution_count": 29,
   "id": "02ecdb1c-9118-4ec9-aadf-427159f632a8",
   "metadata": {},
   "outputs": [
    {
     "data": {
      "text/html": [
       "<div>\n",
       "<style scoped>\n",
       "    .dataframe tbody tr th:only-of-type {\n",
       "        vertical-align: middle;\n",
       "    }\n",
       "\n",
       "    .dataframe tbody tr th {\n",
       "        vertical-align: top;\n",
       "    }\n",
       "\n",
       "    .dataframe thead th {\n",
       "        text-align: right;\n",
       "    }\n",
       "</style>\n",
       "<table border=\"1\" class=\"dataframe\">\n",
       "  <thead>\n",
       "    <tr style=\"text-align: right;\">\n",
       "      <th></th>\n",
       "      <th>Cement</th>\n",
       "      <th>BlastFurnaceSlag</th>\n",
       "      <th>FlyAsh</th>\n",
       "      <th>Water</th>\n",
       "      <th>Superplasticizer</th>\n",
       "      <th>CoarseAggregate</th>\n",
       "      <th>FineAggregate</th>\n",
       "      <th>Age</th>\n",
       "      <th>CompressiveStrength</th>\n",
       "    </tr>\n",
       "  </thead>\n",
       "  <tbody>\n",
       "    <tr>\n",
       "      <th>0</th>\n",
       "      <td>540.0</td>\n",
       "      <td>0.0</td>\n",
       "      <td>0.0</td>\n",
       "      <td>162.0</td>\n",
       "      <td>2.5</td>\n",
       "      <td>1040.0</td>\n",
       "      <td>676.0</td>\n",
       "      <td>28</td>\n",
       "      <td>79.99</td>\n",
       "    </tr>\n",
       "    <tr>\n",
       "      <th>1</th>\n",
       "      <td>540.0</td>\n",
       "      <td>0.0</td>\n",
       "      <td>0.0</td>\n",
       "      <td>162.0</td>\n",
       "      <td>2.5</td>\n",
       "      <td>1055.0</td>\n",
       "      <td>676.0</td>\n",
       "      <td>28</td>\n",
       "      <td>61.89</td>\n",
       "    </tr>\n",
       "    <tr>\n",
       "      <th>2</th>\n",
       "      <td>332.5</td>\n",
       "      <td>142.5</td>\n",
       "      <td>0.0</td>\n",
       "      <td>228.0</td>\n",
       "      <td>0.0</td>\n",
       "      <td>932.0</td>\n",
       "      <td>594.0</td>\n",
       "      <td>270</td>\n",
       "      <td>40.27</td>\n",
       "    </tr>\n",
       "    <tr>\n",
       "      <th>3</th>\n",
       "      <td>332.5</td>\n",
       "      <td>142.5</td>\n",
       "      <td>0.0</td>\n",
       "      <td>228.0</td>\n",
       "      <td>0.0</td>\n",
       "      <td>932.0</td>\n",
       "      <td>594.0</td>\n",
       "      <td>365</td>\n",
       "      <td>41.05</td>\n",
       "    </tr>\n",
       "    <tr>\n",
       "      <th>4</th>\n",
       "      <td>198.6</td>\n",
       "      <td>132.4</td>\n",
       "      <td>0.0</td>\n",
       "      <td>192.0</td>\n",
       "      <td>0.0</td>\n",
       "      <td>978.4</td>\n",
       "      <td>825.5</td>\n",
       "      <td>360</td>\n",
       "      <td>44.30</td>\n",
       "    </tr>\n",
       "  </tbody>\n",
       "</table>\n",
       "</div>"
      ],
      "text/plain": [
       "   Cement  BlastFurnaceSlag  FlyAsh  Water  Superplasticizer  CoarseAggregate  \\\n",
       "0   540.0               0.0     0.0  162.0               2.5           1040.0   \n",
       "1   540.0               0.0     0.0  162.0               2.5           1055.0   \n",
       "2   332.5             142.5     0.0  228.0               0.0            932.0   \n",
       "3   332.5             142.5     0.0  228.0               0.0            932.0   \n",
       "4   198.6             132.4     0.0  192.0               0.0            978.4   \n",
       "\n",
       "   FineAggregate  Age  CompressiveStrength  \n",
       "0          676.0   28                79.99  \n",
       "1          676.0   28                61.89  \n",
       "2          594.0  270                40.27  \n",
       "3          594.0  365                41.05  \n",
       "4          825.5  360                44.30  "
      ]
     },
     "execution_count": 29,
     "metadata": {},
     "output_type": "execute_result"
    }
   ],
   "source": [
    "import pandas as pd\n",
    "\n",
    "concrete = pd.read_csv('concrete.csv')\n",
    "concrete.head()"
   ]
  },
  {
   "cell_type": "markdown",
   "id": "04e3387f-6343-47e7-8161-127841011f8a",
   "metadata": {},
   "source": [
    "---\n",
    "### **1) Forme de l'entrée (Input Shape)**  \n",
    "L'objectif de cette tâche est de prédire la colonne **\"CompressiveStrength\"** (Résistance à la compression).  \n",
    "\n",
    "Les autres colonnes seront utilisées comme **caractéristiques d'entrée** (features) pour entraîner le modèle.  \n",
    "\n",
    "Quelle serait la forme de l'entrée (**input shape**) pour ce jeu de données ?"
   ]
  },
  {
   "cell_type": "code",
   "execution_count": 32,
   "id": "7f7c1a1f-7a2b-4888-9cb7-b9369cf1ecd3",
   "metadata": {},
   "outputs": [
    {
     "data": {
      "text/plain": [
       "(1030, 9)"
      ]
     },
     "execution_count": 32,
     "metadata": {},
     "output_type": "execute_result"
    }
   ],
   "source": [
    "concrete.shape # (lignes, colonnes)"
   ]
  },
  {
   "cell_type": "code",
   "execution_count": 34,
   "id": "2b609d8e-b3be-4517-b866-cc54a91b7e99",
   "metadata": {},
   "outputs": [
    {
     "name": "stdout",
     "output_type": "stream",
     "text": [
      "Input Shape: [8]\n"
     ]
    }
   ],
   "source": [
    "# Définir la forme d'entrée\n",
    "input_shape = [concrete.shape[1] - 1]\n",
    "\n",
    "# Afficher le résultat\n",
    "print(\"Input Shape:\", input_shape)\n"
   ]
  },
  {
   "cell_type": "markdown",
   "id": "b119039e-870a-4751-8cf3-457e34894e33",
   "metadata": {},
   "source": [
    "---\n",
    "## Question 2) Définir un modèle avec des couches cachées \n",
    "Maintenant, crée un modèle avec **trois couches cachées**, chacune ayant **512 unités** et utilisant la fonction d'activation **ReLU**.  \n",
    "\n",
    "Assure-toi d'ajouter :  \n",
    "✅ Une **couche de sortie** avec **1 unité** et **sans activation**.  \n",
    "✅ Le paramètre **`input_shape`** dans la **première couche** du modèle."
   ]
  },
  {
   "cell_type": "code",
   "execution_count": 39,
   "id": "389929be-21bb-4dd6-ae3f-00a224f93ceb",
   "metadata": {},
   "outputs": [],
   "source": [
    "from tensorflow import keras\n",
    "from tensorflow.keras import layers\n",
    "\n",
    "# Définir le modèle avec une couche Input explicite\n",
    "model = keras.Sequential([\n",
    "    layers.Input(shape=input_shape),  # Définition explicite de l'entrée\n",
    "    layers.Dense(512, activation='relu'),\n",
    "    layers.Dense(512, activation='relu'),\n",
    "    layers.Dense(512, activation='relu'),\n",
    "    layers.Dense(1)  # Couche de sortie sans activation\n",
    "])"
   ]
  },
  {
   "cell_type": "markdown",
   "id": "757fae0b-3c30-4499-a1cc-cea0edc371ff",
   "metadata": {},
   "source": [
    "---\n",
    "## Question 3) Couches d'Activation\n",
    "Explorons un peu les fonctions d'activation.  \n",
    "\n",
    "La manière habituelle d'attacher une **fonction d'activation** à une couche **Dense** est de l'inclure directement dans sa définition grâce à l'argument `activation`.  \n",
    "\n",
    "Mais parfois, on veut insérer **une autre couche** entre la couche Dense et sa fonction d'activation (par exemple, la **normalisation de lot - Batch Normalization**, que nous verrons dans la **leçon 5**).  \n",
    "\n",
    "Dans ce cas, on peut définir l'activation séparément avec une couche **Activation**, comme ceci :  \n",
    "\n",
    "```python\n",
    "layers.Dense(units=8),\n",
    "layers.Activation('relu')\n",
    "```\n",
    "\n",
    "Cela revient exactement à l'écriture classique suivante :  \n",
    "\n",
    "```python\n",
    "layers.Dense(units=8, activation='relu')\n",
    "```  \n",
    "Réécris le modèle suivant de manière à ce que chaque fonction d’activation soit placée dans une couche **Activation** distincte. 🚀"
   ]
  },
  {
   "cell_type": "code",
   "execution_count": 44,
   "id": "d09e78e6-c33a-43d3-892b-6a776f35b72f",
   "metadata": {},
   "outputs": [],
   "source": [
    "from tensorflow import keras\n",
    "from tensorflow.keras import layers\n",
    "\n",
    "# Définition du modèle avec les activations dans des couches distinctes\n",
    "model = keras.Sequential([\n",
    "    layers.Input(shape=input_shape),  # Définition explicite de l'entrée\n",
    "    layers.Dense(32),\n",
    "    layers.Activation('relu'),\n",
    "    layers.Dense(32),\n",
    "    layers.Activation('relu'),\n",
    "    layers.Dense(1),\n",
    "])"
   ]
  },
  {
   "cell_type": "markdown",
   "id": "b4fbc6a3-f2a7-4152-83e3-21c98879adfa",
   "metadata": {},
   "source": [
    "---\n",
    "**Optionnel : Alternatives à ReLU** \n",
    "\n",
    "Il existe toute une famille de variantes de la fonction d'activation **ReLU** : **ELU**, **SELU**, **Swish**, entre autres, que vous pouvez utiliser dans Keras. Parfois, une activation peut mieux fonctionner qu'une autre pour une tâche donnée. Il peut donc être intéressant d'expérimenter différentes fonctions d'activation lors du développement d'un modèle.  \n",
    "\n",
    "L'activation **ReLU** donne généralement de bons résultats sur la plupart des problèmes, ce qui en fait un bon choix de départ.  \n",
    "\n",
    "Regardons les graphiques de certaines de ces activations. **Remplacez \"relu\" par l'une des autres activations mentionnées ci-dessus**, puis exécutez la cellule pour voir le graphique. *(Vous pouvez aussi consulter la documentation pour découvrir d'autres activations.)*"
   ]
  },
  {
   "cell_type": "code",
   "execution_count": 47,
   "id": "7d34a995-dcb5-48a7-97dc-0e0a8ad01fc2",
   "metadata": {},
   "outputs": [
    {
     "data": {
      "image/png": "[encoded data removed]",
      "text/plain": [
       "<Figure size 640x480 with 1 Axes>"
      ]
     },
     "metadata": {},
     "output_type": "display_data"
    }
   ],
   "source": [
    "# YOUR CODE HERE: Change 'relu' to 'elu', 'selu', 'swish'... or something else\n",
    "activation_layer = layers.Activation('relu')\n",
    "\n",
    "x = tf.linspace(-3.0, 3.0, 100)\n",
    "y = activation_layer(x) # once created, a layer is callable just like a function\n",
    "\n",
    "plt.figure(dpi=100)\n",
    "plt.plot(x, y)\n",
    "plt.xlim(-3, 3)\n",
    "plt.xlabel(\"Input\")\n",
    "plt.ylabel(\"Output\")\n",
    "plt.show()"
   ]
  },
  {
   "cell_type": "code",
   "execution_count": 49,
   "id": "1cfb4e8d-4ae3-4efb-a41f-4fcb538715c3",
   "metadata": {},
   "outputs": [
    {
     "data": {
      "image/png": "[encoded data removed]",
      "text/plain": [
       "<Figure size 640x480 with 1 Axes>"
      ]
     },
     "metadata": {},
     "output_type": "display_data"
    }
   ],
   "source": [
    "# YOUR CODE HERE: Change 'relu' to 'elu', 'selu', 'swish'... or something else\n",
    "activation_layer = layers.Activation('swish')\n",
    "\n",
    "x = tf.linspace(-3.0, 3.0, 100)\n",
    "y = activation_layer(x) # once created, a layer is callable just like a function\n",
    "\n",
    "plt.figure(dpi=100)\n",
    "plt.plot(x, y)\n",
    "plt.xlim(-3, 3)\n",
    "plt.xlabel(\"Input\")\n",
    "plt.ylabel(\"Output\")\n",
    "plt.show()"
   ]
  },
  {
   "cell_type": "code",
   "execution_count": 51,
   "id": "2fd31cf0-7db3-4689-b4a3-2521e8319fe3",
   "metadata": {},
   "outputs": [
    {
     "data": {
      "image/png": "[encoded data removed]",
      "text/plain": [
       "<Figure size 640x480 with 1 Axes>"
      ]
     },
     "metadata": {},
     "output_type": "display_data"
    }
   ],
   "source": [
    "# YOUR CODE HERE: Change 'relu' to 'elu', 'selu', 'swish'... or something else\n",
    "activation_layer = layers.Activation('elu')\n",
    "\n",
    "x = tf.linspace(-3.0, 3.0, 100)\n",
    "y = activation_layer(x) # once created, a layer is callable just like a function\n",
    "\n",
    "plt.figure(dpi=100)\n",
    "plt.plot(x, y)\n",
    "plt.xlim(-3, 3)\n",
    "plt.xlabel(\"Input\")\n",
    "plt.ylabel(\"Output\")\n",
    "plt.show()"
   ]
  },
  {
   "cell_type": "code",
   "execution_count": 53,
   "id": "4153bfb1-92e8-4ad9-bfd2-580823860732",
   "metadata": {},
   "outputs": [
    {
     "data": {
      "image/png": "[encoded data removed]",
      "text/plain": [
       "<Figure size 640x480 with 1 Axes>"
      ]
     },
     "metadata": {},
     "output_type": "display_data"
    }
   ],
   "source": [
    "# YOUR CODE HERE: Change 'relu' to 'elu', 'selu', 'swish'... or something else\n",
    "activation_layer = layers.Activation('selu')\n",
    "\n",
    "x = tf.linspace(-3.0, 3.0, 100)\n",
    "y = activation_layer(x) # once created, a layer is callable just like a function\n",
    "\n",
    "plt.figure(dpi=100)\n",
    "plt.plot(x, y)\n",
    "plt.xlim(-3, 3)\n",
    "plt.xlabel(\"Input\")\n",
    "plt.ylabel(\"Output\")\n",
    "plt.show()"
   ]
  },
  {
   "cell_type": "code",
   "execution_count": null,
   "id": "0691df04-7f7d-43fd-9408-6777f9ff66c9",
   "metadata": {},
   "outputs": [],
   "source": []
  }
 ],
 "metadata": {
  "kernelspec": {
   "display_name": "Python [conda env:base] *",
   "language": "python",
   "name": "conda-base-py"
  },
  "language_info": {
   "codemirror_mode": {
    "name": "ipython",
    "version": 3
   },
   "file_extension": ".py",
   "mimetype": "text/x-python",
   "name": "python",
   "nbconvert_exporter": "python",
   "pygments_lexer": "ipython3",
   "version": "3.12.3"
  }
 },
 "nbformat": 4,
 "nbformat_minor": 5
}
