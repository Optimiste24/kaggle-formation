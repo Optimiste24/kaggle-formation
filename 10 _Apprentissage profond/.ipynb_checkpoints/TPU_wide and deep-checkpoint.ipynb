{
 "cells": [
  {
   "cell_type": "markdown",
   "id": "a19d2f32-988f-4947-8016-d56122f416d2",
   "metadata": {},
   "source": [
    "Ce projet peut t’être utile pour plusieurs raisons, même en tant qu’économiste :  \n",
    "\n",
    "### 1️⃣ **Renforcement des compétences en Data Science**  \n",
    "- Tu travailles déjà sur des projets en **Machine Learning et Deep Learning**. L’analyse des données du boson de Higgs te permettra de manipuler des **datasets complexes**, d’optimiser des **modèles neuronaux**, et d’utiliser des outils avancés comme les **TPU**. Ces compétences sont transférables à des problématiques économiques.  \n",
    "\n",
    "### 2️⃣ **Application aux données économiques et financières**  \n",
    "- La méthodologie utilisée ici peut être appliquée à des **problèmes d’économétrie et de prévision** :  \n",
    "  - Prédiction des comportements économiques (marchés financiers, consommation, inflation)  \n",
    "  - Détection d’anomalies dans des séries temporelles économiques  \n",
    "  - Optimisation de modèles de prévision pour la politique monétaire ou budgétaire  \n",
    "\n",
    "### 3️⃣ **Exploration des modèles \"Wide and Deep\"**  \n",
    "- Le modèle **Wide and Deep** est utilisé dans **l’analyse de données tabulaires**. Il pourrait être intéressant pour des analyses économiques complexes, notamment en **microéconomie** et en **analyse du risque** (ex. crédit bancaire, notation financière).  \n",
    "\n",
    "### 4️⃣ **Expérience avec les TPU (Tensor Processing Units)**  \n",
    "- Les TPU permettent d’entraîner rapidement des **modèles massifs**. En économie, cela pourrait servir pour :  \n",
    "  - Des analyses **Big Data** (ex. analyse des flux financiers mondiaux)  \n",
    "  - Des simulations économiques complexes  \n",
    "\n",
    "### **Conclusion : Un projet technique, mais transférable**  \n",
    "Même si ce projet porte sur la physique, il te permet de :  \n",
    "✅ Te perfectionner en **Deep Learning**  \n",
    "✅ Apprendre à travailler avec des **modèles avancés**  \n",
    "✅ Expérimenter des **outils puissants** applicables à l’économie  \n",
    "\n",
    "Si ton objectif est de **maîtriser des méthodes avancées d’analyse de données**, ce projet peut être un excellent exercice avant d’appliquer ces techniques à des sujets économiques et financiers. 🔥"
   ]
  },
  {
   "cell_type": "code",
   "execution_count": null,
   "id": "2f29da85-0654-4766-963a-50bc8bb83728",
   "metadata": {},
   "outputs": [],
   "source": []
  },
  {
   "cell_type": "markdown",
   "id": "ed0bff01-e766-490b-a8ee-4f484fce9ff9",
   "metadata": {},
   "source": [
    "---\n",
    "\n",
    "# **Détection du Boson de Higgs avec les TPU**  \n",
    "\n",
    "### À la recherche du Boson de Higgs  \n",
    "Le **Modèle Standard** est une théorie de la physique des particules qui décrit certaines des forces fondamentales de la nature. L'une des particules essentielles de ce modèle, le **boson de Higgs**, est responsable de la masse de la matière. Théorisé pour la première fois en 1964, il est resté insaisissable pendant près de cinquante ans avant d'être finalement observé expérimentalement en 2012 au **Grand Collisionneur de Hadrons (LHC)**. Ces expériences ont généré des millions de gigaoctets de données.  \n",
    "\n",
    "Les ensembles de données vastes et complexes comme ceux-ci sont parfaits pour l'apprentissage profond. Dans ce projet, nous allons construire un **réseau neuronal \"Wide and Deep\"** (Large et Profond) pour déterminer si une collision de particules a produit un boson de Higgs ou non.  \n",
    "\n",
    "---\n",
    "\n",
    "### Les données des collisions  \n",
    "Lorsque des **protons entrent en collision à haute énergie**, ils peuvent produire de nouvelles particules comme le **boson de Higgs**. Cependant, ces particules ne peuvent pas être directement observées, car elles se désintègrent presque instantanément. Pour détecter la présence d'une nouvelle particule, on étudie donc le comportement des particules issues de cette désintégration, appelées **\"produits de désintégration\"**.  \n",
    "\n",
    "L'ensemble de données **Higgs** contient :  \n",
    "- **21 caractéristiques \"basses\" (low-level)** décrivant les produits de désintégration  \n",
    "- **7 caractéristiques \"élevées\" (high-level)** dérivées des précédentes  \n",
    "\n",
    "---\n",
    "\n",
    "### Réseaux de neurones \"Wide and Deep\"  \n",
    "Un réseau de neurones **Wide and Deep** entraîne une couche linéaire en parallèle avec une pile profonde de couches denses. Ces réseaux sont souvent efficaces pour analyser des **données tabulaires**.  \n",
    "\n",
    "Dans ce projet, nous travaillons avec un ensemble de données et un modèle beaucoup plus grands que ceux du cours. Pour accélérer l'entraînement, nous allons utiliser les **Tensor Processing Units (TPU) de Kaggle**, qui sont des accélérateurs idéaux pour traiter de lourdes charges de travail.  \n",
    "\n",
    "Nous avons rassemblé quelques **hyperparamètres** pour faciliter l'expérimentation. **Forkez ce notebook** en cliquant ici et essayez par vous-même ! 🚀"
   ]
  },
  {
   "cell_type": "markdown",
   "id": "dbf3f419-212f-4a75-9e77-0afa3f71d0a6",
   "metadata": {},
   "source": [
    "\n",
    "---\n",
    "\n",
    "**Configuration du Modèle**  "
   ]
  },
  {
   "cell_type": "code",
   "execution_count": 11,
   "id": "62a240d4-bc07-4ecd-817c-6cbe9bb0c4ee",
   "metadata": {},
   "outputs": [],
   "source": [
    "\n",
    "UNITS = 2 ** 11  # 2048\n",
    "ACTIVATION = 'relu'\n",
    "DROPOUT = 0.1\n"
   ]
  },
  {
   "cell_type": "markdown",
   "id": "3ef74c86-14b8-468a-a391-532defa46b53",
   "metadata": {},
   "source": [
    " **Configuration de l'Entraînement**  "
   ]
  },
  {
   "cell_type": "code",
   "execution_count": 16,
   "id": "af45e880-3615-46c1-967c-b3e09a058a7e",
   "metadata": {},
   "outputs": [],
   "source": [
    "\n",
    "BATCH_SIZE_PER_REPLICA = 2 ** 11  # Les puissances de 128 sont les plus adaptées\n"
   ]
  },
  {
   "cell_type": "markdown",
   "id": "f676d4b4-fc78-493f-be50-f2c4c80e97cc",
   "metadata": {},
   "source": [
    "\n",
    "Les sections suivantes configurent le calcul avec les **TPU**, le **pipeline** de données et le modèle de **réseau neuronal**.  \n",
    "Si vous souhaitez uniquement voir les résultats, vous pouvez passer directement à la fin !  \n",
    "\n",
    "---\n",
    "\n",
    "## **Mise en Place (Setup)**  \n",
    "En plus de nos imports, cette section contient du code permettant de connecter notre notebook au TPU et de créer une stratégie de distribution.  \n",
    "Chaque TPU dispose de **huit cœurs de calcul** fonctionnant indépendamment. Grâce à une **stratégie de distribution**, nous définissons comment répartir le travail entre eux.  \n",
    "\n",
    "**Importation des bibliothèques et Détection du TPU**  "
   ]
  },
  {
   "cell_type": "code",
   "execution_count": 19,
   "id": "806c43ee-2f29-4341-9194-e1ba36a1adf0",
   "metadata": {},
   "outputs": [
    {
     "name": "stdout",
     "output_type": "stream",
     "text": [
      "Version de TensorFlow : 2.18.0\n",
      "Nombre d'accélérateurs détectés :  1\n"
     ]
    }
   ],
   "source": [
    "# TensorFlow\n",
    "import tensorflow as tf\n",
    "print(\"Version de TensorFlow : \" + tf.__version__)\n",
    "\n",
    "# Détection et initialisation du TPU\n",
    "try:  # Détection des TPU\n",
    "    tpu = tf.distribute.cluster_resolver.TPUClusterResolver.connect()  # Détection du TPU\n",
    "    strategy = tf.distribute.TPUStrategy(tpu)  # Stratégie de distribution\n",
    "except ValueError:  # Si aucun TPU n'est trouvé, détecter le GPU\n",
    "    strategy = tf.distribute.get_strategy()  # Stratégie par défaut pour CPU et GPU unique\n",
    "print(\"Nombre d'accélérateurs détectés : \", strategy.num_replicas_in_sync)\n"
   ]
  },
  {
   "cell_type": "markdown",
   "id": "c2874d43-6575-410e-a025-44abb6cd2c85",
   "metadata": {},
   "source": [
    "**Visualisation des Données**  "
   ]
  },
  {
   "cell_type": "code",
   "execution_count": 23,
   "id": "15aba96e-55d0-4311-869f-2ae2aa0c2ff4",
   "metadata": {},
   "outputs": [],
   "source": [
    "# Importation des bibliothèques\n",
    "\n",
    "import pandas as pd\n",
    "import matplotlib.pyplot as plt\n",
    "import seaborn as sns\n",
    "\n",
    "sns.set_style(\"whitegrid\")     # Changer le style de la figure\n",
    "plt.rc('figure', autolayout=True)  # Ajustement automatique des figures\n",
    "plt.rc('axes', labelweight='bold', labelsize='large',\n",
    "       titleweight='bold', titlesize=18, titlepad=10)\n",
    "plt.rc('animation', html='html5')  # Configuration des animations"
   ]
  },
  {
   "cell_type": "code",
   "execution_count": null,
   "id": "511cbf90-f5c8-4a0f-96aa-8e80c9b320a4",
   "metadata": {},
   "outputs": [],
   "source": []
  },
  {
   "cell_type": "code",
   "execution_count": null,
   "id": "24c6e303-86a5-420a-9e22-5edf398d11c7",
   "metadata": {},
   "outputs": [],
   "source": []
  },
  {
   "cell_type": "code",
   "execution_count": null,
   "id": "6acf19df-a9f7-4c21-99bf-4a36387101b2",
   "metadata": {},
   "outputs": [],
   "source": []
  },
  {
   "cell_type": "code",
   "execution_count": null,
   "id": "ca9cd48b-e9f3-4d4c-8164-c068f6e88858",
   "metadata": {},
   "outputs": [],
   "source": []
  },
  {
   "cell_type": "code",
   "execution_count": null,
   "id": "5a29af02-3dc6-4832-b190-8f355a2af8ce",
   "metadata": {},
   "outputs": [],
   "source": []
  },
  {
   "cell_type": "markdown",
   "id": "6b8f660a-831d-4d28-8529-42050a842fc4",
   "metadata": {},
   "source": [
    "**Chargement des Données et Modèle** "
   ]
  },
  {
   "cell_type": "code",
   "execution_count": 26,
   "id": "0e5e693b-1977-410f-831d-620f01a610c1",
   "metadata": {},
   "outputs": [
    {
     "ename": "ModuleNotFoundError",
     "evalue": "No module named 'kaggle_datasets'",
     "output_type": "error",
     "traceback": [
      "\u001b[1;31m---------------------------------------------------------------------------\u001b[0m",
      "\u001b[1;31mModuleNotFoundError\u001b[0m                       Traceback (most recent call last)",
      "Cell \u001b[1;32mIn[26], line 2\u001b[0m\n\u001b[0;32m      1\u001b[0m \u001b[38;5;66;03m# Chargement des ensembles de données Kaggle\u001b[39;00m\n\u001b[1;32m----> 2\u001b[0m \u001b[38;5;28;01mfrom\u001b[39;00m \u001b[38;5;21;01mkaggle_datasets\u001b[39;00m \u001b[38;5;28;01mimport\u001b[39;00m KaggleDatasets\n\u001b[0;32m      3\u001b[0m \u001b[38;5;28;01mfrom\u001b[39;00m \u001b[38;5;21;01mtensorflow\u001b[39;00m\u001b[38;5;21;01m.\u001b[39;00m\u001b[38;5;21;01mio\u001b[39;00m \u001b[38;5;28;01mimport\u001b[39;00m FixedLenFeature\n\u001b[0;32m      4\u001b[0m AUTO \u001b[38;5;241m=\u001b[39m tf\u001b[38;5;241m.\u001b[39mdata\u001b[38;5;241m.\u001b[39mexperimental\u001b[38;5;241m.\u001b[39mAUTOTUNE\n",
      "\u001b[1;31mModuleNotFoundError\u001b[0m: No module named 'kaggle_datasets'"
     ]
    }
   ],
   "source": [
    "# Chargement des ensembles de données Kaggle\n",
    "from kaggle_datasets import KaggleDatasets\n",
    "from tensorflow.io import FixedLenFeature\n",
    "AUTO = tf.data.experimental.AUTOTUNE\n",
    "\n",
    "# Importation des modules de TensorFlow pour le modèle\n",
    "from tensorflow import keras\n",
    "from tensorflow.keras import layers\n",
    "from tensorflow.keras import callbacks\n"
   ]
  },
  {
   "cell_type": "code",
   "execution_count": null,
   "id": "3ed81696-34ed-4819-b97c-93b20261fccf",
   "metadata": {},
   "outputs": [],
   "source": []
  },
  {
   "cell_type": "code",
   "execution_count": null,
   "id": "aa295479-a44e-4f39-b587-30160fb00ef0",
   "metadata": {},
   "outputs": [],
   "source": []
  },
  {
   "cell_type": "code",
   "execution_count": null,
   "id": "d5088e26-b666-4bc7-a8e8-a5caed1d44fc",
   "metadata": {},
   "outputs": [],
   "source": []
  },
  {
   "cell_type": "markdown",
   "id": "0acd752a-5024-4887-a1ad-b2cf023916f2",
   "metadata": {},
   "source": [
    "\n",
    "\n",
    "\n",
    "\n",
    "### **Remarque :**  \n",
    "TensorFlow détecte **huit accélérateurs**. Utiliser un TPU, c'est un peu comme utiliser **huit GPU en parallèle**. 🚀"
   ]
  }
 ],
 "metadata": {
  "kernelspec": {
   "display_name": "Python [conda env:base] *",
   "language": "python",
   "name": "conda-base-py"
  },
  "language_info": {
   "codemirror_mode": {
    "name": "ipython",
    "version": 3
   },
   "file_extension": ".py",
   "mimetype": "text/x-python",
   "name": "python",
   "nbconvert_exporter": "python",
   "pygments_lexer": "ipython3",
   "version": "3.12.3"
  }
 },
 "nbformat": 4,
 "nbformat_minor": 5
}
