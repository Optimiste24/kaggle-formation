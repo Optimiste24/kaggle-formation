{
 "cells": [
  {
   "cell_type": "markdown",
   "id": "eafd5d3a-e1b8-4bdc-a703-1909ff47d2ab",
   "metadata": {},
   "source": [
    "# Concours de Machine Learning : House Prices Competition\n",
    "\n",
    "Dans cet exercice, vous allez créer un modèle, générer des prédictions, et les soumettre au concours House Prices Competition for Kaggle Learn Users."
   ]
  },
  {
   "cell_type": "markdown",
   "id": "24c4241c-0b59-45d6-9819-118d2be5c092",
   "metadata": {},
   "source": [
    "## 1. Charger les données\n",
    "Téléchargez le jeu de données de compétition sur Kaggle. Il est composé de :\n",
    "\n",
    "- Un fichier ***d'entraînement*** (train.csv) : pour construire votre modèle.\n",
    "- Un fichier de ***test*** (test.csv) : pour faire vos prédictions finales.\n",
    "- Un fichier d'échantillon de soumission (sample_submission.csv) : pour comprendre le format attendu."
   ]
  },
  {
   "cell_type": "code",
   "execution_count": 7,
   "id": "432476d1-916f-4180-aa5e-c0e833d4e213",
   "metadata": {},
   "outputs": [
    {
     "name": "stdout",
     "output_type": "stream",
     "text": [
      "   Id  MSSubClass MSZoning  LotFrontage  LotArea Street Alley LotShape  \\\n",
      "0   1          60       RL         65.0     8450   Pave   NaN      Reg   \n",
      "1   2          20       RL         80.0     9600   Pave   NaN      Reg   \n",
      "2   3          60       RL         68.0    11250   Pave   NaN      IR1   \n",
      "3   4          70       RL         60.0     9550   Pave   NaN      IR1   \n",
      "4   5          60       RL         84.0    14260   Pave   NaN      IR1   \n",
      "\n",
      "  LandContour Utilities  ... PoolArea PoolQC Fence MiscFeature MiscVal MoSold  \\\n",
      "0         Lvl    AllPub  ...        0    NaN   NaN         NaN       0      2   \n",
      "1         Lvl    AllPub  ...        0    NaN   NaN         NaN       0      5   \n",
      "2         Lvl    AllPub  ...        0    NaN   NaN         NaN       0      9   \n",
      "3         Lvl    AllPub  ...        0    NaN   NaN         NaN       0      2   \n",
      "4         Lvl    AllPub  ...        0    NaN   NaN         NaN       0     12   \n",
      "\n",
      "  YrSold  SaleType  SaleCondition  SalePrice  \n",
      "0   2008        WD         Normal     208500  \n",
      "1   2007        WD         Normal     181500  \n",
      "2   2008        WD         Normal     223500  \n",
      "3   2006        WD        Abnorml     140000  \n",
      "4   2008        WD         Normal     250000  \n",
      "\n",
      "[5 rows x 81 columns]\n",
      "     Id  MSSubClass MSZoning  LotFrontage  LotArea Street Alley LotShape  \\\n",
      "0  1461          20       RH         80.0    11622   Pave   NaN      Reg   \n",
      "1  1462          20       RL         81.0    14267   Pave   NaN      IR1   \n",
      "2  1463          60       RL         74.0    13830   Pave   NaN      IR1   \n",
      "3  1464          60       RL         78.0     9978   Pave   NaN      IR1   \n",
      "4  1465         120       RL         43.0     5005   Pave   NaN      IR1   \n",
      "\n",
      "  LandContour Utilities  ... ScreenPorch PoolArea PoolQC  Fence MiscFeature  \\\n",
      "0         Lvl    AllPub  ...         120        0    NaN  MnPrv         NaN   \n",
      "1         Lvl    AllPub  ...           0        0    NaN    NaN        Gar2   \n",
      "2         Lvl    AllPub  ...           0        0    NaN  MnPrv         NaN   \n",
      "3         Lvl    AllPub  ...           0        0    NaN    NaN         NaN   \n",
      "4         HLS    AllPub  ...         144        0    NaN    NaN         NaN   \n",
      "\n",
      "  MiscVal MoSold  YrSold  SaleType  SaleCondition  \n",
      "0       0      6    2010        WD         Normal  \n",
      "1   12500      6    2010        WD         Normal  \n",
      "2       0      3    2010        WD         Normal  \n",
      "3       0      6    2010        WD         Normal  \n",
      "4       0      1    2010        WD         Normal  \n",
      "\n",
      "[5 rows x 80 columns]\n"
     ]
    }
   ],
   "source": [
    "import pandas as pd\n",
    "\n",
    "# Charger les fichiers CSV\n",
    "train_data = pd.read_csv('train.csv')\n",
    "test_data = pd.read_csv('test.csv')\n",
    "\n",
    "# Aperçu des données\n",
    "print(train_data.head())\n",
    "print(test_data.head())"
   ]
  },
  {
   "cell_type": "markdown",
   "id": "8a165d1e-43af-4b9c-8318-6cb8a4cc2277",
   "metadata": {},
   "source": [
    "## 2. Préparer les données\n",
    "- Sélectionnez les caractéristiques pertinentes (***features***).\n",
    "- Gérez les **valeurs manquantes**.\n",
    "- Divisez les données d'entraînement en un ensemble ***d'entraînement*** et un ensemble de ***validation***."
   ]
  },
  {
   "cell_type": "code",
   "execution_count": 11,
   "id": "133cf13d-2e56-4fb8-869c-d6f569d82f90",
   "metadata": {},
   "outputs": [
    {
     "data": {
      "text/plain": [
       "Index(['Id', 'MSSubClass', 'LotFrontage', 'LotArea', 'OverallQual',\n",
       "       'OverallCond', 'YearBuilt', 'YearRemodAdd', 'MasVnrArea', 'BsmtFinSF1',\n",
       "       'BsmtFinSF2', 'BsmtUnfSF', 'TotalBsmtSF', '1stFlrSF', '2ndFlrSF',\n",
       "       'LowQualFinSF', 'GrLivArea', 'BsmtFullBath', 'BsmtHalfBath', 'FullBath',\n",
       "       'HalfBath', 'BedroomAbvGr', 'KitchenAbvGr', 'TotRmsAbvGrd',\n",
       "       'Fireplaces', 'GarageYrBlt', 'GarageCars', 'GarageArea', 'WoodDeckSF',\n",
       "       'OpenPorchSF', 'EnclosedPorch', '3SsnPorch', 'ScreenPorch', 'PoolArea',\n",
       "       'MiscVal', 'MoSold', 'YrSold', 'SalePrice'],\n",
       "      dtype='object')"
      ]
     },
     "execution_count": 11,
     "metadata": {},
     "output_type": "execute_result"
    }
   ],
   "source": [
    "# Sélection des colonnes numériques pour simplifier\n",
    "numerical_features = train_data.select_dtypes(include=['int64', 'float64']).columns\n",
    "numerical_features"
   ]
  },
  {
   "cell_type": "code",
   "execution_count": 13,
   "id": "b2d3247c-c8a2-4b6b-8036-3d0446c3c5ca",
   "metadata": {},
   "outputs": [],
   "source": [
    "# Diviser les données en X (features) et y (target)\n",
    "X = train_data[numerical_features].drop(['SalePrice'], axis=1)\n",
    "y = train_data['SalePrice']\n",
    "\n",
    "# Diviser en données d'entraînement et de validation\n",
    "from sklearn.model_selection import train_test_split\n",
    "train_X, val_X, train_y, val_y = train_test_split(X, y, random_state=0)"
   ]
  },
  {
   "cell_type": "markdown",
   "id": "46ecad8a-da8a-4ffe-ad61-ad1e72b19205",
   "metadata": {},
   "source": [
    "## 3. Entraîner un modèle\n",
    "J'utilise un modèle comme ***RandomForestRegressor*** de machine learning."
   ]
  },
  {
   "cell_type": "code",
   "execution_count": 17,
   "id": "5adf60ec-db64-4fee-a2a6-8dae72090cf6",
   "metadata": {},
   "outputs": [
    {
     "name": "stdout",
     "output_type": "stream",
     "text": [
      "MAE sur les données de validation : 17556.135315068488\n"
     ]
    }
   ],
   "source": [
    "from sklearn.ensemble import RandomForestRegressor\n",
    "from sklearn.metrics import mean_absolute_error\n",
    "\n",
    "# Construire et entraîner le modèle\n",
    "model = RandomForestRegressor(random_state=1)\n",
    "model.fit(train_X, train_y)\n",
    "\n",
    "# Faire des prédictions sur l'ensemble de validation\n",
    "val_preds = model.predict(val_X)\n",
    "\n",
    "# Calculer l'erreur absolue moyenne (MAE)\n",
    "print(\"MAE sur les données de validation :\", mean_absolute_error(val_y, val_preds))"
   ]
  },
  {
   "cell_type": "markdown",
   "id": "427872fa-fd50-4c73-b141-fa44219b0cfc",
   "metadata": {},
   "source": [
    "## 4. Faire des prédictions sur les données de test\n",
    "Utilisez le modèle pour prédire les prix des maisons sur le fichier de test."
   ]
  },
  {
   "cell_type": "code",
   "execution_count": 22,
   "id": "505c3296-2df9-49cb-8ed4-9b1461425e07",
   "metadata": {},
   "outputs": [],
   "source": [
    "numerical_features_test = test_data.select_dtypes(include=['int64', 'float64']).columns\n",
    "\n",
    "# Préparer les données de test\n",
    "test_X = test_data[numerical_features_test]\n",
    "\n",
    "# Faire des prédictions\n",
    "test_preds = model.predict(test_X)\n",
    "\n",
    "# Créer un DataFrame pour soumettre les prédictions\n",
    "output = pd.DataFrame({'Id': test_data.Id, 'SalePrice': test_preds})\n",
    "output.to_csv('submission_ibn.csv', index=False)\n"
   ]
  },
  {
   "cell_type": "code",
   "execution_count": null,
   "id": "3b09c201-7e95-4130-addd-1f0291617268",
   "metadata": {},
   "outputs": [],
   "source": []
  }
 ],
 "metadata": {
  "kernelspec": {
   "display_name": "Python [conda env:base] *",
   "language": "python",
   "name": "conda-base-py"
  },
  "language_info": {
   "codemirror_mode": {
    "name": "ipython",
    "version": 3
   },
   "file_extension": ".py",
   "mimetype": "text/x-python",
   "name": "python",
   "nbconvert_exporter": "python",
   "pygments_lexer": "ipython3",
   "version": "3.12.7"
  }
 },
 "nbformat": 4,
 "nbformat_minor": 5
}
