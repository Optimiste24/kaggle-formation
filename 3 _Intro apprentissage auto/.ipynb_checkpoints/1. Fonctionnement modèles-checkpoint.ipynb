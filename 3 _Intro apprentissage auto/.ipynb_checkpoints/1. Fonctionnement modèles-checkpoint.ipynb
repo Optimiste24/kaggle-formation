{
 "cells": [
  {
   "cell_type": "markdown",
   "id": "2eed7c08-0626-4497-a5f0-7cca7cb216d0",
   "metadata": {},
   "source": [
    "# Introduction\n",
    "\n",
    "Nous commencerons par une vue d’ensemble sur le fonctionnement des modèles d’apprentissage automatique et leur utilisation. Cela peut sembler basique si vous avez déjà fait de la modélisation statistique ou de l’apprentissage automatique auparavant. Ne vous inquiétez pas, nous progresserons rapidement vers la création de modèles puissants.\n",
    "\n",
    "Ce cours vous amènera à construire des modèles dans le cadre du scénario suivant :  \n",
    "\n",
    "Votre cousin a gagné des millions de dollars en spéculant sur l’immobilier. Il vous propose de devenir partenaires commerciaux en raison de votre intérêt pour la science des données. Il fournira les fonds, et vous fournirez des modèles qui prédisent la valeur des maisons.\n",
    "\n",
    "Vous demandez à votre cousin comment il a prédit les valeurs immobilières par le passé, et il répond que c’est simplement basé sur son intuition. Mais après quelques questions, vous découvrez qu’il a identifié des schémas de prix à partir des maisons qu’il a vues dans le passé, et qu’il utilise ces schémas pour faire des prédictions sur les nouvelles maisons qu’il envisage.\n",
    "\n",
    "L’apprentissage automatique fonctionne de la même manière. Nous commencerons par un modèle appelé **arbre de décision** (Decision Tree). Il existe des modèles plus sophistiqués qui offrent des prédictions plus précises, mais les arbres de décision sont faciles à comprendre et constituent le bloc de construction de base pour certains des meilleurs modèles en science des données.\n",
    "\n",
    "Pour simplifier, nous commencerons avec l’arbre de décision le plus simple possible.\n",
    "\n",
    "---\n",
    "\n",
    "### Premiers arbres de décision\n",
    "\n",
    "Cet arbre divise les maisons en seulement deux catégories. Le prix prédit pour une maison est la moyenne historique des prix des maisons de la même catégorie.\n",
    "\n",
    "Nous utilisons des données pour décider comment diviser les maisons en deux groupes, puis pour déterminer le prix prédit dans chaque groupe. Cette étape consistant à capturer des schémas à partir des données s’appelle **l’ajustement** ou **l’entraînement** du modèle. Les données utilisées pour ajuster le modèle sont appelées les **données d’entraînement**.\n",
    "\n",
    "Les détails sur la manière dont le modèle est ajusté (par exemple, comment diviser les données) sont assez complexes, nous les aborderons plus tard. Une fois le modèle ajusté, vous pouvez l’appliquer à de nouvelles données pour prédire les prix d’autres maisons.\n",
    "\n",
    "---\n",
    "\n",
    "### Amélioration de l’arbre de décision\n",
    "\n",
    "Parmi les deux arbres de décision suivants, lequel est le plus probable lorsqu’on ajuste des données d’entraînement immobilières ?  \n",
    "\n",
    "1. **Arbre de décision 1 :** Celui-ci divise les maisons simplement en fonction du nombre de chambres.  \n",
    "2. **Arbre de décision 2 :** Celui-ci prend en compte à la fois le nombre de chambres et la taille totale du terrain.\n",
    "\n",
    "L’arbre de décision sur la gauche (Arbre de décision 1) est probablement plus logique, car il capture la réalité selon laquelle les maisons avec plus de chambres ont tendance à se vendre à des prix plus élevés que celles avec moins de chambres.  \n",
    "\n",
    "Cependant, la plus grande limite de ce modèle est qu’il ne prend pas en compte la plupart des facteurs qui affectent le prix des maisons, comme le nombre de salles de bain, la taille du terrain, l’emplacement, etc.\n",
    "\n",
    "Vous pouvez capturer davantage de facteurs en utilisant un arbre avec plus de \"divisions\" (splits). Ces arbres sont appelés des arbres \"plus profonds\". Un arbre de décision qui prend également en compte la taille totale du terrain d’une maison pourrait ressembler à ceci :  \n",
    "\n",
    "- **Arbre avec une profondeur de 2** (Depth 2 Tree)\n",
    "\n",
    "Pour prédire le prix d’une maison, vous suivez les chemins dans l’arbre de décision, en choisissant toujours le chemin correspondant aux caractéristiques de cette maison. Le prix prédit pour la maison se trouve en bas de l’arbre. Le point en bas où nous faisons une prédiction s’appelle une **feuille** (leaf).\n",
    "\n",
    "Les divisions (splits) et les valeurs aux feuilles seront déterminées par les données. Il est donc temps pour vous de jeter un œil aux données avec lesquelles vous allez travailler."
   ]
  },
  {
   "cell_type": "code",
   "execution_count": null,
   "id": "7ecf1800-54e0-4d50-a0ac-8e4fa288da04",
   "metadata": {},
   "outputs": [],
   "source": []
  }
 ],
 "metadata": {
  "kernelspec": {
   "display_name": "Python [conda env:base] *",
   "language": "python",
   "name": "conda-base-py"
  },
  "language_info": {
   "codemirror_mode": {
    "name": "ipython",
    "version": 3
   },
   "file_extension": ".py",
   "mimetype": "text/x-python",
   "name": "python",
   "nbconvert_exporter": "python",
   "pygments_lexer": "ipython3",
   "version": "3.12.7"
  }
 },
 "nbformat": 4,
 "nbformat_minor": 5
}
