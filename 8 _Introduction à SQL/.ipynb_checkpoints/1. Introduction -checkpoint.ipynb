{
 "cells": [
  {
   "cell_type": "markdown",
   "id": "d1461053-9cbb-40ab-8b60-b0e9101712f3",
   "metadata": {},
   "source": [
    "# Premiers pas avec SQL et BigQuery\n",
    "Découvrir le **workflow de gestion** de grands ensembles de données avec **BigQuery** et **SQL**.\n",
    "\n",
    "## Introduction\n",
    "Le Structured Query Language, ou SQL, est le langage de programmation utilisé avec les bases de données, et c'est une compétence importante pour tout data scientist. Dans ce cours, vous allez développer vos compétences en SQL en utilisant BigQuery, un service web qui vous permet d'appliquer SQL à d'énormes ensembles de données.\n",
    "\n",
    "Dans cette leçon, vous apprendrez les bases de l'accès et de l'examen des ensembles de données **BigQuery**. Une fois que vous maîtriserez ces bases, nous reviendrons pour développer vos compétences en **SQL**.\n",
    "\n",
    "---\n",
    "\n",
    "### Vos premières commandes BigQuery\n",
    "Pour utiliser BigQuery, nous allons importer le package Python suivant :"
   ]
  },
  {
   "cell_type": "code",
   "execution_count": 2,
   "id": "94eff02d-371b-4068-aa3c-1f804afb8108",
   "metadata": {},
   "outputs": [],
   "source": [
    "from google.cloud import bigquery"
   ]
  },
  {
   "cell_type": "markdown",
   "id": "d44db755-d240-4f59-8861-4c667db03dfb",
   "metadata": {},
   "source": [
    "La première étape du **workflow** est de créer un objet **Client**. Comme vous le verrez bientôt, cet objet Client jouera un rôle central dans la récupération des informations depuis les ensembles de données BigQuery."
   ]
  },
  {
   "cell_type": "code",
   "execution_count": 6,
   "id": "e0db7d44-1f0e-42ec-8059-5787421efa25",
   "metadata": {},
   "outputs": [
    {
     "name": "stderr",
     "output_type": "stream",
     "text": [
      "C:\\Users\\Optimiste\\AppData\\Roaming\\Python\\Python312\\site-packages\\google\\auth\\_default.py:76: UserWarning: Your application has authenticated using end user credentials from Google Cloud SDK without a quota project. You might receive a \"quota exceeded\" or \"API not enabled\" error. See the following page for troubleshooting: https://cloud.google.com/docs/authentication/adc-troubleshooting/user-creds. \n",
      "  warnings.warn(_CLOUD_SDK_CREDENTIALS_WARNING)\n"
     ]
    }
   ],
   "source": [
    "client = bigquery.Client(project=\"cours-kaggle-ago\")"
   ]
  },
  {
   "cell_type": "markdown",
   "id": "ee89031d-d0ea-474e-aa6a-6fab2d8fa72c",
   "metadata": {},
   "source": [
    "---\n",
    "\n",
    "## Utiliser l'intégration des ensembles de données publics BigQuery de Kaggle\n",
    "Nous allons travailler avec un ensemble de données contenant des publications sur Hacker News, un site web axé sur l'informatique et les actualités en cybersécurité.\n",
    "\n",
    "Dans BigQuery, chaque ensemble de données est contenu dans un projet correspondant. Dans ce cas, notre ensemble de données **hacker_news** est contenu dans le projet **bigquery-public-data**. Pour y accéder :\n",
    "\n",
    "- Nous commençons par construire une **référence** à l'ensemble de données avec la méthode dataset().\n",
    "- Ensuite, nous utilisons la méthode **get_dataset()**, avec la référence que nous venons de créer, pour récupérer l'ensemble de données."
   ]
  },
  {
   "cell_type": "code",
   "execution_count": 9,
   "id": "6678bae9-e5c5-483a-9a2c-16a616987860",
   "metadata": {},
   "outputs": [],
   "source": [
    "# Construire une référence à l'ensemble de données \"hacker_news\"\n",
    "dataset_ref = client.dataset(\"hacker_news\", project=\"bigquery-public-data\")\n",
    "\n",
    "# Requête API - récupérer l'ensemble de données\n",
    "dataset = client.get_dataset(dataset_ref)\n"
   ]
  },
  {
   "cell_type": "markdown",
   "id": "6d9e73b2-7126-4438-841c-0d3a36a3d5e5",
   "metadata": {},
   "source": [
    "Chaque ensemble de données est simplement une **collection de tables**. Vous pouvez voir un ensemble de données comme un fichier de feuille de calcul contenant plusieurs tables, toutes composées de lignes et de colonnes.\n",
    "\n",
    "Nous utilisons la méthode **list_tables()** pour lister les tables contenues dans l'ensemble de données."
   ]
  },
  {
   "cell_type": "code",
   "execution_count": 12,
   "id": "fc0f9c4b-6f77-4e91-8eb6-b8b4dba1806a",
   "metadata": {},
   "outputs": [
    {
     "name": "stdout",
     "output_type": "stream",
     "text": [
      "full\n"
     ]
    }
   ],
   "source": [
    "# Lister toutes les tables dans l'ensemble de données \"hacker_news\"\n",
    "tables = list(client.list_tables(dataset))\n",
    "\n",
    "# Afficher les noms de toutes les tables dans l'ensemble de données (il y en a quatre !)\n",
    "for table in tables:  \n",
    "    print(table.table_id)\n"
   ]
  },
  {
   "cell_type": "markdown",
   "id": "baf261c4-1620-42ed-b683-00ac48a3e497",
   "metadata": {},
   "source": [
    "De la même manière que nous avons récupéré un ensemble de données, nous pouvons récupérer une table. Dans le code ci-dessous, nous récupérons la table full de l'ensemble de données **hacker_news**."
   ]
  },
  {
   "cell_type": "code",
   "execution_count": 15,
   "id": "5c318a14-f027-40f2-b238-e09e9553505d",
   "metadata": {},
   "outputs": [],
   "source": [
    "# Construire une référence à la table \"full\"\n",
    "table_ref = dataset_ref.table(\"full\")\n",
    "\n",
    "# Requête API - récupérer la table\n",
    "table = client.get_table(table_ref)\n"
   ]
  },
  {
   "cell_type": "markdown",
   "id": "b17bbef8-2ef7-43dc-b062-f241e93e4f28",
   "metadata": {},
   "source": [
    "Dans la prochaine section, vous explorerez le contenu de cette table plus en détail. Pour l’instant, prenez le temps d’utiliser l’image ci-dessous pour consolider ce que vous avez appris jusqu’ici."
   ]
  },
  {
   "cell_type": "markdown",
   "id": "2186969c-35c5-45d0-ac74-ae4049cee0c8",
   "metadata": {},
   "source": [
    "---\n",
    "\n",
    "## Schéma d’une table\n",
    "La structure d’une table est appelée son **schéma**. Il est essentiel de comprendre le schéma d’une table pour extraire efficacement les données dont nous avons besoin.\n",
    "\n",
    "Dans cet exemple, nous allons examiner la table **full** que nous avons récupérée précédemment."
   ]
  },
  {
   "cell_type": "code",
   "execution_count": 19,
   "id": "a84e39e9-15c4-4786-b80d-4c31a8d9e4ca",
   "metadata": {},
   "outputs": [
    {
     "data": {
      "text/plain": [
       "[SchemaField('title', 'STRING', 'NULLABLE', None, 'Story title', (), None),\n",
       " SchemaField('url', 'STRING', 'NULLABLE', None, 'Story url', (), None),\n",
       " SchemaField('text', 'STRING', 'NULLABLE', None, 'Story or comment text', (), None),\n",
       " SchemaField('dead', 'BOOLEAN', 'NULLABLE', None, 'Is dead?', (), None),\n",
       " SchemaField('by', 'STRING', 'NULLABLE', None, \"The username of the item's author.\", (), None),\n",
       " SchemaField('score', 'INTEGER', 'NULLABLE', None, 'Story score', (), None),\n",
       " SchemaField('time', 'INTEGER', 'NULLABLE', None, 'Unix time', (), None),\n",
       " SchemaField('timestamp', 'TIMESTAMP', 'NULLABLE', None, 'Timestamp for the unix time', (), None),\n",
       " SchemaField('type', 'STRING', 'NULLABLE', None, 'type of details (comment comment_ranking poll story job pollopt)', (), None),\n",
       " SchemaField('id', 'INTEGER', 'NULLABLE', None, \"The item's unique id.\", (), None),\n",
       " SchemaField('parent', 'INTEGER', 'NULLABLE', None, 'Parent comment ID', (), None),\n",
       " SchemaField('descendants', 'INTEGER', 'NULLABLE', None, 'Number of story or poll descendants', (), None),\n",
       " SchemaField('ranking', 'INTEGER', 'NULLABLE', None, 'Comment ranking', (), None),\n",
       " SchemaField('deleted', 'BOOLEAN', 'NULLABLE', None, 'Is deleted?', (), None)]"
      ]
     },
     "execution_count": 19,
     "metadata": {},
     "output_type": "execute_result"
    }
   ],
   "source": [
    "# Afficher les informations sur toutes les colonnes de la table \"full\" dans l'ensemble de données \"hacker_news\"\n",
    "table.schema"
   ]
  },
  {
   "cell_type": "markdown",
   "id": "9cfcb83a-191d-4986-ba4c-fb5c973dc955",
   "metadata": {},
   "source": [
    "Chaque SchemaField nous donne des informations sur une colonne spécifique (aussi appelée champ). Les informations sont :\n",
    "\n",
    "- Le **nom de la colonne**\n",
    "- Le **type de données** stockées dans la colonne\n",
    "- Le **mode de la colonne** ('NULLABLE' signifie que la colonne accepte les valeurs NULL, ce qui est le mode par défaut)\n",
    "- Une **description des données** contenues dans la colonne\n",
    "\n",
    "### Points clés à retenir :\n",
    "- **NULLABLE** signifie que la colonne peut contenir des valeurs nulles.\n",
    "- Les types de données incluent **STRING** (texte), **INTEGER** (nombre entier), **BOOLEAN** (valeur vraie/fausse) et **TIMESTAMP** (date/heure).\n",
    "- La table stocke des histoires, des commentaires, des votes et d'autres éléments associés à Hacker News.\n",
    "\n",
    "Prenons le premier champ en exemple :"
   ]
  },
  {
   "cell_type": "code",
   "execution_count": 22,
   "id": "841dc244-548f-445d-b2b3-3c13d93f402f",
   "metadata": {},
   "outputs": [
    {
     "name": "stdout",
     "output_type": "stream",
     "text": [
      "SchemaField('by', 'STRING', 'NULLABLE', None, \"The username of the item's author.\", (), None)\n"
     ]
    }
   ],
   "source": [
    "from google.cloud import bigquery\n",
    "\n",
    "schema_field = bigquery.SchemaField('by', 'STRING', 'NULLABLE', None, \"The username of the item's author.\", (), None)\n",
    "print(schema_field)\n"
   ]
  },
  {
   "cell_type": "markdown",
   "id": "af2dee05-9fc6-4a15-a19c-f71ac0fdf8ab",
   "metadata": {},
   "source": [
    "---\n",
    "\n",
    "## les cinq premières lignes de la table \"full\"\n",
    "Nous pouvons utiliser la méthode **list_rows()** pour vérifier les cinq premières lignes de la table full et voir si ces descriptions sont correctes. Cette méthode retourne un objet **BigQuery RowIterator**, qui peut être rapidement converti en DataFrame Pandas avec **to_dataframe()**."
   ]
  },
  {
   "cell_type": "code",
   "execution_count": 25,
   "id": "3ce7756f-cdb4-4ed6-99ee-8c19430ae0bf",
   "metadata": {},
   "outputs": [
    {
     "data": {
      "text/html": [
       "<div>\n",
       "<style scoped>\n",
       "    .dataframe tbody tr th:only-of-type {\n",
       "        vertical-align: middle;\n",
       "    }\n",
       "\n",
       "    .dataframe tbody tr th {\n",
       "        vertical-align: top;\n",
       "    }\n",
       "\n",
       "    .dataframe thead th {\n",
       "        text-align: right;\n",
       "    }\n",
       "</style>\n",
       "<table border=\"1\" class=\"dataframe\">\n",
       "  <thead>\n",
       "    <tr style=\"text-align: right;\">\n",
       "      <th></th>\n",
       "      <th>title</th>\n",
       "      <th>url</th>\n",
       "      <th>text</th>\n",
       "      <th>dead</th>\n",
       "      <th>by</th>\n",
       "      <th>score</th>\n",
       "      <th>time</th>\n",
       "      <th>timestamp</th>\n",
       "      <th>type</th>\n",
       "      <th>id</th>\n",
       "      <th>parent</th>\n",
       "      <th>descendants</th>\n",
       "      <th>ranking</th>\n",
       "      <th>deleted</th>\n",
       "    </tr>\n",
       "  </thead>\n",
       "  <tbody>\n",
       "    <tr>\n",
       "      <th>0</th>\n",
       "      <td>None</td>\n",
       "      <td>None</td>\n",
       "      <td>None</td>\n",
       "      <td>&lt;NA&gt;</td>\n",
       "      <td>None</td>\n",
       "      <td>&lt;NA&gt;</td>\n",
       "      <td>1437490774</td>\n",
       "      <td>2015-07-21 14:59:34+00:00</td>\n",
       "      <td>story</td>\n",
       "      <td>9922674</td>\n",
       "      <td>&lt;NA&gt;</td>\n",
       "      <td>&lt;NA&gt;</td>\n",
       "      <td>&lt;NA&gt;</td>\n",
       "      <td>&lt;NA&gt;</td>\n",
       "    </tr>\n",
       "    <tr>\n",
       "      <th>1</th>\n",
       "      <td>None</td>\n",
       "      <td>None</td>\n",
       "      <td>None</td>\n",
       "      <td>&lt;NA&gt;</td>\n",
       "      <td>None</td>\n",
       "      <td>&lt;NA&gt;</td>\n",
       "      <td>1437490875</td>\n",
       "      <td>2015-07-21 15:01:15+00:00</td>\n",
       "      <td>story</td>\n",
       "      <td>9922688</td>\n",
       "      <td>&lt;NA&gt;</td>\n",
       "      <td>&lt;NA&gt;</td>\n",
       "      <td>&lt;NA&gt;</td>\n",
       "      <td>&lt;NA&gt;</td>\n",
       "    </tr>\n",
       "    <tr>\n",
       "      <th>2</th>\n",
       "      <td>None</td>\n",
       "      <td>None</td>\n",
       "      <td>None</td>\n",
       "      <td>&lt;NA&gt;</td>\n",
       "      <td>None</td>\n",
       "      <td>&lt;NA&gt;</td>\n",
       "      <td>1260670998</td>\n",
       "      <td>2009-12-13 02:23:18+00:00</td>\n",
       "      <td>story</td>\n",
       "      <td>992273</td>\n",
       "      <td>&lt;NA&gt;</td>\n",
       "      <td>&lt;NA&gt;</td>\n",
       "      <td>&lt;NA&gt;</td>\n",
       "      <td>&lt;NA&gt;</td>\n",
       "    </tr>\n",
       "    <tr>\n",
       "      <th>3</th>\n",
       "      <td>None</td>\n",
       "      <td>None</td>\n",
       "      <td>None</td>\n",
       "      <td>&lt;NA&gt;</td>\n",
       "      <td>None</td>\n",
       "      <td>&lt;NA&gt;</td>\n",
       "      <td>1437492814</td>\n",
       "      <td>2015-07-21 15:33:34+00:00</td>\n",
       "      <td>story</td>\n",
       "      <td>9922924</td>\n",
       "      <td>&lt;NA&gt;</td>\n",
       "      <td>&lt;NA&gt;</td>\n",
       "      <td>&lt;NA&gt;</td>\n",
       "      <td>&lt;NA&gt;</td>\n",
       "    </tr>\n",
       "    <tr>\n",
       "      <th>4</th>\n",
       "      <td>None</td>\n",
       "      <td>None</td>\n",
       "      <td>None</td>\n",
       "      <td>&lt;NA&gt;</td>\n",
       "      <td>None</td>\n",
       "      <td>&lt;NA&gt;</td>\n",
       "      <td>1437492927</td>\n",
       "      <td>2015-07-21 15:35:27+00:00</td>\n",
       "      <td>story</td>\n",
       "      <td>9922942</td>\n",
       "      <td>&lt;NA&gt;</td>\n",
       "      <td>&lt;NA&gt;</td>\n",
       "      <td>&lt;NA&gt;</td>\n",
       "      <td>&lt;NA&gt;</td>\n",
       "    </tr>\n",
       "  </tbody>\n",
       "</table>\n",
       "</div>"
      ],
      "text/plain": [
       "  title   url  text  dead    by  score        time                 timestamp  \\\n",
       "0  None  None  None  <NA>  None   <NA>  1437490774 2015-07-21 14:59:34+00:00   \n",
       "1  None  None  None  <NA>  None   <NA>  1437490875 2015-07-21 15:01:15+00:00   \n",
       "2  None  None  None  <NA>  None   <NA>  1260670998 2009-12-13 02:23:18+00:00   \n",
       "3  None  None  None  <NA>  None   <NA>  1437492814 2015-07-21 15:33:34+00:00   \n",
       "4  None  None  None  <NA>  None   <NA>  1437492927 2015-07-21 15:35:27+00:00   \n",
       "\n",
       "    type       id  parent  descendants  ranking  deleted  \n",
       "0  story  9922674    <NA>         <NA>     <NA>     <NA>  \n",
       "1  story  9922688    <NA>         <NA>     <NA>     <NA>  \n",
       "2  story   992273    <NA>         <NA>     <NA>     <NA>  \n",
       "3  story  9922924    <NA>         <NA>     <NA>     <NA>  \n",
       "4  story  9922942    <NA>         <NA>     <NA>     <NA>  "
      ]
     },
     "execution_count": 25,
     "metadata": {},
     "output_type": "execute_result"
    }
   ],
   "source": [
    "# Prévisualiser les cinq premières lignes de la table \"full\"\n",
    "client.list_rows(table, max_results=5).to_dataframe()"
   ]
  },
  {
   "cell_type": "markdown",
   "id": "edc87ac2-2a8c-4ed5-a618-721032cd85aa",
   "metadata": {},
   "source": [
    "On peut aussi afficher uniquement **les cinq premières valeurs** d'une colonne spécifique, comme **by** (nom de l’auteur) :"
   ]
  },
  {
   "cell_type": "code",
   "execution_count": 29,
   "id": "5079f729-9616-43ec-806e-977ecece5b2e",
   "metadata": {},
   "outputs": [
    {
     "data": {
      "text/html": [
       "<div>\n",
       "<style scoped>\n",
       "    .dataframe tbody tr th:only-of-type {\n",
       "        vertical-align: middle;\n",
       "    }\n",
       "\n",
       "    .dataframe tbody tr th {\n",
       "        vertical-align: top;\n",
       "    }\n",
       "\n",
       "    .dataframe thead th {\n",
       "        text-align: right;\n",
       "    }\n",
       "</style>\n",
       "<table border=\"1\" class=\"dataframe\">\n",
       "  <thead>\n",
       "    <tr style=\"text-align: right;\">\n",
       "      <th></th>\n",
       "      <th>title</th>\n",
       "    </tr>\n",
       "  </thead>\n",
       "  <tbody>\n",
       "    <tr>\n",
       "      <th>0</th>\n",
       "      <td>None</td>\n",
       "    </tr>\n",
       "    <tr>\n",
       "      <th>1</th>\n",
       "      <td>None</td>\n",
       "    </tr>\n",
       "    <tr>\n",
       "      <th>2</th>\n",
       "      <td>None</td>\n",
       "    </tr>\n",
       "    <tr>\n",
       "      <th>3</th>\n",
       "      <td>None</td>\n",
       "    </tr>\n",
       "    <tr>\n",
       "      <th>4</th>\n",
       "      <td>None</td>\n",
       "    </tr>\n",
       "  </tbody>\n",
       "</table>\n",
       "</div>"
      ],
      "text/plain": [
       "  title\n",
       "0  None\n",
       "1  None\n",
       "2  None\n",
       "3  None\n",
       "4  None"
      ]
     },
     "execution_count": 29,
     "metadata": {},
     "output_type": "execute_result"
    }
   ],
   "source": [
    "# Prévisualiser les cinq premières valeurs de la colonne \"by\" dans la table \"full\"\n",
    "client.list_rows(table, selected_fields=table.schema[:1], max_results=5).to_dataframe()"
   ]
  },
  {
   "cell_type": "markdown",
   "id": "7bd780d2-c89e-4770-8a7f-84f8df571e22",
   "metadata": {},
   "source": [
    "**selected_fields=table.schema[:1]**\n",
    "- table.schema contient la liste des colonnes (schéma) de la table.\n",
    "- table.schema[:1] sélectionne uniquement la première colonne du schéma (généralement by si elle est en première position).\n",
    "\n",
    "# ou"
   ]
  },
  {
   "cell_type": "code",
   "execution_count": 32,
   "id": "8d59da9c-96a1-474a-8cbc-f21da4b3b73d",
   "metadata": {},
   "outputs": [
    {
     "data": {
      "text/html": [
       "<div>\n",
       "<style scoped>\n",
       "    .dataframe tbody tr th:only-of-type {\n",
       "        vertical-align: middle;\n",
       "    }\n",
       "\n",
       "    .dataframe tbody tr th {\n",
       "        vertical-align: top;\n",
       "    }\n",
       "\n",
       "    .dataframe thead th {\n",
       "        text-align: right;\n",
       "    }\n",
       "</style>\n",
       "<table border=\"1\" class=\"dataframe\">\n",
       "  <thead>\n",
       "    <tr style=\"text-align: right;\">\n",
       "      <th></th>\n",
       "      <th>by</th>\n",
       "    </tr>\n",
       "  </thead>\n",
       "  <tbody>\n",
       "    <tr>\n",
       "      <th>0</th>\n",
       "      <td>None</td>\n",
       "    </tr>\n",
       "    <tr>\n",
       "      <th>1</th>\n",
       "      <td>None</td>\n",
       "    </tr>\n",
       "    <tr>\n",
       "      <th>2</th>\n",
       "      <td>None</td>\n",
       "    </tr>\n",
       "    <tr>\n",
       "      <th>3</th>\n",
       "      <td>None</td>\n",
       "    </tr>\n",
       "    <tr>\n",
       "      <th>4</th>\n",
       "      <td>None</td>\n",
       "    </tr>\n",
       "  </tbody>\n",
       "</table>\n",
       "</div>"
      ],
      "text/plain": [
       "     by\n",
       "0  None\n",
       "1  None\n",
       "2  None\n",
       "3  None\n",
       "4  None"
      ]
     },
     "execution_count": 32,
     "metadata": {},
     "output_type": "execute_result"
    }
   ],
   "source": [
    "selected_fields = [field for field in table.schema if field.name == \"by\"]\n",
    "client.list_rows(table, selected_fields=selected_fields, max_results=5).to_dataframe()"
   ]
  },
  {
   "cell_type": "markdown",
   "id": "e80b8782-4989-4d7c-9ad1-0582ae70d986",
   "metadata": {},
   "source": [
    "---\n",
    "\n",
    "### Avertissement  \n",
    "\n",
    "Avant de passer à l'exercice de codage, voici un rapide avertissement pour ceux qui ont déjà des notions en SQL :  \n",
    "\n",
    "Chaque utilisateur de Kaggle peut analyser jusqu'à **5 To de données** tous les **30 jours gratuitement**. Une fois cette limite atteinte, vous devrez attendre son réinitialisation.  \n",
    "\n",
    "Les commandes que vous avez vues jusqu'à présent n'utiliseront qu'une infime fraction de cette limite. Cependant, certains ensembles de données BigQuery sont immenses. Donc, si vous connaissez déjà SQL, attendez avant d'exécuter des requêtes **SELECT** jusqu'à ce que vous sachiez comment gérer efficacement votre quota.  \n",
    "\n",
    "Si vous faites partie de la majorité des personnes lisant ceci et que vous ne savez pas encore écrire ces requêtes, vous **n'avez pas besoin de vous inquiéter** de cet avertissement.  \n",
    "\n",
    "### À vous de jouer !  \n",
    "Entraînez-vous avec les commandes que vous avez vues pour explorer la structure d’un ensemble de données sur **les crimes dans la ville de Chicago**."
   ]
  },
  {
   "cell_type": "markdown",
   "id": "e5a0940f-be4c-4a6b-8232-ef471a8e0b75",
   "metadata": {},
   "source": [
    "\n",
    "\n",
    "\n",
    "\n",
    "\n",
    "\n",
    "\n",
    "\n",
    "---\n",
    "\n",
    "# EXERCICE : Les crimes à Chicago \n",
    "Le premier test de vos nouvelles compétences en exploration de données utilise un ensemble de données décrivant les crimes dans la ville de Chicago.\n"
   ]
  },
  {
   "cell_type": "code",
   "execution_count": 37,
   "id": "1a6c68e7-e545-4536-b4c0-410d0a5017d1",
   "metadata": {},
   "outputs": [
    {
     "name": "stderr",
     "output_type": "stream",
     "text": [
      "C:\\Users\\Optimiste\\AppData\\Roaming\\Python\\Python312\\site-packages\\google\\auth\\_default.py:76: UserWarning: Your application has authenticated using end user credentials from Google Cloud SDK without a quota project. You might receive a \"quota exceeded\" or \"API not enabled\" error. See the following page for troubleshooting: https://cloud.google.com/docs/authentication/adc-troubleshooting/user-creds. \n",
      "  warnings.warn(_CLOUD_SDK_CREDENTIALS_WARNING)\n"
     ]
    }
   ],
   "source": [
    "from google.cloud import bigquery\n",
    "\n",
    "# Créer un objet \"Client\"\n",
    "client = bigquery.Client()\n",
    "\n",
    "# Construire une référence vers le dataset \"chicago_crime\"\n",
    "dataset_ref_exo = client.dataset(\"chicago_crime\", project=\"bigquery-public-data\")\n",
    "\n",
    "# Requête API - récupérer le dataset\n",
    "dataset_exo = client.get_dataset(dataset_ref_exo)\n"
   ]
  },
  {
   "cell_type": "markdown",
   "id": "577dd9a0-5921-4a54-8b62-9b0febd64114",
   "metadata": {},
   "source": [
    "### 1. Compter le nombre de tables\n",
    "L'objectif de compter le nombre de tables présentes dans le dataset Chicago Crime et d'enregistrer ce nombre dans la variable num_tables."
   ]
  },
  {
   "cell_type": "code",
   "execution_count": 53,
   "id": "c9fc4933-6042-4b16-bb4e-84392cb1e4ff",
   "metadata": {},
   "outputs": [
    {
     "name": "stdout",
     "output_type": "stream",
     "text": [
      "Nombre de tables dans le dataset : 1\n"
     ]
    }
   ],
   "source": [
    "# Lister toutes les tables dans le dataset \"chicago_crime\"\n",
    "tables_exo = list(client.list_tables(dataset_exo))\n",
    "\n",
    "# Compter le nombre de tables\n",
    "num_tables = len(tables_exo)  # Stocker la réponse\n",
    "\n",
    "# Afficher le résultat\n",
    "print(f\"Nombre de tables dans le dataset : {num_tables}\")"
   ]
  },
  {
   "cell_type": "markdown",
   "id": "e9da9478-6188-4498-bad4-8ac3289d7a0b",
   "metadata": {},
   "source": [
    "### 2. Explorer le schéma de table\n",
    "Déterminer le nombre de colonnes de type **TIMESTAMP** dans la table des crimes : "
   ]
  },
  {
   "cell_type": "code",
   "execution_count": 55,
   "id": "a1cc11fd-0170-4e68-bca8-ab9e773ff6dd",
   "metadata": {},
   "outputs": [],
   "source": [
    "# Référencer la table \"crime\"\n",
    "table_ref_exo = dataset_ref_exo.table(\"crime\")\n",
    "\n",
    "# Requête API - récupérer la table\n",
    "table_exo = client.get_table(table_ref_exo)\n",
    "\n",
    "# Examiner le schéma de la table\n",
    "schema = table_exo.schema"
   ]
  },
  {
   "cell_type": "code",
   "execution_count": 57,
   "id": "7a2621e9-a313-4d9a-9f4d-879ecc90dfe4",
   "metadata": {},
   "outputs": [
    {
     "data": {
      "text/plain": [
       "[SchemaField('unique_key', 'INTEGER', 'REQUIRED', None, None, (), None),\n",
       " SchemaField('case_number', 'STRING', 'NULLABLE', None, None, (), None),\n",
       " SchemaField('date', 'TIMESTAMP', 'NULLABLE', None, None, (), None),\n",
       " SchemaField('block', 'STRING', 'NULLABLE', None, None, (), None),\n",
       " SchemaField('iucr', 'STRING', 'NULLABLE', None, None, (), None),\n",
       " SchemaField('primary_type', 'STRING', 'NULLABLE', None, None, (), None),\n",
       " SchemaField('description', 'STRING', 'NULLABLE', None, None, (), None),\n",
       " SchemaField('location_description', 'STRING', 'NULLABLE', None, None, (), None),\n",
       " SchemaField('arrest', 'BOOLEAN', 'NULLABLE', None, None, (), None),\n",
       " SchemaField('domestic', 'BOOLEAN', 'NULLABLE', None, None, (), None),\n",
       " SchemaField('beat', 'INTEGER', 'NULLABLE', None, None, (), None),\n",
       " SchemaField('district', 'INTEGER', 'NULLABLE', None, None, (), None),\n",
       " SchemaField('ward', 'INTEGER', 'NULLABLE', None, None, (), None),\n",
       " SchemaField('community_area', 'INTEGER', 'NULLABLE', None, None, (), None),\n",
       " SchemaField('fbi_code', 'STRING', 'NULLABLE', None, None, (), None),\n",
       " SchemaField('x_coordinate', 'FLOAT', 'NULLABLE', None, None, (), None),\n",
       " SchemaField('y_coordinate', 'FLOAT', 'NULLABLE', None, None, (), None),\n",
       " SchemaField('year', 'INTEGER', 'NULLABLE', None, None, (), None),\n",
       " SchemaField('updated_on', 'TIMESTAMP', 'NULLABLE', None, None, (), None),\n",
       " SchemaField('latitude', 'FLOAT', 'NULLABLE', None, None, (), None),\n",
       " SchemaField('longitude', 'FLOAT', 'NULLABLE', None, None, (), None),\n",
       " SchemaField('location', 'STRING', 'NULLABLE', None, None, (), None)]"
      ]
     },
     "execution_count": 57,
     "metadata": {},
     "output_type": "execute_result"
    }
   ],
   "source": [
    "table_exo.schema"
   ]
  },
  {
   "cell_type": "code",
   "execution_count": 59,
   "id": "bc5ce2f8-a33a-4c54-8811-488c13ebec5d",
   "metadata": {},
   "outputs": [
    {
     "name": "stdout",
     "output_type": "stream",
     "text": [
      "Nombre de colonnes de type TIMESTAMP : 2\n"
     ]
    }
   ],
   "source": [
    "# Compter les colonnes de type TIMESTAMP\n",
    "num_timestamp_fields = sum(1 for field in schema if field.field_type == \"TIMESTAMP\")\n",
    "\n",
    "# Afficher le résultat\n",
    "print(f\"Nombre de colonnes de type TIMESTAMP : {num_timestamp_fields}\")"
   ]
  },
  {
   "cell_type": "markdown",
   "id": "9001dcd7-87d2-4eb9-b4c0-0c9081ab5eb9",
   "metadata": {},
   "source": [
    "### 3) Créer une carte des crimes\n",
    "Si tu voulais créer une carte avec un point à l'emplacement de chaque crime, quels sont les deux noms de colonnes que tu devrais extraire de la table crime pour pouvoir les tracer sur une carte ?"
   ]
  },
  {
   "cell_type": "code",
   "execution_count": 62,
   "id": "7b3d4f56-068c-44cf-b71d-28cb4956f027",
   "metadata": {},
   "outputs": [],
   "source": [
    "# Écris le code ici pour explorer les données et trouver la réponse\n",
    "fields_for_plotting = [\"latitude\", \"longitude\"]  "
   ]
  },
  {
   "cell_type": "code",
   "execution_count": 66,
   "id": "8d9d6b0a-1c32-4478-b621-c4b2ea280b73",
   "metadata": {},
   "outputs": [
    {
     "name": "stdout",
     "output_type": "stream",
     "text": [
      "unique_key INTEGER\n",
      "case_number STRING\n",
      "date TIMESTAMP\n",
      "block STRING\n",
      "iucr STRING\n",
      "primary_type STRING\n",
      "description STRING\n",
      "location_description STRING\n",
      "arrest BOOLEAN\n",
      "domestic BOOLEAN\n",
      "beat INTEGER\n",
      "district INTEGER\n",
      "ward INTEGER\n",
      "community_area INTEGER\n",
      "fbi_code STRING\n",
      "x_coordinate FLOAT\n",
      "y_coordinate FLOAT\n",
      "year INTEGER\n",
      "updated_on TIMESTAMP\n",
      "latitude FLOAT\n",
      "longitude FLOAT\n",
      "location STRING\n"
     ]
    }
   ],
   "source": [
    "# Afficher la structure des colonnes de la table crime\n",
    "schema = client.get_table(dataset_ref_exo.table(\"crime\")).schema\n",
    "for column in schema:\n",
    "    print(column.name, column.field_type)\n"
   ]
  },
  {
   "cell_type": "markdown",
   "id": "1252460e-ce96-4a78-8ff1-a328f069bef0",
   "metadata": {},
   "source": [
    "---"
   ]
  },
  {
   "cell_type": "code",
   "execution_count": null,
   "id": "feb76b81-0b72-4636-b9ff-a472bbd15a7f",
   "metadata": {},
   "outputs": [],
   "source": []
  },
  {
   "cell_type": "code",
   "execution_count": null,
   "id": "576845a6-4341-4a2d-af48-e9d00c01d7b9",
   "metadata": {},
   "outputs": [],
   "source": []
  },
  {
   "cell_type": "code",
   "execution_count": 71,
   "id": "427a1395-d4a4-4209-9d07-38359b57e989",
   "metadata": {},
   "outputs": [
    {
     "name": "stdout",
     "output_type": "stream",
     "text": [
      "Defaulting to user installation because normal site-packages is not writeable\n",
      "Collecting folium\n",
      "  Downloading folium-0.19.4-py2.py3-none-any.whl.metadata (3.8 kB)\n",
      "Requirement already satisfied: pandas in c:\\users\\optimiste\\appdata\\roaming\\python\\python312\\site-packages (2.2.3)\n",
      "Requirement already satisfied: google-cloud-bigquery in c:\\users\\optimiste\\appdata\\roaming\\python\\python312\\site-packages (3.29.0)\n",
      "Collecting branca>=0.6.0 (from folium)\n",
      "  Downloading branca-0.8.1-py3-none-any.whl.metadata (1.5 kB)\n",
      "Requirement already satisfied: jinja2>=2.9 in c:\\programdata\\anaconda3\\lib\\site-packages (from folium) (3.1.4)\n",
      "Requirement already satisfied: numpy in c:\\users\\optimiste\\appdata\\roaming\\python\\python312\\site-packages (from folium) (2.2.2)\n",
      "Requirement already satisfied: requests in c:\\programdata\\anaconda3\\lib\\site-packages (from folium) (2.32.3)\n",
      "Requirement already satisfied: xyzservices in c:\\programdata\\anaconda3\\lib\\site-packages (from folium) (2022.9.0)\n",
      "Requirement already satisfied: python-dateutil>=2.8.2 in c:\\users\\optimiste\\appdata\\roaming\\python\\python312\\site-packages (from pandas) (2.9.0.post0)\n",
      "Requirement already satisfied: pytz>=2020.1 in c:\\users\\optimiste\\appdata\\roaming\\python\\python312\\site-packages (from pandas) (2025.1)\n",
      "Requirement already satisfied: tzdata>=2022.7 in c:\\users\\optimiste\\appdata\\roaming\\python\\python312\\site-packages (from pandas) (2025.1)\n",
      "Requirement already satisfied: google-api-core<3.0.0dev,>=2.11.1 in c:\\users\\optimiste\\appdata\\roaming\\python\\python312\\site-packages (from google-api-core[grpc]<3.0.0dev,>=2.11.1->google-cloud-bigquery) (2.24.1)\n",
      "Requirement already satisfied: google-auth<3.0.0dev,>=2.14.1 in c:\\users\\optimiste\\appdata\\roaming\\python\\python312\\site-packages (from google-cloud-bigquery) (2.38.0)\n",
      "Requirement already satisfied: google-cloud-core<3.0.0dev,>=2.4.1 in c:\\users\\optimiste\\appdata\\roaming\\python\\python312\\site-packages (from google-cloud-bigquery) (2.4.1)\n",
      "Requirement already satisfied: google-resumable-media<3.0dev,>=2.0.0 in c:\\users\\optimiste\\appdata\\roaming\\python\\python312\\site-packages (from google-cloud-bigquery) (2.7.2)\n",
      "Requirement already satisfied: packaging>=20.0.0 in c:\\users\\optimiste\\appdata\\roaming\\python\\python312\\site-packages (from google-cloud-bigquery) (24.2)\n",
      "Requirement already satisfied: googleapis-common-protos<2.0.dev0,>=1.56.2 in c:\\users\\optimiste\\appdata\\roaming\\python\\python312\\site-packages (from google-api-core<3.0.0dev,>=2.11.1->google-api-core[grpc]<3.0.0dev,>=2.11.1->google-cloud-bigquery) (1.66.0)\n",
      "Requirement already satisfied: protobuf!=3.20.0,!=3.20.1,!=4.21.0,!=4.21.1,!=4.21.2,!=4.21.3,!=4.21.4,!=4.21.5,<6.0.0.dev0,>=3.19.5 in c:\\users\\optimiste\\appdata\\roaming\\python\\python312\\site-packages (from google-api-core<3.0.0dev,>=2.11.1->google-api-core[grpc]<3.0.0dev,>=2.11.1->google-cloud-bigquery) (5.29.3)\n",
      "Requirement already satisfied: proto-plus<2.0.0dev,>=1.22.3 in c:\\users\\optimiste\\appdata\\roaming\\python\\python312\\site-packages (from google-api-core<3.0.0dev,>=2.11.1->google-api-core[grpc]<3.0.0dev,>=2.11.1->google-cloud-bigquery) (1.26.0)\n",
      "Requirement already satisfied: grpcio<2.0dev,>=1.33.2 in c:\\users\\optimiste\\appdata\\roaming\\python\\python312\\site-packages (from google-api-core[grpc]<3.0.0dev,>=2.11.1->google-cloud-bigquery) (1.70.0)\n",
      "Requirement already satisfied: grpcio-status<2.0.dev0,>=1.33.2 in c:\\users\\optimiste\\appdata\\roaming\\python\\python312\\site-packages (from google-api-core[grpc]<3.0.0dev,>=2.11.1->google-cloud-bigquery) (1.70.0)\n",
      "Requirement already satisfied: cachetools<6.0,>=2.0.0 in c:\\programdata\\anaconda3\\lib\\site-packages (from google-auth<3.0.0dev,>=2.14.1->google-cloud-bigquery) (5.3.3)\n",
      "Requirement already satisfied: pyasn1-modules>=0.2.1 in c:\\programdata\\anaconda3\\lib\\site-packages (from google-auth<3.0.0dev,>=2.14.1->google-cloud-bigquery) (0.2.8)\n",
      "Requirement already satisfied: rsa<5,>=3.1.4 in c:\\users\\optimiste\\appdata\\roaming\\python\\python312\\site-packages (from google-auth<3.0.0dev,>=2.14.1->google-cloud-bigquery) (4.9)\n",
      "Requirement already satisfied: google-crc32c<2.0dev,>=1.0 in c:\\users\\optimiste\\appdata\\roaming\\python\\python312\\site-packages (from google-resumable-media<3.0dev,>=2.0.0->google-cloud-bigquery) (1.6.0)\n",
      "Requirement already satisfied: MarkupSafe>=2.0 in c:\\programdata\\anaconda3\\lib\\site-packages (from jinja2>=2.9->folium) (2.1.3)\n",
      "Requirement already satisfied: six>=1.5 in c:\\users\\optimiste\\appdata\\roaming\\python\\python312\\site-packages (from python-dateutil>=2.8.2->pandas) (1.17.0)\n",
      "Requirement already satisfied: charset-normalizer<4,>=2 in c:\\programdata\\anaconda3\\lib\\site-packages (from requests->folium) (3.3.2)\n",
      "Requirement already satisfied: idna<4,>=2.5 in c:\\programdata\\anaconda3\\lib\\site-packages (from requests->folium) (3.7)\n",
      "Requirement already satisfied: urllib3<3,>=1.21.1 in c:\\programdata\\anaconda3\\lib\\site-packages (from requests->folium) (2.2.3)\n",
      "Requirement already satisfied: certifi>=2017.4.17 in c:\\programdata\\anaconda3\\lib\\site-packages (from requests->folium) (2024.12.14)\n",
      "Requirement already satisfied: pyasn1<0.5.0,>=0.4.6 in c:\\programdata\\anaconda3\\lib\\site-packages (from pyasn1-modules>=0.2.1->google-auth<3.0.0dev,>=2.14.1->google-cloud-bigquery) (0.4.8)\n",
      "Downloading folium-0.19.4-py2.py3-none-any.whl (110 kB)\n",
      "Downloading branca-0.8.1-py3-none-any.whl (26 kB)\n",
      "Installing collected packages: branca, folium\n",
      "Successfully installed branca-0.8.1 folium-0.19.4\n"
     ]
    }
   ],
   "source": [
    "!pip install folium pandas google-cloud-bigquery"
   ]
  },
  {
   "cell_type": "code",
   "execution_count": 73,
   "id": "9cd40d06-e920-40c3-ba34-edcfd1b79811",
   "metadata": {},
   "outputs": [],
   "source": [
    "import folium\n",
    "import pandas as pd\n",
    "from google.cloud import bigquery\n"
   ]
  },
  {
   "cell_type": "markdown",
   "id": "3c3ab12c-ef92-488c-966e-0a603fa1e4cd",
   "metadata": {},
   "source": [
    "---\n",
    "\n",
    "\n",
    "A faire après !\n",
    "\n",
    "Pour créer une **carte des crimes** à partir du dataset de Chicago, tu peux utiliser **Folium**, une bibliothèque Python qui permet de tracer des cartes interactives. Voici un guide étape par étape :  \n",
    "\n",
    "---\n",
    "\n",
    "### **1️⃣ Installer les bibliothèques nécessaires (si ce n'est pas encore fait)**  \n",
    "Dans un notebook Jupyter, exécute cette commande :  \n",
    "\n",
    "```python\n",
    "!pip install folium pandas google-cloud-bigquery\n",
    "```\n",
    "\n",
    "---\n",
    "\n",
    "### **2️⃣ Importer les bibliothèques**  \n",
    "\n",
    "```python\n",
    "import folium\n",
    "import pandas as pd\n",
    "from google.cloud import bigquery\n",
    "```\n",
    "\n",
    "---\n",
    "\n",
    "### **3️⃣ Récupérer les données des crimes avec latitude et longitude**  \n",
    "\n",
    "On va exécuter une **requête SQL** pour extraire **uniquement** les crimes avec des coordonnées GPS.\n",
    "\n",
    "```python\n",
    "# Créer un client BigQuery\n",
    "client = bigquery.Client()\n",
    "\n",
    "# Écrire la requête SQL pour récupérer les crimes avec latitude et longitude\n",
    "query = \"\"\"\n",
    "SELECT latitude, longitude\n",
    "FROM `bigquery-public-data.chicago_crime.crime`\n",
    "WHERE latitude IS NOT NULL AND longitude IS NOT NULL\n",
    "LIMIT 1000\n",
    "\"\"\"  # On limite à 1000 pour éviter de surcharger la carte\n",
    "\n",
    "# Exécuter la requête et stocker le résultat dans un DataFrame Pandas\n",
    "crime_data = client.query(query).to_dataframe()\n",
    "```\n",
    "\n",
    "---\n",
    "\n",
    "### **4️⃣ Créer et afficher la carte des crimes**  \n",
    "\n",
    "```python\n",
    "# Définir un point central pour la carte (Chicago)\n",
    "chicago_location = [41.8781, -87.6298]\n",
    "crime_map = folium.Map(location=chicago_location, zoom_start=11)\n",
    "\n",
    "# Ajouter les points des crimes sur la carte\n",
    "for index, row in crime_data.iterrows():\n",
    "    folium.CircleMarker(\n",
    "        location=[row[\"latitude\"], row[\"longitude\"]],\n",
    "        radius=3,  # Taille du point\n",
    "        color=\"red\",\n",
    "        fill=True,\n",
    "        fill_color=\"red\",\n",
    "        fill_opacity=0.6\n",
    "    ).add_to(crime_map)\n",
    "\n",
    "# Afficher la carte\n",
    "crime_map\n",
    "```\n",
    "\n",
    "---\n",
    "\n",
    "### **Explication du code :**\n",
    "1. **On récupère les données des crimes avec latitude et longitude** via une requête SQL.  \n",
    "2. **On initialise une carte centrée sur Chicago** avec `folium.Map()`.  \n",
    "3. **On ajoute un marqueur rouge pour chaque crime** avec `folium.CircleMarker()`.  \n",
    "4. **On affiche la carte** dans le notebook.  \n",
    "\n",
    "---\n",
    "\n",
    "🔍 **Résultat :** Tu verras une carte interactive avec des points rouges représentant chaque crime à Chicago. 🚔📍"
   ]
  },
  {
   "cell_type": "code",
   "execution_count": null,
   "id": "1cf8271d-f704-47d9-a6f2-a1fe5cc40f4d",
   "metadata": {},
   "outputs": [],
   "source": []
  }
 ],
 "metadata": {
  "kernelspec": {
   "display_name": "Python [conda env:base] *",
   "language": "python",
   "name": "conda-base-py"
  },
  "language_info": {
   "codemirror_mode": {
    "name": "ipython",
    "version": 3
   },
   "file_extension": ".py",
   "mimetype": "text/x-python",
   "name": "python",
   "nbconvert_exporter": "python",
   "pygments_lexer": "ipython3",
   "version": "3.12.7"
  }
 },
 "nbformat": 4,
 "nbformat_minor": 5
}
