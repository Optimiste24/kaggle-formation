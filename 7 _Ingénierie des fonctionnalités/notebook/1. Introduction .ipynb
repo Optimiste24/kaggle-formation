{
 "cells": [
  {
   "cell_type": "markdown",
   "id": "f8ef808d-06ef-4b95-b8e9-05a7eb276cb3",
   "metadata": {},
   "source": [
    "# Bienvenue dans l'ingénierie des fonctionnalités !\n",
    "Dans ce cours, vous apprendrez l'une des étapes les plus importantes pour construire un excellent modèle d'apprentissage automatique : l'ingénierie des fonctionnalités. \n",
    "\n",
    "Vous apprendrez à :\n",
    "- Déterminer quelles fonctionnalités sont les plus importantes grâce à l'information mutuelle.\n",
    "- Inventer de nouvelles fonctionnalités dans plusieurs domaines de problèmes réels.\n",
    "- Encoder des variables catégorielles à forte cardinalité à l'aide d'un encodage cible.\n",
    "- Créer des fonctionnalités de segmentation avec le clustering k-means.\n",
    "- Décomposer la variation d'un ensemble de données en fonctionnalités grâce à **l'analyse en composantes principales (PCA)**.\n",
    "\n",
    "Les exercices pratiques mèneront à un notebook complet qui applique toutes ces techniques pour soumettre une solution au concours House Prices Getting Started. Une fois ce cours terminé, vous aurez plusieurs idées que vous pourrez utiliser pour améliorer davantage vos performances.\n",
    "\n",
    "Êtes-vous prêt ? Allons-y !"
   ]
  },
  {
   "cell_type": "markdown",
   "id": "0760f9fc-aacf-4ff7-8418-b63325d0dc02",
   "metadata": {},
   "source": [
    "---\n",
    "## L'objectif de l'ingénierie des fonctionnalités\n",
    "L'objectif de l'ingénierie des fonctionnalités est simplement de rendre vos données mieux adaptées au problème à résoudre.\n",
    "\n",
    "Considérez les mesures de \"température apparente\" comme l'indice de chaleur ou le refroidissement éolien. Ces quantités tentent de mesurer la température ressentie par les humains en fonction de la température de l'air, de l'humidité et de la vitesse du vent, des choses que nous pouvons mesurer directement. Vous pourriez considérer une température apparente comme le résultat d'une sorte d'ingénierie des fonctionnalités, une tentative de rendre les données observées plus pertinentes pour ce qui nous intéresse réellement : **comment on ressent réellement la température !**\n",
    "\n",
    "Vous pourriez effectuer une ingénierie des fonctionnalités pour :\n",
    "- Améliorer la performance prédictive d'un modèle.\n",
    "- Réduire les besoins en calcul ou en données.\n",
    "- Améliorer l'interprétabilité des résultats.\n",
    "\n",
    "---"
   ]
  },
  {
   "cell_type": "markdown",
   "id": "3ce7319c-7742-4c56-b50d-e3521e4671d1",
   "metadata": {},
   "source": [
    "---\n",
    "## Un principe directeur de l'ingénierie des fonctionnalités\n",
    "Pour qu'une fonctionnalité soit utile, elle doit avoir une relation avec la cible que votre modèle peut apprendre. Par exemple, les modèles linéaires ne peuvent apprendre que des relations linéaires. Ainsi, lorsque vous utilisez un modèle linéaire, votre objectif est de transformer les fonctionnalités pour que leur relation avec la cible soit linéaire.\n",
    "\n",
    "L'idée clé ici est qu'une transformation que vous appliquez à une fonctionnalité devient, en essence, une partie du modèle lui-même.\n",
    "\n",
    "Disons que vous essayez de prédire le prix de parcelles de terrain carrées à partir de la longueur d'un côté. Ajuster un modèle linéaire directement à la longueur donne de mauvais résultats : la relation n'est pas linéaire.\n",
    "\n",
    "**Une transformation comme \"mettre la longueur au carré\" pour obtenir la surface permet de créer une relation linéaire.**\n",
    "\n",
    "Cela montre pourquoi il peut être si rentable d'investir du temps dans l'ingénierie des fonctionnalités. Tout ce que votre modèle ne peut pas apprendre, vous pouvez le fournir vous-même grâce à des transformations.\n",
    "\n",
    "---"
   ]
  },
  {
   "cell_type": "markdown",
   "id": "bc77841e-c9f5-4570-a739-00806cca9d87",
   "metadata": {},
   "source": [
    "## Exemple - Formulations de béton\n",
    "Pour illustrer ces idées, voyons comment ajouter quelques fonctionnalités synthétiques à un ensemble de données peut améliorer la performance prédictive d'un modèle de **forêt aléatoire**.\n",
    "\n",
    "L'ensemble de données sur le béton contient diverses formulations de béton et la résistance à la compression du produit résultant, qui est une mesure de la charge que ce type de béton peut supporter. La tâche ici est de prédire la résistance à la compression d'un béton donné en fonction de sa formulation."
   ]
  },
  {
   "cell_type": "code",
   "execution_count": 6,
   "id": "0e15a760-55fd-42b3-9097-f34e4216f25e",
   "metadata": {},
   "outputs": [
    {
     "data": {
      "text/html": [
       "<div>\n",
       "<style scoped>\n",
       "    .dataframe tbody tr th:only-of-type {\n",
       "        vertical-align: middle;\n",
       "    }\n",
       "\n",
       "    .dataframe tbody tr th {\n",
       "        vertical-align: top;\n",
       "    }\n",
       "\n",
       "    .dataframe thead th {\n",
       "        text-align: right;\n",
       "    }\n",
       "</style>\n",
       "<table border=\"1\" class=\"dataframe\">\n",
       "  <thead>\n",
       "    <tr style=\"text-align: right;\">\n",
       "      <th></th>\n",
       "      <th>Cement</th>\n",
       "      <th>BlastFurnaceSlag</th>\n",
       "      <th>FlyAsh</th>\n",
       "      <th>Water</th>\n",
       "      <th>Superplasticizer</th>\n",
       "      <th>CoarseAggregate</th>\n",
       "      <th>FineAggregate</th>\n",
       "      <th>Age</th>\n",
       "      <th>CompressiveStrength</th>\n",
       "    </tr>\n",
       "  </thead>\n",
       "  <tbody>\n",
       "    <tr>\n",
       "      <th>0</th>\n",
       "      <td>540.0</td>\n",
       "      <td>0.0</td>\n",
       "      <td>0.0</td>\n",
       "      <td>162.0</td>\n",
       "      <td>2.5</td>\n",
       "      <td>1040.0</td>\n",
       "      <td>676.0</td>\n",
       "      <td>28</td>\n",
       "      <td>79.99</td>\n",
       "    </tr>\n",
       "    <tr>\n",
       "      <th>1</th>\n",
       "      <td>540.0</td>\n",
       "      <td>0.0</td>\n",
       "      <td>0.0</td>\n",
       "      <td>162.0</td>\n",
       "      <td>2.5</td>\n",
       "      <td>1055.0</td>\n",
       "      <td>676.0</td>\n",
       "      <td>28</td>\n",
       "      <td>61.89</td>\n",
       "    </tr>\n",
       "    <tr>\n",
       "      <th>2</th>\n",
       "      <td>332.5</td>\n",
       "      <td>142.5</td>\n",
       "      <td>0.0</td>\n",
       "      <td>228.0</td>\n",
       "      <td>0.0</td>\n",
       "      <td>932.0</td>\n",
       "      <td>594.0</td>\n",
       "      <td>270</td>\n",
       "      <td>40.27</td>\n",
       "    </tr>\n",
       "    <tr>\n",
       "      <th>3</th>\n",
       "      <td>332.5</td>\n",
       "      <td>142.5</td>\n",
       "      <td>0.0</td>\n",
       "      <td>228.0</td>\n",
       "      <td>0.0</td>\n",
       "      <td>932.0</td>\n",
       "      <td>594.0</td>\n",
       "      <td>365</td>\n",
       "      <td>41.05</td>\n",
       "    </tr>\n",
       "    <tr>\n",
       "      <th>4</th>\n",
       "      <td>198.6</td>\n",
       "      <td>132.4</td>\n",
       "      <td>0.0</td>\n",
       "      <td>192.0</td>\n",
       "      <td>0.0</td>\n",
       "      <td>978.4</td>\n",
       "      <td>825.5</td>\n",
       "      <td>360</td>\n",
       "      <td>44.30</td>\n",
       "    </tr>\n",
       "  </tbody>\n",
       "</table>\n",
       "</div>"
      ],
      "text/plain": [
       "   Cement  BlastFurnaceSlag  FlyAsh  Water  Superplasticizer  CoarseAggregate  \\\n",
       "0   540.0               0.0     0.0  162.0               2.5           1040.0   \n",
       "1   540.0               0.0     0.0  162.0               2.5           1055.0   \n",
       "2   332.5             142.5     0.0  228.0               0.0            932.0   \n",
       "3   332.5             142.5     0.0  228.0               0.0            932.0   \n",
       "4   198.6             132.4     0.0  192.0               0.0            978.4   \n",
       "\n",
       "   FineAggregate  Age  CompressiveStrength  \n",
       "0          676.0   28                79.99  \n",
       "1          676.0   28                61.89  \n",
       "2          594.0  270                40.27  \n",
       "3          594.0  365                41.05  \n",
       "4          825.5  360                44.30  "
      ]
     },
     "execution_count": 6,
     "metadata": {},
     "output_type": "execute_result"
    }
   ],
   "source": [
    "import pandas as pd\n",
    "from sklearn.ensemble import RandomForestRegressor\n",
    "from sklearn.model_selection import cross_val_score\n",
    "\n",
    "df = pd.read_csv(\"concrete.csv\")\n",
    "df.head()"
   ]
  },
  {
   "cell_type": "code",
   "execution_count": 10,
   "id": "87388375-e9a2-4a4a-9b9b-f57e2a0972f6",
   "metadata": {},
   "outputs": [
    {
     "name": "stdout",
     "output_type": "stream",
     "text": [
      "Index(['Cement', 'BlastFurnaceSlag', 'FlyAsh', 'Water', 'Superplasticizer',\n",
      "       'CoarseAggregate', 'FineAggregate', 'Age', 'CompressiveStrength'],\n",
      "      dtype='object')\n"
     ]
    }
   ],
   "source": [
    "print(df.columns)"
   ]
  },
  {
   "cell_type": "markdown",
   "id": "f5f20ce1-c330-4021-a407-90451d5df7ad",
   "metadata": {},
   "source": [
    "---\n",
    "\n",
    "## Établir une base de référence\n",
    "Avant d'ajouter de nouvelles fonctionnalités, nous entraînons un modèle sur l'ensemble de données d'origine pour obtenir un score de référence."
   ]
  },
  {
   "cell_type": "code",
   "execution_count": 13,
   "id": "e98c977a-9cbc-4120-b7ba-086e1a325b2d",
   "metadata": {},
   "outputs": [
    {
     "name": "stdout",
     "output_type": "stream",
     "text": [
      "MAE Baseline Score: 8.232\n"
     ]
    }
   ],
   "source": [
    "X = df.copy()\n",
    "y = X.pop(\"CompressiveStrength\")\n",
    "\n",
    "baseline = RandomForestRegressor(criterion=\"absolute_error\", random_state=0)\n",
    "baseline_score = cross_val_score(\n",
    "    baseline, X, y, cv=5, scoring=\"neg_mean_absolute_error\"\n",
    ")\n",
    "baseline_score = -1 * baseline_score.mean()\n",
    "\n",
    "print(f\"MAE Baseline Score: {baseline_score:.4}\")"
   ]
  },
  {
   "cell_type": "markdown",
   "id": "d57ffe7c-dd91-43ce-bb26-222ec79ec641",
   "metadata": {},
   "source": [
    "Ensuite, nous ajoutons **trois nouvelles fonctionnalités basées sur des ratios** :"
   ]
  },
  {
   "cell_type": "code",
   "execution_count": 16,
   "id": "cb8be4b7-8849-4e05-8aea-eb230dc7ba52",
   "metadata": {},
   "outputs": [
    {
     "name": "stdout",
     "output_type": "stream",
     "text": [
      "MAE Score with Ratio Features: 7.948\n"
     ]
    }
   ],
   "source": [
    "X[\"FCRatio\"] = X[\"FineAggregate\"] / X[\"CoarseAggregate\"]\n",
    "X[\"AggCmtRatio\"] = (X[\"CoarseAggregate\"] + X[\"FineAggregate\"]) / X[\"Cement\"]\n",
    "X[\"WtrCmtRatio\"] = X[\"Water\"] / X[\"Cement\"]\n",
    "\n",
    "model = RandomForestRegressor(criterion=\"absolute_error\", random_state=0)\n",
    "score = cross_val_score(\n",
    "    model, X, y, cv=5, scoring=\"neg_mean_absolute_error\"\n",
    ")\n",
    "score = -1 * score.mean()\n",
    "\n",
    "print(f\"MAE Score with Ratio Features: {score:.4}\")"
   ]
  },
  {
   "cell_type": "markdown",
   "id": "348f40cb-1a2e-48c6-ad32-d2b1b4fc4b49",
   "metadata": {},
   "source": [
    "**Les nouvelles fonctionnalités ont amélioré les performances !**\n",
    "\n",
    "---\n",
    "\n",
    "#### Étape suivante\n",
    "Découvrez comment identifier les fonctionnalités les plus utiles grâce à **l'information mutuelle**."
   ]
  },
  {
   "cell_type": "code",
   "execution_count": null,
   "id": "7c8066aa-83aa-415b-b592-1baf7ac361f0",
   "metadata": {},
   "outputs": [],
   "source": []
  }
 ],
 "metadata": {
  "kernelspec": {
   "display_name": "Python [conda env:base] *",
   "language": "python",
   "name": "conda-base-py"
  },
  "language_info": {
   "codemirror_mode": {
    "name": "ipython",
    "version": 3
   },
   "file_extension": ".py",
   "mimetype": "text/x-python",
   "name": "python",
   "nbconvert_exporter": "python",
   "pygments_lexer": "ipython3",
   "version": "3.12.7"
  }
 },
 "nbformat": 4,
 "nbformat_minor": 5
}
