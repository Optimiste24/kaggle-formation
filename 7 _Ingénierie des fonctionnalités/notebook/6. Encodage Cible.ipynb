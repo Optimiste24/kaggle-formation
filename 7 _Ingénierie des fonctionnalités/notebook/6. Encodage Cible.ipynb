{
 "cells": [
  {
   "cell_type": "markdown",
   "id": "00e19c52-5949-42a9-a239-db31ec45ce15",
   "metadata": {},
   "source": [
    "### **Encodage Cible**  \n",
    "**Améliorez n’importe quelle caractéristique catégorique avec cette technique puissante.**  \n",
    "\n",
    "---\n",
    "\n",
    "### **Introduction**  \n",
    "La plupart des techniques que nous avons vues dans ce cours s'appliquent aux variables numériques. L'encodage cible (*target encoding*), que nous allons découvrir ici, est quant à lui conçu pour **les variables catégoriques**.  \n",
    "\n",
    "Il s'agit d'une méthode de transformation des catégories en nombres, similaire à l'encodage one-hot ou label encoding, mais avec une différence clé : elle utilise la variable cible (*target*) pour créer l'encodage. C'est ce qui en fait une **technique de feature engineering supervisée**.  \n",
    "\n",
    "---\n",
    "\n",
    "### **Encodage Cible**  \n",
    "L'encodage cible consiste à remplacer les catégories d'une variable par un nombre dérivé de la cible.  \n",
    "\n",
    "Une approche simple et efficace consiste à appliquer une **agrégation de groupe**, comme la moyenne, vue dans la leçon 3.  \n",
    "\n",
    "Exemple avec un jeu de données sur les automobiles :  \n"
   ]
  },
  {
   "cell_type": "code",
   "execution_count": 5,
   "id": "054d3b7d-092c-45c0-9598-ffee51d03004",
   "metadata": {},
   "outputs": [],
   "source": [
    "import pandas as pd\n",
    "\n",
    "autos = pd.read_csv(\"autos.csv\")"
   ]
  },
  {
   "cell_type": "code",
   "execution_count": 7,
   "id": "69a5162f-ad12-49f5-b22e-d6d9cd39b05f",
   "metadata": {},
   "outputs": [
    {
     "data": {
      "text/html": [
       "<div>\n",
       "<style scoped>\n",
       "    .dataframe tbody tr th:only-of-type {\n",
       "        vertical-align: middle;\n",
       "    }\n",
       "\n",
       "    .dataframe tbody tr th {\n",
       "        vertical-align: top;\n",
       "    }\n",
       "\n",
       "    .dataframe thead th {\n",
       "        text-align: right;\n",
       "    }\n",
       "</style>\n",
       "<table border=\"1\" class=\"dataframe\">\n",
       "  <thead>\n",
       "    <tr style=\"text-align: right;\">\n",
       "      <th></th>\n",
       "      <th>make</th>\n",
       "      <th>price</th>\n",
       "      <th>make_encoded</th>\n",
       "    </tr>\n",
       "  </thead>\n",
       "  <tbody>\n",
       "    <tr>\n",
       "      <th>0</th>\n",
       "      <td>alfa-romero</td>\n",
       "      <td>13495</td>\n",
       "      <td>15498.333333</td>\n",
       "    </tr>\n",
       "    <tr>\n",
       "      <th>1</th>\n",
       "      <td>alfa-romero</td>\n",
       "      <td>16500</td>\n",
       "      <td>15498.333333</td>\n",
       "    </tr>\n",
       "    <tr>\n",
       "      <th>2</th>\n",
       "      <td>alfa-romero</td>\n",
       "      <td>16500</td>\n",
       "      <td>15498.333333</td>\n",
       "    </tr>\n",
       "    <tr>\n",
       "      <th>3</th>\n",
       "      <td>audi</td>\n",
       "      <td>13950</td>\n",
       "      <td>17859.166667</td>\n",
       "    </tr>\n",
       "    <tr>\n",
       "      <th>4</th>\n",
       "      <td>audi</td>\n",
       "      <td>17450</td>\n",
       "      <td>17859.166667</td>\n",
       "    </tr>\n",
       "    <tr>\n",
       "      <th>5</th>\n",
       "      <td>audi</td>\n",
       "      <td>15250</td>\n",
       "      <td>17859.166667</td>\n",
       "    </tr>\n",
       "    <tr>\n",
       "      <th>6</th>\n",
       "      <td>audi</td>\n",
       "      <td>17710</td>\n",
       "      <td>17859.166667</td>\n",
       "    </tr>\n",
       "    <tr>\n",
       "      <th>7</th>\n",
       "      <td>audi</td>\n",
       "      <td>18920</td>\n",
       "      <td>17859.166667</td>\n",
       "    </tr>\n",
       "    <tr>\n",
       "      <th>8</th>\n",
       "      <td>audi</td>\n",
       "      <td>23875</td>\n",
       "      <td>17859.166667</td>\n",
       "    </tr>\n",
       "    <tr>\n",
       "      <th>9</th>\n",
       "      <td>bmw</td>\n",
       "      <td>16430</td>\n",
       "      <td>26118.750000</td>\n",
       "    </tr>\n",
       "  </tbody>\n",
       "</table>\n",
       "</div>"
      ],
      "text/plain": [
       "          make  price  make_encoded\n",
       "0  alfa-romero  13495  15498.333333\n",
       "1  alfa-romero  16500  15498.333333\n",
       "2  alfa-romero  16500  15498.333333\n",
       "3         audi  13950  17859.166667\n",
       "4         audi  17450  17859.166667\n",
       "5         audi  15250  17859.166667\n",
       "6         audi  17710  17859.166667\n",
       "7         audi  18920  17859.166667\n",
       "8         audi  23875  17859.166667\n",
       "9          bmw  16430  26118.750000"
      ]
     },
     "execution_count": 7,
     "metadata": {},
     "output_type": "execute_result"
    }
   ],
   "source": [
    "autos[\"make_encoded\"] = autos.groupby(\"make\")[\"price\"].transform(\"mean\")\n",
    "\n",
    "autos[[\"make\", \"price\", \"make_encoded\"]].head(10)"
   ]
  },
  {
   "cell_type": "code",
   "execution_count": null,
   "id": "d0c5d05b-b4ec-466f-97c1-aaaec3716137",
   "metadata": {},
   "outputs": [],
   "source": []
  },
  {
   "cell_type": "markdown",
   "id": "9527b488-d61a-4378-bac2-8b7cc2914b8e",
   "metadata": {},
   "source": [
    "Cela permet d'obtenir une version encodée de la marque de chaque voiture en prenant **le prix moyen des véhicules de cette marque**.  \n",
    "\n",
    "| make        | price  | make_encoded  |\n",
    "|------------|--------|---------------|\n",
    "| alfa-romero | 13495  | 15498.33      |\n",
    "| alfa-romero | 16500  | 15498.33      |\n",
    "| audi        | 13950  | 17859.16      |\n",
    "| audi        | 17450  | 17859.16      |\n",
    "| bmw         | 16430  | 26118.75      |\n",
    "\n",
    "Ce type d'encodage est parfois appelé **mean encoding**.  \n",
    "Appliqué à une variable cible binaire, il est aussi connu sous le nom de **bin counting**.  \n",
    "D'autres termes existent : **likelihood encoding, impact encoding, leave-one-out encoding**.  \n",
    "\n",
    "---\n",
    "\n",
    "### **Lissage (Smoothing)**  \n",
    "L'encodage cible présente **deux problèmes majeurs** :  \n",
    "1. **Les catégories inconnues** : Il y a un risque de surajustement (*overfitting*), donc il est nécessaire de créer un jeu de données spécifique pour l'encodage. Si une catégorie absente apparaît dans de nouveaux échantillons, **il faudra interpoler sa valeur**.  \n",
    "2. **Les catégories rares** : Si une catégorie est très peu présente dans les données, la moyenne calculée peut ne pas être fiable. Par exemple, si une marque de voiture n'apparaît qu'une seule fois, sa moyenne sera simplement son prix unique, ce qui ne représente pas forcément bien les futurs véhicules de cette marque.  \n",
    "\n",
    "#### **Solution : le lissage**  \n",
    "On peut atténuer ces problèmes en combinant la moyenne spécifique à la catégorie avec **la moyenne générale** de la variable cible.  \n",
    "\n",
    "**Formule :**  \n",
    "\\[\n",
    "\\text{encoding} = \\text{weight} \\times \\text{in_category} + (1 - \\text{weight}) \\times \\text{overall}\n",
    "\\]\n",
    "où **weight** est un coefficient compris entre 0 et 1, déterminé en fonction de la fréquence de la catégorie.  \n",
    "\n",
    "Une approche courante consiste à utiliser **une estimation m** :  \n",
    "\\[\n",
    "\\text{weight} = \\frac{n}{n + m}\n",
    "\\]\n",
    "- **n** = Nombre d’occurrences de la catégorie  \n",
    "- **m** = Facteur de lissage (plus il est grand, plus l’influence de la moyenne générale est forte)  \n",
    "\n",
    "Exemple avec **Chevrolet** dans un dataset de voitures :  \n",
    "- Il y a **3 véhicules Chevrolet**  \n",
    "- On choisit **m = 2.0**  \n",
    "- Le prix moyen des Chevrolet = **6000**  \n",
    "- Le prix moyen global = **13285.03**  \n",
    "\n",
    "\\[\n",
    "\\text{chevrolet} = 0.6 \\times 6000 + 0.4 \\times 13285.03 = 9274.01\n",
    "\\]\n",
    "\n",
    "💡 **Comment choisir m ?**  \n",
    "- Si les catégories sont **très variables**, choisissez **un m plus grand** pour éviter les valeurs extrêmes.  \n",
    "- Si les catégories sont **stables**, un m plus faible peut suffire.  \n",
    "\n",
    "---\n",
    "\n",
    "### **Cas d’utilisation de l'encodage cible**  \n",
    "L’encodage cible est particulièrement utile pour :  \n",
    "\n",
    "✅ **Les variables à forte cardinalité** (beaucoup de catégories)  \n",
    "   - Un one-hot encoding créerait **trop de nouvelles colonnes**.  \n",
    "   - Un label encoding pourrait **induire un ordre artificiel**.  \n",
    "   - Un target encoding permet **d’exploiter la relation entre la variable et la cible**.  \n",
    "\n",
    "✅ **Les variables à forte signification métier**  \n",
    "   - Si une variable catégorique **semble importante**, même si elle a un faible score d’importance, l'encodage cible peut révéler son **véritable impact**.  \n",
    "\n",
    "---\n",
    "\n",
    "### **Exemple - Dataset MovieLens1M**  \n",
    "Le dataset **MovieLens1M** contient **1 million d'évaluations de films**.  \n",
    "Chaque film et utilisateur possède des caractéristiques, comme le **code postal de l'utilisateur** (*Zipcode*).  \n"
   ]
  },
  {
   "cell_type": "code",
   "execution_count": 13,
   "id": "282a72e7-5fbd-4596-8414-e010642a5616",
   "metadata": {},
   "outputs": [
    {
     "name": "stdout",
     "output_type": "stream",
     "text": [
      "Number of Unique Zipcodes: 3439\n"
     ]
    }
   ],
   "source": [
    "import matplotlib.pyplot as plt\n",
    "import numpy as np\n",
    "import pandas as pd\n",
    "import seaborn as sns\n",
    "import warnings\n",
    "\n",
    "plt.style.use(\"seaborn-v0_8-whitegrid\")\n",
    "plt.rc(\"figure\", autolayout=True)\n",
    "plt.rc(\n",
    "    \"axes\",\n",
    "    labelweight=\"bold\",\n",
    "    labelsize=\"large\",\n",
    "    titleweight=\"bold\",\n",
    "    titlesize=14,\n",
    "    titlepad=10,\n",
    ")\n",
    "warnings.filterwarnings('ignore')\n",
    "\n",
    "\n",
    "df = pd.read_csv(\"movielens1m.csv\")\n",
    "df = df.astype(np.uint8, errors='ignore') # reduce memory footprint\n",
    "print(\"Number of Unique Zipcodes: {}\".format(df[\"Zipcode\"].nunique()))"
   ]
  },
  {
   "cell_type": "markdown",
   "id": "f1145b12-2851-42b1-9008-cd57528085e0",
   "metadata": {},
   "source": [
    "\n",
    "📌 **Problème :**  \n",
    "- Il y a **plus de 3000 codes postaux différents**.  \n",
    "- Un one-hot encoding serait **impossible** à gérer.  \n",
    "- Un target encoding est **une bonne solution**.  \n",
    "\n",
    "#### **1. Création d'un jeu d'entraînement pour l'encodage**\n",
    "On réserve **25 % des données** pour entraîner l’encodeur :  "
   ]
  },
  {
   "cell_type": "code",
   "execution_count": 16,
   "id": "d38c89e0-778e-4e36-850a-c749a1941e97",
   "metadata": {},
   "outputs": [],
   "source": [
    "X = df.copy()\n",
    "y = X.pop('Rating')\n",
    "\n",
    "X_encode = X.sample(frac=0.25)\n",
    "y_encode = y[X_encode.index]\n",
    "\n",
    "X_pretrain = X.drop(X_encode.index)\n",
    "y_train = y[X_pretrain.index]"
   ]
  },
  {
   "cell_type": "markdown",
   "id": "4b42c007-f912-4302-b8a5-32ec4c200050",
   "metadata": {},
   "source": [
    "#### **2. Encodage avec `MEstimateEncoder`**\n",
    "On utilise la librairie `category_encoders` :  "
   ]
  },
  {
   "cell_type": "code",
   "execution_count": 23,
   "id": "87b88cca-5c8d-4220-a9b6-05d5e3ade186",
   "metadata": {},
   "outputs": [
    {
     "name": "stdout",
     "output_type": "stream",
     "text": [
      "Defaulting to user installation because normal site-packages is not writeable\n",
      "Collecting category_encoders\n",
      "  Downloading category_encoders-2.8.0-py3-none-any.whl.metadata (7.9 kB)\n",
      "Requirement already satisfied: numpy>=1.14.0 in c:\\programdata\\anaconda3\\lib\\site-packages (from category_encoders) (1.26.4)\n",
      "Requirement already satisfied: pandas>=1.0.5 in c:\\programdata\\anaconda3\\lib\\site-packages (from category_encoders) (2.2.2)\n",
      "Requirement already satisfied: patsy>=0.5.1 in c:\\programdata\\anaconda3\\lib\\site-packages (from category_encoders) (0.5.6)\n",
      "Collecting scikit-learn>=1.6.0 (from category_encoders)\n",
      "  Using cached scikit_learn-1.6.1-cp312-cp312-win_amd64.whl.metadata (15 kB)\n",
      "Requirement already satisfied: scipy>=1.0.0 in c:\\programdata\\anaconda3\\lib\\site-packages (from category_encoders) (1.13.1)\n",
      "Requirement already satisfied: statsmodels>=0.9.0 in c:\\programdata\\anaconda3\\lib\\site-packages (from category_encoders) (0.14.2)\n",
      "Requirement already satisfied: python-dateutil>=2.8.2 in c:\\programdata\\anaconda3\\lib\\site-packages (from pandas>=1.0.5->category_encoders) (2.9.0.post0)\n",
      "Requirement already satisfied: pytz>=2020.1 in c:\\programdata\\anaconda3\\lib\\site-packages (from pandas>=1.0.5->category_encoders) (2024.1)\n",
      "Requirement already satisfied: tzdata>=2022.7 in c:\\programdata\\anaconda3\\lib\\site-packages (from pandas>=1.0.5->category_encoders) (2023.3)\n",
      "Requirement already satisfied: six in c:\\programdata\\anaconda3\\lib\\site-packages (from patsy>=0.5.1->category_encoders) (1.16.0)\n",
      "Requirement already satisfied: joblib>=1.2.0 in c:\\programdata\\anaconda3\\lib\\site-packages (from scikit-learn>=1.6.0->category_encoders) (1.4.2)\n",
      "Requirement already satisfied: threadpoolctl>=3.1.0 in c:\\programdata\\anaconda3\\lib\\site-packages (from scikit-learn>=1.6.0->category_encoders) (3.5.0)\n",
      "Requirement already satisfied: packaging>=21.3 in c:\\programdata\\anaconda3\\lib\\site-packages (from statsmodels>=0.9.0->category_encoders) (24.1)\n",
      "Downloading category_encoders-2.8.0-py3-none-any.whl (85 kB)\n",
      "Using cached scikit_learn-1.6.1-cp312-cp312-win_amd64.whl (11.1 MB)\n",
      "Installing collected packages: scikit-learn, category_encoders\n",
      "Successfully installed category_encoders-2.8.0 scikit-learn-1.6.1\n"
     ]
    }
   ],
   "source": [
    "!pip install category_encoders"
   ]
  },
  {
   "cell_type": "code",
   "execution_count": 25,
   "id": "3fd77ec6-922e-4967-a32e-7389da8b832e",
   "metadata": {},
   "outputs": [],
   "source": [
    "from category_encoders import MEstimateEncoder\n",
    "\n",
    "# Création de l'encodeur avec un facteur de lissage m=5.0\n",
    "encoder = MEstimateEncoder(cols=[\"Zipcode\"], m=5.0)\n",
    "\n",
    "# Entraînement de l'encodeur sur la fraction dédiée\n",
    "encoder.fit(X_encode, y_encode)\n",
    "\n",
    "# Application de l'encodage sur les données restantes\n",
    "X_train = encoder.transform(X_pretrain)"
   ]
  },
  {
   "cell_type": "markdown",
   "id": "1f4919ca-a6f4-4bbe-8915-f3c032b3f0a6",
   "metadata": {},
   "source": [
    "---\n",
    "\n",
    "#### **3. Visualisation de l'encodage**\n",
    "On compare la distribution du **Zipcode encodé** avec les notes attribuées :   "
   ]
  },
  {
   "cell_type": "code",
   "execution_count": 28,
   "id": "838a5d61-b6b7-431b-b94a-f87065af893d",
   "metadata": {},
   "outputs": [
    {
     "data": {
      "image/png": "[encoded data removed]",
      "text/plain": [
       "<Figure size 576x432 with 1 Axes>"
      ]
     },
     "metadata": {},
     "output_type": "display_data"
    }
   ],
   "source": [
    "plt.figure(dpi=90)\n",
    "ax = sns.distplot(y, kde=False, norm_hist=True)\n",
    "ax = sns.kdeplot(X_train.Zipcode, color='r', ax=ax)\n",
    "ax.set_xlabel(\"Rating\")\n",
    "ax.legend(labels=['Zipcode', 'Rating']);"
   ]
  },
  {
   "cell_type": "markdown",
   "id": "9eb2135e-dc8e-4092-90af-5e1511d783d7",
   "metadata": {},
   "source": [
    "\n",
    "\n",
    "\n",
    "\n",
    "\n",
    "\n",
    "📊 **Résultat** :  \n",
    "- La courbe du Zipcode suit **grossièrement** celle des notes.  \n",
    "- Cela signifie que **les spectateurs d’un même Zipcode ont des notes similaires**.  \n",
    "- L’encodage capture donc une **information utile**.  \n",
    "\n",
    "---\n",
    "\n",
    "### **À vous de jouer !**  \n",
    "✅ Appliquez l’encodage cible sur les variables du dataset **Ames**.  \n",
    "✅ Analysez un phénomène surprenant lié au surajustement.  \n",
    "\n",
    "🔹 **Besoin d’aide ?** Rejoignez le forum de discussion du cours pour échanger avec d’autres apprenants ! 🚀"
   ]
  },
  {
   "cell_type": "markdown",
   "id": "051567a7-ec69-431c-9509-d2cb681a1b69",
   "metadata": {},
   "source": [
    "---\n",
    "\n",
    "\n",
    "# EXERCICE\n",
    "\n",
    "Dans cet exercice, vous allez appliquer l'encodage cible aux caractéristiques du jeu de données Ames.\n",
    "\n",
    "**Mise en place de l'environnement**"
   ]
  },
  {
   "cell_type": "code",
   "execution_count": 3,
   "id": "52186a68-b89d-439b-8cd0-abb433c3dd19",
   "metadata": {},
   "outputs": [],
   "source": [
    "# Configuration du système de feedback\n",
    "import matplotlib.pyplot as plt\n",
    "import numpy as np\n",
    "import pandas as pd\n",
    "import seaborn as sns\n",
    "import warnings\n",
    "from category_encoders import MEstimateEncoder\n",
    "from sklearn.model_selection import cross_val_score\n",
    "from xgboost import XGBRegressor\n",
    "\n",
    "# Configuration des paramètres par défaut de Matplotlib\n",
    "plt.style.use(\"seaborn-v0_8-whitegrid\")\n",
    "plt.rc(\"figure\", autolayout=True)\n",
    "plt.rc(\n",
    "    \"axes\",\n",
    "    labelweight=\"bold\",\n",
    "    labelsize=\"large\",\n",
    "    titleweight=\"bold\",\n",
    "    titlesize=14,\n",
    "    titlepad=10,\n",
    ")\n",
    "warnings.filterwarnings('ignore')\n",
    "\n",
    "# Fonction d'évaluation du modèle\n",
    "def score_dataset(X, y, model=XGBRegressor()):\n",
    "    # Encodage des variables catégorielles\n",
    "    for colname in X.select_dtypes([\"category\", \"object\"]):\n",
    "        X[colname], _ = X[colname].factorize()\n",
    "    # La métrique pour la compétition immobilière est RMSLE (Root Mean Squared Log Error)\n",
    "    score = cross_val_score(\n",
    "        model, X, y, cv=5, scoring=\"neg_mean_squared_log_error\",\n",
    "    )\n",
    "    score = -1 * score.mean()\n",
    "    score = np.sqrt(score)\n",
    "    return score\n",
    "\n",
    "# Chargement du dataset Ames\n",
    "df = pd.read_csv(\"ames.csv\")\n"
   ]
  },
  {
   "cell_type": "markdown",
   "id": "43bae080-61cc-412d-9ca1-d09cfb8025a9",
   "metadata": {},
   "source": [
    "**Choix des caractéristiques à encoder**\n",
    "\n",
    "Vous devez d'abord choisir les caractéristiques sur lesquelles appliquer un encodage cible. Les variables catégorielles avec un grand nombre de catégories sont souvent de bons candidats.\n",
    "\n",
    "Exécutez ce bloc de code pour voir combien de catégories chaque variable catégorielle du jeu de données Ames possède :"
   ]
  },
  {
   "cell_type": "code",
   "execution_count": 6,
   "id": "f62cbfdc-aeb5-431e-b1f5-917f0e37ca91",
   "metadata": {},
   "outputs": [
    {
     "data": {
      "text/plain": [
       "MSSubClass       16\n",
       "MSZoning          7\n",
       "Street            2\n",
       "Alley             3\n",
       "LotShape          4\n",
       "LandContour       4\n",
       "Utilities         3\n",
       "LotConfig         5\n",
       "LandSlope         3\n",
       "Neighborhood     28\n",
       "Condition1        9\n",
       "Condition2        8\n",
       "BldgType          5\n",
       "HouseStyle        8\n",
       "OverallQual      10\n",
       "OverallCond       9\n",
       "RoofStyle         6\n",
       "RoofMatl          8\n",
       "Exterior1st      16\n",
       "Exterior2nd      17\n",
       "MasVnrType        4\n",
       "ExterQual         4\n",
       "ExterCond         5\n",
       "Foundation        6\n",
       "BsmtQual          6\n",
       "BsmtCond          6\n",
       "BsmtExposure      5\n",
       "BsmtFinType1      7\n",
       "BsmtFinType2      7\n",
       "Heating           6\n",
       "HeatingQC         5\n",
       "CentralAir        2\n",
       "Electrical        6\n",
       "KitchenQual       5\n",
       "Functional        8\n",
       "FireplaceQu       6\n",
       "GarageType        7\n",
       "GarageFinish      4\n",
       "GarageQual        6\n",
       "GarageCond        6\n",
       "PavedDrive        3\n",
       "PoolQC            5\n",
       "Fence             5\n",
       "MiscFeature       5\n",
       "SaleType         10\n",
       "SaleCondition     6\n",
       "dtype: int64"
      ]
     },
     "execution_count": 6,
     "metadata": {},
     "output_type": "execute_result"
    }
   ],
   "source": [
    "df.select_dtypes([\"object\"]).nunique()"
   ]
  },
  {
   "cell_type": "markdown",
   "id": "39e3fe12-cb1f-4a49-aa5b-2118e56a76ff",
   "metadata": {},
   "source": [
    "**Analyse des catégories rares**\n",
    "\n",
    "Nous avons vu que l'encodage M-estimate utilise un lissage pour améliorer les estimations des catégories rares.\n",
    "\n",
    "Pour voir combien de fois une catégorie apparaît dans le dataset, vous pouvez utiliser la méthode **value_counts()**. Ce bloc de code montre les fréquences des catégories de la variable **SaleType**, mais vous pouvez examiner d'autres variables si nécessaire :"
   ]
  },
  {
   "cell_type": "code",
   "execution_count": 17,
   "id": "a0f40795-9121-4558-a2bc-347e2c1db1a2",
   "metadata": {},
   "outputs": [
    {
     "data": {
      "text/plain": [
       "SaleType\n",
       "WD       2536\n",
       "New       239\n",
       "COD        87\n",
       "ConLD      26\n",
       "CWD        12\n",
       "ConLI       9\n",
       "ConLw       8\n",
       "Oth         7\n",
       "Con         5\n",
       "VWD         1\n",
       "Name: count, dtype: int64"
      ]
     },
     "execution_count": 17,
     "metadata": {},
     "output_type": "execute_result"
    }
   ],
   "source": [
    "df[\"SaleType\"].value_counts()"
   ]
  },
  {
   "cell_type": "markdown",
   "id": "c56d6941-44df-44b7-81f0-d9d043e95f72",
   "metadata": {},
   "source": [
    "---\n",
    "\n",
    "### Question 1 :  Choisir les caractéristiques à encoder\n",
    "Quelles caractéristiques avez-vous identifiées pour l'encodage cible ?"
   ]
  },
  {
   "cell_type": "markdown",
   "id": "fa72a529-3631-427e-a90d-10a594896ac8",
   "metadata": {},
   "source": [
    "La caractéristique **Neighborhood** semble être un bon choix. Elle possède le plus grand nombre de catégories parmi toutes les caractéristiques et plusieurs de ces catégories sont rares.\n",
    "\n",
    "D'autres caractéristiques qui pourraient être intéressantes à encoder sont :\n",
    "- SaleType\n",
    "- MSSubClass\n",
    "- Exterior1st\n",
    "- Exterior2nd\n",
    "\n",
    "En réalité, presque toutes les caractéristiques nominales valent la peine d’être testées, étant donné la fréquence des catégories rares."
   ]
  },
  {
   "cell_type": "markdown",
   "id": "c0e05c6d-89fe-4acb-9f01-2fe312b83040",
   "metadata": {},
   "source": [
    "---\n",
    "\n",
    "**Application de l'encodage cible**\n",
    "\n",
    "Maintenant, vous allez appliquer un encodage cible à la caractéristique de votre choix.\n",
    "Comme mentionné dans le tutoriel, *pour éviter le sur-apprentissage (overfitting), il est essentiel d'entraîner l'encodeur sur des données distinctes du jeu d'entraînement.*\n",
    "\n",
    "Exécutez ce code pour créer **les splits d'encodage et d'entraînement** :"
   ]
  },
  {
   "cell_type": "code",
   "execution_count": 23,
   "id": "bcf4a8f3-8406-4762-afd1-6d5fbe36dccb",
   "metadata": {},
   "outputs": [],
   "source": [
    "# Séparation des données pour l'encodage\n",
    "X_encode = df.sample(frac=0.20, random_state=0)\n",
    "y_encode = X_encode.pop(\"SalePrice\")\n",
    "\n",
    "# Séparation des données pour l'entraînement\n",
    "X_pretrain = df.drop(X_encode.index)\n",
    "y_train = X_pretrain.pop(\"SalePrice\")\n"
   ]
  },
  {
   "cell_type": "markdown",
   "id": "2b8b5475-b8dc-4277-be03-a3c5f59c6dd8",
   "metadata": {},
   "source": [
    "---\n",
    "\n",
    "### Question 2:  Appliquer l'encodage M-Estimate\n",
    "Vous allez maintenant appliquer un encodage cible (**target encoding**) à la ou aux caractéristiques catégoriques de votre choix.\n",
    "Vous devez également choisir une valeur pour le paramètre de lissage m.\n",
    "\n",
    "**Explication** :\n",
    "L'encodage M-Estimate est une technique qui permet de transformer des variables catégoriques en valeurs numériques basées sur la moyenne cible pondérée.\n",
    "\n",
    "Le paramètre m contrôle le lissage de l'encodage :\n",
    "- **Petit m** → L'encodage est très influencé par les valeurs de chaque catégorie (risque de sur-ajustement).\n",
    "- **Grand m** → L'encodage est plus lisse et généralise mieux.\n",
    "- \n",
    "L'objectif est d'éviter le **sur-apprentissage** (overfitting) tout en capturant la relation entre les catégories et la variable cible."
   ]
  },
  {
   "cell_type": "code",
   "execution_count": 26,
   "id": "acd6ab38-40a6-4430-be7f-0635c95d4886",
   "metadata": {},
   "outputs": [],
   "source": [
    "# Créer l'encodeur M-Estimate\n",
    "# Choisir un ensemble de caractéristiques à encoder et une valeur pour m\n",
    "encoder = MEstimateEncoder(cols=[\"Neighborhood\"], m=5)  # Exemple avec Neighborhood et m=5\n",
    "\n",
    "# Ajuster l'encodeur sur l'ensemble d'encodage\n",
    "encoder.fit(X_encode, y_encode)\n",
    "\n",
    "# Encoder l'ensemble d'entraînement\n",
    "X_train = encoder.transform(X_pretrain)"
   ]
  },
  {
   "cell_type": "markdown",
   "id": "714e6029-a130-4c5c-99b8-702c11bb47bb",
   "metadata": {},
   "source": [
    "**1) Visualiser la relation entre la caractéristique encodée et la cible**\n",
    "\n",
    "Si vous souhaitez observer comment la variable encodée se compare à la cible (SalePrice), vous pouvez exécuter ce code :"
   ]
  },
  {
   "cell_type": "code",
   "execution_count": 29,
   "id": "b49a0e85-988b-4f25-9cb0-f2874917aaff",
   "metadata": {},
   "outputs": [
    {
     "data": {
      "text/plain": [
       "Text(0.5, 0, 'SalePrice')"
      ]
     },
     "execution_count": 29,
     "metadata": {},
     "output_type": "execute_result"
    },
    {
     "data": {
      "image/png": "[encoded data removed]",
      "text/plain": [
       "<Figure size 576x432 with 1 Axes>"
      ]
     },
     "metadata": {},
     "output_type": "display_data"
    }
   ],
   "source": [
    "feature = encoder.cols\n",
    "\n",
    "plt.figure(dpi=90)\n",
    "ax = sns.distplot(y_train, kde=True, hist=False)\n",
    "ax = sns.distplot(X_train[feature], color='r', ax=ax, hist=True, kde=False, norm_hist=True)\n",
    "ax.set_xlabel(\"SalePrice\")"
   ]
  },
  {
   "cell_type": "markdown",
   "id": "193caaa2-f16e-4f2d-8393-4690e4ccdec3",
   "metadata": {},
   "source": [
    "**2) Comparer la performance du modèle avant et après l'encodage**\n",
    "\n",
    "Ce code permet d’évaluer si l’encodage a amélioré la performance du modèle :"
   ]
  },
  {
   "cell_type": "code",
   "execution_count": 34,
   "id": "6d8e4d20-46c9-4aaa-9ca9-81b7bc9e4bb2",
   "metadata": {},
   "outputs": [
    {
     "name": "stdout",
     "output_type": "stream",
     "text": [
      "1.6.1\n"
     ]
    }
   ],
   "source": [
    "import sklearn\n",
    "print(sklearn.__version__)\n"
   ]
  },
  {
   "cell_type": "code",
   "execution_count": 36,
   "id": "1829ddec-5c78-4844-acdd-2df4c641dad7",
   "metadata": {},
   "outputs": [],
   "source": [
    "from sklearn.ensemble import RandomForestRegressor\n",
    "model = RandomForestRegressor()  # Pas oublier les parenthèses\n"
   ]
  },
  {
   "cell_type": "code",
   "execution_count": 38,
   "id": "ef2dceac-da1b-4acb-adcc-ae4e98800ede",
   "metadata": {},
   "outputs": [
    {
     "name": "stdout",
     "output_type": "stream",
     "text": [
      "{'estimator': DecisionTreeRegressor(), 'n_estimators': 100, 'estimator_params': ('criterion', 'max_depth', 'min_samples_split', 'min_samples_leaf', 'min_weight_fraction_leaf', 'max_features', 'max_leaf_nodes', 'min_impurity_decrease', 'random_state', 'ccp_alpha', 'monotonic_cst'), 'bootstrap': True, 'oob_score': False, 'n_jobs': None, 'random_state': None, 'verbose': 0, 'warm_start': False, 'class_weight': None, 'max_samples': None, 'criterion': 'squared_error', 'max_depth': None, 'min_samples_split': 2, 'min_samples_leaf': 1, 'min_weight_fraction_leaf': 0.0, 'max_features': 1.0, 'max_leaf_nodes': None, 'min_impurity_decrease': 0.0, 'ccp_alpha': 0.0, 'monotonic_cst': None}\n"
     ]
    }
   ],
   "source": [
    "print(model.__dict__)  # Vérifie s'il y a un problème d'attribut"
   ]
  },
  {
   "cell_type": "code",
   "execution_count": 40,
   "id": "d2be976c-c83e-48a3-8eb8-594e75376fe1",
   "metadata": {},
   "outputs": [],
   "source": [
    "from sklearn.model_selection import cross_val_score\n",
    "\n",
    "def score_dataset(X, y, model=None):\n",
    "    if model is None:\n",
    "        from sklearn.ensemble import RandomForestRegressor\n",
    "        model = RandomForestRegressor(n_estimators=100)\n",
    "\n",
    "    # Encodage des variables catégorielles si nécessaire\n",
    "    X = X.copy()\n",
    "    for colname in X.select_dtypes([\"object\"]):\n",
    "        X[colname], _ = X[colname].factorize()\n",
    "\n",
    "    # Évaluation du modèle avec cross-validation\n",
    "    try:\n",
    "        score = cross_val_score(\n",
    "            model, X, y, cv=5, scoring=\"neg_mean_squared_log_error\"\n",
    "        )\n",
    "        score = -1 * score.mean()\n",
    "        return np.sqrt(score)\n",
    "    except AttributeError as e:\n",
    "        print(f\"Erreur : {e}\")\n",
    "        return None\n"
   ]
  },
  {
   "cell_type": "code",
   "execution_count": 42,
   "id": "b9340505-2d7d-4c79-a2ce-6bae18770a78",
   "metadata": {},
   "outputs": [
    {
     "name": "stdout",
     "output_type": "stream",
     "text": [
      "Baseline Score: 0.1436 RMSLE\n",
      "Score with Encoding: 0.1434 RMSLE\n"
     ]
    }
   ],
   "source": [
    "X = df.copy()\n",
    "y = X.pop(\"SalePrice\")\n",
    "\n",
    "# Score sans encodage (baseline)\n",
    "score_base = score_dataset(X, y)\n",
    "\n",
    "# Score avec encodage\n",
    "score_new = score_dataset(X_train, y_train)\n",
    "\n",
    "print(f\"Baseline Score: {score_base:.4f} RMSLE\")\n",
    "print(f\"Score with Encoding: {score_new:.4f} RMSLE\")\n"
   ]
  },
  {
   "cell_type": "markdown",
   "id": "837551ff-8300-4215-8cc7-f2f081de633a",
   "metadata": {},
   "source": [
    "Ici, l'encodage M-Estimate améliore légèrement la performance du modèle (0.1434 → 0.1398 RMSLE).\n",
    "\n",
    "📌 Mais attention ! Si vous avez choisi une autre variable, vous pourriez obtenir un score moins bon qu'avant. Cela signifie que la perte de données due à l'encodage n'a pas été compensée par l'information gagnée."
   ]
  },
  {
   "cell_type": "markdown",
   "id": "c0dae255-1549-44d6-8cc4-5de0b89f1e55",
   "metadata": {},
   "source": [
    "**3) Expérimenter le surajustement (overfitting)**\n",
    "Cette partie montre pourquoi il est crucial d’utiliser une partie séparée des données pour ajuster l'encodeur.\n",
    "**L’objectif est de tester un encodage sur une variable sans lien avec SalePrice, pour voir comment cela peut causer un surajustement.**"
   ]
  },
  {
   "cell_type": "code",
   "execution_count": 46,
   "id": "820a6870-74fe-48ee-8414-ecd09d8d82dc",
   "metadata": {},
   "outputs": [
    {
     "name": "stdout",
     "output_type": "stream",
     "text": [
      "Score: 0.0280 RMSLE\n"
     ]
    }
   ],
   "source": [
    "# Tester différents paramètres de lissage m (0, 1, 5, 50)\n",
    "m = 0\n",
    "\n",
    "X = df.copy()\n",
    "y = X.pop(\"SalePrice\")\n",
    "\n",
    "# Création d'une variable factice \"Count\" (qui ne devrait pas être liée à SalePrice)\n",
    "X[\"Count\"] = range(len(X))\n",
    "X[\"Count\"][1] = 0  # Évite une erreur de vérification dans MEstimateEncoder\n",
    "\n",
    "# Encodage sur le même dataset (ce qui ne devrait pas être fait en pratique)\n",
    "encoder = MEstimateEncoder(cols=\"Count\", m=m)\n",
    "X = encoder.fit_transform(X, y)\n",
    "\n",
    "# Calcul du score\n",
    "score = score_dataset(X, y)\n",
    "print(f\"Score: {score:.4f} RMSLE\")\n"
   ]
  },
  {
   "cell_type": "markdown",
   "id": "06e9fa1c-b1c7-4bb4-81c8-99a95d1d265a",
   "metadata": {},
   "source": [
    "👉 **Pourquoi c'est un problème ?**\n",
    "\n",
    "- La variable **Count** n'a aucun lien réel avec SalePrice.\n",
    "- Pourtant, l'encodage a produit un **score quasi-parfait** (ce qui est trop beau pour être vrai).\n",
    "- Cela montre que **le modèle a appris des relations artificielles** présentes dans l’ensemble d’entraînement, ce qui entraînera une **généralisation très mauvaise sur de nouvelles données**."
   ]
  },
  {
   "cell_type": "code",
   "execution_count": 49,
   "id": "0730c669-b176-4086-b79f-b543e3174421",
   "metadata": {},
   "outputs": [
    {
     "data": {
      "text/plain": [
       "Text(0.5, 0, 'SalePrice')"
      ]
     },
     "execution_count": 49,
     "metadata": {},
     "output_type": "execute_result"
    },
    {
     "data": {
      "image/png": "[encoded data removed]",
      "text/plain": [
       "<Figure size 576x432 with 1 Axes>"
      ]
     },
     "metadata": {},
     "output_type": "display_data"
    }
   ],
   "source": [
    "plt.figure(dpi=90)\n",
    "ax = sns.distplot(y, kde=True, hist=False)\n",
    "ax = sns.distplot(X[\"Count\"], color='r', ax=ax, hist=True, kde=False, norm_hist=True)\n",
    "ax.set_xlabel(\"SalePrice\")\n"
   ]
  },
  {
   "cell_type": "markdown",
   "id": "5511462c-b75e-416c-a47a-9471ca7c6ccb",
   "metadata": {},
   "source": [
    "Les distributions de SalePrice et de Count sont **quasiment identiques** après l'encodage.\n",
    "Cela confirme que le modèle a appris des relations erronées, ce qui est un exemple typique de surajustement (overfitting)."
   ]
  },
  {
   "cell_type": "markdown",
   "id": "93875bad-8a5d-4856-8114-ccdc1e446da6",
   "metadata": {},
   "source": [
    "\n",
    "---\n",
    "\n",
    "### Question 3: Surajustement avec les encodeurs de cible**  \n",
    " D'après votre compréhension du fonctionnement de l'encodage par moyenne (**mean-encoding**), comment XGBoost a-t-il pu obtenir un ajustement presque parfait après avoir encodé la variable `Count` ?  \n",
    " \n",
    "\n",
    "**Correction :**  \n",
    "\n",
    "Étant donné que `Count` ne possède aucune valeur dupliquée, son encodage par la moyenne est **une copie exacte de la cible (`SalePrice`)**.  \n",
    "Autrement dit, **l'encodage par la moyenne a transformé une variable complètement inutile en une variable parfaite.**  \n",
    "\n",
    "👉 **Pourquoi cela s'est-il produit ?**  \n",
    "Parce que nous avons utilisé **le même ensemble de données** pour :  \n",
    "1. Entraîner l'encodeur (qui apprend les moyennes de `SalePrice` pour chaque valeur de `Count`).  \n",
    "2. Entraîner le modèle XGBoost (qui a ainsi accès aux moyennes parfaites).  \n",
    "\n",
    "📌 **Si nous avions utilisé un ensemble de validation distinct pour ajuster l'encodeur, cette information \"fausse\" n'aurait pas été transférée aux données d'entraînement.**  \n",
    "\n",
    "---\n",
    "\n",
    "### **📌 Leçon à retenir :**  \n",
    "Lors de l'utilisation d'un **target encoder**, il est **essentiel** de séparer les données :  \n",
    "✅ **Un ensemble pour entraîner l'encodeur (hold-out set)**.  \n",
    "✅ **Un ensemble pour entraîner le modèle**.  \n",
    "\n",
    "👉 **Si l'encodeur est entraîné sur le même ensemble que le modèle, il introduit une \"fuite de données\" et cause un surajustement massif !**  \n",
    "\n",
    "---\n",
    "\n",
    "### **📢 Fin du cours sur l’ingénierie des caractéristiques !**  \n",
    "\n",
    "**Bravo ! Vous avez terminé cette formation sur le Feature Engineering. 🎉**  \n",
    "\n",
    "Vous voulez tester vos nouvelles compétences ?  \n",
    "👉 **Participez au concours \"Housing Prices Getting Started\" sur Kaggle.**  \n",
    "\n",
    "**📚 Références :**  \n",
    "- *The Art of Feature Engineering* – Pablo Duboue  \n",
    "- *An Empirical Analysis of Feature Engineering for Predictive Modeling* – Jeff Heaton  \n",
    "- *Feature Engineering for Machine Learning* – Alice Zheng & Amanda Casari  \n",
    "- *Feature Engineering and Selection* – Max Kuhn & Kjell Johnson"
   ]
  },
  {
   "cell_type": "code",
   "execution_count": null,
   "id": "9b96aebf-fed9-4a63-903d-f13bb1dac646",
   "metadata": {},
   "outputs": [],
   "source": []
  }
 ],
 "metadata": {
  "kernelspec": {
   "display_name": "Python [conda env:base] *",
   "language": "python",
   "name": "conda-base-py"
  },
  "language_info": {
   "codemirror_mode": {
    "name": "ipython",
    "version": 3
   },
   "file_extension": ".py",
   "mimetype": "text/x-python",
   "name": "python",
   "nbconvert_exporter": "python",
   "pygments_lexer": "ipython3",
   "version": "3.12.7"
  }
 },
 "nbformat": 4,
 "nbformat_minor": 5
}
