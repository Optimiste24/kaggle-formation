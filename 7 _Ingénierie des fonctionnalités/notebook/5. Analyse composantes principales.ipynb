{
 "cells": [
  {
   "cell_type": "markdown",
   "id": "71e62619-a9c3-443d-b361-7a9344c608bb",
   "metadata": {},
   "source": [
    "# Analyse en composantes principales  \n",
    "Découvrez de nouvelles fonctionnalités en analysant les variations.  \n",
    "\n",
    "### Introduction\n",
    "Dans la leçon précédente, nous avons exploré notre première méthode basée sur un modèle pour l'ingénierie des fonctionnalités : **le regroupement (clustering)**. Dans cette leçon, nous nous intéressons à la suivante : **l'analyse en composantes principales (ACP ou PCA)**. Tout comme le clustering consiste à diviser le jeu de données en fonction de la proximité, vous pouvez considérer la PCA comme une partition de la variation des données. La PCA est un excellent outil pour vous aider à découvrir des relations importantes dans les données et peut également être utilisée pour créer des fonctionnalités plus informatives.  \n",
    "\n",
    "*(Note technique : la PCA est généralement appliquée à des données standardisées. Avec des données standardisées, la \"variation\" signifie \"corrélation\". Avec des données non standardisées, la \"variation\" signifie \"covariance\". Toutes les données de ce cours seront standardisées avant l'application de la PCA.)*\n",
    "\n",
    "---\n",
    "\n",
    "### Analyse en composantes principales  \n",
    "Dans le jeu de données \"Abalone\", nous trouvons des mesures physiques recueillies sur plusieurs milliers d'ormaux de Tasmanie. *(Un ormeau est une créature marine semblable à une palourde ou une huître.)* Pour l’instant, nous examinerons uniquement quelques caractéristiques : la **\"Hauteur\"** et le **\"Diamètre\"** de leurs coquilles.  \n",
    "\n",
    "Vous pourriez imaginer que dans ces données, il existe des **\"axes de variation\"** qui décrivent les façons dont les ormeaux diffèrent généralement les uns des autres. Visuellement, ces axes apparaissent comme des lignes perpendiculaires qui longent les dimensions naturelles des données, un axe pour chaque caractéristique originale.  \n",
    "\n",
    "Souvent, nous pouvons donner des noms à ces axes de variation. L'axe le plus long pourrait être appelé **\"Taille\"** : faible hauteur et faible diamètre (en bas à gauche) opposés à grande hauteur et grand diamètre (en haut à droite). L'axe le plus court pourrait être appelé **\"Forme\"** : faible hauteur et grand diamètre (forme plate) opposés à grande hauteur et faible diamètre (forme ronde).  \n",
    "\n",
    "Remarquez qu'au lieu de décrire les ormeaux par leur **Hauteur** et leur **Diamètre**, nous pourrions tout aussi bien les décrire par leur **Taille** et leur **Forme**. En fait, c’est toute l’idée de la PCA : au lieu de décrire les données avec les caractéristiques originales, nous les décrivons avec leurs axes de variation. Ces axes de variation deviennent les **nouvelles caractéristiques**.  \n",
    "\n",
    "Les composantes principales deviennent les nouvelles caractéristiques en effectuant une rotation des données dans l'espace des caractéristiques. Les nouvelles caractéristiques construites par la PCA sont en réalité des combinaisons linéaires *(sommes pondérées)* des caractéristiques originales :  "
   ]
  },
  {
   "cell_type": "markdown",
   "id": "4c35592d-1379-4262-9fdc-20e586224a7c",
   "metadata": {},
   "source": [
    "```python\n",
    "df[\"Taille\"] = 0.707 * X[\"Hauteur\"] + 0.707 * X[\"Diamètre\"]\n",
    "df[\"Forme\"] = 0.707 * X[\"Hauteur\"] - 0.707 * X[\"Diamètre\"]\n",
    "```"
   ]
  },
  {
   "cell_type": "markdown",
   "id": "2d7962f9-f05d-49c6-8c59-710b68f66b06",
   "metadata": {},
   "source": [
    "Ces nouvelles caractéristiques sont appelées les **composantes principales** des données. Les poids eux-mêmes sont appelés **coefficients de charge**. Le nombre de composantes principales est égal au nombre de caractéristiques du jeu de données original : si nous avions utilisé dix caractéristiques au lieu de deux, nous aurions obtenu dix composantes.  \n",
    "\n",
    "Les coefficients de charge d’une composante indiquent quelle variation elle exprime à travers les signes et les magnitudes :\n",
    "\n",
    "| Caractéristiques \\ Composantes | Taille (PC1) | Forme (PC2) |\n",
    "|--------------------------------|--------------|-------------|\n",
    "| Hauteur                        | 0.707        | 0.707       |\n",
    "| Diamètre                       | 0.707        | -0.707      |\n",
    "\n",
    "Cette table de coefficients indique que dans la composante **Taille**, la Hauteur et le Diamètre varient dans la même direction *(même signe)*, mais dans la composante **Forme**, ils varient dans des directions opposées *(signe opposé)*. Dans chaque composante, les coefficients ont tous la même magnitude, donc les caractéristiques contribuent également aux deux.  \n",
    "\n",
    "La PCA nous informe également de la quantité de variation dans chaque composante. Nous pouvons voir que les données varient davantage le long de la composante **Taille** que le long de la composante **Forme**. La PCA quantifie cela grâce au **pourcentage de variance expliquée** par chaque composante.  \n",
    "\n",
    "---\n",
    "\n",
    "#### Application pratique et bonnes pratiques  \n",
    "L’ACP peut être utilisée pour réduire la dimensionnalité, détecter des anomalies, réduire le bruit ou encore décorréler des variables fortement corrélées.  \n",
    "\n",
    "Exemple avec les données automobiles :  \n",
    "En standardisant des variables comme la consommation, la taille du moteur ou le poids, on peut détecter des axes principaux (comme le contraste entre les voitures luxueuses et économiques) et créer des nouvelles métriques prédictives pour le prix.\n"
   ]
  },
  {
   "cell_type": "markdown",
   "id": "a0479e42-11d7-4b88-a9ab-1433e142cae5",
   "metadata": {},
   "source": [
    "---\n",
    "\n",
    "### PCA pour l’ingénierie des caractéristiques\n",
    "\n",
    "Il existe deux façons d’utiliser l’Analyse en Composantes Principales (ACP ou PCA) pour l’ingénierie des caractéristiques.\n",
    "\n",
    "#### 1. **Utilisation comme technique descriptive**  \n",
    "Les composantes principales décrivent les variations dans les données. Vous pourriez calculer les scores d’information mutuelle (**MI scores**) pour les composantes et identifier quel type de variation est le plus prédictif de votre cible. Cela peut vous donner des idées pour créer de nouvelles caractéristiques :  \n",
    "\n",
    "- Par exemple, si la variation liée à la **taille** est importante, vous pourriez créer un **produit** entre \"Hauteur\" et \"Diamètre\".  \n",
    "- Si la **forme** est importante, vous pourriez créer un **rapport** entre \"Hauteur\" et \"Diamètre\".  \n",
    "- Vous pourriez également appliquer un **clustering** sur une ou plusieurs composantes principales ayant des scores élevés.\n",
    "\n",
    "#### 2. **Utilisation directe des composantes comme caractéristiques**  \n",
    "Comme les composantes principales exposent directement la structure de variation des données, elles peuvent souvent être plus informatives que les caractéristiques d’origine. Voici quelques cas d’utilisation :\n",
    "\n",
    "- **Réduction de dimensionnalité** : Lorsque vos caractéristiques sont fortement redondantes (**multicolinéaires**, en particulier), l’ACP regroupe cette redondance dans une ou plusieurs composantes avec une variance proche de zéro. Vous pouvez alors supprimer ces composantes puisqu’elles contiennent peu ou pas d’information utile.  \n",
    "\n",
    "- **Détection d’anomalies** : Les variations inhabituelles, qui ne sont pas apparentes dans les caractéristiques d’origine, apparaîtront souvent dans les composantes de faible variance. Ces composantes peuvent être très utiles pour détecter des anomalies ou des valeurs aberrantes.  \n",
    "\n",
    "- **Réduction du bruit** : Une série de relevés de capteurs peut souvent contenir un bruit de fond commun. L’ACP peut regrouper le signal informatif dans un nombre réduit de caractéristiques, tout en laissant le bruit à part, augmentant ainsi le rapport signal/bruit.  \n",
    "\n",
    "- **Décorrélation** : Certains algorithmes de machine learning rencontrent des difficultés avec des caractéristiques très corrélées. L’ACP transforme les caractéristiques corrélées en composantes non corrélées, ce qui peut faciliter le travail de votre algorithme.  \n",
    "\n",
    "En résumé, l’ACP vous donne un accès direct à la structure de corrélation de vos données. Vous trouverez certainement vos propres applications à cet outil !\n",
    "\n",
    "---\n",
    "\n",
    "### **Bonnes pratiques avec l’ACP**\n",
    "\n",
    "Voici quelques éléments à garder à l’esprit lorsque vous appliquez l’ACP :\n",
    "\n",
    "1. **L’ACP ne fonctionne qu’avec des caractéristiques numériques**, comme des quantités continues ou des comptes.  \n",
    "2. **L’ACP est sensible à l’échelle des données.** Il est recommandé de standardiser vos données avant d’appliquer l’ACP, sauf si vous avez une bonne raison de ne pas le faire.  \n",
    "3. **Prenez en compte les valeurs aberrantes.** Elles peuvent avoir une influence excessive sur les résultats. Envisagez de les supprimer ou de limiter leur impact."
   ]
  },
  {
   "cell_type": "markdown",
   "id": "751b4161-0f75-4476-bd5b-43c9347001fd",
   "metadata": {},
   "source": [
    "---\n",
    "\n",
    "# Exemple - Automobiles de 1985\n",
    "Dans cet exemple, nous allons revenir à notre dataset sur les automobiles et appliquer l'ACP en tant que **technique descriptive** pour découvrir des caractéristiques. Nous examinerons d'autres cas d'utilisation dans l'exercice.\n",
    "\n",
    "### Chargement des données et définition des fonctions\n",
    "Le script suivant charge les données et définit deux fonctions : **plot_variance** (pour visualiser la variance expliquée par les composantes principales) et **make_mi_scores** (pour calculer les scores d'information mutuelle)."
   ]
  },
  {
   "cell_type": "code",
   "execution_count": 7,
   "id": "18ed173c-340d-4ac3-be57-fb2096a93a49",
   "metadata": {},
   "outputs": [],
   "source": [
    "import matplotlib.pyplot as plt\n",
    "import numpy as np\n",
    "import pandas as pd\n",
    "import seaborn as sns\n",
    "from IPython.display import display\n",
    "from sklearn.feature_selection import mutual_info_regression\n",
    "\n",
    "plt.style.use(\"seaborn-v0_8-whitegrid\")\n",
    "plt.rc(\"figure\", autolayout=True)\n",
    "plt.rc(\n",
    "    \"axes\",\n",
    "    labelweight=\"bold\",\n",
    "    labelsize=\"large\",\n",
    "    titleweight=\"bold\",\n",
    "    titlesize=14,\n",
    "    titlepad=10,\n",
    ")\n",
    "\n",
    "def plot_variance(pca, width=8, dpi=100):\n",
    "    # Création de la figure\n",
    "    fig, axs = plt.subplots(1, 2)\n",
    "    n = pca.n_components_\n",
    "    grid = np.arange(1, n + 1)\n",
    "    # Variance expliquée\n",
    "    evr = pca.explained_variance_ratio_\n",
    "    axs[0].bar(grid, evr)\n",
    "    axs[0].set(\n",
    "        xlabel=\"Composante\", title=\"% Variance expliquée\", ylim=(0.0, 1.0)\n",
    "    )\n",
    "    # Variance cumulée\n",
    "    cv = np.cumsum(evr)\n",
    "    axs[1].plot(np.r_[0, grid], np.r_[0, cv], \"o-\")\n",
    "    axs[1].set(\n",
    "        xlabel=\"Composante\", title=\"% Variance cumulée\", ylim=(0.0, 1.0)\n",
    "    )\n",
    "    # Configuration de la figure\n",
    "    fig.set(figwidth=8, dpi=100)\n",
    "    return axs\n",
    "\n",
    "def make_mi_scores(X, y, discrete_features):\n",
    "    mi_scores = mutual_info_regression(X, y, discrete_features=discrete_features)\n",
    "    mi_scores = pd.Series(mi_scores, name=\"Scores MI\", index=X.columns)\n",
    "    mi_scores = mi_scores.sort_values(ascending=False)\n",
    "    return mi_scores\n"
   ]
  },
  {
   "cell_type": "markdown",
   "id": "5b1225de-2061-46ec-9bc7-712ec16d9cde",
   "metadata": {},
   "source": [
    "### Préparation des données\n",
    "Le dataset des automobiles de 1985 est chargé et quatre caractéristiques représentatives sont sélectionnées : elles couvrent différentes propriétés et ont des scores d'information mutuelle élevés avec la cible, le prix. Les données sont standardisées, car les caractéristiques ont des échelles différentes.\n"
   ]
  },
  {
   "cell_type": "code",
   "execution_count": 13,
   "id": "8689a63a-aad4-4b8d-8ac6-c62b8acf8b3f",
   "metadata": {},
   "outputs": [
    {
     "data": {
      "text/html": [
       "<div>\n",
       "<style scoped>\n",
       "    .dataframe tbody tr th:only-of-type {\n",
       "        vertical-align: middle;\n",
       "    }\n",
       "\n",
       "    .dataframe tbody tr th {\n",
       "        vertical-align: top;\n",
       "    }\n",
       "\n",
       "    .dataframe thead th {\n",
       "        text-align: right;\n",
       "    }\n",
       "</style>\n",
       "<table border=\"1\" class=\"dataframe\">\n",
       "  <thead>\n",
       "    <tr style=\"text-align: right;\">\n",
       "      <th></th>\n",
       "      <th>highway_mpg</th>\n",
       "      <th>engine_size</th>\n",
       "      <th>horsepower</th>\n",
       "      <th>curb_weight</th>\n",
       "    </tr>\n",
       "  </thead>\n",
       "  <tbody>\n",
       "    <tr>\n",
       "      <th>0</th>\n",
       "      <td>-0.555613</td>\n",
       "      <td>0.045098</td>\n",
       "      <td>0.198054</td>\n",
       "      <td>-0.025646</td>\n",
       "    </tr>\n",
       "    <tr>\n",
       "      <th>1</th>\n",
       "      <td>-0.555613</td>\n",
       "      <td>0.045098</td>\n",
       "      <td>0.198054</td>\n",
       "      <td>-0.025646</td>\n",
       "    </tr>\n",
       "    <tr>\n",
       "      <th>2</th>\n",
       "      <td>-0.702307</td>\n",
       "      <td>0.574066</td>\n",
       "      <td>1.330822</td>\n",
       "      <td>0.496473</td>\n",
       "    </tr>\n",
       "    <tr>\n",
       "      <th>3</th>\n",
       "      <td>-0.115531</td>\n",
       "      <td>-0.459826</td>\n",
       "      <td>-0.039037</td>\n",
       "      <td>-0.426254</td>\n",
       "    </tr>\n",
       "    <tr>\n",
       "      <th>4</th>\n",
       "      <td>-1.289083</td>\n",
       "      <td>0.189362</td>\n",
       "      <td>0.303427</td>\n",
       "      <td>0.498371</td>\n",
       "    </tr>\n",
       "  </tbody>\n",
       "</table>\n",
       "</div>"
      ],
      "text/plain": [
       "   highway_mpg  engine_size  horsepower  curb_weight\n",
       "0    -0.555613     0.045098    0.198054    -0.025646\n",
       "1    -0.555613     0.045098    0.198054    -0.025646\n",
       "2    -0.702307     0.574066    1.330822     0.496473\n",
       "3    -0.115531    -0.459826   -0.039037    -0.426254\n",
       "4    -1.289083     0.189362    0.303427     0.498371"
      ]
     },
     "execution_count": 13,
     "metadata": {},
     "output_type": "execute_result"
    }
   ],
   "source": [
    "df = pd.read_csv(\"autos.csv\")\n",
    "\n",
    "features = [\"highway_mpg\", \"engine_size\", \"horsepower\", \"curb_weight\"]\n",
    "\n",
    "X = df.copy()\n",
    "y = X.pop('price')\n",
    "X = X.loc[:, features]\n",
    "\n",
    "# Standardisation\n",
    "X_scaled = (X - X.mean(axis=0)) / X.std(axis=0)\n",
    "X_scaled.head()"
   ]
  },
  {
   "cell_type": "markdown",
   "id": "7876d853-b51c-4a0b-b01f-82b20f9eea29",
   "metadata": {},
   "source": [
    "---\n",
    "\n",
    "### Application de l'ACP\n",
    "Nous ajustons l'estimateur PCA de *scikit-learn* pour créer les composantes principales. Voici les premières lignes du dataset transformé :"
   ]
  },
  {
   "cell_type": "code",
   "execution_count": 17,
   "id": "7ded15ea-40ee-493b-bce5-12378c92c7cf",
   "metadata": {},
   "outputs": [
    {
     "data": {
      "text/html": [
       "<div>\n",
       "<style scoped>\n",
       "    .dataframe tbody tr th:only-of-type {\n",
       "        vertical-align: middle;\n",
       "    }\n",
       "\n",
       "    .dataframe tbody tr th {\n",
       "        vertical-align: top;\n",
       "    }\n",
       "\n",
       "    .dataframe thead th {\n",
       "        text-align: right;\n",
       "    }\n",
       "</style>\n",
       "<table border=\"1\" class=\"dataframe\">\n",
       "  <thead>\n",
       "    <tr style=\"text-align: right;\">\n",
       "      <th></th>\n",
       "      <th>PC1</th>\n",
       "      <th>PC2</th>\n",
       "      <th>PC3</th>\n",
       "      <th>PC4</th>\n",
       "    </tr>\n",
       "  </thead>\n",
       "  <tbody>\n",
       "    <tr>\n",
       "      <th>0</th>\n",
       "      <td>0.382486</td>\n",
       "      <td>-0.400222</td>\n",
       "      <td>0.124122</td>\n",
       "      <td>0.169539</td>\n",
       "    </tr>\n",
       "    <tr>\n",
       "      <th>1</th>\n",
       "      <td>0.382486</td>\n",
       "      <td>-0.400222</td>\n",
       "      <td>0.124122</td>\n",
       "      <td>0.169539</td>\n",
       "    </tr>\n",
       "    <tr>\n",
       "      <th>2</th>\n",
       "      <td>1.550890</td>\n",
       "      <td>-0.107175</td>\n",
       "      <td>0.598361</td>\n",
       "      <td>-0.256081</td>\n",
       "    </tr>\n",
       "    <tr>\n",
       "      <th>3</th>\n",
       "      <td>-0.408859</td>\n",
       "      <td>-0.425947</td>\n",
       "      <td>0.243335</td>\n",
       "      <td>0.013920</td>\n",
       "    </tr>\n",
       "    <tr>\n",
       "      <th>4</th>\n",
       "      <td>1.132749</td>\n",
       "      <td>-0.814565</td>\n",
       "      <td>-0.202885</td>\n",
       "      <td>0.224138</td>\n",
       "    </tr>\n",
       "  </tbody>\n",
       "</table>\n",
       "</div>"
      ],
      "text/plain": [
       "        PC1       PC2       PC3       PC4\n",
       "0  0.382486 -0.400222  0.124122  0.169539\n",
       "1  0.382486 -0.400222  0.124122  0.169539\n",
       "2  1.550890 -0.107175  0.598361 -0.256081\n",
       "3 -0.408859 -0.425947  0.243335  0.013920\n",
       "4  1.132749 -0.814565 -0.202885  0.224138"
      ]
     },
     "execution_count": 17,
     "metadata": {},
     "output_type": "execute_result"
    }
   ],
   "source": [
    "from sklearn.decomposition import PCA\n",
    "\n",
    "# Création des composantes principales\n",
    "pca = PCA()\n",
    "X_pca = pca.fit_transform(X_scaled)\n",
    "\n",
    "# Conversion en DataFrame\n",
    "component_names = [f\"PC{i+1}\" for i in range(X_pca.shape[1])]\n",
    "X_pca = pd.DataFrame(X_pca, columns=component_names)\n",
    "\n",
    "X_pca.head()"
   ]
  },
  {
   "cell_type": "markdown",
   "id": "25319807-2d12-4b7e-b884-1fc5f4271c3f",
   "metadata": {},
   "source": [
    "---\n",
    "\n",
    "### Les \"loadings\" de l'ACP\n",
    "Après ajustement, l'instance PCA contient les \"loadings\" (chargements) dans son attribut components_. Nous convertissons ces valeurs en DataFrame pour les rendre plus lisibles. Les colonnes représentent les composantes principales (PC), tandis que les lignes représentent les caractéristiques originales."
   ]
  },
  {
   "cell_type": "code",
   "execution_count": 20,
   "id": "74b65f33-d073-4f27-a5cc-caa80c02575a",
   "metadata": {},
   "outputs": [
    {
     "data": {
      "text/html": [
       "<div>\n",
       "<style scoped>\n",
       "    .dataframe tbody tr th:only-of-type {\n",
       "        vertical-align: middle;\n",
       "    }\n",
       "\n",
       "    .dataframe tbody tr th {\n",
       "        vertical-align: top;\n",
       "    }\n",
       "\n",
       "    .dataframe thead th {\n",
       "        text-align: right;\n",
       "    }\n",
       "</style>\n",
       "<table border=\"1\" class=\"dataframe\">\n",
       "  <thead>\n",
       "    <tr style=\"text-align: right;\">\n",
       "      <th></th>\n",
       "      <th>PC1</th>\n",
       "      <th>PC2</th>\n",
       "      <th>PC3</th>\n",
       "      <th>PC4</th>\n",
       "    </tr>\n",
       "  </thead>\n",
       "  <tbody>\n",
       "    <tr>\n",
       "      <th>highway_mpg</th>\n",
       "      <td>-0.492347</td>\n",
       "      <td>0.770892</td>\n",
       "      <td>0.070142</td>\n",
       "      <td>-0.397996</td>\n",
       "    </tr>\n",
       "    <tr>\n",
       "      <th>engine_size</th>\n",
       "      <td>0.503859</td>\n",
       "      <td>0.626709</td>\n",
       "      <td>0.019960</td>\n",
       "      <td>0.594107</td>\n",
       "    </tr>\n",
       "    <tr>\n",
       "      <th>horsepower</th>\n",
       "      <td>0.500448</td>\n",
       "      <td>0.013788</td>\n",
       "      <td>0.731093</td>\n",
       "      <td>-0.463534</td>\n",
       "    </tr>\n",
       "    <tr>\n",
       "      <th>curb_weight</th>\n",
       "      <td>0.503262</td>\n",
       "      <td>0.113008</td>\n",
       "      <td>-0.678369</td>\n",
       "      <td>-0.523232</td>\n",
       "    </tr>\n",
       "  </tbody>\n",
       "</table>\n",
       "</div>"
      ],
      "text/plain": [
       "                  PC1       PC2       PC3       PC4\n",
       "highway_mpg -0.492347  0.770892  0.070142 -0.397996\n",
       "engine_size  0.503859  0.626709  0.019960  0.594107\n",
       "horsepower   0.500448  0.013788  0.731093 -0.463534\n",
       "curb_weight  0.503262  0.113008 -0.678369 -0.523232"
      ]
     },
     "execution_count": 20,
     "metadata": {},
     "output_type": "execute_result"
    }
   ],
   "source": [
    "loadings = pd.DataFrame(\n",
    "    pca.components_.T,  # transposition de la matrice des \"loadings\"\n",
    "    columns=component_names,  # les colonnes sont les composantes principales\n",
    "    index=X.columns,  # les lignes sont les caractéristiques originales\n",
    ")\n",
    "loadings\n"
   ]
  },
  {
   "cell_type": "markdown",
   "id": "216fe965-b643-4f33-a39e-143aa7cd8651",
   "metadata": {},
   "source": [
    "#### Interprétation\n",
    "Les signes et les magnitudes des \"loadings\" d’une composante révèlent le type de variation capturé. Par exemple :\n",
    "\n",
    "- La première composante (PC1) montre un contraste entre les véhicules **grands et puissants consommant beaucoup d'essence** et les véhicules **petits et économiques**. On pourrait l’appeler l’axe \"Luxe/Économie\".\n",
    "---\n",
    "La figure suivante montre que les quatre caractéristiques choisies varient principalement le long de cet axe \"Luxe/Économie\"."
   ]
  },
  {
   "cell_type": "code",
   "execution_count": 23,
   "id": "641641b7-f934-4235-9b88-eda9303950f7",
   "metadata": {},
   "outputs": [
    {
     "data": {
      "image/png": "[encoded data removed]",
      "text/plain": [
       "<Figure size 800x480 with 2 Axes>"
      ]
     },
     "metadata": {},
     "output_type": "display_data"
    }
   ],
   "source": [
    "# Visualiser la variance expliquée\n",
    "plot_variance(pca);"
   ]
  },
  {
   "cell_type": "markdown",
   "id": "06da4293-d46e-4f61-a26f-d5613c9bcbd4",
   "metadata": {},
   "source": [
    "---\n",
    "### Scores d'Information Mutuelle (MI)\n",
    "Observons les scores d’information mutuelle des composantes principales. Sans surprise, **PC1** est très informatif. Cependant, les composantes restantes, malgré leur faible variance, entretiennent toujours une relation significative avec le prix. Il pourrait être intéressant d'examiner ces composantes pour identifier des relations non capturées par l’axe principal \"Luxe/Économie\"."
   ]
  },
  {
   "cell_type": "code",
   "execution_count": 28,
   "id": "21b13cbb-e4e0-41a0-86ce-19ef25e446a9",
   "metadata": {},
   "outputs": [
    {
     "data": {
      "text/plain": [
       "PC1    1.014374\n",
       "PC2    0.379637\n",
       "PC3    0.306898\n",
       "PC4    0.205133\n",
       "Name: Scores MI, dtype: float64"
      ]
     },
     "execution_count": 28,
     "metadata": {},
     "output_type": "execute_result"
    }
   ],
   "source": [
    "mi_scores = make_mi_scores(X_pca, y, discrete_features=False)\n",
    "mi_scores\n"
   ]
  },
  {
   "cell_type": "markdown",
   "id": "ee38fa4b-a7d9-4b74-8fb2-3392d72e5fd3",
   "metadata": {},
   "source": [
    "---\n",
    "### Analyse de la troisième composante (PC3)\n",
    "La troisième composante (PC3) met en évidence un contraste entre la **puissance**(horsepower) et le **poids à vide** (curb_weight). Cela semble différencier les voitures sportives des breaks (wagons).\n",
    "\n",
    "Examinons les données triées par PC3 pour explorer ce contraste :"
   ]
  },
  {
   "cell_type": "code",
   "execution_count": 32,
   "id": "4c2d176d-caf1-41ac-ac7b-5c70b6e5d9c4",
   "metadata": {},
   "outputs": [
    {
     "data": {
      "text/html": [
       "<div>\n",
       "<style scoped>\n",
       "    .dataframe tbody tr th:only-of-type {\n",
       "        vertical-align: middle;\n",
       "    }\n",
       "\n",
       "    .dataframe tbody tr th {\n",
       "        vertical-align: top;\n",
       "    }\n",
       "\n",
       "    .dataframe thead th {\n",
       "        text-align: right;\n",
       "    }\n",
       "</style>\n",
       "<table border=\"1\" class=\"dataframe\">\n",
       "  <thead>\n",
       "    <tr style=\"text-align: right;\">\n",
       "      <th></th>\n",
       "      <th>make</th>\n",
       "      <th>body_style</th>\n",
       "      <th>horsepower</th>\n",
       "      <th>curb_weight</th>\n",
       "    </tr>\n",
       "  </thead>\n",
       "  <tbody>\n",
       "    <tr>\n",
       "      <th>118</th>\n",
       "      <td>porsche</td>\n",
       "      <td>hardtop</td>\n",
       "      <td>207</td>\n",
       "      <td>2756</td>\n",
       "    </tr>\n",
       "    <tr>\n",
       "      <th>117</th>\n",
       "      <td>porsche</td>\n",
       "      <td>hardtop</td>\n",
       "      <td>207</td>\n",
       "      <td>2756</td>\n",
       "    </tr>\n",
       "    <tr>\n",
       "      <th>119</th>\n",
       "      <td>porsche</td>\n",
       "      <td>convertible</td>\n",
       "      <td>207</td>\n",
       "      <td>2800</td>\n",
       "    </tr>\n",
       "    <tr>\n",
       "      <th>45</th>\n",
       "      <td>jaguar</td>\n",
       "      <td>sedan</td>\n",
       "      <td>262</td>\n",
       "      <td>3950</td>\n",
       "    </tr>\n",
       "    <tr>\n",
       "      <th>96</th>\n",
       "      <td>nissan</td>\n",
       "      <td>hatchback</td>\n",
       "      <td>200</td>\n",
       "      <td>3139</td>\n",
       "    </tr>\n",
       "    <tr>\n",
       "      <th>...</th>\n",
       "      <td>...</td>\n",
       "      <td>...</td>\n",
       "      <td>...</td>\n",
       "      <td>...</td>\n",
       "    </tr>\n",
       "    <tr>\n",
       "      <th>59</th>\n",
       "      <td>mercedes-benz</td>\n",
       "      <td>wagon</td>\n",
       "      <td>123</td>\n",
       "      <td>3750</td>\n",
       "    </tr>\n",
       "    <tr>\n",
       "      <th>61</th>\n",
       "      <td>mercedes-benz</td>\n",
       "      <td>sedan</td>\n",
       "      <td>123</td>\n",
       "      <td>3770</td>\n",
       "    </tr>\n",
       "    <tr>\n",
       "      <th>101</th>\n",
       "      <td>peugot</td>\n",
       "      <td>wagon</td>\n",
       "      <td>95</td>\n",
       "      <td>3430</td>\n",
       "    </tr>\n",
       "    <tr>\n",
       "      <th>105</th>\n",
       "      <td>peugot</td>\n",
       "      <td>wagon</td>\n",
       "      <td>95</td>\n",
       "      <td>3485</td>\n",
       "    </tr>\n",
       "    <tr>\n",
       "      <th>143</th>\n",
       "      <td>toyota</td>\n",
       "      <td>wagon</td>\n",
       "      <td>62</td>\n",
       "      <td>3110</td>\n",
       "    </tr>\n",
       "  </tbody>\n",
       "</table>\n",
       "<p>193 rows × 4 columns</p>\n",
       "</div>"
      ],
      "text/plain": [
       "              make   body_style  horsepower  curb_weight\n",
       "118        porsche      hardtop         207         2756\n",
       "117        porsche      hardtop         207         2756\n",
       "119        porsche  convertible         207         2800\n",
       "45          jaguar        sedan         262         3950\n",
       "96          nissan    hatchback         200         3139\n",
       "..             ...          ...         ...          ...\n",
       "59   mercedes-benz        wagon         123         3750\n",
       "61   mercedes-benz        sedan         123         3770\n",
       "101         peugot        wagon          95         3430\n",
       "105         peugot        wagon          95         3485\n",
       "143         toyota        wagon          62         3110\n",
       "\n",
       "[193 rows x 4 columns]"
      ]
     },
     "execution_count": 32,
     "metadata": {},
     "output_type": "execute_result"
    }
   ],
   "source": [
    "# Trier les données par PC3\n",
    "idx = X_pca[\"PC3\"].sort_values(ascending=False).index\n",
    "cols = [\"make\", \"body_style\", \"horsepower\", \"curb_weight\"]\n",
    "df.loc[idx, cols]\n"
   ]
  },
  {
   "cell_type": "markdown",
   "id": "586d3b4b-93ed-4f5e-81e0-03bd5d3d9d77",
   "metadata": {},
   "source": [
    "---\n",
    "### Création d'une nouvelle caractéristique : Ratio \"Sports ou Wagon\"\n",
    "Pour capturer ce contraste, nous créons une nouvelle caractéristique : le ratio entre le poids à vide (curb_weight) et la puissance (horsepower). Ce ratio reflète l'équilibre entre légèreté et puissance, typique des voitures sportives ou des wagons."
   ]
  },
  {
   "cell_type": "code",
   "execution_count": 35,
   "id": "89270721-c3d6-48fd-a760-6244a418b59f",
   "metadata": {},
   "outputs": [
    {
     "data": {
      "image/png": "[encoded data removed]",
      "text/plain": [
       "<Figure size 640x480 with 1 Axes>"
      ]
     },
     "metadata": {},
     "output_type": "display_data"
    }
   ],
   "source": [
    "# Ajouter une nouvelle caractéristique\n",
    "df[\"sports_or_wagon\"] = X.curb_weight / X.horsepower\n",
    "\n",
    "# Visualiser la relation entre cette caractéristique et le prix\n",
    "sns.regplot(x=\"sports_or_wagon\", y='price', data=df, order=2);\n"
   ]
  },
  {
   "cell_type": "markdown",
   "id": "539caff5-22f1-446a-b294-4cc6c1e24ccc",
   "metadata": {},
   "source": [
    "---\n",
    "### À vous de jouer\n",
    "Améliorez votre jeu de caractéristiques en décomposant la variation dans les données sur les logements d’Ames (Ames Housing) et utilisez les composantes principales pour détecter les valeurs aberrantes."
   ]
  },
  {
   "cell_type": "markdown",
   "id": "f4ce1f8a-8840-4c3e-b5c3-a618223647a4",
   "metadata": {},
   "source": [
    "---\n",
    "\n",
    "# EXERCICE\n",
    "\n",
    "Dans cet exercice, nous allons explorer plusieurs applications de **l'Analyse en Composantes Principales (PCA)** sur le jeu de données **Ames**."
   ]
  },
  {
   "cell_type": "markdown",
   "id": "99a3de5f-dcda-43fa-a1d1-4e97b744d79b",
   "metadata": {},
   "source": [
    "**Configuration du système**"
   ]
  },
  {
   "cell_type": "code",
   "execution_count": 6,
   "id": "c327c437-a4dc-4589-8071-adb6c53991f7",
   "metadata": {},
   "outputs": [],
   "source": [
    "# Importation des bibliothèques nécessaires\n",
    "import matplotlib.pyplot as plt\n",
    "import numpy as np\n",
    "import pandas as pd\n",
    "import seaborn as sns\n",
    "from sklearn.decomposition import PCA\n",
    "from sklearn.feature_selection import mutual_info_regression\n",
    "from sklearn.model_selection import cross_val_score\n",
    "from xgboost import XGBRegressor\n",
    "\n",
    "# Configuration par défaut de Matplotlib\n",
    "plt.style.use(\"seaborn-v0_8-whitegrid\")\n",
    "plt.rc(\"figure\", autolayout=True)\n",
    "plt.rc(\n",
    "    \"axes\",\n",
    "    labelweight=\"bold\",\n",
    "    labelsize=\"large\",\n",
    "    titleweight=\"bold\",\n",
    "    titlesize=14,\n",
    "    titlepad=10,\n",
    ")\n"
   ]
  },
  {
   "cell_type": "markdown",
   "id": "e3b4b48b-a75d-48f4-9be7-9fc34e23d192",
   "metadata": {},
   "source": [
    "**Application de la PCA**"
   ]
  },
  {
   "cell_type": "code",
   "execution_count": 9,
   "id": "24ac578d-6ea6-49a6-8707-2f0cdff7f5dc",
   "metadata": {},
   "outputs": [],
   "source": [
    "def apply_pca(X, standardize=True):\n",
    "    # Standardisation des données\n",
    "    if standardize:\n",
    "        X = (X - X.mean(axis=0)) / X.std(axis=0)\n",
    "    # Création des composantes principales\n",
    "    pca = PCA()\n",
    "    X_pca = pca.fit_transform(X)\n",
    "    # Conversion en DataFrame\n",
    "    component_names = [f\"PC{i+1}\" for i in range(X_pca.shape[1])]\n",
    "    X_pca = pd.DataFrame(X_pca, columns=component_names)\n",
    "    # Création des charges factorielles\n",
    "    loadings = pd.DataFrame(\n",
    "        pca.components_.T,  # transposition de la matrice des charges factorielles\n",
    "        columns=component_names,  # les colonnes sont les composantes principales\n",
    "        index=X.columns,  # les lignes correspondent aux variables initiales\n",
    "    )\n",
    "    return pca, X_pca, loadings\n"
   ]
  },
  {
   "cell_type": "markdown",
   "id": "6f37ecd9-6c2a-4309-b069-91455c641a93",
   "metadata": {},
   "source": [
    "**Visualisation de la variance expliquée**"
   ]
  },
  {
   "cell_type": "code",
   "execution_count": 12,
   "id": "0b205a12-44d4-4ce0-a60d-5a30547d84c1",
   "metadata": {},
   "outputs": [],
   "source": [
    "def plot_variance(pca, width=8, dpi=100):\n",
    "    # Création de la figure\n",
    "    fig, axs = plt.subplots(1, 2)\n",
    "    n = pca.n_components_\n",
    "    grid = np.arange(1, n + 1)\n",
    "    # Variance expliquée\n",
    "    evr = pca.explained_variance_ratio_\n",
    "    axs[0].bar(grid, evr)\n",
    "    axs[0].set(\n",
    "        xlabel=\"Composante\", title=\"% de Variance Expliquée\", ylim=(0.0, 1.0)\n",
    "    )\n",
    "    # Variance Cumulative\n",
    "    cv = np.cumsum(evr)\n",
    "    axs[1].plot(np.r_[0, grid], np.r_[0, cv], \"o-\")\n",
    "    axs[1].set(\n",
    "        xlabel=\"Composante\", title=\"% de Variance Cumulative\", ylim=(0.0, 1.0)\n",
    "    )\n",
    "    # Configuration de la figure\n",
    "    fig.set(figwidth=8, dpi=100)\n",
    "    return axs\n"
   ]
  },
  {
   "cell_type": "markdown",
   "id": "453f500a-f0d7-4d01-885b-2d9ebb93e7a0",
   "metadata": {},
   "source": [
    "**Calcul des Scores d'Information Mutuelle**"
   ]
  },
  {
   "cell_type": "code",
   "execution_count": 15,
   "id": "ff5701cd-d0f9-414e-b1ab-b1c4ee309d8d",
   "metadata": {},
   "outputs": [],
   "source": [
    "def make_mi_scores(X, y):\n",
    "    X = X.copy()\n",
    "    for colname in X.select_dtypes([\"object\", \"category\"]):\n",
    "        X[colname], _ = X[colname].factorize()\n",
    "    # Toutes les variables discrètes doivent maintenant avoir un type entier\n",
    "    discrete_features = [pd.api.types.is_integer_dtype(t) for t in X.dtypes]\n",
    "    mi_scores = mutual_info_regression(X, y, discrete_features=discrete_features, random_state=0)\n",
    "    mi_scores = pd.Series(mi_scores, name=\"MI Scores\", index=X.columns)\n",
    "    mi_scores = mi_scores.sort_values(ascending=False)\n",
    "    return mi_scores\n"
   ]
  },
  {
   "cell_type": "markdown",
   "id": "c22cc861-72b2-4ad2-bf07-a75d9bae7424",
   "metadata": {},
   "source": [
    "**Évaluation du modèle**"
   ]
  },
  {
   "cell_type": "code",
   "execution_count": 18,
   "id": "c61629ef-5f1d-41e2-99d8-e9c60812c893",
   "metadata": {},
   "outputs": [],
   "source": [
    "def score_dataset(X, y, model=XGBRegressor()):\n",
    "    # Encodage des variables catégorielles\n",
    "    for colname in X.select_dtypes([\"category\", \"object\"]):\n",
    "        X[colname], _ = X[colname].factorize()\n",
    "    # La métrique utilisée pour cette compétition est le RMSLE (Root Mean Squared Log Error)\n",
    "    score = cross_val_score(\n",
    "        model, X, y, cv=5, scoring=\"neg_mean_squared_log_error\",\n",
    "    )\n",
    "    score = -1 * score.mean()\n",
    "    score = np.sqrt(score)\n",
    "    return score\n"
   ]
  },
  {
   "cell_type": "markdown",
   "id": "ddc026bc-2b78-44ce-9bdd-12f95d11c595",
   "metadata": {},
   "source": [
    "**Sélection des Variables**\n",
    "\n",
    "Nous choisissons quelques variables fortement corrélées avec notre cible SalePrice :"
   ]
  },
  {
   "cell_type": "code",
   "execution_count": 21,
   "id": "d06ea48a-6251-411d-894e-4e8355f4a974",
   "metadata": {},
   "outputs": [
    {
     "name": "stdout",
     "output_type": "stream",
     "text": [
      "Corrélation avec SalePrice:\n",
      "\n",
      "GarageArea      0.640138\n",
      "YearRemodAdd    0.532974\n",
      "TotalBsmtSF     0.632529\n",
      "GrLivArea       0.706780\n",
      "dtype: float64\n"
     ]
    }
   ],
   "source": [
    "df = pd.read_csv(\"ames.csv\")\n",
    "\n",
    "features = [\n",
    "    \"GarageArea\",\n",
    "    \"YearRemodAdd\",\n",
    "    \"TotalBsmtSF\",\n",
    "    \"GrLivArea\",\n",
    "]\n",
    "\n",
    "print(\"Corrélation avec SalePrice:\\n\")\n",
    "print(df[features].corrwith(df.SalePrice))\n"
   ]
  },
  {
   "cell_type": "markdown",
   "id": "dcf95978-87af-4ece-af7e-9984cbba89e0",
   "metadata": {},
   "source": [
    "Nous allons utiliser la ACP pour démêler la structure de corrélation de ces variables et identifier de nouvelles relations potentiellement utiles."
   ]
  },
  {
   "cell_type": "markdown",
   "id": "753c507f-e7ab-487c-a8a8-ba2dce398c7c",
   "metadata": {},
   "source": [
    "**Application de la PCA et extraction des charges factorielles**"
   ]
  },
  {
   "cell_type": "code",
   "execution_count": 25,
   "id": "3708cfdd-313c-4a5e-ac15-fcb9f120524b",
   "metadata": {},
   "outputs": [
    {
     "name": "stdout",
     "output_type": "stream",
     "text": [
      "                   PC1       PC2       PC3       PC4\n",
      "GarageArea    0.541229 -0.102375 -0.038470  0.833733\n",
      "YearRemodAdd  0.427077  0.886612 -0.049062 -0.170639\n",
      "TotalBsmtSF   0.510076 -0.360778 -0.666836 -0.406192\n",
      "GrLivArea     0.514294 -0.270700  0.742592 -0.332837\n"
     ]
    }
   ],
   "source": [
    "X = df.copy()\n",
    "y = X.pop(\"SalePrice\")\n",
    "X = X.loc[:, features]\n",
    "\n",
    "# `apply_pca` défini ci-dessus, reproduit le code du tutoriel\n",
    "pca, X_pca, loadings = apply_pca(X)\n",
    "print(loadings)"
   ]
  },
  {
   "cell_type": "markdown",
   "id": "e620410b-c975-4960-a88b-a2cc05996a56",
   "metadata": {},
   "source": [
    "Nous avons préparé les données, appliqué la ACP et extrait les charges factorielles pour mieux comprendre la structure des corrélations entre les caractéristiques du logement et le prix de vente (SalePrice)."
   ]
  },
  {
   "cell_type": "markdown",
   "id": "0c60b980-776d-44dc-8c49-c3371b4f3867",
   "metadata": {},
   "source": [
    "---\n",
    "\n",
    "### Question 1 : Regardez les charges factorielles des composantes **PC1** et **PC3**. Pouvez-vous décrire le type de contraste que chacune de ces composantes a capturé ? \n",
    "\n",
    "**Correction :**  \n",
    "\n",
    "- La **première composante (PC1)** semble être une sorte de **composante \"taille\"**, similaire à ce que nous avons vu dans le tutoriel. Toutes les caractéristiques ont le même signe (**positif**), ce qui indique que cette composante décrit un **contraste entre les maisons avec de grandes valeurs et celles avec de petites valeurs** pour ces caractéristiques.  \n",
    "\n",
    "- L'**interprétation de la troisième composante (PC3)** est un peu plus complexe. Les variables **GarageArea** et **YearRemodAdd** ont des charges factorielles proches de zéro, nous pouvons donc les ignorer. Cette composante concerne principalement **TotalBsmtSF** et **GrLivArea**. Elle décrit un **contraste entre les maisons avec une grande surface habitable mais un sous-sol petit (ou inexistant)** et, à l'opposé, les **maisons plus petites avec un sous-sol plus grand**.  \n"
   ]
  },
  {
   "cell_type": "markdown",
   "id": "3eb6f77a-8637-4846-84a4-4220e5614e36",
   "metadata": {},
   "source": [
    "---\n",
    "\n",
    "### Question 2 : Création de Nouvelles Caractéristiques\n",
    "Ajoutez une ou plusieurs nouvelles caractéristiques au dataset X.\n",
    "\n",
    "Pour une solution correcte, obtenez un score de validation inférieur à 0.140 RMSLE."
   ]
  },
  {
   "cell_type": "code",
   "execution_count": 35,
   "id": "77e5a427-6360-47e0-a925-e1b73cbfb4ef",
   "metadata": {},
   "outputs": [
    {
     "name": "stdout",
     "output_type": "stream",
     "text": [
      "Votre score : 0.13792 RMSLE\n"
     ]
    }
   ],
   "source": [
    "X = df.copy()\n",
    "y = X.pop(\"SalePrice\")\n",
    "\n",
    "# Ajoutez de nouvelles caractéristiques à X.\n",
    "X[\"Feature1\"] = X.GrLivArea + X.TotalBsmtSF\n",
    "X[\"Feature2\"] = X.YearRemodAdd * X.TotalBsmtSF\n",
    "\n",
    "score = score_dataset(X, y)\n",
    "print(f\"Votre score : {score:.5f} RMSLE\")"
   ]
  },
  {
   "cell_type": "markdown",
   "id": "a8cabf40-c0c8-45c4-ac2c-0c128b81222c",
   "metadata": {},
   "source": [
    "Here are two possible solutions, though you might have been able to find others.\n",
    "\n",
    "```\n",
    "# Solution 1: Inspired by loadings\n",
    "X = df.copy()\n",
    "y = X.pop(\"SalePrice\")\n",
    "\n",
    "X[\"Feature1\"] = X.GrLivArea + X.TotalBsmtSF\n",
    "X[\"Feature2\"] = X.YearRemodAdd * X.TotalBsmtSF\n",
    "\n",
    "score = score_dataset(X, y)\n",
    "print(f\"Your score: {score:.5f} RMSLE\")\n",
    "\n",
    "\n",
    "# Solution 2: Uses components\n",
    "X = df.copy()\n",
    "y = X.pop(\"SalePrice\")\n",
    "\n",
    "X = X.join(X_pca)\n",
    "score = score_dataset(X, y)\n",
    "print(f\"Your score: {score:.5f} RMSLE\")\n",
    "```"
   ]
  },
  {
   "cell_type": "markdown",
   "id": "86797250-b1aa-4a9c-b9f9-09a9addd8948",
   "metadata": {},
   "source": [
    "---\n",
    "\n",
    "La prochaine question explore une méthode permettant d'utiliser l'ACP (Analyse en Composantes Principales) pour détecter **les valeurs aberrantes** dans le jeu de données (c'est-à-dire les points de données qui sont inhabituellement extrêmes d'une certaine manière). Les valeurs aberrantes peuvent nuire aux performances du modèle, il est donc important de les identifier pour éventuellement prendre des mesures correctives.\n",
    "\n",
    "L'ACP, en particulier, peut révéler des variations anormales qui ne sont pas forcément visibles dans les caractéristiques d'origine : ni les petites maisons ni les maisons avec de grands sous-sols ne sont inhabituelles, mais *une petite maison avec un grand sous-sol l'est*. **C'est ce type de relation qu'une composante principale peut mettre en évidence**.\n",
    "\n",
    "Exécutez la cellule suivante pour afficher les **diagrammes de distribution** de chaque composante principale que vous avez créées ci-dessus."
   ]
  },
  {
   "cell_type": "code",
   "execution_count": 40,
   "id": "2c5452d3-b46d-4c22-a7c2-13318e822aa2",
   "metadata": {},
   "outputs": [
    {
     "data": {
      "image/png": "[encoded data removed]",
      "text/plain": [
       "<Figure size 1011.11x1000 with 4 Axes>"
      ]
     },
     "metadata": {},
     "output_type": "display_data"
    }
   ],
   "source": [
    "sns.catplot(\n",
    "    y=\"value\",\n",
    "    col=\"variable\",\n",
    "    data=X_pca.melt(),\n",
    "    kind='boxen',\n",
    "    sharey=False,\n",
    "    col_wrap=2,\n",
    ");\n"
   ]
  },
  {
   "cell_type": "markdown",
   "id": "27845a28-a38d-4736-b811-b693decfdcbc",
   "metadata": {},
   "source": [
    "Comme vous pouvez le voir, dans chacune des composantes, plusieurs points se situent aux extrémités des distributions — ce sont des valeurs aberrantes.\n",
    "\n",
    "Maintenant, exécutez la cellule suivante pour voir les maisons situées aux extrêmes d'une composante :"
   ]
  },
  {
   "cell_type": "code",
   "execution_count": 43,
   "id": "48a14b88-2ffd-441e-b395-083f96c198a0",
   "metadata": {},
   "outputs": [
    {
     "data": {
      "text/html": [
       "<div>\n",
       "<style scoped>\n",
       "    .dataframe tbody tr th:only-of-type {\n",
       "        vertical-align: middle;\n",
       "    }\n",
       "\n",
       "    .dataframe tbody tr th {\n",
       "        vertical-align: top;\n",
       "    }\n",
       "\n",
       "    .dataframe thead th {\n",
       "        text-align: right;\n",
       "    }\n",
       "</style>\n",
       "<table border=\"1\" class=\"dataframe\">\n",
       "  <thead>\n",
       "    <tr style=\"text-align: right;\">\n",
       "      <th></th>\n",
       "      <th>SalePrice</th>\n",
       "      <th>Neighborhood</th>\n",
       "      <th>SaleCondition</th>\n",
       "      <th>GarageArea</th>\n",
       "      <th>YearRemodAdd</th>\n",
       "      <th>TotalBsmtSF</th>\n",
       "      <th>GrLivArea</th>\n",
       "    </tr>\n",
       "  </thead>\n",
       "  <tbody>\n",
       "    <tr>\n",
       "      <th>1498</th>\n",
       "      <td>160000</td>\n",
       "      <td>Edwards</td>\n",
       "      <td>Partial</td>\n",
       "      <td>1418.0</td>\n",
       "      <td>2008</td>\n",
       "      <td>6110.0</td>\n",
       "      <td>5642.0</td>\n",
       "    </tr>\n",
       "    <tr>\n",
       "      <th>2180</th>\n",
       "      <td>183850</td>\n",
       "      <td>Edwards</td>\n",
       "      <td>Partial</td>\n",
       "      <td>1154.0</td>\n",
       "      <td>2009</td>\n",
       "      <td>5095.0</td>\n",
       "      <td>5095.0</td>\n",
       "    </tr>\n",
       "    <tr>\n",
       "      <th>2181</th>\n",
       "      <td>184750</td>\n",
       "      <td>Edwards</td>\n",
       "      <td>Partial</td>\n",
       "      <td>884.0</td>\n",
       "      <td>2008</td>\n",
       "      <td>3138.0</td>\n",
       "      <td>4676.0</td>\n",
       "    </tr>\n",
       "    <tr>\n",
       "      <th>1760</th>\n",
       "      <td>745000</td>\n",
       "      <td>Northridge</td>\n",
       "      <td>Abnorml</td>\n",
       "      <td>813.0</td>\n",
       "      <td>1996</td>\n",
       "      <td>2396.0</td>\n",
       "      <td>4476.0</td>\n",
       "    </tr>\n",
       "    <tr>\n",
       "      <th>1767</th>\n",
       "      <td>755000</td>\n",
       "      <td>Northridge</td>\n",
       "      <td>Normal</td>\n",
       "      <td>832.0</td>\n",
       "      <td>1995</td>\n",
       "      <td>2444.0</td>\n",
       "      <td>4316.0</td>\n",
       "    </tr>\n",
       "    <tr>\n",
       "      <th>...</th>\n",
       "      <td>...</td>\n",
       "      <td>...</td>\n",
       "      <td>...</td>\n",
       "      <td>...</td>\n",
       "      <td>...</td>\n",
       "      <td>...</td>\n",
       "      <td>...</td>\n",
       "    </tr>\n",
       "    <tr>\n",
       "      <th>662</th>\n",
       "      <td>59000</td>\n",
       "      <td>Old_Town</td>\n",
       "      <td>Normal</td>\n",
       "      <td>0.0</td>\n",
       "      <td>1950</td>\n",
       "      <td>416.0</td>\n",
       "      <td>599.0</td>\n",
       "    </tr>\n",
       "    <tr>\n",
       "      <th>2679</th>\n",
       "      <td>80500</td>\n",
       "      <td>Brookside</td>\n",
       "      <td>Normal</td>\n",
       "      <td>0.0</td>\n",
       "      <td>1950</td>\n",
       "      <td>0.0</td>\n",
       "      <td>912.0</td>\n",
       "    </tr>\n",
       "    <tr>\n",
       "      <th>2879</th>\n",
       "      <td>51689</td>\n",
       "      <td>Iowa_DOT_and_Rail_Road</td>\n",
       "      <td>Abnorml</td>\n",
       "      <td>0.0</td>\n",
       "      <td>1950</td>\n",
       "      <td>0.0</td>\n",
       "      <td>729.0</td>\n",
       "    </tr>\n",
       "    <tr>\n",
       "      <th>780</th>\n",
       "      <td>63900</td>\n",
       "      <td>Sawyer</td>\n",
       "      <td>Normal</td>\n",
       "      <td>0.0</td>\n",
       "      <td>1950</td>\n",
       "      <td>0.0</td>\n",
       "      <td>660.0</td>\n",
       "    </tr>\n",
       "    <tr>\n",
       "      <th>1901</th>\n",
       "      <td>39300</td>\n",
       "      <td>Brookside</td>\n",
       "      <td>Normal</td>\n",
       "      <td>0.0</td>\n",
       "      <td>1950</td>\n",
       "      <td>0.0</td>\n",
       "      <td>334.0</td>\n",
       "    </tr>\n",
       "  </tbody>\n",
       "</table>\n",
       "<p>2930 rows × 7 columns</p>\n",
       "</div>"
      ],
      "text/plain": [
       "      SalePrice            Neighborhood SaleCondition  GarageArea  \\\n",
       "1498     160000                 Edwards       Partial      1418.0   \n",
       "2180     183850                 Edwards       Partial      1154.0   \n",
       "2181     184750                 Edwards       Partial       884.0   \n",
       "1760     745000              Northridge       Abnorml       813.0   \n",
       "1767     755000              Northridge        Normal       832.0   \n",
       "...         ...                     ...           ...         ...   \n",
       "662       59000                Old_Town        Normal         0.0   \n",
       "2679      80500               Brookside        Normal         0.0   \n",
       "2879      51689  Iowa_DOT_and_Rail_Road       Abnorml         0.0   \n",
       "780       63900                  Sawyer        Normal         0.0   \n",
       "1901      39300               Brookside        Normal         0.0   \n",
       "\n",
       "      YearRemodAdd  TotalBsmtSF  GrLivArea  \n",
       "1498          2008       6110.0     5642.0  \n",
       "2180          2009       5095.0     5095.0  \n",
       "2181          2008       3138.0     4676.0  \n",
       "1760          1996       2396.0     4476.0  \n",
       "1767          1995       2444.0     4316.0  \n",
       "...            ...          ...        ...  \n",
       "662           1950        416.0      599.0  \n",
       "2679          1950          0.0      912.0  \n",
       "2879          1950          0.0      729.0  \n",
       "780           1950          0.0      660.0  \n",
       "1901          1950          0.0      334.0  \n",
       "\n",
       "[2930 rows x 7 columns]"
      ]
     },
     "execution_count": 43,
     "metadata": {},
     "output_type": "execute_result"
    }
   ],
   "source": [
    "# Vous pouvez remplacer PC1 par PC2, PC3 ou PC4\n",
    "component = \"PC1\"\n",
    "\n",
    "idx = X_pca[component].sort_values(ascending=False).index\n",
    "df.loc[idx, [\"SalePrice\", \"Neighborhood\", \"SaleCondition\"] + features]\n"
   ]
  },
  {
   "cell_type": "markdown",
   "id": "b470bc4d-46c1-4b23-90d9-96ade3cbc84d",
   "metadata": {},
   "source": [
    "---\n",
    "\n",
    "### Question 3 : Détection des valeurs aberrantes  \n",
    "\n",
    "Remarquez-vous des tendances parmi les valeurs extrêmes ? Pensez-vous que ces valeurs aberrantes proviennent d'un sous-ensemble particulier du jeu de données ?  \n",
    "\n",
    "**Correction :**  \n",
    "\n",
    "On remarque que plusieurs habitations répertoriées comme **ventes partielles** dans le quartier **Edwards** se démarquent.  \n",
    "\n",
    "Une **vente partielle** se produit lorsque plusieurs propriétaires possèdent un bien immobilier et que l’un ou plusieurs d’entre eux vendent leur part de propriété.  \n",
    "\n",
    "Ces types de transactions ont souvent lieu lors du règlement d'une succession familiale ou de la dissolution d'une entreprise et ne sont généralement pas annoncés publiquement.  \n",
    "\n",
    "*Si vous essayiez de prédire la valeur d’une maison sur le marché libre, il serait justifié de retirer ces ventes de votre jeu de données — ce sont de véritables valeurs aberrantes.*"
   ]
  },
  {
   "cell_type": "code",
   "execution_count": null,
   "id": "d8bf60a8-e03e-4530-819b-a048138e9bfa",
   "metadata": {},
   "outputs": [],
   "source": []
  }
 ],
 "metadata": {
  "kernelspec": {
   "display_name": "Python [conda env:base] *",
   "language": "python",
   "name": "conda-base-py"
  },
  "language_info": {
   "codemirror_mode": {
    "name": "ipython",
    "version": 3
   },
   "file_extension": ".py",
   "mimetype": "text/x-python",
   "name": "python",
   "nbconvert_exporter": "python",
   "pygments_lexer": "ipython3",
   "version": "3.12.7"
  }
 },
 "nbformat": 4,
 "nbformat_minor": 5
}
