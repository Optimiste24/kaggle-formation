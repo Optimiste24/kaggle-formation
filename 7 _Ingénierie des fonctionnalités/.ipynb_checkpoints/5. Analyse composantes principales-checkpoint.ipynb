{
 "cells": [
  {
   "cell_type": "markdown",
   "id": "71e62619-a9c3-443d-b361-7a9344c608bb",
   "metadata": {},
   "source": [
    "# Analyse en composantes principales  \n",
    "Découvrez de nouvelles fonctionnalités en analysant les variations.  \n",
    "\n",
    "### Introduction\n",
    "Dans la leçon précédente, nous avons exploré notre première méthode basée sur un modèle pour l'ingénierie des fonctionnalités : **le regroupement (clustering)**. Dans cette leçon, nous nous intéressons à la suivante : **l'analyse en composantes principales (ACP ou PCA)**. Tout comme le clustering consiste à diviser le jeu de données en fonction de la proximité, vous pouvez considérer la PCA comme une partition de la variation des données. La PCA est un excellent outil pour vous aider à découvrir des relations importantes dans les données et peut également être utilisée pour créer des fonctionnalités plus informatives.  \n",
    "\n",
    "*(Note technique : la PCA est généralement appliquée à des données standardisées. Avec des données standardisées, la \"variation\" signifie \"corrélation\". Avec des données non standardisées, la \"variation\" signifie \"covariance\". Toutes les données de ce cours seront standardisées avant l'application de la PCA.)*\n",
    "\n",
    "---\n",
    "\n",
    "### Analyse en composantes principales  \n",
    "Dans le jeu de données \"Abalone\", nous trouvons des mesures physiques recueillies sur plusieurs milliers d'ormaux de Tasmanie. *(Un ormeau est une créature marine semblable à une palourde ou une huître.)* Pour l’instant, nous examinerons uniquement quelques caractéristiques : la **\"Hauteur\"** et le **\"Diamètre\"** de leurs coquilles.  \n",
    "\n",
    "Vous pourriez imaginer que dans ces données, il existe des **\"axes de variation\"** qui décrivent les façons dont les ormeaux diffèrent généralement les uns des autres. Visuellement, ces axes apparaissent comme des lignes perpendiculaires qui longent les dimensions naturelles des données, un axe pour chaque caractéristique originale.  \n",
    "\n",
    "Souvent, nous pouvons donner des noms à ces axes de variation. L'axe le plus long pourrait être appelé **\"Taille\"** : faible hauteur et faible diamètre (en bas à gauche) opposés à grande hauteur et grand diamètre (en haut à droite). L'axe le plus court pourrait être appelé **\"Forme\"** : faible hauteur et grand diamètre (forme plate) opposés à grande hauteur et faible diamètre (forme ronde).  \n",
    "\n",
    "Remarquez qu'au lieu de décrire les ormeaux par leur **Hauteur** et leur **Diamètre**, nous pourrions tout aussi bien les décrire par leur **Taille** et leur **Forme**. En fait, c’est toute l’idée de la PCA : au lieu de décrire les données avec les caractéristiques originales, nous les décrivons avec leurs axes de variation. Ces axes de variation deviennent les **nouvelles caractéristiques**.  \n",
    "\n",
    "Les composantes principales deviennent les nouvelles caractéristiques en effectuant une rotation des données dans l'espace des caractéristiques. Les nouvelles caractéristiques construites par la PCA sont en réalité des combinaisons linéaires *(sommes pondérées)* des caractéristiques originales :  "
   ]
  },
  {
   "cell_type": "markdown",
   "id": "4c35592d-1379-4262-9fdc-20e586224a7c",
   "metadata": {},
   "source": [
    "```python\n",
    "df[\"Taille\"] = 0.707 * X[\"Hauteur\"] + 0.707 * X[\"Diamètre\"]\n",
    "df[\"Forme\"] = 0.707 * X[\"Hauteur\"] - 0.707 * X[\"Diamètre\"]\n",
    "```"
   ]
  },
  {
   "cell_type": "markdown",
   "id": "2d7962f9-f05d-49c6-8c59-710b68f66b06",
   "metadata": {},
   "source": [
    "Ces nouvelles caractéristiques sont appelées les **composantes principales** des données. Les poids eux-mêmes sont appelés **coefficients de charge**. Le nombre de composantes principales est égal au nombre de caractéristiques du jeu de données original : si nous avions utilisé dix caractéristiques au lieu de deux, nous aurions obtenu dix composantes.  \n",
    "\n",
    "Les coefficients de charge d’une composante indiquent quelle variation elle exprime à travers les signes et les magnitudes :\n",
    "\n",
    "| Caractéristiques \\ Composantes | Taille (PC1) | Forme (PC2) |\n",
    "|--------------------------------|--------------|-------------|\n",
    "| Hauteur                        | 0.707        | 0.707       |\n",
    "| Diamètre                       | 0.707        | -0.707      |\n",
    "\n",
    "Cette table de coefficients indique que dans la composante **Taille**, la Hauteur et le Diamètre varient dans la même direction *(même signe)*, mais dans la composante **Forme**, ils varient dans des directions opposées *(signe opposé)*. Dans chaque composante, les coefficients ont tous la même magnitude, donc les caractéristiques contribuent également aux deux.  \n",
    "\n",
    "La PCA nous informe également de la quantité de variation dans chaque composante. Nous pouvons voir que les données varient davantage le long de la composante **Taille** que le long de la composante **Forme**. La PCA quantifie cela grâce au **pourcentage de variance expliquée** par chaque composante.  \n",
    "\n",
    "---\n",
    "\n",
    "#### Application pratique et bonnes pratiques  \n",
    "L’ACP peut être utilisée pour réduire la dimensionnalité, détecter des anomalies, réduire le bruit ou encore décorréler des variables fortement corrélées.  \n",
    "\n",
    "Exemple avec les données automobiles :  \n",
    "En standardisant des variables comme la consommation, la taille du moteur ou le poids, on peut détecter des axes principaux (comme le contraste entre les voitures luxueuses et économiques) et créer des nouvelles métriques prédictives pour le prix.\n"
   ]
  },
  {
   "cell_type": "markdown",
   "id": "a0479e42-11d7-4b88-a9ab-1433e142cae5",
   "metadata": {},
   "source": [
    "---\n",
    "\n",
    "### PCA pour l’ingénierie des caractéristiques\n",
    "\n",
    "Il existe deux façons d’utiliser l’Analyse en Composantes Principales (ACP ou PCA) pour l’ingénierie des caractéristiques.\n",
    "\n",
    "#### 1. **Utilisation comme technique descriptive**  \n",
    "Les composantes principales décrivent les variations dans les données. Vous pourriez calculer les scores d’information mutuelle (**MI scores**) pour les composantes et identifier quel type de variation est le plus prédictif de votre cible. Cela peut vous donner des idées pour créer de nouvelles caractéristiques :  \n",
    "\n",
    "- Par exemple, si la variation liée à la **taille** est importante, vous pourriez créer un **produit** entre \"Hauteur\" et \"Diamètre\".  \n",
    "- Si la **forme** est importante, vous pourriez créer un **rapport** entre \"Hauteur\" et \"Diamètre\".  \n",
    "- Vous pourriez également appliquer un **clustering** sur une ou plusieurs composantes principales ayant des scores élevés.\n",
    "\n",
    "#### 2. **Utilisation directe des composantes comme caractéristiques**  \n",
    "Comme les composantes principales exposent directement la structure de variation des données, elles peuvent souvent être plus informatives que les caractéristiques d’origine. Voici quelques cas d’utilisation :\n",
    "\n",
    "- **Réduction de dimensionnalité** : Lorsque vos caractéristiques sont fortement redondantes (**multicolinéaires**, en particulier), l’ACP regroupe cette redondance dans une ou plusieurs composantes avec une variance proche de zéro. Vous pouvez alors supprimer ces composantes puisqu’elles contiennent peu ou pas d’information utile.  \n",
    "\n",
    "- **Détection d’anomalies** : Les variations inhabituelles, qui ne sont pas apparentes dans les caractéristiques d’origine, apparaîtront souvent dans les composantes de faible variance. Ces composantes peuvent être très utiles pour détecter des anomalies ou des valeurs aberrantes.  \n",
    "\n",
    "- **Réduction du bruit** : Une série de relevés de capteurs peut souvent contenir un bruit de fond commun. L’ACP peut regrouper le signal informatif dans un nombre réduit de caractéristiques, tout en laissant le bruit à part, augmentant ainsi le rapport signal/bruit.  \n",
    "\n",
    "- **Décorrélation** : Certains algorithmes de machine learning rencontrent des difficultés avec des caractéristiques très corrélées. L’ACP transforme les caractéristiques corrélées en composantes non corrélées, ce qui peut faciliter le travail de votre algorithme.  \n",
    "\n",
    "En résumé, l’ACP vous donne un accès direct à la structure de corrélation de vos données. Vous trouverez certainement vos propres applications à cet outil !\n",
    "\n",
    "---\n",
    "\n",
    "### **Bonnes pratiques avec l’ACP**\n",
    "\n",
    "Voici quelques éléments à garder à l’esprit lorsque vous appliquez l’ACP :\n",
    "\n",
    "1. **L’ACP ne fonctionne qu’avec des caractéristiques numériques**, comme des quantités continues ou des comptes.  \n",
    "2. **L’ACP est sensible à l’échelle des données.** Il est recommandé de standardiser vos données avant d’appliquer l’ACP, sauf si vous avez une bonne raison de ne pas le faire.  \n",
    "3. **Prenez en compte les valeurs aberrantes.** Elles peuvent avoir une influence excessive sur les résultats. Envisagez de les supprimer ou de limiter leur impact."
   ]
  },
  {
   "cell_type": "markdown",
   "id": "751b4161-0f75-4476-bd5b-43c9347001fd",
   "metadata": {},
   "source": [
    "---\n",
    "\n",
    "# Exemple - Automobiles de 1985\n",
    "Dans cet exemple, nous allons revenir à notre dataset sur les automobiles et appliquer l'ACP en tant que **technique descriptive** pour découvrir des caractéristiques. Nous examinerons d'autres cas d'utilisation dans l'exercice.\n",
    "\n",
    "### Chargement des données et définition des fonctions\n",
    "Le script suivant charge les données et définit deux fonctions : **plot_variance** (pour visualiser la variance expliquée par les composantes principales) et **make_mi_scores** (pour calculer les scores d'information mutuelle)."
   ]
  },
  {
   "cell_type": "code",
   "execution_count": 7,
   "id": "18ed173c-340d-4ac3-be57-fb2096a93a49",
   "metadata": {},
   "outputs": [],
   "source": [
    "import matplotlib.pyplot as plt\n",
    "import numpy as np\n",
    "import pandas as pd\n",
    "import seaborn as sns\n",
    "from IPython.display import display\n",
    "from sklearn.feature_selection import mutual_info_regression\n",
    "\n",
    "plt.style.use(\"seaborn-v0_8-whitegrid\")\n",
    "plt.rc(\"figure\", autolayout=True)\n",
    "plt.rc(\n",
    "    \"axes\",\n",
    "    labelweight=\"bold\",\n",
    "    labelsize=\"large\",\n",
    "    titleweight=\"bold\",\n",
    "    titlesize=14,\n",
    "    titlepad=10,\n",
    ")\n",
    "\n",
    "def plot_variance(pca, width=8, dpi=100):\n",
    "    # Création de la figure\n",
    "    fig, axs = plt.subplots(1, 2)\n",
    "    n = pca.n_components_\n",
    "    grid = np.arange(1, n + 1)\n",
    "    # Variance expliquée\n",
    "    evr = pca.explained_variance_ratio_\n",
    "    axs[0].bar(grid, evr)\n",
    "    axs[0].set(\n",
    "        xlabel=\"Composante\", title=\"% Variance expliquée\", ylim=(0.0, 1.0)\n",
    "    )\n",
    "    # Variance cumulée\n",
    "    cv = np.cumsum(evr)\n",
    "    axs[1].plot(np.r_[0, grid], np.r_[0, cv], \"o-\")\n",
    "    axs[1].set(\n",
    "        xlabel=\"Composante\", title=\"% Variance cumulée\", ylim=(0.0, 1.0)\n",
    "    )\n",
    "    # Configuration de la figure\n",
    "    fig.set(figwidth=8, dpi=100)\n",
    "    return axs\n",
    "\n",
    "def make_mi_scores(X, y, discrete_features):\n",
    "    mi_scores = mutual_info_regression(X, y, discrete_features=discrete_features)\n",
    "    mi_scores = pd.Series(mi_scores, name=\"Scores MI\", index=X.columns)\n",
    "    mi_scores = mi_scores.sort_values(ascending=False)\n",
    "    return mi_scores\n"
   ]
  },
  {
   "cell_type": "markdown",
   "id": "5b1225de-2061-46ec-9bc7-712ec16d9cde",
   "metadata": {},
   "source": [
    "### Préparation des données\n",
    "Le dataset des automobiles de 1985 est chargé et quatre caractéristiques représentatives sont sélectionnées : elles couvrent différentes propriétés et ont des scores d'information mutuelle élevés avec la cible, le prix. Les données sont standardisées, car les caractéristiques ont des échelles différentes.\n"
   ]
  },
  {
   "cell_type": "code",
   "execution_count": 13,
   "id": "8689a63a-aad4-4b8d-8ac6-c62b8acf8b3f",
   "metadata": {},
   "outputs": [
    {
     "data": {
      "text/html": [
       "<div>\n",
       "<style scoped>\n",
       "    .dataframe tbody tr th:only-of-type {\n",
       "        vertical-align: middle;\n",
       "    }\n",
       "\n",
       "    .dataframe tbody tr th {\n",
       "        vertical-align: top;\n",
       "    }\n",
       "\n",
       "    .dataframe thead th {\n",
       "        text-align: right;\n",
       "    }\n",
       "</style>\n",
       "<table border=\"1\" class=\"dataframe\">\n",
       "  <thead>\n",
       "    <tr style=\"text-align: right;\">\n",
       "      <th></th>\n",
       "      <th>highway_mpg</th>\n",
       "      <th>engine_size</th>\n",
       "      <th>horsepower</th>\n",
       "      <th>curb_weight</th>\n",
       "    </tr>\n",
       "  </thead>\n",
       "  <tbody>\n",
       "    <tr>\n",
       "      <th>0</th>\n",
       "      <td>-0.555613</td>\n",
       "      <td>0.045098</td>\n",
       "      <td>0.198054</td>\n",
       "      <td>-0.025646</td>\n",
       "    </tr>\n",
       "    <tr>\n",
       "      <th>1</th>\n",
       "      <td>-0.555613</td>\n",
       "      <td>0.045098</td>\n",
       "      <td>0.198054</td>\n",
       "      <td>-0.025646</td>\n",
       "    </tr>\n",
       "    <tr>\n",
       "      <th>2</th>\n",
       "      <td>-0.702307</td>\n",
       "      <td>0.574066</td>\n",
       "      <td>1.330822</td>\n",
       "      <td>0.496473</td>\n",
       "    </tr>\n",
       "    <tr>\n",
       "      <th>3</th>\n",
       "      <td>-0.115531</td>\n",
       "      <td>-0.459826</td>\n",
       "      <td>-0.039037</td>\n",
       "      <td>-0.426254</td>\n",
       "    </tr>\n",
       "    <tr>\n",
       "      <th>4</th>\n",
       "      <td>-1.289083</td>\n",
       "      <td>0.189362</td>\n",
       "      <td>0.303427</td>\n",
       "      <td>0.498371</td>\n",
       "    </tr>\n",
       "  </tbody>\n",
       "</table>\n",
       "</div>"
      ],
      "text/plain": [
       "   highway_mpg  engine_size  horsepower  curb_weight\n",
       "0    -0.555613     0.045098    0.198054    -0.025646\n",
       "1    -0.555613     0.045098    0.198054    -0.025646\n",
       "2    -0.702307     0.574066    1.330822     0.496473\n",
       "3    -0.115531    -0.459826   -0.039037    -0.426254\n",
       "4    -1.289083     0.189362    0.303427     0.498371"
      ]
     },
     "execution_count": 13,
     "metadata": {},
     "output_type": "execute_result"
    }
   ],
   "source": [
    "df = pd.read_csv(\"autos.csv\")\n",
    "\n",
    "features = [\"highway_mpg\", \"engine_size\", \"horsepower\", \"curb_weight\"]\n",
    "\n",
    "X = df.copy()\n",
    "y = X.pop('price')\n",
    "X = X.loc[:, features]\n",
    "\n",
    "# Standardisation\n",
    "X_scaled = (X - X.mean(axis=0)) / X.std(axis=0)\n",
    "X_scaled.head()"
   ]
  },
  {
   "cell_type": "markdown",
   "id": "7876d853-b51c-4a0b-b01f-82b20f9eea29",
   "metadata": {},
   "source": [
    "---\n",
    "\n",
    "### Application de l'ACP\n",
    "Nous ajustons l'estimateur PCA de *scikit-learn* pour créer les composantes principales. Voici les premières lignes du dataset transformé :"
   ]
  },
  {
   "cell_type": "code",
   "execution_count": 17,
   "id": "7ded15ea-40ee-493b-bce5-12378c92c7cf",
   "metadata": {},
   "outputs": [
    {
     "data": {
      "text/html": [
       "<div>\n",
       "<style scoped>\n",
       "    .dataframe tbody tr th:only-of-type {\n",
       "        vertical-align: middle;\n",
       "    }\n",
       "\n",
       "    .dataframe tbody tr th {\n",
       "        vertical-align: top;\n",
       "    }\n",
       "\n",
       "    .dataframe thead th {\n",
       "        text-align: right;\n",
       "    }\n",
       "</style>\n",
       "<table border=\"1\" class=\"dataframe\">\n",
       "  <thead>\n",
       "    <tr style=\"text-align: right;\">\n",
       "      <th></th>\n",
       "      <th>PC1</th>\n",
       "      <th>PC2</th>\n",
       "      <th>PC3</th>\n",
       "      <th>PC4</th>\n",
       "    </tr>\n",
       "  </thead>\n",
       "  <tbody>\n",
       "    <tr>\n",
       "      <th>0</th>\n",
       "      <td>0.382486</td>\n",
       "      <td>-0.400222</td>\n",
       "      <td>0.124122</td>\n",
       "      <td>0.169539</td>\n",
       "    </tr>\n",
       "    <tr>\n",
       "      <th>1</th>\n",
       "      <td>0.382486</td>\n",
       "      <td>-0.400222</td>\n",
       "      <td>0.124122</td>\n",
       "      <td>0.169539</td>\n",
       "    </tr>\n",
       "    <tr>\n",
       "      <th>2</th>\n",
       "      <td>1.550890</td>\n",
       "      <td>-0.107175</td>\n",
       "      <td>0.598361</td>\n",
       "      <td>-0.256081</td>\n",
       "    </tr>\n",
       "    <tr>\n",
       "      <th>3</th>\n",
       "      <td>-0.408859</td>\n",
       "      <td>-0.425947</td>\n",
       "      <td>0.243335</td>\n",
       "      <td>0.013920</td>\n",
       "    </tr>\n",
       "    <tr>\n",
       "      <th>4</th>\n",
       "      <td>1.132749</td>\n",
       "      <td>-0.814565</td>\n",
       "      <td>-0.202885</td>\n",
       "      <td>0.224138</td>\n",
       "    </tr>\n",
       "  </tbody>\n",
       "</table>\n",
       "</div>"
      ],
      "text/plain": [
       "        PC1       PC2       PC3       PC4\n",
       "0  0.382486 -0.400222  0.124122  0.169539\n",
       "1  0.382486 -0.400222  0.124122  0.169539\n",
       "2  1.550890 -0.107175  0.598361 -0.256081\n",
       "3 -0.408859 -0.425947  0.243335  0.013920\n",
       "4  1.132749 -0.814565 -0.202885  0.224138"
      ]
     },
     "execution_count": 17,
     "metadata": {},
     "output_type": "execute_result"
    }
   ],
   "source": [
    "from sklearn.decomposition import PCA\n",
    "\n",
    "# Création des composantes principales\n",
    "pca = PCA()\n",
    "X_pca = pca.fit_transform(X_scaled)\n",
    "\n",
    "# Conversion en DataFrame\n",
    "component_names = [f\"PC{i+1}\" for i in range(X_pca.shape[1])]\n",
    "X_pca = pd.DataFrame(X_pca, columns=component_names)\n",
    "\n",
    "X_pca.head()"
   ]
  },
  {
   "cell_type": "markdown",
   "id": "25319807-2d12-4b7e-b884-1fc5f4271c3f",
   "metadata": {},
   "source": [
    "---\n",
    "\n",
    "### Les \"loadings\" de l'ACP\n",
    "Après ajustement, l'instance PCA contient les \"loadings\" (chargements) dans son attribut components_. Nous convertissons ces valeurs en DataFrame pour les rendre plus lisibles. Les colonnes représentent les composantes principales (PC), tandis que les lignes représentent les caractéristiques originales."
   ]
  },
  {
   "cell_type": "code",
   "execution_count": 20,
   "id": "74b65f33-d073-4f27-a5cc-caa80c02575a",
   "metadata": {},
   "outputs": [
    {
     "data": {
      "text/html": [
       "<div>\n",
       "<style scoped>\n",
       "    .dataframe tbody tr th:only-of-type {\n",
       "        vertical-align: middle;\n",
       "    }\n",
       "\n",
       "    .dataframe tbody tr th {\n",
       "        vertical-align: top;\n",
       "    }\n",
       "\n",
       "    .dataframe thead th {\n",
       "        text-align: right;\n",
       "    }\n",
       "</style>\n",
       "<table border=\"1\" class=\"dataframe\">\n",
       "  <thead>\n",
       "    <tr style=\"text-align: right;\">\n",
       "      <th></th>\n",
       "      <th>PC1</th>\n",
       "      <th>PC2</th>\n",
       "      <th>PC3</th>\n",
       "      <th>PC4</th>\n",
       "    </tr>\n",
       "  </thead>\n",
       "  <tbody>\n",
       "    <tr>\n",
       "      <th>highway_mpg</th>\n",
       "      <td>-0.492347</td>\n",
       "      <td>0.770892</td>\n",
       "      <td>0.070142</td>\n",
       "      <td>-0.397996</td>\n",
       "    </tr>\n",
       "    <tr>\n",
       "      <th>engine_size</th>\n",
       "      <td>0.503859</td>\n",
       "      <td>0.626709</td>\n",
       "      <td>0.019960</td>\n",
       "      <td>0.594107</td>\n",
       "    </tr>\n",
       "    <tr>\n",
       "      <th>horsepower</th>\n",
       "      <td>0.500448</td>\n",
       "      <td>0.013788</td>\n",
       "      <td>0.731093</td>\n",
       "      <td>-0.463534</td>\n",
       "    </tr>\n",
       "    <tr>\n",
       "      <th>curb_weight</th>\n",
       "      <td>0.503262</td>\n",
       "      <td>0.113008</td>\n",
       "      <td>-0.678369</td>\n",
       "      <td>-0.523232</td>\n",
       "    </tr>\n",
       "  </tbody>\n",
       "</table>\n",
       "</div>"
      ],
      "text/plain": [
       "                  PC1       PC2       PC3       PC4\n",
       "highway_mpg -0.492347  0.770892  0.070142 -0.397996\n",
       "engine_size  0.503859  0.626709  0.019960  0.594107\n",
       "horsepower   0.500448  0.013788  0.731093 -0.463534\n",
       "curb_weight  0.503262  0.113008 -0.678369 -0.523232"
      ]
     },
     "execution_count": 20,
     "metadata": {},
     "output_type": "execute_result"
    }
   ],
   "source": [
    "loadings = pd.DataFrame(\n",
    "    pca.components_.T,  # transposition de la matrice des \"loadings\"\n",
    "    columns=component_names,  # les colonnes sont les composantes principales\n",
    "    index=X.columns,  # les lignes sont les caractéristiques originales\n",
    ")\n",
    "loadings\n"
   ]
  },
  {
   "cell_type": "markdown",
   "id": "216fe965-b643-4f33-a39e-143aa7cd8651",
   "metadata": {},
   "source": [
    "#### Interprétation\n",
    "Les signes et les magnitudes des \"loadings\" d’une composante révèlent le type de variation capturé. Par exemple :\n",
    "\n",
    "- La première composante (PC1) montre un contraste entre les véhicules **grands et puissants consommant beaucoup d'essence** et les véhicules **petits et économiques**. On pourrait l’appeler l’axe \"Luxe/Économie\".\n",
    "---\n",
    "La figure suivante montre que les quatre caractéristiques choisies varient principalement le long de cet axe \"Luxe/Économie\"."
   ]
  },
  {
   "cell_type": "code",
   "execution_count": 23,
   "id": "641641b7-f934-4235-9b88-eda9303950f7",
   "metadata": {},
   "outputs": [
    {
     "data": {
      "image/png": "[encoded data removed]",
      "text/plain": [
       "<Figure size 800x480 with 2 Axes>"
      ]
     },
     "metadata": {},
     "output_type": "display_data"
    }
   ],
   "source": [
    "# Visualiser la variance expliquée\n",
    "plot_variance(pca);"
   ]
  },
  {
   "cell_type": "markdown",
   "id": "06da4293-d46e-4f61-a26f-d5613c9bcbd4",
   "metadata": {},
   "source": [
    "---\n",
    "### Scores d'Information Mutuelle (MI)\n",
    "Observons les scores d’information mutuelle des composantes principales. Sans surprise, **PC1** est très informatif. Cependant, les composantes restantes, malgré leur faible variance, entretiennent toujours une relation significative avec le prix. Il pourrait être intéressant d'examiner ces composantes pour identifier des relations non capturées par l’axe principal \"Luxe/Économie\"."
   ]
  },
  {
   "cell_type": "code",
   "execution_count": 28,
   "id": "21b13cbb-e4e0-41a0-86ce-19ef25e446a9",
   "metadata": {},
   "outputs": [
    {
     "data": {
      "text/plain": [
       "PC1    1.014374\n",
       "PC2    0.379637\n",
       "PC3    0.306898\n",
       "PC4    0.205133\n",
       "Name: Scores MI, dtype: float64"
      ]
     },
     "execution_count": 28,
     "metadata": {},
     "output_type": "execute_result"
    }
   ],
   "source": [
    "mi_scores = make_mi_scores(X_pca, y, discrete_features=False)\n",
    "mi_scores\n"
   ]
  },
  {
   "cell_type": "markdown",
   "id": "ee38fa4b-a7d9-4b74-8fb2-3392d72e5fd3",
   "metadata": {},
   "source": [
    "---\n",
    "### Analyse de la troisième composante (PC3)\n",
    "La troisième composante (PC3) met en évidence un contraste entre la **puissance**(horsepower) et le **poids à vide** (curb_weight). Cela semble différencier les voitures sportives des breaks (wagons).\n",
    "\n",
    "Examinons les données triées par PC3 pour explorer ce contraste :"
   ]
  },
  {
   "cell_type": "code",
   "execution_count": 32,
   "id": "4c2d176d-caf1-41ac-ac7b-5c70b6e5d9c4",
   "metadata": {},
   "outputs": [
    {
     "data": {
      "text/html": [
       "<div>\n",
       "<style scoped>\n",
       "    .dataframe tbody tr th:only-of-type {\n",
       "        vertical-align: middle;\n",
       "    }\n",
       "\n",
       "    .dataframe tbody tr th {\n",
       "        vertical-align: top;\n",
       "    }\n",
       "\n",
       "    .dataframe thead th {\n",
       "        text-align: right;\n",
       "    }\n",
       "</style>\n",
       "<table border=\"1\" class=\"dataframe\">\n",
       "  <thead>\n",
       "    <tr style=\"text-align: right;\">\n",
       "      <th></th>\n",
       "      <th>make</th>\n",
       "      <th>body_style</th>\n",
       "      <th>horsepower</th>\n",
       "      <th>curb_weight</th>\n",
       "    </tr>\n",
       "  </thead>\n",
       "  <tbody>\n",
       "    <tr>\n",
       "      <th>118</th>\n",
       "      <td>porsche</td>\n",
       "      <td>hardtop</td>\n",
       "      <td>207</td>\n",
       "      <td>2756</td>\n",
       "    </tr>\n",
       "    <tr>\n",
       "      <th>117</th>\n",
       "      <td>porsche</td>\n",
       "      <td>hardtop</td>\n",
       "      <td>207</td>\n",
       "      <td>2756</td>\n",
       "    </tr>\n",
       "    <tr>\n",
       "      <th>119</th>\n",
       "      <td>porsche</td>\n",
       "      <td>convertible</td>\n",
       "      <td>207</td>\n",
       "      <td>2800</td>\n",
       "    </tr>\n",
       "    <tr>\n",
       "      <th>45</th>\n",
       "      <td>jaguar</td>\n",
       "      <td>sedan</td>\n",
       "      <td>262</td>\n",
       "      <td>3950</td>\n",
       "    </tr>\n",
       "    <tr>\n",
       "      <th>96</th>\n",
       "      <td>nissan</td>\n",
       "      <td>hatchback</td>\n",
       "      <td>200</td>\n",
       "      <td>3139</td>\n",
       "    </tr>\n",
       "    <tr>\n",
       "      <th>...</th>\n",
       "      <td>...</td>\n",
       "      <td>...</td>\n",
       "      <td>...</td>\n",
       "      <td>...</td>\n",
       "    </tr>\n",
       "    <tr>\n",
       "      <th>59</th>\n",
       "      <td>mercedes-benz</td>\n",
       "      <td>wagon</td>\n",
       "      <td>123</td>\n",
       "      <td>3750</td>\n",
       "    </tr>\n",
       "    <tr>\n",
       "      <th>61</th>\n",
       "      <td>mercedes-benz</td>\n",
       "      <td>sedan</td>\n",
       "      <td>123</td>\n",
       "      <td>3770</td>\n",
       "    </tr>\n",
       "    <tr>\n",
       "      <th>101</th>\n",
       "      <td>peugot</td>\n",
       "      <td>wagon</td>\n",
       "      <td>95</td>\n",
       "      <td>3430</td>\n",
       "    </tr>\n",
       "    <tr>\n",
       "      <th>105</th>\n",
       "      <td>peugot</td>\n",
       "      <td>wagon</td>\n",
       "      <td>95</td>\n",
       "      <td>3485</td>\n",
       "    </tr>\n",
       "    <tr>\n",
       "      <th>143</th>\n",
       "      <td>toyota</td>\n",
       "      <td>wagon</td>\n",
       "      <td>62</td>\n",
       "      <td>3110</td>\n",
       "    </tr>\n",
       "  </tbody>\n",
       "</table>\n",
       "<p>193 rows × 4 columns</p>\n",
       "</div>"
      ],
      "text/plain": [
       "              make   body_style  horsepower  curb_weight\n",
       "118        porsche      hardtop         207         2756\n",
       "117        porsche      hardtop         207         2756\n",
       "119        porsche  convertible         207         2800\n",
       "45          jaguar        sedan         262         3950\n",
       "96          nissan    hatchback         200         3139\n",
       "..             ...          ...         ...          ...\n",
       "59   mercedes-benz        wagon         123         3750\n",
       "61   mercedes-benz        sedan         123         3770\n",
       "101         peugot        wagon          95         3430\n",
       "105         peugot        wagon          95         3485\n",
       "143         toyota        wagon          62         3110\n",
       "\n",
       "[193 rows x 4 columns]"
      ]
     },
     "execution_count": 32,
     "metadata": {},
     "output_type": "execute_result"
    }
   ],
   "source": [
    "# Trier les données par PC3\n",
    "idx = X_pca[\"PC3\"].sort_values(ascending=False).index\n",
    "cols = [\"make\", \"body_style\", \"horsepower\", \"curb_weight\"]\n",
    "df.loc[idx, cols]\n"
   ]
  },
  {
   "cell_type": "markdown",
   "id": "586d3b4b-93ed-4f5e-81e0-03bd5d3d9d77",
   "metadata": {},
   "source": [
    "---\n",
    "### Création d'une nouvelle caractéristique : Ratio \"Sports ou Wagon\"\n",
    "Pour capturer ce contraste, nous créons une nouvelle caractéristique : le ratio entre le poids à vide (curb_weight) et la puissance (horsepower). Ce ratio reflète l'équilibre entre légèreté et puissance, typique des voitures sportives ou des wagons."
   ]
  },
  {
   "cell_type": "code",
   "execution_count": 35,
   "id": "89270721-c3d6-48fd-a760-6244a418b59f",
   "metadata": {},
   "outputs": [
    {
     "data": {
      "image/png": "[encoded data removed]",
      "text/plain": [
       "<Figure size 640x480 with 1 Axes>"
      ]
     },
     "metadata": {},
     "output_type": "display_data"
    }
   ],
   "source": [
    "# Ajouter une nouvelle caractéristique\n",
    "df[\"sports_or_wagon\"] = X.curb_weight / X.horsepower\n",
    "\n",
    "# Visualiser la relation entre cette caractéristique et le prix\n",
    "sns.regplot(x=\"sports_or_wagon\", y='price', data=df, order=2);\n"
   ]
  },
  {
   "cell_type": "markdown",
   "id": "539caff5-22f1-446a-b294-4cc6c1e24ccc",
   "metadata": {},
   "source": [
    "---\n",
    "### À vous de jouer\n",
    "Améliorez votre jeu de caractéristiques en décomposant la variation dans les données sur les logements d’Ames (Ames Housing) et utilisez les composantes principales pour détecter les valeurs aberrantes."
   ]
  },
  {
   "cell_type": "code",
   "execution_count": null,
   "id": "1dd4fed8-e3eb-4314-9da7-5d50094aae48",
   "metadata": {},
   "outputs": [],
   "source": []
  }
 ],
 "metadata": {
  "kernelspec": {
   "display_name": "Python [conda env:base] *",
   "language": "python",
   "name": "conda-base-py"
  },
  "language_info": {
   "codemirror_mode": {
    "name": "ipython",
    "version": 3
   },
   "file_extension": ".py",
   "mimetype": "text/x-python",
   "name": "python",
   "nbconvert_exporter": "python",
   "pygments_lexer": "ipython3",
   "version": "3.12.7"
  }
 },
 "nbformat": 4,
 "nbformat_minor": 5
}
